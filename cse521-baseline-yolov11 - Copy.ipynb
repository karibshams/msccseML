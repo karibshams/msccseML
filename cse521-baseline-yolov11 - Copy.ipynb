{
 "cells": [
  {
   "cell_type": "code",
   "execution_count": 1,
   "id": "fe7aaf40",
   "metadata": {
    "_cell_guid": "b1076dfc-b9ad-4769-8c92-a6c4dae69d19",
    "_uuid": "8f2839f25d086af736a60e9eeb907d3b93b6e0e5",
    "execution": {
     "iopub.execute_input": "2025-08-24T05:06:06.510698Z",
     "iopub.status.busy": "2025-08-24T05:06:06.510134Z",
     "iopub.status.idle": "2025-08-24T05:06:06.736241Z",
     "shell.execute_reply": "2025-08-24T05:06:06.735557Z"
    },
    "papermill": {
     "duration": 0.23112,
     "end_time": "2025-08-24T05:06:06.737538",
     "exception": false,
     "start_time": "2025-08-24T05:06:06.506418",
     "status": "completed"
    },
    "tags": []
   },
   "outputs": [
    {
     "name": "stdout",
     "output_type": "stream",
     "text": [
      "Sun Aug 24 05:06:06 2025       \r\n",
      "+-----------------------------------------------------------------------------------------+\r\n",
      "| NVIDIA-SMI 560.35.03              Driver Version: 560.35.03      CUDA Version: 12.6     |\r\n",
      "|-----------------------------------------+------------------------+----------------------+\r\n",
      "| GPU  Name                 Persistence-M | Bus-Id          Disp.A | Volatile Uncorr. ECC |\r\n",
      "| Fan  Temp   Perf          Pwr:Usage/Cap |           Memory-Usage | GPU-Util  Compute M. |\r\n",
      "|                                         |                        |               MIG M. |\r\n",
      "|=========================================+========================+======================|\r\n",
      "|   0  Tesla T4                       Off |   00000000:00:04.0 Off |                    0 |\r\n",
      "| N/A   49C    P8             12W /   70W |       1MiB /  15360MiB |      0%      Default |\r\n",
      "|                                         |                        |                  N/A |\r\n",
      "+-----------------------------------------+------------------------+----------------------+\r\n",
      "|   1  Tesla T4                       Off |   00000000:00:05.0 Off |                    0 |\r\n",
      "| N/A   50C    P8             10W /   70W |       1MiB /  15360MiB |      0%      Default |\r\n",
      "|                                         |                        |                  N/A |\r\n",
      "+-----------------------------------------+------------------------+----------------------+\r\n",
      "                                                                                         \r\n",
      "+-----------------------------------------------------------------------------------------+\r\n",
      "| Processes:                                                                              |\r\n",
      "|  GPU   GI   CI        PID   Type   Process name                              GPU Memory |\r\n",
      "|        ID   ID                                                               Usage      |\r\n",
      "|=========================================================================================|\r\n",
      "|  No running processes found                                                             |\r\n",
      "+-----------------------------------------------------------------------------------------+\r\n"
     ]
    }
   ],
   "source": [
    "!nvidia-smi"
   ]
  },
  {
   "cell_type": "markdown",
   "id": "f4fc144e",
   "metadata": {
    "papermill": {
     "duration": 0.002091,
     "end_time": "2025-08-24T05:06:06.742445",
     "exception": false,
     "start_time": "2025-08-24T05:06:06.740354",
     "status": "completed"
    },
    "tags": []
   },
   "source": [
    "**Import And Split**"
   ]
  },
  {
   "cell_type": "code",
   "execution_count": 2,
   "id": "9904058c",
   "metadata": {
    "execution": {
     "iopub.execute_input": "2025-08-24T05:06:06.748229Z",
     "iopub.status.busy": "2025-08-24T05:06:06.747963Z",
     "iopub.status.idle": "2025-08-24T05:18:13.721739Z",
     "shell.execute_reply": "2025-08-24T05:18:13.720897Z"
    },
    "papermill": {
     "duration": 726.998882,
     "end_time": "2025-08-24T05:18:13.743507",
     "exception": false,
     "start_time": "2025-08-24T05:06:06.744625",
     "status": "completed"
    },
    "tags": []
   },
   "outputs": [
    {
     "name": "stdout",
     "output_type": "stream",
     "text": [
      "\u001b[2K   \u001b[90m━━━━━━━━━━━━━━━━━━━━━━━━━━━━━━━━━━━━━━━━\u001b[0m \u001b[32m1.1/1.1 MB\u001b[0m \u001b[31m17.9 MB/s\u001b[0m eta \u001b[36m0:00:00\u001b[0m\r\n",
      "\u001b[2K   \u001b[90m━━━━━━━━━━━━━━━━━━━━━━━━━━━━━━━━━━━━━━━━\u001b[0m \u001b[32m363.4/363.4 MB\u001b[0m \u001b[31m4.7 MB/s\u001b[0m eta \u001b[36m0:00:00\u001b[0m\r\n",
      "\u001b[2K   \u001b[90m━━━━━━━━━━━━━━━━━━━━━━━━━━━━━━━━━━━━━━━━\u001b[0m \u001b[32m13.8/13.8 MB\u001b[0m \u001b[31m97.6 MB/s\u001b[0m eta \u001b[36m0:00:00\u001b[0m\r\n",
      "\u001b[2K   \u001b[90m━━━━━━━━━━━━━━━━━━━━━━━━━━━━━━━━━━━━━━━━\u001b[0m \u001b[32m24.6/24.6 MB\u001b[0m \u001b[31m76.2 MB/s\u001b[0m eta \u001b[36m0:00:00\u001b[0m\r\n",
      "\u001b[2K   \u001b[90m━━━━━━━━━━━━━━━━━━━━━━━━━━━━━━━━━━━━━━━━\u001b[0m \u001b[32m883.7/883.7 kB\u001b[0m \u001b[31m40.1 MB/s\u001b[0m eta \u001b[36m0:00:00\u001b[0m\r\n",
      "\u001b[2K   \u001b[90m━━━━━━━━━━━━━━━━━━━━━━━━━━━━━━━━━━━━━━━━\u001b[0m \u001b[32m664.8/664.8 MB\u001b[0m \u001b[31m2.1 MB/s\u001b[0m eta \u001b[36m0:00:00\u001b[0m\r\n",
      "\u001b[2K   \u001b[90m━━━━━━━━━━━━━━━━━━━━━━━━━━━━━━━━━━━━━━━━\u001b[0m \u001b[32m211.5/211.5 MB\u001b[0m \u001b[31m2.6 MB/s\u001b[0m eta \u001b[36m0:00:00\u001b[0m\r\n",
      "\u001b[2K   \u001b[90m━━━━━━━━━━━━━━━━━━━━━━━━━━━━━━━━━━━━━━━━\u001b[0m \u001b[32m56.3/56.3 MB\u001b[0m \u001b[31m6.4 MB/s\u001b[0m eta \u001b[36m0:00:00\u001b[0m\r\n",
      "\u001b[2K   \u001b[90m━━━━━━━━━━━━━━━━━━━━━━━━━━━━━━━━━━━━━━━━\u001b[0m \u001b[32m127.9/127.9 MB\u001b[0m \u001b[31m13.5 MB/s\u001b[0m eta \u001b[36m0:00:00\u001b[0m\r\n",
      "\u001b[2K   \u001b[90m━━━━━━━━━━━━━━━━━━━━━━━━━━━━━━━━━━━━━━━━\u001b[0m \u001b[32m207.5/207.5 MB\u001b[0m \u001b[31m8.3 MB/s\u001b[0m eta \u001b[36m0:00:00\u001b[0m\r\n",
      "\u001b[2K   \u001b[90m━━━━━━━━━━━━━━━━━━━━━━━━━━━━━━━━━━━━━━━━\u001b[0m \u001b[32m21.1/21.1 MB\u001b[0m \u001b[31m76.4 MB/s\u001b[0m eta \u001b[36m0:00:00\u001b[0m\r\n",
      "\u001b[?25hCreating new Ultralytics Settings v0.0.6 file ✅ \n",
      "View Ultralytics Settings with 'yolo settings' or at '/root/.config/Ultralytics/settings.json'\n",
      "Update Settings with 'yolo settings key=value', i.e. 'yolo settings runs_dir=path/to/dir'. For help see https://docs.ultralytics.com/quickstart/#ultralytics-settings.\n",
      "➤ Converting Pascal VOC → YOLO with auto split …\n",
      "Found 23678 annotated images total.\n",
      "train: 16574 images\n",
      "val: 4735 images\n",
      "test: 2369 images\n",
      "✓ YOLO split ready: /kaggle/working/traffic_baseline/data_traffic.yaml\n"
     ]
    }
   ],
   "source": [
    "# ============================================================\n",
    "# 0. Setup\n",
    "# ============================================================\n",
    "!pip install -q ultralytics\n",
    "\n",
    "from ultralytics import YOLO\n",
    "from pathlib import Path\n",
    "import yaml, shutil, random, xml.etree.ElementTree as ET\n",
    "import matplotlib.pyplot as plt\n",
    "import matplotlib.image as mpimg\n",
    "\n",
    "# Dataset paths\n",
    "BASE  = Path(\"/kaggle/input/bangladesh-traffic/Bangladeshi Traffic Flow Dataset/Annotated Images\")\n",
    "WORK  = Path(\"/kaggle/working/traffic_baseline\")\n",
    "SPLIT = WORK / \"yolo_split\"\n",
    "DATA  = WORK / \"data_traffic.yaml\"\n",
    "WORK.mkdir(parents=True, exist_ok=True)\n",
    "\n",
    "# Custom folder for all outputs\n",
    "OUTPUT_FOLDER = Path(\"/kaggle/working/base_yolov11\")\n",
    "OUTPUT_FOLDER.mkdir(parents=True, exist_ok=True)\n",
    "\n",
    "# ============================================================\n",
    "# 1. VOC → YOLO conversion + train/val/test split\n",
    "# ============================================================\n",
    "def voc2yolo(xml_file, classes, out_file):\n",
    "    tree = ET.parse(xml_file)\n",
    "    root = tree.getroot()\n",
    "    size = root.find(\"size\")\n",
    "    w, h = int(size.find(\"width\").text), int(size.find(\"height\").text)\n",
    "\n",
    "    with open(out_file, \"w\") as f:\n",
    "        for obj in root.iter(\"object\"):\n",
    "            cls = obj.find(\"name\").text\n",
    "            if cls not in classes:\n",
    "                continue\n",
    "            cls_id = classes.index(cls)\n",
    "\n",
    "            xmlbox = obj.find(\"bndbox\")\n",
    "            xmin, ymin = float(xmlbox.find(\"xmin\").text), float(xmlbox.find(\"ymin\").text)\n",
    "            xmax, ymax = float(xmlbox.find(\"xmax\").text), float(xmlbox.find(\"ymax\").text)\n",
    "\n",
    "            x = (xmin + xmax) / 2.0 / w\n",
    "            y = (ymin + ymax) / 2.0 / h\n",
    "            bw = (xmax - xmin) / w\n",
    "            bh = (ymax - ymin) / h\n",
    "            f.write(f\"{cls_id} {x:.6f} {y:.6f} {bw:.6f} {bh:.6f}\\n\")\n",
    "\n",
    "def create_split(all_files, ratios=(0.7,0.2,0.1)):\n",
    "    n = len(all_files)\n",
    "    n_train = int(ratios[0]*n)\n",
    "    n_val   = int(ratios[1]*n)\n",
    "    random.shuffle(all_files)\n",
    "    return (all_files[:n_train],\n",
    "            all_files[n_train:n_train+n_val],\n",
    "            all_files[n_train+n_val:])\n",
    "\n",
    "def convert_and_split(base_dir, classes, ratios=(0.7,0.2,0.1)):\n",
    "    if SPLIT.exists():\n",
    "        shutil.rmtree(SPLIT)\n",
    "\n",
    "    all_pairs = []\n",
    "    for ext in [\"*.jpg\",\"*.jpeg\",\"*.png\",\"*.JPG\",\"*.JPEG\",\"*.PNG\"]:\n",
    "        for img_file in Path(base_dir).rglob(ext):\n",
    "            xml_file = img_file.with_suffix(\".xml\")\n",
    "            if xml_file.exists():\n",
    "                all_pairs.append((img_file, xml_file))\n",
    "\n",
    "    print(f\"Found {len(all_pairs)} annotated images total.\")\n",
    "    train, val, test = create_split(all_pairs, ratios)\n",
    "    splits = {\"train\":train, \"val\":val, \"test\":test}\n",
    "\n",
    "    for split_name, files in splits.items():\n",
    "        out_im, out_lb = SPLIT/split_name/\"images\", SPLIT/split_name/\"labels\"\n",
    "        out_im.mkdir(parents=True, exist_ok=True)\n",
    "        out_lb.mkdir(parents=True, exist_ok=True)\n",
    "\n",
    "        for img_file, xml_file in files:\n",
    "            shutil.copy(img_file, out_im/img_file.name)\n",
    "            voc2yolo(xml_file, classes, out_lb/f\"{img_file.stem}.txt\")\n",
    "        print(f\"{split_name}: {len(files)} images\")\n",
    "\n",
    "# Classes in dataset\n",
    "CLASSES = [\"Rickshaw\",\"Bus\",\"Truck\",\"Bike\",\"Mini-truck\",\"People\",\"Car\",\"CNG\",\"Cycle\"]\n",
    "\n",
    "print(\"➤ Converting Pascal VOC → YOLO with auto split …\")\n",
    "convert_and_split(BASE, CLASSES, ratios=(0.7,0.2,0.1))\n",
    "\n",
    "# Create data.yaml for YOLOv11\n",
    "DATA.write_text(yaml.dump({\n",
    "    \"path\": str(SPLIT),\n",
    "    \"train\": \"train/images\",\n",
    "    \"val\": \"val/images\",\n",
    "    \"test\": \"test/images\",\n",
    "    \"nc\": len(CLASSES),\n",
    "    \"names\": CLASSES\n",
    "}))\n",
    "print(\"✓ YOLO split ready:\", DATA)"
   ]
  },
  {
   "cell_type": "markdown",
   "id": "66b153cb",
   "metadata": {
    "papermill": {
     "duration": 0.019378,
     "end_time": "2025-08-24T05:18:13.782998",
     "exception": false,
     "start_time": "2025-08-24T05:18:13.763620",
     "status": "completed"
    },
    "tags": []
   },
   "source": [
    "**Train Yolo Baseline**"
   ]
  },
  {
   "cell_type": "code",
   "execution_count": 3,
   "id": "ad9c4e52",
   "metadata": {
    "execution": {
     "iopub.execute_input": "2025-08-24T05:18:13.823460Z",
     "iopub.status.busy": "2025-08-24T05:18:13.823090Z",
     "iopub.status.idle": "2025-08-24T09:51:21.681041Z",
     "shell.execute_reply": "2025-08-24T09:51:21.680144Z"
    },
    "papermill": {
     "duration": 16392.88895,
     "end_time": "2025-08-24T09:51:26.691667",
     "exception": false,
     "start_time": "2025-08-24T05:18:13.802717",
     "status": "completed"
    },
    "tags": []
   },
   "outputs": [
    {
     "name": "stderr",
     "output_type": "stream",
     "text": [
      "Downloading https://github.com/ultralytics/assets/releases/download/v8.3.0/yolo11s.pt to 'yolo11s.pt': 100%|██████████| 18.4M/18.4M [00:00<00:00, 94.3MB/s]\n"
     ]
    },
    {
     "name": "stdout",
     "output_type": "stream",
     "text": [
      "Ultralytics 8.3.184 🚀 Python-3.11.13 torch-2.6.0+cu124 CUDA:0 (Tesla T4, 15095MiB)\n",
      "\u001b[34m\u001b[1mengine/trainer: \u001b[0magnostic_nms=False, amp=True, augment=False, auto_augment=randaugment, batch=16, bgr=0.0, box=7.5, cache=False, cfg=None, classes=None, close_mosaic=10, cls=0.5, conf=None, copy_paste=0.0, copy_paste_mode=flip, cos_lr=False, cutmix=0.0, data=/kaggle/working/traffic_baseline/data_traffic.yaml, degrees=0.0, deterministic=True, device=None, dfl=1.5, dnn=False, dropout=0.0, dynamic=False, embed=None, epochs=50, erasing=0.4, exist_ok=False, fliplr=0.5, flipud=0.0, format=torchscript, fraction=1.0, freeze=None, half=False, hsv_h=0.015, hsv_s=0.7, hsv_v=0.4, imgsz=640, int8=False, iou=0.7, keras=False, kobj=1.0, line_width=None, lr0=0.01, lrf=0.01, mask_ratio=4, max_det=300, mixup=0.0, mode=train, model=yolo11s.pt, momentum=0.937, mosaic=1.0, multi_scale=False, name=train, nbs=64, nms=False, opset=None, optimize=False, optimizer=auto, overlap_mask=True, patience=100, perspective=0.0, plots=True, pose=12.0, pretrained=True, profile=False, project=/kaggle/working/base_yolov11, rect=False, resume=False, retina_masks=False, save=True, save_conf=False, save_crop=False, save_dir=/kaggle/working/base_yolov11/train, save_frames=False, save_json=False, save_period=-1, save_txt=False, scale=0.5, seed=0, shear=0.0, show=False, show_boxes=True, show_conf=True, show_labels=True, simplify=True, single_cls=False, source=None, split=val, stream_buffer=False, task=detect, time=None, tracker=botsort.yaml, translate=0.1, val=True, verbose=True, vid_stride=1, visualize=False, warmup_bias_lr=0.1, warmup_epochs=3.0, warmup_momentum=0.8, weight_decay=0.0005, workers=2, workspace=None\n"
     ]
    },
    {
     "name": "stderr",
     "output_type": "stream",
     "text": [
      "Downloading https://ultralytics.com/assets/Arial.ttf to '/root/.config/Ultralytics/Arial.ttf': 100%|██████████| 755k/755k [00:00<00:00, 16.6MB/s]\n"
     ]
    },
    {
     "name": "stdout",
     "output_type": "stream",
     "text": [
      "Overriding model.yaml nc=80 with nc=9\n",
      "\n",
      "                   from  n    params  module                                       arguments                     \n",
      "  0                  -1  1       928  ultralytics.nn.modules.conv.Conv             [3, 32, 3, 2]                 \n",
      "  1                  -1  1     18560  ultralytics.nn.modules.conv.Conv             [32, 64, 3, 2]                \n",
      "  2                  -1  1     26080  ultralytics.nn.modules.block.C3k2            [64, 128, 1, False, 0.25]     \n",
      "  3                  -1  1    147712  ultralytics.nn.modules.conv.Conv             [128, 128, 3, 2]              \n",
      "  4                  -1  1    103360  ultralytics.nn.modules.block.C3k2            [128, 256, 1, False, 0.25]    \n",
      "  5                  -1  1    590336  ultralytics.nn.modules.conv.Conv             [256, 256, 3, 2]              \n",
      "  6                  -1  1    346112  ultralytics.nn.modules.block.C3k2            [256, 256, 1, True]           \n",
      "  7                  -1  1   1180672  ultralytics.nn.modules.conv.Conv             [256, 512, 3, 2]              \n",
      "  8                  -1  1   1380352  ultralytics.nn.modules.block.C3k2            [512, 512, 1, True]           \n",
      "  9                  -1  1    656896  ultralytics.nn.modules.block.SPPF            [512, 512, 5]                 \n",
      " 10                  -1  1    990976  ultralytics.nn.modules.block.C2PSA           [512, 512, 1]                 \n",
      " 11                  -1  1         0  torch.nn.modules.upsampling.Upsample         [None, 2, 'nearest']          \n",
      " 12             [-1, 6]  1         0  ultralytics.nn.modules.conv.Concat           [1]                           \n",
      " 13                  -1  1    443776  ultralytics.nn.modules.block.C3k2            [768, 256, 1, False]          \n",
      " 14                  -1  1         0  torch.nn.modules.upsampling.Upsample         [None, 2, 'nearest']          \n",
      " 15             [-1, 4]  1         0  ultralytics.nn.modules.conv.Concat           [1]                           \n",
      " 16                  -1  1    127680  ultralytics.nn.modules.block.C3k2            [512, 128, 1, False]          \n",
      " 17                  -1  1    147712  ultralytics.nn.modules.conv.Conv             [128, 128, 3, 2]              \n",
      " 18            [-1, 13]  1         0  ultralytics.nn.modules.conv.Concat           [1]                           \n",
      " 19                  -1  1    345472  ultralytics.nn.modules.block.C3k2            [384, 256, 1, False]          \n",
      " 20                  -1  1    590336  ultralytics.nn.modules.conv.Conv             [256, 256, 3, 2]              \n",
      " 21            [-1, 10]  1         0  ultralytics.nn.modules.conv.Concat           [1]                           \n",
      " 22                  -1  1   1511424  ultralytics.nn.modules.block.C3k2            [768, 512, 1, True]           \n",
      " 23        [16, 19, 22]  1    822891  ultralytics.nn.modules.head.Detect           [9, [128, 256, 512]]          \n",
      "YOLO11s summary: 181 layers, 9,431,275 parameters, 9,431,259 gradients, 21.6 GFLOPs\n",
      "\n",
      "Transferred 493/499 items from pretrained weights\n",
      "Freezing layer 'model.23.dfl.conv.weight'\n",
      "\u001b[34m\u001b[1mAMP: \u001b[0mrunning Automatic Mixed Precision (AMP) checks...\n"
     ]
    },
    {
     "name": "stderr",
     "output_type": "stream",
     "text": [
      "Downloading https://github.com/ultralytics/assets/releases/download/v8.3.0/yolo11n.pt to 'yolo11n.pt': 100%|██████████| 5.35M/5.35M [00:00<00:00, 61.4MB/s]\n"
     ]
    },
    {
     "name": "stdout",
     "output_type": "stream",
     "text": [
      "\u001b[34m\u001b[1mAMP: \u001b[0mchecks passed ✅\n",
      "\u001b[34m\u001b[1mtrain: \u001b[0mFast image access ✅ (ping: 0.0±0.0 ms, read: 1179.4±578.4 MB/s, size: 73.6 KB)\n"
     ]
    },
    {
     "name": "stderr",
     "output_type": "stream",
     "text": [
      "\u001b[34m\u001b[1mtrain: \u001b[0mScanning /kaggle/working/traffic_baseline/yolo_split/train/labels... 16574 images, 38 backgrounds, 0 corrupt: 100%|██████████| 16574/16574 [00:11<00:00, 1422.27it/s]"
     ]
    },
    {
     "name": "stdout",
     "output_type": "stream",
     "text": [
      "\u001b[34m\u001b[1mtrain: \u001b[0m/kaggle/working/traffic_baseline/yolo_split/train/images/frame1_jpg.rf.af73293c83d849389bfeacd60c71cd38.jpg: 1 duplicate labels removed\n"
     ]
    },
    {
     "name": "stderr",
     "output_type": "stream",
     "text": [
      "\n"
     ]
    },
    {
     "name": "stdout",
     "output_type": "stream",
     "text": [
      "\u001b[34m\u001b[1mtrain: \u001b[0mNew cache created: /kaggle/working/traffic_baseline/yolo_split/train/labels.cache\n",
      "\u001b[34m\u001b[1malbumentations: \u001b[0mBlur(p=0.01, blur_limit=(3, 7)), MedianBlur(p=0.01, blur_limit=(3, 7)), ToGray(p=0.01, method='weighted_average', num_output_channels=3), CLAHE(p=0.01, clip_limit=(1.0, 4.0), tile_grid_size=(8, 8))\n",
      "\u001b[34m\u001b[1mval: \u001b[0mFast image access ✅ (ping: 0.0±0.0 ms, read: 1314.5±738.0 MB/s, size: 63.3 KB)\n"
     ]
    },
    {
     "name": "stderr",
     "output_type": "stream",
     "text": [
      "\u001b[34m\u001b[1mval: \u001b[0mScanning /kaggle/working/traffic_baseline/yolo_split/val/labels... 4735 images, 11 backgrounds, 0 corrupt: 100%|██████████| 4735/4735 [00:03<00:00, 1336.17it/s]"
     ]
    },
    {
     "name": "stdout",
     "output_type": "stream",
     "text": [
      "\u001b[34m\u001b[1mval: \u001b[0m/kaggle/working/traffic_baseline/yolo_split/val/images/frame0_jpg.rf.e1bc04102d10d13d3e4801450a664640.jpg: 2 duplicate labels removed\n",
      "\u001b[34m\u001b[1mval: \u001b[0m/kaggle/working/traffic_baseline/yolo_split/val/images/frame195_jpg.rf.46fd02322bca0e4c4437d57807d7a178.jpg: 1 duplicate labels removed\n"
     ]
    },
    {
     "name": "stderr",
     "output_type": "stream",
     "text": [
      "\n"
     ]
    },
    {
     "name": "stdout",
     "output_type": "stream",
     "text": [
      "\u001b[34m\u001b[1mval: \u001b[0mNew cache created: /kaggle/working/traffic_baseline/yolo_split/val/labels.cache\n",
      "Plotting labels to /kaggle/working/base_yolov11/train/labels.jpg... \n",
      "\u001b[34m\u001b[1moptimizer:\u001b[0m 'optimizer=auto' found, ignoring 'lr0=0.01' and 'momentum=0.937' and determining best 'optimizer', 'lr0' and 'momentum' automatically... \n",
      "\u001b[34m\u001b[1moptimizer:\u001b[0m SGD(lr=0.01, momentum=0.9) with parameter groups 81 weight(decay=0.0), 88 weight(decay=0.0005), 87 bias(decay=0.0)\n",
      "Image sizes 640 train, 640 val\n",
      "Using 2 dataloader workers\n",
      "Logging results to \u001b[1m/kaggle/working/base_yolov11/train\u001b[0m\n",
      "Starting training for 50 epochs...\n",
      "\n",
      "      Epoch    GPU_mem   box_loss   cls_loss   dfl_loss  Instances       Size\n"
     ]
    },
    {
     "name": "stderr",
     "output_type": "stream",
     "text": [
      "       1/50      4.08G      1.429      1.257      1.117        222        640: 100%|██████████| 1036/1036 [04:58<00:00,  3.47it/s]\n",
      "                 Class     Images  Instances      Box(P          R      mAP50  mAP50-95): 100%|██████████| 148/148 [00:34<00:00,  4.29it/s]\n"
     ]
    },
    {
     "name": "stdout",
     "output_type": "stream",
     "text": [
      "                   all       4735      46375      0.583      0.591      0.629      0.361\n",
      "\n",
      "      Epoch    GPU_mem   box_loss   cls_loss   dfl_loss  Instances       Size\n"
     ]
    },
    {
     "name": "stderr",
     "output_type": "stream",
     "text": [
      "       2/50      4.36G      1.317      0.954      1.047        308        640: 100%|██████████| 1036/1036 [04:55<00:00,  3.51it/s]\n",
      "                 Class     Images  Instances      Box(P          R      mAP50  mAP50-95): 100%|██████████| 148/148 [00:33<00:00,  4.40it/s]\n"
     ]
    },
    {
     "name": "stdout",
     "output_type": "stream",
     "text": [
      "                   all       4735      46375      0.593      0.629      0.647      0.394\n",
      "\n",
      "      Epoch    GPU_mem   box_loss   cls_loss   dfl_loss  Instances       Size\n"
     ]
    },
    {
     "name": "stderr",
     "output_type": "stream",
     "text": [
      "       3/50      4.38G      1.323     0.9627      1.055        177        640: 100%|██████████| 1036/1036 [04:52<00:00,  3.54it/s]\n",
      "                 Class     Images  Instances      Box(P          R      mAP50  mAP50-95): 100%|██████████| 148/148 [00:33<00:00,  4.39it/s]\n"
     ]
    },
    {
     "name": "stdout",
     "output_type": "stream",
     "text": [
      "                   all       4735      46375      0.547      0.641      0.621      0.366\n",
      "\n",
      "      Epoch    GPU_mem   box_loss   cls_loss   dfl_loss  Instances       Size\n"
     ]
    },
    {
     "name": "stderr",
     "output_type": "stream",
     "text": [
      "       4/50      4.41G      1.313     0.9544      1.055        213        640: 100%|██████████| 1036/1036 [04:51<00:00,  3.55it/s]\n",
      "                 Class     Images  Instances      Box(P          R      mAP50  mAP50-95): 100%|██████████| 148/148 [00:33<00:00,  4.40it/s]\n"
     ]
    },
    {
     "name": "stdout",
     "output_type": "stream",
     "text": [
      "                   all       4735      46375      0.583      0.646      0.644      0.394\n",
      "\n",
      "      Epoch    GPU_mem   box_loss   cls_loss   dfl_loss  Instances       Size\n"
     ]
    },
    {
     "name": "stderr",
     "output_type": "stream",
     "text": [
      "       5/50      4.44G      1.282     0.9185      1.046        286        640: 100%|██████████| 1036/1036 [04:51<00:00,  3.55it/s]\n",
      "                 Class     Images  Instances      Box(P          R      mAP50  mAP50-95): 100%|██████████| 148/148 [00:33<00:00,  4.41it/s]\n"
     ]
    },
    {
     "name": "stdout",
     "output_type": "stream",
     "text": [
      "                   all       4735      46375      0.608      0.628      0.657      0.409\n",
      "\n",
      "      Epoch    GPU_mem   box_loss   cls_loss   dfl_loss  Instances       Size\n"
     ]
    },
    {
     "name": "stderr",
     "output_type": "stream",
     "text": [
      "       6/50      4.46G      1.255     0.8913      1.039        290        640: 100%|██████████| 1036/1036 [04:51<00:00,  3.55it/s]\n",
      "                 Class     Images  Instances      Box(P          R      mAP50  mAP50-95): 100%|██████████| 148/148 [00:33<00:00,  4.39it/s]\n"
     ]
    },
    {
     "name": "stdout",
     "output_type": "stream",
     "text": [
      "                   all       4735      46375      0.617       0.67      0.683      0.431\n",
      "\n",
      "      Epoch    GPU_mem   box_loss   cls_loss   dfl_loss  Instances       Size\n"
     ]
    },
    {
     "name": "stderr",
     "output_type": "stream",
     "text": [
      "       7/50      4.49G      1.241     0.8733      1.031        300        640: 100%|██████████| 1036/1036 [04:52<00:00,  3.55it/s]\n",
      "                 Class     Images  Instances      Box(P          R      mAP50  mAP50-95): 100%|██████████| 148/148 [00:33<00:00,  4.41it/s]\n"
     ]
    },
    {
     "name": "stdout",
     "output_type": "stream",
     "text": [
      "                   all       4735      46375      0.628      0.676      0.685      0.439\n",
      "\n",
      "      Epoch    GPU_mem   box_loss   cls_loss   dfl_loss  Instances       Size\n"
     ]
    },
    {
     "name": "stderr",
     "output_type": "stream",
     "text": [
      "       8/50      4.52G      1.226     0.8543      1.029        265        640: 100%|██████████| 1036/1036 [04:51<00:00,  3.55it/s]\n",
      "                 Class     Images  Instances      Box(P          R      mAP50  mAP50-95): 100%|██████████| 148/148 [00:33<00:00,  4.40it/s]\n"
     ]
    },
    {
     "name": "stdout",
     "output_type": "stream",
     "text": [
      "                   all       4735      46375      0.652       0.66      0.695      0.446\n",
      "\n",
      "      Epoch    GPU_mem   box_loss   cls_loss   dfl_loss  Instances       Size\n"
     ]
    },
    {
     "name": "stderr",
     "output_type": "stream",
     "text": [
      "       9/50      4.54G      1.215      0.843      1.023        273        640: 100%|██████████| 1036/1036 [04:52<00:00,  3.55it/s]\n",
      "                 Class     Images  Instances      Box(P          R      mAP50  mAP50-95): 100%|██████████| 148/148 [00:33<00:00,  4.43it/s]\n"
     ]
    },
    {
     "name": "stdout",
     "output_type": "stream",
     "text": [
      "                   all       4735      46375      0.609      0.671      0.684      0.438\n",
      "\n",
      "      Epoch    GPU_mem   box_loss   cls_loss   dfl_loss  Instances       Size\n"
     ]
    },
    {
     "name": "stderr",
     "output_type": "stream",
     "text": [
      "      10/50      4.57G      1.201     0.8307       1.02        295        640: 100%|██████████| 1036/1036 [04:51<00:00,  3.55it/s]\n",
      "                 Class     Images  Instances      Box(P          R      mAP50  mAP50-95): 100%|██████████| 148/148 [00:33<00:00,  4.43it/s]\n"
     ]
    },
    {
     "name": "stdout",
     "output_type": "stream",
     "text": [
      "                   all       4735      46375      0.661      0.662       0.69      0.441\n",
      "\n",
      "      Epoch    GPU_mem   box_loss   cls_loss   dfl_loss  Instances       Size\n"
     ]
    },
    {
     "name": "stderr",
     "output_type": "stream",
     "text": [
      "      11/50       4.6G      1.189     0.8156      1.014        253        640: 100%|██████████| 1036/1036 [04:52<00:00,  3.55it/s]\n",
      "                 Class     Images  Instances      Box(P          R      mAP50  mAP50-95): 100%|██████████| 148/148 [00:33<00:00,  4.43it/s]\n"
     ]
    },
    {
     "name": "stdout",
     "output_type": "stream",
     "text": [
      "                   all       4735      46375      0.648      0.681      0.712      0.463\n",
      "\n",
      "      Epoch    GPU_mem   box_loss   cls_loss   dfl_loss  Instances       Size\n"
     ]
    },
    {
     "name": "stderr",
     "output_type": "stream",
     "text": [
      "      12/50      4.62G      1.184     0.8118      1.012        203        640: 100%|██████████| 1036/1036 [04:51<00:00,  3.55it/s]\n",
      "                 Class     Images  Instances      Box(P          R      mAP50  mAP50-95): 100%|██████████| 148/148 [00:33<00:00,  4.43it/s]\n"
     ]
    },
    {
     "name": "stdout",
     "output_type": "stream",
     "text": [
      "                   all       4735      46375      0.673      0.671      0.702      0.461\n",
      "\n",
      "      Epoch    GPU_mem   box_loss   cls_loss   dfl_loss  Instances       Size\n"
     ]
    },
    {
     "name": "stderr",
     "output_type": "stream",
     "text": [
      "      13/50      4.65G      1.177     0.8019      1.009        161        640: 100%|██████████| 1036/1036 [04:51<00:00,  3.55it/s]\n",
      "                 Class     Images  Instances      Box(P          R      mAP50  mAP50-95): 100%|██████████| 148/148 [00:33<00:00,  4.44it/s]\n"
     ]
    },
    {
     "name": "stdout",
     "output_type": "stream",
     "text": [
      "                   all       4735      46375      0.636      0.687      0.713      0.465\n",
      "\n",
      "      Epoch    GPU_mem   box_loss   cls_loss   dfl_loss  Instances       Size\n"
     ]
    },
    {
     "name": "stderr",
     "output_type": "stream",
     "text": [
      "      14/50      4.68G      1.169     0.7938      1.006        273        640: 100%|██████████| 1036/1036 [04:51<00:00,  3.55it/s]\n",
      "                 Class     Images  Instances      Box(P          R      mAP50  mAP50-95): 100%|██████████| 148/148 [00:33<00:00,  4.42it/s]\n"
     ]
    },
    {
     "name": "stdout",
     "output_type": "stream",
     "text": [
      "                   all       4735      46375      0.679      0.667      0.714      0.464\n",
      "\n",
      "      Epoch    GPU_mem   box_loss   cls_loss   dfl_loss  Instances       Size\n"
     ]
    },
    {
     "name": "stderr",
     "output_type": "stream",
     "text": [
      "      15/50       4.7G      1.163     0.7892      1.003        249        640: 100%|██████████| 1036/1036 [04:51<00:00,  3.55it/s]\n",
      "                 Class     Images  Instances      Box(P          R      mAP50  mAP50-95): 100%|██████████| 148/148 [00:33<00:00,  4.43it/s]\n"
     ]
    },
    {
     "name": "stdout",
     "output_type": "stream",
     "text": [
      "                   all       4735      46375      0.644      0.688      0.713      0.468\n",
      "\n",
      "      Epoch    GPU_mem   box_loss   cls_loss   dfl_loss  Instances       Size\n"
     ]
    },
    {
     "name": "stderr",
     "output_type": "stream",
     "text": [
      "      16/50      4.73G      1.156     0.7819      1.003        200        640: 100%|██████████| 1036/1036 [04:51<00:00,  3.55it/s]\n",
      "                 Class     Images  Instances      Box(P          R      mAP50  mAP50-95): 100%|██████████| 148/148 [00:33<00:00,  4.41it/s]\n"
     ]
    },
    {
     "name": "stdout",
     "output_type": "stream",
     "text": [
      "                   all       4735      46375       0.67      0.688      0.726       0.48\n",
      "\n",
      "      Epoch    GPU_mem   box_loss   cls_loss   dfl_loss  Instances       Size\n"
     ]
    },
    {
     "name": "stderr",
     "output_type": "stream",
     "text": [
      "      17/50      4.76G       1.15     0.7737     0.9989        205        640: 100%|██████████| 1036/1036 [04:52<00:00,  3.54it/s]\n",
      "                 Class     Images  Instances      Box(P          R      mAP50  mAP50-95): 100%|██████████| 148/148 [00:33<00:00,  4.42it/s]\n"
     ]
    },
    {
     "name": "stdout",
     "output_type": "stream",
     "text": [
      "                   all       4735      46375      0.646        0.7      0.721      0.477\n",
      "\n",
      "      Epoch    GPU_mem   box_loss   cls_loss   dfl_loss  Instances       Size\n"
     ]
    },
    {
     "name": "stderr",
     "output_type": "stream",
     "text": [
      "      18/50      4.78G      1.144     0.7692     0.9974        205        640: 100%|██████████| 1036/1036 [04:52<00:00,  3.54it/s]\n",
      "                 Class     Images  Instances      Box(P          R      mAP50  mAP50-95): 100%|██████████| 148/148 [00:33<00:00,  4.41it/s]\n"
     ]
    },
    {
     "name": "stdout",
     "output_type": "stream",
     "text": [
      "                   all       4735      46375      0.655      0.689      0.722      0.482\n",
      "\n",
      "      Epoch    GPU_mem   box_loss   cls_loss   dfl_loss  Instances       Size\n"
     ]
    },
    {
     "name": "stderr",
     "output_type": "stream",
     "text": [
      "      19/50      4.81G      1.139     0.7637     0.9943        256        640: 100%|██████████| 1036/1036 [04:52<00:00,  3.54it/s]\n",
      "                 Class     Images  Instances      Box(P          R      mAP50  mAP50-95): 100%|██████████| 148/148 [00:33<00:00,  4.44it/s]\n"
     ]
    },
    {
     "name": "stdout",
     "output_type": "stream",
     "text": [
      "                   all       4735      46375      0.637      0.702      0.727      0.483\n",
      "\n",
      "      Epoch    GPU_mem   box_loss   cls_loss   dfl_loss  Instances       Size\n"
     ]
    },
    {
     "name": "stderr",
     "output_type": "stream",
     "text": [
      "      20/50      4.84G      1.134     0.7583     0.9938        175        640: 100%|██████████| 1036/1036 [04:52<00:00,  3.54it/s]\n",
      "                 Class     Images  Instances      Box(P          R      mAP50  mAP50-95): 100%|██████████| 148/148 [00:33<00:00,  4.42it/s]\n"
     ]
    },
    {
     "name": "stdout",
     "output_type": "stream",
     "text": [
      "                   all       4735      46375      0.652      0.716      0.734       0.49\n",
      "\n",
      "      Epoch    GPU_mem   box_loss   cls_loss   dfl_loss  Instances       Size\n"
     ]
    },
    {
     "name": "stderr",
     "output_type": "stream",
     "text": [
      "      21/50      4.86G      1.129     0.7511      0.992        208        640: 100%|██████████| 1036/1036 [04:52<00:00,  3.55it/s]\n",
      "                 Class     Images  Instances      Box(P          R      mAP50  mAP50-95): 100%|██████████| 148/148 [00:33<00:00,  4.42it/s]\n"
     ]
    },
    {
     "name": "stdout",
     "output_type": "stream",
     "text": [
      "                   all       4735      46375      0.676      0.699      0.739      0.494\n",
      "\n",
      "      Epoch    GPU_mem   box_loss   cls_loss   dfl_loss  Instances       Size\n"
     ]
    },
    {
     "name": "stderr",
     "output_type": "stream",
     "text": [
      "      22/50      4.89G      1.121     0.7465       0.99        193        640: 100%|██████████| 1036/1036 [04:52<00:00,  3.54it/s]\n",
      "                 Class     Images  Instances      Box(P          R      mAP50  mAP50-95): 100%|██████████| 148/148 [00:33<00:00,  4.43it/s]\n"
     ]
    },
    {
     "name": "stdout",
     "output_type": "stream",
     "text": [
      "                   all       4735      46375      0.651      0.713      0.738      0.495\n",
      "\n",
      "      Epoch    GPU_mem   box_loss   cls_loss   dfl_loss  Instances       Size\n"
     ]
    },
    {
     "name": "stderr",
     "output_type": "stream",
     "text": [
      "      23/50      4.91G      1.117     0.7402     0.9881        185        640: 100%|██████████| 1036/1036 [04:52<00:00,  3.54it/s]\n",
      "                 Class     Images  Instances      Box(P          R      mAP50  mAP50-95): 100%|██████████| 148/148 [00:33<00:00,  4.40it/s]\n"
     ]
    },
    {
     "name": "stdout",
     "output_type": "stream",
     "text": [
      "                   all       4735      46375      0.668      0.704      0.743        0.5\n",
      "\n",
      "      Epoch    GPU_mem   box_loss   cls_loss   dfl_loss  Instances       Size\n"
     ]
    },
    {
     "name": "stderr",
     "output_type": "stream",
     "text": [
      "      24/50      4.94G      1.112     0.7355     0.9852        276        640: 100%|██████████| 1036/1036 [04:52<00:00,  3.54it/s]\n",
      "                 Class     Images  Instances      Box(P          R      mAP50  mAP50-95): 100%|██████████| 148/148 [00:33<00:00,  4.41it/s]\n"
     ]
    },
    {
     "name": "stdout",
     "output_type": "stream",
     "text": [
      "                   all       4735      46375      0.676       0.71      0.741      0.497\n",
      "\n",
      "      Epoch    GPU_mem   box_loss   cls_loss   dfl_loss  Instances       Size\n"
     ]
    },
    {
     "name": "stderr",
     "output_type": "stream",
     "text": [
      "      25/50      4.97G      1.109     0.7335     0.9864        159        640: 100%|██████████| 1036/1036 [04:52<00:00,  3.54it/s]\n",
      "                 Class     Images  Instances      Box(P          R      mAP50  mAP50-95): 100%|██████████| 148/148 [00:33<00:00,  4.44it/s]\n"
     ]
    },
    {
     "name": "stdout",
     "output_type": "stream",
     "text": [
      "                   all       4735      46375      0.682      0.703       0.74      0.501\n",
      "\n",
      "      Epoch    GPU_mem   box_loss   cls_loss   dfl_loss  Instances       Size\n"
     ]
    },
    {
     "name": "stderr",
     "output_type": "stream",
     "text": [
      "      26/50      4.99G      1.103     0.7263     0.9828        239        640: 100%|██████████| 1036/1036 [04:52<00:00,  3.54it/s]\n",
      "                 Class     Images  Instances      Box(P          R      mAP50  mAP50-95): 100%|██████████| 148/148 [00:34<00:00,  4.35it/s]\n"
     ]
    },
    {
     "name": "stdout",
     "output_type": "stream",
     "text": [
      "                   all       4735      46375      0.686      0.699      0.742      0.501\n",
      "\n",
      "      Epoch    GPU_mem   box_loss   cls_loss   dfl_loss  Instances       Size\n"
     ]
    },
    {
     "name": "stderr",
     "output_type": "stream",
     "text": [
      "      27/50      5.02G      1.098     0.7228      0.981        202        640: 100%|██████████| 1036/1036 [04:52<00:00,  3.54it/s]\n",
      "                 Class     Images  Instances      Box(P          R      mAP50  mAP50-95): 100%|██████████| 148/148 [00:33<00:00,  4.39it/s]\n"
     ]
    },
    {
     "name": "stdout",
     "output_type": "stream",
     "text": [
      "                   all       4735      46375       0.66       0.71      0.744      0.505\n",
      "\n",
      "      Epoch    GPU_mem   box_loss   cls_loss   dfl_loss  Instances       Size\n"
     ]
    },
    {
     "name": "stderr",
     "output_type": "stream",
     "text": [
      "      28/50      5.05G      1.095     0.7185     0.9787        228        640: 100%|██████████| 1036/1036 [04:52<00:00,  3.54it/s]\n",
      "                 Class     Images  Instances      Box(P          R      mAP50  mAP50-95): 100%|██████████| 148/148 [00:33<00:00,  4.38it/s]\n"
     ]
    },
    {
     "name": "stdout",
     "output_type": "stream",
     "text": [
      "                   all       4735      46375      0.684      0.707      0.746      0.505\n",
      "\n",
      "      Epoch    GPU_mem   box_loss   cls_loss   dfl_loss  Instances       Size\n"
     ]
    },
    {
     "name": "stderr",
     "output_type": "stream",
     "text": [
      "      29/50      5.07G      1.087     0.7103     0.9761        279        640: 100%|██████████| 1036/1036 [04:52<00:00,  3.54it/s]\n",
      "                 Class     Images  Instances      Box(P          R      mAP50  mAP50-95): 100%|██████████| 148/148 [00:33<00:00,  4.39it/s]\n"
     ]
    },
    {
     "name": "stdout",
     "output_type": "stream",
     "text": [
      "                   all       4735      46375      0.676      0.703       0.74      0.503\n",
      "\n",
      "      Epoch    GPU_mem   box_loss   cls_loss   dfl_loss  Instances       Size\n"
     ]
    },
    {
     "name": "stderr",
     "output_type": "stream",
     "text": [
      "      30/50      5.23G      1.083      0.707     0.9742        225        640: 100%|██████████| 1036/1036 [04:52<00:00,  3.54it/s]\n",
      "                 Class     Images  Instances      Box(P          R      mAP50  mAP50-95): 100%|██████████| 148/148 [00:33<00:00,  4.40it/s]\n"
     ]
    },
    {
     "name": "stdout",
     "output_type": "stream",
     "text": [
      "                   all       4735      46375      0.676      0.703      0.743      0.505\n",
      "\n",
      "      Epoch    GPU_mem   box_loss   cls_loss   dfl_loss  Instances       Size\n"
     ]
    },
    {
     "name": "stderr",
     "output_type": "stream",
     "text": [
      "      31/50      5.26G      1.078     0.7011     0.9732        229        640: 100%|██████████| 1036/1036 [04:52<00:00,  3.54it/s]\n",
      "                 Class     Images  Instances      Box(P          R      mAP50  mAP50-95): 100%|██████████| 148/148 [00:33<00:00,  4.40it/s]\n"
     ]
    },
    {
     "name": "stdout",
     "output_type": "stream",
     "text": [
      "                   all       4735      46375       0.69      0.696      0.747      0.508\n",
      "\n",
      "      Epoch    GPU_mem   box_loss   cls_loss   dfl_loss  Instances       Size\n"
     ]
    },
    {
     "name": "stderr",
     "output_type": "stream",
     "text": [
      "      32/50      5.29G      1.077      0.699     0.9731        251        640: 100%|██████████| 1036/1036 [04:53<00:00,  3.54it/s]\n",
      "                 Class     Images  Instances      Box(P          R      mAP50  mAP50-95): 100%|██████████| 148/148 [00:33<00:00,  4.41it/s]\n"
     ]
    },
    {
     "name": "stdout",
     "output_type": "stream",
     "text": [
      "                   all       4735      46375      0.685      0.707      0.745      0.509\n",
      "\n",
      "      Epoch    GPU_mem   box_loss   cls_loss   dfl_loss  Instances       Size\n"
     ]
    },
    {
     "name": "stderr",
     "output_type": "stream",
     "text": [
      "      33/50      5.31G      1.067     0.6925     0.9702        183        640: 100%|██████████| 1036/1036 [04:52<00:00,  3.54it/s]\n",
      "                 Class     Images  Instances      Box(P          R      mAP50  mAP50-95): 100%|██████████| 148/148 [00:33<00:00,  4.37it/s]\n"
     ]
    },
    {
     "name": "stdout",
     "output_type": "stream",
     "text": [
      "                   all       4735      46375      0.684      0.698      0.746      0.508\n",
      "\n",
      "      Epoch    GPU_mem   box_loss   cls_loss   dfl_loss  Instances       Size\n"
     ]
    },
    {
     "name": "stderr",
     "output_type": "stream",
     "text": [
      "      34/50      5.34G      1.065     0.6899     0.9691        216        640: 100%|██████████| 1036/1036 [04:52<00:00,  3.54it/s]\n",
      "                 Class     Images  Instances      Box(P          R      mAP50  mAP50-95): 100%|██████████| 148/148 [00:33<00:00,  4.36it/s]\n"
     ]
    },
    {
     "name": "stdout",
     "output_type": "stream",
     "text": [
      "                   all       4735      46375       0.69      0.692      0.744      0.508\n",
      "\n",
      "      Epoch    GPU_mem   box_loss   cls_loss   dfl_loss  Instances       Size\n"
     ]
    },
    {
     "name": "stderr",
     "output_type": "stream",
     "text": [
      "      35/50      5.37G      1.056     0.6826     0.9662        178        640: 100%|██████████| 1036/1036 [04:53<00:00,  3.53it/s]\n",
      "                 Class     Images  Instances      Box(P          R      mAP50  mAP50-95): 100%|██████████| 148/148 [00:33<00:00,  4.38it/s]\n"
     ]
    },
    {
     "name": "stdout",
     "output_type": "stream",
     "text": [
      "                   all       4735      46375      0.695      0.691      0.741      0.506\n",
      "\n",
      "      Epoch    GPU_mem   box_loss   cls_loss   dfl_loss  Instances       Size\n"
     ]
    },
    {
     "name": "stderr",
     "output_type": "stream",
     "text": [
      "      36/50      5.39G      1.055     0.6794     0.9651        243        640: 100%|██████████| 1036/1036 [04:53<00:00,  3.53it/s]\n",
      "                 Class     Images  Instances      Box(P          R      mAP50  mAP50-95): 100%|██████████| 148/148 [00:33<00:00,  4.41it/s]\n"
     ]
    },
    {
     "name": "stdout",
     "output_type": "stream",
     "text": [
      "                   all       4735      46375      0.721      0.669      0.742      0.507\n",
      "\n",
      "      Epoch    GPU_mem   box_loss   cls_loss   dfl_loss  Instances       Size\n"
     ]
    },
    {
     "name": "stderr",
     "output_type": "stream",
     "text": [
      "      37/50      5.42G      1.047     0.6735     0.9624        233        640: 100%|██████████| 1036/1036 [04:52<00:00,  3.54it/s]\n",
      "                 Class     Images  Instances      Box(P          R      mAP50  mAP50-95): 100%|██████████| 148/148 [00:33<00:00,  4.39it/s]\n"
     ]
    },
    {
     "name": "stdout",
     "output_type": "stream",
     "text": [
      "                   all       4735      46375      0.673      0.711      0.744      0.509\n",
      "\n",
      "      Epoch    GPU_mem   box_loss   cls_loss   dfl_loss  Instances       Size\n"
     ]
    },
    {
     "name": "stderr",
     "output_type": "stream",
     "text": [
      "      38/50      5.45G      1.042     0.6678     0.9621        207        640: 100%|██████████| 1036/1036 [04:52<00:00,  3.54it/s]\n",
      "                 Class     Images  Instances      Box(P          R      mAP50  mAP50-95): 100%|██████████| 148/148 [00:33<00:00,  4.40it/s]\n"
     ]
    },
    {
     "name": "stdout",
     "output_type": "stream",
     "text": [
      "                   all       4735      46375      0.671      0.711      0.742      0.508\n",
      "\n",
      "      Epoch    GPU_mem   box_loss   cls_loss   dfl_loss  Instances       Size\n"
     ]
    },
    {
     "name": "stderr",
     "output_type": "stream",
     "text": [
      "      39/50      5.47G      1.041      0.665     0.9613        216        640: 100%|██████████| 1036/1036 [04:53<00:00,  3.53it/s]\n",
      "                 Class     Images  Instances      Box(P          R      mAP50  mAP50-95): 100%|██████████| 148/148 [00:33<00:00,  4.39it/s]"
     ]
    },
    {
     "name": "stdout",
     "output_type": "stream",
     "text": [
      "                   all       4735      46375      0.668       0.71      0.742      0.509\n"
     ]
    },
    {
     "name": "stderr",
     "output_type": "stream",
     "text": [
      "\n"
     ]
    },
    {
     "name": "stdout",
     "output_type": "stream",
     "text": [
      "\n",
      "      Epoch    GPU_mem   box_loss   cls_loss   dfl_loss  Instances       Size\n"
     ]
    },
    {
     "name": "stderr",
     "output_type": "stream",
     "text": [
      "      40/50       5.5G      1.032     0.6584     0.9587        244        640: 100%|██████████| 1036/1036 [04:52<00:00,  3.54it/s]\n",
      "                 Class     Images  Instances      Box(P          R      mAP50  mAP50-95): 100%|██████████| 148/148 [00:33<00:00,  4.37it/s]"
     ]
    },
    {
     "name": "stdout",
     "output_type": "stream",
     "text": [
      "                   all       4735      46375      0.693      0.687      0.742      0.509\n"
     ]
    },
    {
     "name": "stderr",
     "output_type": "stream",
     "text": [
      "\n"
     ]
    },
    {
     "name": "stdout",
     "output_type": "stream",
     "text": [
      "Closing dataloader mosaic\n",
      "\u001b[34m\u001b[1malbumentations: \u001b[0mBlur(p=0.01, blur_limit=(3, 7)), MedianBlur(p=0.01, blur_limit=(3, 7)), ToGray(p=0.01, method='weighted_average', num_output_channels=3), CLAHE(p=0.01, clip_limit=(1.0, 4.0), tile_grid_size=(8, 8))\n",
      "\n",
      "      Epoch    GPU_mem   box_loss   cls_loss   dfl_loss  Instances       Size\n"
     ]
    },
    {
     "name": "stderr",
     "output_type": "stream",
     "text": [
      "      41/50      5.52G      1.017     0.6243     0.9554        117        640: 100%|██████████| 1036/1036 [04:48<00:00,  3.59it/s]\n",
      "                 Class     Images  Instances      Box(P          R      mAP50  mAP50-95): 100%|██████████| 148/148 [00:33<00:00,  4.39it/s]"
     ]
    },
    {
     "name": "stdout",
     "output_type": "stream",
     "text": [
      "                   all       4735      46375      0.697      0.692      0.744      0.511\n"
     ]
    },
    {
     "name": "stderr",
     "output_type": "stream",
     "text": [
      "\n"
     ]
    },
    {
     "name": "stdout",
     "output_type": "stream",
     "text": [
      "\n",
      "      Epoch    GPU_mem   box_loss   cls_loss   dfl_loss  Instances       Size\n"
     ]
    },
    {
     "name": "stderr",
     "output_type": "stream",
     "text": [
      "      42/50      5.55G      1.004      0.613     0.9514        160        640: 100%|██████████| 1036/1036 [04:47<00:00,  3.60it/s]\n",
      "                 Class     Images  Instances      Box(P          R      mAP50  mAP50-95): 100%|██████████| 148/148 [00:33<00:00,  4.38it/s]"
     ]
    },
    {
     "name": "stdout",
     "output_type": "stream",
     "text": [
      "                   all       4735      46375      0.685      0.704      0.746      0.513\n"
     ]
    },
    {
     "name": "stderr",
     "output_type": "stream",
     "text": [
      "\n"
     ]
    },
    {
     "name": "stdout",
     "output_type": "stream",
     "text": [
      "\n",
      "      Epoch    GPU_mem   box_loss   cls_loss   dfl_loss  Instances       Size\n"
     ]
    },
    {
     "name": "stderr",
     "output_type": "stream",
     "text": [
      "      43/50      5.58G     0.9947     0.6048     0.9478        138        640: 100%|██████████| 1036/1036 [04:47<00:00,  3.60it/s]\n",
      "                 Class     Images  Instances      Box(P          R      mAP50  mAP50-95): 100%|██████████| 148/148 [00:33<00:00,  4.40it/s]"
     ]
    },
    {
     "name": "stdout",
     "output_type": "stream",
     "text": [
      "                   all       4735      46375      0.696      0.697      0.747      0.513\n"
     ]
    },
    {
     "name": "stderr",
     "output_type": "stream",
     "text": [
      "\n"
     ]
    },
    {
     "name": "stdout",
     "output_type": "stream",
     "text": [
      "\n",
      "      Epoch    GPU_mem   box_loss   cls_loss   dfl_loss  Instances       Size\n"
     ]
    },
    {
     "name": "stderr",
     "output_type": "stream",
     "text": [
      "      44/50       5.6G     0.9854     0.5971     0.9455        108        640: 100%|██████████| 1036/1036 [04:47<00:00,  3.60it/s]\n",
      "                 Class     Images  Instances      Box(P          R      mAP50  mAP50-95): 100%|██████████| 148/148 [00:33<00:00,  4.38it/s]"
     ]
    },
    {
     "name": "stdout",
     "output_type": "stream",
     "text": [
      "                   all       4735      46375      0.707      0.689      0.746      0.513\n"
     ]
    },
    {
     "name": "stderr",
     "output_type": "stream",
     "text": [
      "\n"
     ]
    },
    {
     "name": "stdout",
     "output_type": "stream",
     "text": [
      "\n",
      "      Epoch    GPU_mem   box_loss   cls_loss   dfl_loss  Instances       Size\n"
     ]
    },
    {
     "name": "stderr",
     "output_type": "stream",
     "text": [
      "      45/50      5.63G     0.9789      0.589     0.9417        125        640: 100%|██████████| 1036/1036 [04:47<00:00,  3.60it/s]\n",
      "                 Class     Images  Instances      Box(P          R      mAP50  mAP50-95): 100%|██████████| 148/148 [00:33<00:00,  4.40it/s]"
     ]
    },
    {
     "name": "stdout",
     "output_type": "stream",
     "text": [
      "                   all       4735      46375      0.708      0.682      0.743      0.511\n"
     ]
    },
    {
     "name": "stderr",
     "output_type": "stream",
     "text": [
      "\n"
     ]
    },
    {
     "name": "stdout",
     "output_type": "stream",
     "text": [
      "\n",
      "      Epoch    GPU_mem   box_loss   cls_loss   dfl_loss  Instances       Size\n"
     ]
    },
    {
     "name": "stderr",
     "output_type": "stream",
     "text": [
      "      46/50      5.66G     0.9722     0.5831     0.9409        134        640: 100%|██████████| 1036/1036 [04:47<00:00,  3.60it/s]\n",
      "                 Class     Images  Instances      Box(P          R      mAP50  mAP50-95): 100%|██████████| 148/148 [00:34<00:00,  4.35it/s]"
     ]
    },
    {
     "name": "stdout",
     "output_type": "stream",
     "text": [
      "                   all       4735      46375      0.697      0.693      0.742      0.511\n"
     ]
    },
    {
     "name": "stderr",
     "output_type": "stream",
     "text": [
      "\n"
     ]
    },
    {
     "name": "stdout",
     "output_type": "stream",
     "text": [
      "\n",
      "      Epoch    GPU_mem   box_loss   cls_loss   dfl_loss  Instances       Size\n"
     ]
    },
    {
     "name": "stderr",
     "output_type": "stream",
     "text": [
      "      47/50      5.68G     0.9651     0.5758     0.9378        132        640: 100%|██████████| 1036/1036 [04:47<00:00,  3.60it/s]\n",
      "                 Class     Images  Instances      Box(P          R      mAP50  mAP50-95): 100%|██████████| 148/148 [00:33<00:00,  4.38it/s]"
     ]
    },
    {
     "name": "stdout",
     "output_type": "stream",
     "text": [
      "                   all       4735      46375       0.67      0.715      0.742      0.511\n"
     ]
    },
    {
     "name": "stderr",
     "output_type": "stream",
     "text": [
      "\n"
     ]
    },
    {
     "name": "stdout",
     "output_type": "stream",
     "text": [
      "\n",
      "      Epoch    GPU_mem   box_loss   cls_loss   dfl_loss  Instances       Size\n"
     ]
    },
    {
     "name": "stderr",
     "output_type": "stream",
     "text": [
      "      48/50      5.71G     0.9584     0.5702     0.9345        129        640: 100%|██████████| 1036/1036 [04:47<00:00,  3.60it/s]\n",
      "                 Class     Images  Instances      Box(P          R      mAP50  mAP50-95): 100%|██████████| 148/148 [00:34<00:00,  4.35it/s]"
     ]
    },
    {
     "name": "stdout",
     "output_type": "stream",
     "text": [
      "                   all       4735      46375      0.672      0.715       0.74       0.51\n"
     ]
    },
    {
     "name": "stderr",
     "output_type": "stream",
     "text": [
      "\n"
     ]
    },
    {
     "name": "stdout",
     "output_type": "stream",
     "text": [
      "\n",
      "      Epoch    GPU_mem   box_loss   cls_loss   dfl_loss  Instances       Size\n"
     ]
    },
    {
     "name": "stderr",
     "output_type": "stream",
     "text": [
      "      49/50      5.74G     0.9515     0.5643     0.9334        135        640: 100%|██████████| 1036/1036 [04:47<00:00,  3.60it/s]\n",
      "                 Class     Images  Instances      Box(P          R      mAP50  mAP50-95): 100%|██████████| 148/148 [00:33<00:00,  4.41it/s]"
     ]
    },
    {
     "name": "stdout",
     "output_type": "stream",
     "text": [
      "                   all       4735      46375      0.678      0.708       0.74       0.51\n"
     ]
    },
    {
     "name": "stderr",
     "output_type": "stream",
     "text": [
      "\n"
     ]
    },
    {
     "name": "stdout",
     "output_type": "stream",
     "text": [
      "\n",
      "      Epoch    GPU_mem   box_loss   cls_loss   dfl_loss  Instances       Size\n"
     ]
    },
    {
     "name": "stderr",
     "output_type": "stream",
     "text": [
      "      50/50      5.76G     0.9436     0.5583     0.9308        152        640: 100%|██████████| 1036/1036 [04:47<00:00,  3.60it/s]\n",
      "                 Class     Images  Instances      Box(P          R      mAP50  mAP50-95): 100%|██████████| 148/148 [00:33<00:00,  4.39it/s]"
     ]
    },
    {
     "name": "stdout",
     "output_type": "stream",
     "text": [
      "                   all       4735      46375      0.679      0.708      0.739      0.509\n"
     ]
    },
    {
     "name": "stderr",
     "output_type": "stream",
     "text": [
      "\n"
     ]
    },
    {
     "name": "stdout",
     "output_type": "stream",
     "text": [
      "\n",
      "50 epochs completed in 4.527 hours.\n",
      "Optimizer stripped from /kaggle/working/base_yolov11/train/weights/last.pt, 19.2MB\n",
      "Optimizer stripped from /kaggle/working/base_yolov11/train/weights/best.pt, 19.2MB\n",
      "\n",
      "Validating /kaggle/working/base_yolov11/train/weights/best.pt...\n",
      "Ultralytics 8.3.184 🚀 Python-3.11.13 torch-2.6.0+cu124 CUDA:0 (Tesla T4, 15095MiB)\n",
      "YOLO11s summary (fused): 100 layers, 9,416,283 parameters, 0 gradients, 21.3 GFLOPs\n"
     ]
    },
    {
     "name": "stderr",
     "output_type": "stream",
     "text": [
      "                 Class     Images  Instances      Box(P          R      mAP50  mAP50-95): 100%|██████████| 148/148 [00:36<00:00,  4.07it/s]\n",
      "/usr/local/lib/python3.11/dist-packages/matplotlib/colors.py:721: RuntimeWarning: invalid value encountered in less\n",
      "  xa[xa < 0] = -1\n",
      "/usr/local/lib/python3.11/dist-packages/matplotlib/colors.py:721: RuntimeWarning: invalid value encountered in less\n",
      "  xa[xa < 0] = -1\n"
     ]
    },
    {
     "name": "stdout",
     "output_type": "stream",
     "text": [
      "                   all       4735      46375      0.695      0.697      0.747      0.513\n",
      "              Rickshaw       3886      12129      0.782      0.857      0.903      0.629\n",
      "                   Bus       3874      10310      0.787      0.845      0.891      0.648\n",
      "                 Truck        251        278      0.475      0.493      0.488      0.379\n",
      "                  Bike       2106       3100      0.766      0.769      0.853      0.526\n",
      "                People       2930       7688      0.774      0.792      0.863       0.55\n",
      "                   Car       4270      12732      0.832      0.886      0.936      0.706\n",
      "                 Cycle        131        138      0.447      0.239      0.293      0.153\n",
      "Speed: 0.1ms preprocess, 3.6ms inference, 0.0ms loss, 1.2ms postprocess per image\n",
      "Results saved to \u001b[1m/kaggle/working/base_yolov11/train\u001b[0m\n"
     ]
    },
    {
     "data": {
      "text/plain": [
       "ultralytics.utils.metrics.DetMetrics object with attributes:\n",
       "\n",
       "ap_class_index: array([0, 1, 2, 3, 5, 6, 8])\n",
       "box: ultralytics.utils.metrics.Metric object\n",
       "confusion_matrix: <ultralytics.utils.metrics.ConfusionMatrix object at 0x7ea3a32c6dd0>\n",
       "curves: ['Precision-Recall(B)', 'F1-Confidence(B)', 'Precision-Confidence(B)', 'Recall-Confidence(B)']\n",
       "curves_results: [[array([          0,    0.001001,    0.002002,    0.003003,    0.004004,    0.005005,    0.006006,    0.007007,    0.008008,    0.009009,     0.01001,    0.011011,    0.012012,    0.013013,    0.014014,    0.015015,    0.016016,    0.017017,    0.018018,    0.019019,     0.02002,    0.021021,    0.022022,    0.023023,\n",
       "          0.024024,    0.025025,    0.026026,    0.027027,    0.028028,    0.029029,     0.03003,    0.031031,    0.032032,    0.033033,    0.034034,    0.035035,    0.036036,    0.037037,    0.038038,    0.039039,     0.04004,    0.041041,    0.042042,    0.043043,    0.044044,    0.045045,    0.046046,    0.047047,\n",
       "          0.048048,    0.049049,     0.05005,    0.051051,    0.052052,    0.053053,    0.054054,    0.055055,    0.056056,    0.057057,    0.058058,    0.059059,     0.06006,    0.061061,    0.062062,    0.063063,    0.064064,    0.065065,    0.066066,    0.067067,    0.068068,    0.069069,     0.07007,    0.071071,\n",
       "          0.072072,    0.073073,    0.074074,    0.075075,    0.076076,    0.077077,    0.078078,    0.079079,     0.08008,    0.081081,    0.082082,    0.083083,    0.084084,    0.085085,    0.086086,    0.087087,    0.088088,    0.089089,     0.09009,    0.091091,    0.092092,    0.093093,    0.094094,    0.095095,\n",
       "          0.096096,    0.097097,    0.098098,    0.099099,      0.1001,      0.1011,      0.1021,      0.1031,      0.1041,     0.10511,     0.10611,     0.10711,     0.10811,     0.10911,     0.11011,     0.11111,     0.11211,     0.11311,     0.11411,     0.11512,     0.11612,     0.11712,     0.11812,     0.11912,\n",
       "           0.12012,     0.12112,     0.12212,     0.12312,     0.12412,     0.12513,     0.12613,     0.12713,     0.12813,     0.12913,     0.13013,     0.13113,     0.13213,     0.13313,     0.13413,     0.13514,     0.13614,     0.13714,     0.13814,     0.13914,     0.14014,     0.14114,     0.14214,     0.14314,\n",
       "           0.14414,     0.14515,     0.14615,     0.14715,     0.14815,     0.14915,     0.15015,     0.15115,     0.15215,     0.15315,     0.15415,     0.15516,     0.15616,     0.15716,     0.15816,     0.15916,     0.16016,     0.16116,     0.16216,     0.16316,     0.16416,     0.16517,     0.16617,     0.16717,\n",
       "           0.16817,     0.16917,     0.17017,     0.17117,     0.17217,     0.17317,     0.17417,     0.17518,     0.17618,     0.17718,     0.17818,     0.17918,     0.18018,     0.18118,     0.18218,     0.18318,     0.18418,     0.18519,     0.18619,     0.18719,     0.18819,     0.18919,     0.19019,     0.19119,\n",
       "           0.19219,     0.19319,     0.19419,      0.1952,      0.1962,      0.1972,      0.1982,      0.1992,      0.2002,      0.2012,      0.2022,      0.2032,      0.2042,     0.20521,     0.20621,     0.20721,     0.20821,     0.20921,     0.21021,     0.21121,     0.21221,     0.21321,     0.21421,     0.21522,\n",
       "           0.21622,     0.21722,     0.21822,     0.21922,     0.22022,     0.22122,     0.22222,     0.22322,     0.22422,     0.22523,     0.22623,     0.22723,     0.22823,     0.22923,     0.23023,     0.23123,     0.23223,     0.23323,     0.23423,     0.23524,     0.23624,     0.23724,     0.23824,     0.23924,\n",
       "           0.24024,     0.24124,     0.24224,     0.24324,     0.24424,     0.24525,     0.24625,     0.24725,     0.24825,     0.24925,     0.25025,     0.25125,     0.25225,     0.25325,     0.25425,     0.25526,     0.25626,     0.25726,     0.25826,     0.25926,     0.26026,     0.26126,     0.26226,     0.26326,\n",
       "           0.26426,     0.26527,     0.26627,     0.26727,     0.26827,     0.26927,     0.27027,     0.27127,     0.27227,     0.27327,     0.27427,     0.27528,     0.27628,     0.27728,     0.27828,     0.27928,     0.28028,     0.28128,     0.28228,     0.28328,     0.28428,     0.28529,     0.28629,     0.28729,\n",
       "           0.28829,     0.28929,     0.29029,     0.29129,     0.29229,     0.29329,     0.29429,      0.2953,      0.2963,      0.2973,      0.2983,      0.2993,      0.3003,      0.3013,      0.3023,      0.3033,      0.3043,     0.30531,     0.30631,     0.30731,     0.30831,     0.30931,     0.31031,     0.31131,\n",
       "           0.31231,     0.31331,     0.31431,     0.31532,     0.31632,     0.31732,     0.31832,     0.31932,     0.32032,     0.32132,     0.32232,     0.32332,     0.32432,     0.32533,     0.32633,     0.32733,     0.32833,     0.32933,     0.33033,     0.33133,     0.33233,     0.33333,     0.33433,     0.33534,\n",
       "           0.33634,     0.33734,     0.33834,     0.33934,     0.34034,     0.34134,     0.34234,     0.34334,     0.34434,     0.34535,     0.34635,     0.34735,     0.34835,     0.34935,     0.35035,     0.35135,     0.35235,     0.35335,     0.35435,     0.35536,     0.35636,     0.35736,     0.35836,     0.35936,\n",
       "           0.36036,     0.36136,     0.36236,     0.36336,     0.36436,     0.36537,     0.36637,     0.36737,     0.36837,     0.36937,     0.37037,     0.37137,     0.37237,     0.37337,     0.37437,     0.37538,     0.37638,     0.37738,     0.37838,     0.37938,     0.38038,     0.38138,     0.38238,     0.38338,\n",
       "           0.38438,     0.38539,     0.38639,     0.38739,     0.38839,     0.38939,     0.39039,     0.39139,     0.39239,     0.39339,     0.39439,      0.3954,      0.3964,      0.3974,      0.3984,      0.3994,      0.4004,      0.4014,      0.4024,      0.4034,      0.4044,     0.40541,     0.40641,     0.40741,\n",
       "           0.40841,     0.40941,     0.41041,     0.41141,     0.41241,     0.41341,     0.41441,     0.41542,     0.41642,     0.41742,     0.41842,     0.41942,     0.42042,     0.42142,     0.42242,     0.42342,     0.42442,     0.42543,     0.42643,     0.42743,     0.42843,     0.42943,     0.43043,     0.43143,\n",
       "           0.43243,     0.43343,     0.43443,     0.43544,     0.43644,     0.43744,     0.43844,     0.43944,     0.44044,     0.44144,     0.44244,     0.44344,     0.44444,     0.44545,     0.44645,     0.44745,     0.44845,     0.44945,     0.45045,     0.45145,     0.45245,     0.45345,     0.45445,     0.45546,\n",
       "           0.45646,     0.45746,     0.45846,     0.45946,     0.46046,     0.46146,     0.46246,     0.46346,     0.46446,     0.46547,     0.46647,     0.46747,     0.46847,     0.46947,     0.47047,     0.47147,     0.47247,     0.47347,     0.47447,     0.47548,     0.47648,     0.47748,     0.47848,     0.47948,\n",
       "           0.48048,     0.48148,     0.48248,     0.48348,     0.48448,     0.48549,     0.48649,     0.48749,     0.48849,     0.48949,     0.49049,     0.49149,     0.49249,     0.49349,     0.49449,      0.4955,      0.4965,      0.4975,      0.4985,      0.4995,      0.5005,      0.5015,      0.5025,      0.5035,\n",
       "            0.5045,     0.50551,     0.50651,     0.50751,     0.50851,     0.50951,     0.51051,     0.51151,     0.51251,     0.51351,     0.51451,     0.51552,     0.51652,     0.51752,     0.51852,     0.51952,     0.52052,     0.52152,     0.52252,     0.52352,     0.52452,     0.52553,     0.52653,     0.52753,\n",
       "           0.52853,     0.52953,     0.53053,     0.53153,     0.53253,     0.53353,     0.53453,     0.53554,     0.53654,     0.53754,     0.53854,     0.53954,     0.54054,     0.54154,     0.54254,     0.54354,     0.54454,     0.54555,     0.54655,     0.54755,     0.54855,     0.54955,     0.55055,     0.55155,\n",
       "           0.55255,     0.55355,     0.55455,     0.55556,     0.55656,     0.55756,     0.55856,     0.55956,     0.56056,     0.56156,     0.56256,     0.56356,     0.56456,     0.56557,     0.56657,     0.56757,     0.56857,     0.56957,     0.57057,     0.57157,     0.57257,     0.57357,     0.57457,     0.57558,\n",
       "           0.57658,     0.57758,     0.57858,     0.57958,     0.58058,     0.58158,     0.58258,     0.58358,     0.58458,     0.58559,     0.58659,     0.58759,     0.58859,     0.58959,     0.59059,     0.59159,     0.59259,     0.59359,     0.59459,      0.5956,      0.5966,      0.5976,      0.5986,      0.5996,\n",
       "            0.6006,      0.6016,      0.6026,      0.6036,      0.6046,     0.60561,     0.60661,     0.60761,     0.60861,     0.60961,     0.61061,     0.61161,     0.61261,     0.61361,     0.61461,     0.61562,     0.61662,     0.61762,     0.61862,     0.61962,     0.62062,     0.62162,     0.62262,     0.62362,\n",
       "           0.62462,     0.62563,     0.62663,     0.62763,     0.62863,     0.62963,     0.63063,     0.63163,     0.63263,     0.63363,     0.63463,     0.63564,     0.63664,     0.63764,     0.63864,     0.63964,     0.64064,     0.64164,     0.64264,     0.64364,     0.64464,     0.64565,     0.64665,     0.64765,\n",
       "           0.64865,     0.64965,     0.65065,     0.65165,     0.65265,     0.65365,     0.65465,     0.65566,     0.65666,     0.65766,     0.65866,     0.65966,     0.66066,     0.66166,     0.66266,     0.66366,     0.66466,     0.66567,     0.66667,     0.66767,     0.66867,     0.66967,     0.67067,     0.67167,\n",
       "           0.67267,     0.67367,     0.67467,     0.67568,     0.67668,     0.67768,     0.67868,     0.67968,     0.68068,     0.68168,     0.68268,     0.68368,     0.68468,     0.68569,     0.68669,     0.68769,     0.68869,     0.68969,     0.69069,     0.69169,     0.69269,     0.69369,     0.69469,      0.6957,\n",
       "            0.6967,      0.6977,      0.6987,      0.6997,      0.7007,      0.7017,      0.7027,      0.7037,      0.7047,     0.70571,     0.70671,     0.70771,     0.70871,     0.70971,     0.71071,     0.71171,     0.71271,     0.71371,     0.71471,     0.71572,     0.71672,     0.71772,     0.71872,     0.71972,\n",
       "           0.72072,     0.72172,     0.72272,     0.72372,     0.72472,     0.72573,     0.72673,     0.72773,     0.72873,     0.72973,     0.73073,     0.73173,     0.73273,     0.73373,     0.73473,     0.73574,     0.73674,     0.73774,     0.73874,     0.73974,     0.74074,     0.74174,     0.74274,     0.74374,\n",
       "           0.74474,     0.74575,     0.74675,     0.74775,     0.74875,     0.74975,     0.75075,     0.75175,     0.75275,     0.75375,     0.75475,     0.75576,     0.75676,     0.75776,     0.75876,     0.75976,     0.76076,     0.76176,     0.76276,     0.76376,     0.76476,     0.76577,     0.76677,     0.76777,\n",
       "           0.76877,     0.76977,     0.77077,     0.77177,     0.77277,     0.77377,     0.77477,     0.77578,     0.77678,     0.77778,     0.77878,     0.77978,     0.78078,     0.78178,     0.78278,     0.78378,     0.78478,     0.78579,     0.78679,     0.78779,     0.78879,     0.78979,     0.79079,     0.79179,\n",
       "           0.79279,     0.79379,     0.79479,      0.7958,      0.7968,      0.7978,      0.7988,      0.7998,      0.8008,      0.8018,      0.8028,      0.8038,      0.8048,     0.80581,     0.80681,     0.80781,     0.80881,     0.80981,     0.81081,     0.81181,     0.81281,     0.81381,     0.81481,     0.81582,\n",
       "           0.81682,     0.81782,     0.81882,     0.81982,     0.82082,     0.82182,     0.82282,     0.82382,     0.82482,     0.82583,     0.82683,     0.82783,     0.82883,     0.82983,     0.83083,     0.83183,     0.83283,     0.83383,     0.83483,     0.83584,     0.83684,     0.83784,     0.83884,     0.83984,\n",
       "           0.84084,     0.84184,     0.84284,     0.84384,     0.84484,     0.84585,     0.84685,     0.84785,     0.84885,     0.84985,     0.85085,     0.85185,     0.85285,     0.85385,     0.85485,     0.85586,     0.85686,     0.85786,     0.85886,     0.85986,     0.86086,     0.86186,     0.86286,     0.86386,\n",
       "           0.86486,     0.86587,     0.86687,     0.86787,     0.86887,     0.86987,     0.87087,     0.87187,     0.87287,     0.87387,     0.87487,     0.87588,     0.87688,     0.87788,     0.87888,     0.87988,     0.88088,     0.88188,     0.88288,     0.88388,     0.88488,     0.88589,     0.88689,     0.88789,\n",
       "           0.88889,     0.88989,     0.89089,     0.89189,     0.89289,     0.89389,     0.89489,      0.8959,      0.8969,      0.8979,      0.8989,      0.8999,      0.9009,      0.9019,      0.9029,      0.9039,      0.9049,     0.90591,     0.90691,     0.90791,     0.90891,     0.90991,     0.91091,     0.91191,\n",
       "           0.91291,     0.91391,     0.91491,     0.91592,     0.91692,     0.91792,     0.91892,     0.91992,     0.92092,     0.92192,     0.92292,     0.92392,     0.92492,     0.92593,     0.92693,     0.92793,     0.92893,     0.92993,     0.93093,     0.93193,     0.93293,     0.93393,     0.93493,     0.93594,\n",
       "           0.93694,     0.93794,     0.93894,     0.93994,     0.94094,     0.94194,     0.94294,     0.94394,     0.94494,     0.94595,     0.94695,     0.94795,     0.94895,     0.94995,     0.95095,     0.95195,     0.95295,     0.95395,     0.95495,     0.95596,     0.95696,     0.95796,     0.95896,     0.95996,\n",
       "           0.96096,     0.96196,     0.96296,     0.96396,     0.96496,     0.96597,     0.96697,     0.96797,     0.96897,     0.96997,     0.97097,     0.97197,     0.97297,     0.97397,     0.97497,     0.97598,     0.97698,     0.97798,     0.97898,     0.97998,     0.98098,     0.98198,     0.98298,     0.98398,\n",
       "           0.98498,     0.98599,     0.98699,     0.98799,     0.98899,     0.98999,     0.99099,     0.99199,     0.99299,     0.99399,     0.99499,       0.996,       0.997,       0.998,       0.999,           1]), array([[          1,           1,           1, ...,    0.066609,    0.033304,           0],\n",
       "       [          1,           1,           1, ...,    0.056694,    0.028347,           0],\n",
       "       [          1,           1,           1, ...,   0.0012471,  0.00062356,           0],\n",
       "       ...,\n",
       "       [          1,           1,      0.9947, ...,    0.034015,    0.017008,           0],\n",
       "       [          1,           1,           1, ...,     0.15171,    0.075856,           0],\n",
       "       [          1,           1,           1, ...,   0.0006298,   0.0003149,           0]]), 'Recall', 'Precision'], [array([          0,    0.001001,    0.002002,    0.003003,    0.004004,    0.005005,    0.006006,    0.007007,    0.008008,    0.009009,     0.01001,    0.011011,    0.012012,    0.013013,    0.014014,    0.015015,    0.016016,    0.017017,    0.018018,    0.019019,     0.02002,    0.021021,    0.022022,    0.023023,\n",
       "          0.024024,    0.025025,    0.026026,    0.027027,    0.028028,    0.029029,     0.03003,    0.031031,    0.032032,    0.033033,    0.034034,    0.035035,    0.036036,    0.037037,    0.038038,    0.039039,     0.04004,    0.041041,    0.042042,    0.043043,    0.044044,    0.045045,    0.046046,    0.047047,\n",
       "          0.048048,    0.049049,     0.05005,    0.051051,    0.052052,    0.053053,    0.054054,    0.055055,    0.056056,    0.057057,    0.058058,    0.059059,     0.06006,    0.061061,    0.062062,    0.063063,    0.064064,    0.065065,    0.066066,    0.067067,    0.068068,    0.069069,     0.07007,    0.071071,\n",
       "          0.072072,    0.073073,    0.074074,    0.075075,    0.076076,    0.077077,    0.078078,    0.079079,     0.08008,    0.081081,    0.082082,    0.083083,    0.084084,    0.085085,    0.086086,    0.087087,    0.088088,    0.089089,     0.09009,    0.091091,    0.092092,    0.093093,    0.094094,    0.095095,\n",
       "          0.096096,    0.097097,    0.098098,    0.099099,      0.1001,      0.1011,      0.1021,      0.1031,      0.1041,     0.10511,     0.10611,     0.10711,     0.10811,     0.10911,     0.11011,     0.11111,     0.11211,     0.11311,     0.11411,     0.11512,     0.11612,     0.11712,     0.11812,     0.11912,\n",
       "           0.12012,     0.12112,     0.12212,     0.12312,     0.12412,     0.12513,     0.12613,     0.12713,     0.12813,     0.12913,     0.13013,     0.13113,     0.13213,     0.13313,     0.13413,     0.13514,     0.13614,     0.13714,     0.13814,     0.13914,     0.14014,     0.14114,     0.14214,     0.14314,\n",
       "           0.14414,     0.14515,     0.14615,     0.14715,     0.14815,     0.14915,     0.15015,     0.15115,     0.15215,     0.15315,     0.15415,     0.15516,     0.15616,     0.15716,     0.15816,     0.15916,     0.16016,     0.16116,     0.16216,     0.16316,     0.16416,     0.16517,     0.16617,     0.16717,\n",
       "           0.16817,     0.16917,     0.17017,     0.17117,     0.17217,     0.17317,     0.17417,     0.17518,     0.17618,     0.17718,     0.17818,     0.17918,     0.18018,     0.18118,     0.18218,     0.18318,     0.18418,     0.18519,     0.18619,     0.18719,     0.18819,     0.18919,     0.19019,     0.19119,\n",
       "           0.19219,     0.19319,     0.19419,      0.1952,      0.1962,      0.1972,      0.1982,      0.1992,      0.2002,      0.2012,      0.2022,      0.2032,      0.2042,     0.20521,     0.20621,     0.20721,     0.20821,     0.20921,     0.21021,     0.21121,     0.21221,     0.21321,     0.21421,     0.21522,\n",
       "           0.21622,     0.21722,     0.21822,     0.21922,     0.22022,     0.22122,     0.22222,     0.22322,     0.22422,     0.22523,     0.22623,     0.22723,     0.22823,     0.22923,     0.23023,     0.23123,     0.23223,     0.23323,     0.23423,     0.23524,     0.23624,     0.23724,     0.23824,     0.23924,\n",
       "           0.24024,     0.24124,     0.24224,     0.24324,     0.24424,     0.24525,     0.24625,     0.24725,     0.24825,     0.24925,     0.25025,     0.25125,     0.25225,     0.25325,     0.25425,     0.25526,     0.25626,     0.25726,     0.25826,     0.25926,     0.26026,     0.26126,     0.26226,     0.26326,\n",
       "           0.26426,     0.26527,     0.26627,     0.26727,     0.26827,     0.26927,     0.27027,     0.27127,     0.27227,     0.27327,     0.27427,     0.27528,     0.27628,     0.27728,     0.27828,     0.27928,     0.28028,     0.28128,     0.28228,     0.28328,     0.28428,     0.28529,     0.28629,     0.28729,\n",
       "           0.28829,     0.28929,     0.29029,     0.29129,     0.29229,     0.29329,     0.29429,      0.2953,      0.2963,      0.2973,      0.2983,      0.2993,      0.3003,      0.3013,      0.3023,      0.3033,      0.3043,     0.30531,     0.30631,     0.30731,     0.30831,     0.30931,     0.31031,     0.31131,\n",
       "           0.31231,     0.31331,     0.31431,     0.31532,     0.31632,     0.31732,     0.31832,     0.31932,     0.32032,     0.32132,     0.32232,     0.32332,     0.32432,     0.32533,     0.32633,     0.32733,     0.32833,     0.32933,     0.33033,     0.33133,     0.33233,     0.33333,     0.33433,     0.33534,\n",
       "           0.33634,     0.33734,     0.33834,     0.33934,     0.34034,     0.34134,     0.34234,     0.34334,     0.34434,     0.34535,     0.34635,     0.34735,     0.34835,     0.34935,     0.35035,     0.35135,     0.35235,     0.35335,     0.35435,     0.35536,     0.35636,     0.35736,     0.35836,     0.35936,\n",
       "           0.36036,     0.36136,     0.36236,     0.36336,     0.36436,     0.36537,     0.36637,     0.36737,     0.36837,     0.36937,     0.37037,     0.37137,     0.37237,     0.37337,     0.37437,     0.37538,     0.37638,     0.37738,     0.37838,     0.37938,     0.38038,     0.38138,     0.38238,     0.38338,\n",
       "           0.38438,     0.38539,     0.38639,     0.38739,     0.38839,     0.38939,     0.39039,     0.39139,     0.39239,     0.39339,     0.39439,      0.3954,      0.3964,      0.3974,      0.3984,      0.3994,      0.4004,      0.4014,      0.4024,      0.4034,      0.4044,     0.40541,     0.40641,     0.40741,\n",
       "           0.40841,     0.40941,     0.41041,     0.41141,     0.41241,     0.41341,     0.41441,     0.41542,     0.41642,     0.41742,     0.41842,     0.41942,     0.42042,     0.42142,     0.42242,     0.42342,     0.42442,     0.42543,     0.42643,     0.42743,     0.42843,     0.42943,     0.43043,     0.43143,\n",
       "           0.43243,     0.43343,     0.43443,     0.43544,     0.43644,     0.43744,     0.43844,     0.43944,     0.44044,     0.44144,     0.44244,     0.44344,     0.44444,     0.44545,     0.44645,     0.44745,     0.44845,     0.44945,     0.45045,     0.45145,     0.45245,     0.45345,     0.45445,     0.45546,\n",
       "           0.45646,     0.45746,     0.45846,     0.45946,     0.46046,     0.46146,     0.46246,     0.46346,     0.46446,     0.46547,     0.46647,     0.46747,     0.46847,     0.46947,     0.47047,     0.47147,     0.47247,     0.47347,     0.47447,     0.47548,     0.47648,     0.47748,     0.47848,     0.47948,\n",
       "           0.48048,     0.48148,     0.48248,     0.48348,     0.48448,     0.48549,     0.48649,     0.48749,     0.48849,     0.48949,     0.49049,     0.49149,     0.49249,     0.49349,     0.49449,      0.4955,      0.4965,      0.4975,      0.4985,      0.4995,      0.5005,      0.5015,      0.5025,      0.5035,\n",
       "            0.5045,     0.50551,     0.50651,     0.50751,     0.50851,     0.50951,     0.51051,     0.51151,     0.51251,     0.51351,     0.51451,     0.51552,     0.51652,     0.51752,     0.51852,     0.51952,     0.52052,     0.52152,     0.52252,     0.52352,     0.52452,     0.52553,     0.52653,     0.52753,\n",
       "           0.52853,     0.52953,     0.53053,     0.53153,     0.53253,     0.53353,     0.53453,     0.53554,     0.53654,     0.53754,     0.53854,     0.53954,     0.54054,     0.54154,     0.54254,     0.54354,     0.54454,     0.54555,     0.54655,     0.54755,     0.54855,     0.54955,     0.55055,     0.55155,\n",
       "           0.55255,     0.55355,     0.55455,     0.55556,     0.55656,     0.55756,     0.55856,     0.55956,     0.56056,     0.56156,     0.56256,     0.56356,     0.56456,     0.56557,     0.56657,     0.56757,     0.56857,     0.56957,     0.57057,     0.57157,     0.57257,     0.57357,     0.57457,     0.57558,\n",
       "           0.57658,     0.57758,     0.57858,     0.57958,     0.58058,     0.58158,     0.58258,     0.58358,     0.58458,     0.58559,     0.58659,     0.58759,     0.58859,     0.58959,     0.59059,     0.59159,     0.59259,     0.59359,     0.59459,      0.5956,      0.5966,      0.5976,      0.5986,      0.5996,\n",
       "            0.6006,      0.6016,      0.6026,      0.6036,      0.6046,     0.60561,     0.60661,     0.60761,     0.60861,     0.60961,     0.61061,     0.61161,     0.61261,     0.61361,     0.61461,     0.61562,     0.61662,     0.61762,     0.61862,     0.61962,     0.62062,     0.62162,     0.62262,     0.62362,\n",
       "           0.62462,     0.62563,     0.62663,     0.62763,     0.62863,     0.62963,     0.63063,     0.63163,     0.63263,     0.63363,     0.63463,     0.63564,     0.63664,     0.63764,     0.63864,     0.63964,     0.64064,     0.64164,     0.64264,     0.64364,     0.64464,     0.64565,     0.64665,     0.64765,\n",
       "           0.64865,     0.64965,     0.65065,     0.65165,     0.65265,     0.65365,     0.65465,     0.65566,     0.65666,     0.65766,     0.65866,     0.65966,     0.66066,     0.66166,     0.66266,     0.66366,     0.66466,     0.66567,     0.66667,     0.66767,     0.66867,     0.66967,     0.67067,     0.67167,\n",
       "           0.67267,     0.67367,     0.67467,     0.67568,     0.67668,     0.67768,     0.67868,     0.67968,     0.68068,     0.68168,     0.68268,     0.68368,     0.68468,     0.68569,     0.68669,     0.68769,     0.68869,     0.68969,     0.69069,     0.69169,     0.69269,     0.69369,     0.69469,      0.6957,\n",
       "            0.6967,      0.6977,      0.6987,      0.6997,      0.7007,      0.7017,      0.7027,      0.7037,      0.7047,     0.70571,     0.70671,     0.70771,     0.70871,     0.70971,     0.71071,     0.71171,     0.71271,     0.71371,     0.71471,     0.71572,     0.71672,     0.71772,     0.71872,     0.71972,\n",
       "           0.72072,     0.72172,     0.72272,     0.72372,     0.72472,     0.72573,     0.72673,     0.72773,     0.72873,     0.72973,     0.73073,     0.73173,     0.73273,     0.73373,     0.73473,     0.73574,     0.73674,     0.73774,     0.73874,     0.73974,     0.74074,     0.74174,     0.74274,     0.74374,\n",
       "           0.74474,     0.74575,     0.74675,     0.74775,     0.74875,     0.74975,     0.75075,     0.75175,     0.75275,     0.75375,     0.75475,     0.75576,     0.75676,     0.75776,     0.75876,     0.75976,     0.76076,     0.76176,     0.76276,     0.76376,     0.76476,     0.76577,     0.76677,     0.76777,\n",
       "           0.76877,     0.76977,     0.77077,     0.77177,     0.77277,     0.77377,     0.77477,     0.77578,     0.77678,     0.77778,     0.77878,     0.77978,     0.78078,     0.78178,     0.78278,     0.78378,     0.78478,     0.78579,     0.78679,     0.78779,     0.78879,     0.78979,     0.79079,     0.79179,\n",
       "           0.79279,     0.79379,     0.79479,      0.7958,      0.7968,      0.7978,      0.7988,      0.7998,      0.8008,      0.8018,      0.8028,      0.8038,      0.8048,     0.80581,     0.80681,     0.80781,     0.80881,     0.80981,     0.81081,     0.81181,     0.81281,     0.81381,     0.81481,     0.81582,\n",
       "           0.81682,     0.81782,     0.81882,     0.81982,     0.82082,     0.82182,     0.82282,     0.82382,     0.82482,     0.82583,     0.82683,     0.82783,     0.82883,     0.82983,     0.83083,     0.83183,     0.83283,     0.83383,     0.83483,     0.83584,     0.83684,     0.83784,     0.83884,     0.83984,\n",
       "           0.84084,     0.84184,     0.84284,     0.84384,     0.84484,     0.84585,     0.84685,     0.84785,     0.84885,     0.84985,     0.85085,     0.85185,     0.85285,     0.85385,     0.85485,     0.85586,     0.85686,     0.85786,     0.85886,     0.85986,     0.86086,     0.86186,     0.86286,     0.86386,\n",
       "           0.86486,     0.86587,     0.86687,     0.86787,     0.86887,     0.86987,     0.87087,     0.87187,     0.87287,     0.87387,     0.87487,     0.87588,     0.87688,     0.87788,     0.87888,     0.87988,     0.88088,     0.88188,     0.88288,     0.88388,     0.88488,     0.88589,     0.88689,     0.88789,\n",
       "           0.88889,     0.88989,     0.89089,     0.89189,     0.89289,     0.89389,     0.89489,      0.8959,      0.8969,      0.8979,      0.8989,      0.8999,      0.9009,      0.9019,      0.9029,      0.9039,      0.9049,     0.90591,     0.90691,     0.90791,     0.90891,     0.90991,     0.91091,     0.91191,\n",
       "           0.91291,     0.91391,     0.91491,     0.91592,     0.91692,     0.91792,     0.91892,     0.91992,     0.92092,     0.92192,     0.92292,     0.92392,     0.92492,     0.92593,     0.92693,     0.92793,     0.92893,     0.92993,     0.93093,     0.93193,     0.93293,     0.93393,     0.93493,     0.93594,\n",
       "           0.93694,     0.93794,     0.93894,     0.93994,     0.94094,     0.94194,     0.94294,     0.94394,     0.94494,     0.94595,     0.94695,     0.94795,     0.94895,     0.94995,     0.95095,     0.95195,     0.95295,     0.95395,     0.95495,     0.95596,     0.95696,     0.95796,     0.95896,     0.95996,\n",
       "           0.96096,     0.96196,     0.96296,     0.96396,     0.96496,     0.96597,     0.96697,     0.96797,     0.96897,     0.96997,     0.97097,     0.97197,     0.97297,     0.97397,     0.97497,     0.97598,     0.97698,     0.97798,     0.97898,     0.97998,     0.98098,     0.98198,     0.98298,     0.98398,\n",
       "           0.98498,     0.98599,     0.98699,     0.98799,     0.98899,     0.98999,     0.99099,     0.99199,     0.99299,     0.99399,     0.99499,       0.996,       0.997,       0.998,       0.999,           1]), array([[    0.31801,     0.31801,     0.38709, ...,           0,           0,           0],\n",
       "       [    0.34869,     0.34869,     0.41677, ...,           0,           0,           0],\n",
       "       [   0.093584,    0.093584,     0.12131, ...,           0,           0,           0],\n",
       "       ...,\n",
       "       [     0.2742,      0.2742,     0.33503, ...,           0,           0,           0],\n",
       "       [    0.45119,     0.45119,     0.51247, ...,           0,           0,           0],\n",
       "       [   0.044499,    0.044499,    0.063384, ...,           0,           0,           0]]), 'Confidence', 'F1'], [array([          0,    0.001001,    0.002002,    0.003003,    0.004004,    0.005005,    0.006006,    0.007007,    0.008008,    0.009009,     0.01001,    0.011011,    0.012012,    0.013013,    0.014014,    0.015015,    0.016016,    0.017017,    0.018018,    0.019019,     0.02002,    0.021021,    0.022022,    0.023023,\n",
       "          0.024024,    0.025025,    0.026026,    0.027027,    0.028028,    0.029029,     0.03003,    0.031031,    0.032032,    0.033033,    0.034034,    0.035035,    0.036036,    0.037037,    0.038038,    0.039039,     0.04004,    0.041041,    0.042042,    0.043043,    0.044044,    0.045045,    0.046046,    0.047047,\n",
       "          0.048048,    0.049049,     0.05005,    0.051051,    0.052052,    0.053053,    0.054054,    0.055055,    0.056056,    0.057057,    0.058058,    0.059059,     0.06006,    0.061061,    0.062062,    0.063063,    0.064064,    0.065065,    0.066066,    0.067067,    0.068068,    0.069069,     0.07007,    0.071071,\n",
       "          0.072072,    0.073073,    0.074074,    0.075075,    0.076076,    0.077077,    0.078078,    0.079079,     0.08008,    0.081081,    0.082082,    0.083083,    0.084084,    0.085085,    0.086086,    0.087087,    0.088088,    0.089089,     0.09009,    0.091091,    0.092092,    0.093093,    0.094094,    0.095095,\n",
       "          0.096096,    0.097097,    0.098098,    0.099099,      0.1001,      0.1011,      0.1021,      0.1031,      0.1041,     0.10511,     0.10611,     0.10711,     0.10811,     0.10911,     0.11011,     0.11111,     0.11211,     0.11311,     0.11411,     0.11512,     0.11612,     0.11712,     0.11812,     0.11912,\n",
       "           0.12012,     0.12112,     0.12212,     0.12312,     0.12412,     0.12513,     0.12613,     0.12713,     0.12813,     0.12913,     0.13013,     0.13113,     0.13213,     0.13313,     0.13413,     0.13514,     0.13614,     0.13714,     0.13814,     0.13914,     0.14014,     0.14114,     0.14214,     0.14314,\n",
       "           0.14414,     0.14515,     0.14615,     0.14715,     0.14815,     0.14915,     0.15015,     0.15115,     0.15215,     0.15315,     0.15415,     0.15516,     0.15616,     0.15716,     0.15816,     0.15916,     0.16016,     0.16116,     0.16216,     0.16316,     0.16416,     0.16517,     0.16617,     0.16717,\n",
       "           0.16817,     0.16917,     0.17017,     0.17117,     0.17217,     0.17317,     0.17417,     0.17518,     0.17618,     0.17718,     0.17818,     0.17918,     0.18018,     0.18118,     0.18218,     0.18318,     0.18418,     0.18519,     0.18619,     0.18719,     0.18819,     0.18919,     0.19019,     0.19119,\n",
       "           0.19219,     0.19319,     0.19419,      0.1952,      0.1962,      0.1972,      0.1982,      0.1992,      0.2002,      0.2012,      0.2022,      0.2032,      0.2042,     0.20521,     0.20621,     0.20721,     0.20821,     0.20921,     0.21021,     0.21121,     0.21221,     0.21321,     0.21421,     0.21522,\n",
       "           0.21622,     0.21722,     0.21822,     0.21922,     0.22022,     0.22122,     0.22222,     0.22322,     0.22422,     0.22523,     0.22623,     0.22723,     0.22823,     0.22923,     0.23023,     0.23123,     0.23223,     0.23323,     0.23423,     0.23524,     0.23624,     0.23724,     0.23824,     0.23924,\n",
       "           0.24024,     0.24124,     0.24224,     0.24324,     0.24424,     0.24525,     0.24625,     0.24725,     0.24825,     0.24925,     0.25025,     0.25125,     0.25225,     0.25325,     0.25425,     0.25526,     0.25626,     0.25726,     0.25826,     0.25926,     0.26026,     0.26126,     0.26226,     0.26326,\n",
       "           0.26426,     0.26527,     0.26627,     0.26727,     0.26827,     0.26927,     0.27027,     0.27127,     0.27227,     0.27327,     0.27427,     0.27528,     0.27628,     0.27728,     0.27828,     0.27928,     0.28028,     0.28128,     0.28228,     0.28328,     0.28428,     0.28529,     0.28629,     0.28729,\n",
       "           0.28829,     0.28929,     0.29029,     0.29129,     0.29229,     0.29329,     0.29429,      0.2953,      0.2963,      0.2973,      0.2983,      0.2993,      0.3003,      0.3013,      0.3023,      0.3033,      0.3043,     0.30531,     0.30631,     0.30731,     0.30831,     0.30931,     0.31031,     0.31131,\n",
       "           0.31231,     0.31331,     0.31431,     0.31532,     0.31632,     0.31732,     0.31832,     0.31932,     0.32032,     0.32132,     0.32232,     0.32332,     0.32432,     0.32533,     0.32633,     0.32733,     0.32833,     0.32933,     0.33033,     0.33133,     0.33233,     0.33333,     0.33433,     0.33534,\n",
       "           0.33634,     0.33734,     0.33834,     0.33934,     0.34034,     0.34134,     0.34234,     0.34334,     0.34434,     0.34535,     0.34635,     0.34735,     0.34835,     0.34935,     0.35035,     0.35135,     0.35235,     0.35335,     0.35435,     0.35536,     0.35636,     0.35736,     0.35836,     0.35936,\n",
       "           0.36036,     0.36136,     0.36236,     0.36336,     0.36436,     0.36537,     0.36637,     0.36737,     0.36837,     0.36937,     0.37037,     0.37137,     0.37237,     0.37337,     0.37437,     0.37538,     0.37638,     0.37738,     0.37838,     0.37938,     0.38038,     0.38138,     0.38238,     0.38338,\n",
       "           0.38438,     0.38539,     0.38639,     0.38739,     0.38839,     0.38939,     0.39039,     0.39139,     0.39239,     0.39339,     0.39439,      0.3954,      0.3964,      0.3974,      0.3984,      0.3994,      0.4004,      0.4014,      0.4024,      0.4034,      0.4044,     0.40541,     0.40641,     0.40741,\n",
       "           0.40841,     0.40941,     0.41041,     0.41141,     0.41241,     0.41341,     0.41441,     0.41542,     0.41642,     0.41742,     0.41842,     0.41942,     0.42042,     0.42142,     0.42242,     0.42342,     0.42442,     0.42543,     0.42643,     0.42743,     0.42843,     0.42943,     0.43043,     0.43143,\n",
       "           0.43243,     0.43343,     0.43443,     0.43544,     0.43644,     0.43744,     0.43844,     0.43944,     0.44044,     0.44144,     0.44244,     0.44344,     0.44444,     0.44545,     0.44645,     0.44745,     0.44845,     0.44945,     0.45045,     0.45145,     0.45245,     0.45345,     0.45445,     0.45546,\n",
       "           0.45646,     0.45746,     0.45846,     0.45946,     0.46046,     0.46146,     0.46246,     0.46346,     0.46446,     0.46547,     0.46647,     0.46747,     0.46847,     0.46947,     0.47047,     0.47147,     0.47247,     0.47347,     0.47447,     0.47548,     0.47648,     0.47748,     0.47848,     0.47948,\n",
       "           0.48048,     0.48148,     0.48248,     0.48348,     0.48448,     0.48549,     0.48649,     0.48749,     0.48849,     0.48949,     0.49049,     0.49149,     0.49249,     0.49349,     0.49449,      0.4955,      0.4965,      0.4975,      0.4985,      0.4995,      0.5005,      0.5015,      0.5025,      0.5035,\n",
       "            0.5045,     0.50551,     0.50651,     0.50751,     0.50851,     0.50951,     0.51051,     0.51151,     0.51251,     0.51351,     0.51451,     0.51552,     0.51652,     0.51752,     0.51852,     0.51952,     0.52052,     0.52152,     0.52252,     0.52352,     0.52452,     0.52553,     0.52653,     0.52753,\n",
       "           0.52853,     0.52953,     0.53053,     0.53153,     0.53253,     0.53353,     0.53453,     0.53554,     0.53654,     0.53754,     0.53854,     0.53954,     0.54054,     0.54154,     0.54254,     0.54354,     0.54454,     0.54555,     0.54655,     0.54755,     0.54855,     0.54955,     0.55055,     0.55155,\n",
       "           0.55255,     0.55355,     0.55455,     0.55556,     0.55656,     0.55756,     0.55856,     0.55956,     0.56056,     0.56156,     0.56256,     0.56356,     0.56456,     0.56557,     0.56657,     0.56757,     0.56857,     0.56957,     0.57057,     0.57157,     0.57257,     0.57357,     0.57457,     0.57558,\n",
       "           0.57658,     0.57758,     0.57858,     0.57958,     0.58058,     0.58158,     0.58258,     0.58358,     0.58458,     0.58559,     0.58659,     0.58759,     0.58859,     0.58959,     0.59059,     0.59159,     0.59259,     0.59359,     0.59459,      0.5956,      0.5966,      0.5976,      0.5986,      0.5996,\n",
       "            0.6006,      0.6016,      0.6026,      0.6036,      0.6046,     0.60561,     0.60661,     0.60761,     0.60861,     0.60961,     0.61061,     0.61161,     0.61261,     0.61361,     0.61461,     0.61562,     0.61662,     0.61762,     0.61862,     0.61962,     0.62062,     0.62162,     0.62262,     0.62362,\n",
       "           0.62462,     0.62563,     0.62663,     0.62763,     0.62863,     0.62963,     0.63063,     0.63163,     0.63263,     0.63363,     0.63463,     0.63564,     0.63664,     0.63764,     0.63864,     0.63964,     0.64064,     0.64164,     0.64264,     0.64364,     0.64464,     0.64565,     0.64665,     0.64765,\n",
       "           0.64865,     0.64965,     0.65065,     0.65165,     0.65265,     0.65365,     0.65465,     0.65566,     0.65666,     0.65766,     0.65866,     0.65966,     0.66066,     0.66166,     0.66266,     0.66366,     0.66466,     0.66567,     0.66667,     0.66767,     0.66867,     0.66967,     0.67067,     0.67167,\n",
       "           0.67267,     0.67367,     0.67467,     0.67568,     0.67668,     0.67768,     0.67868,     0.67968,     0.68068,     0.68168,     0.68268,     0.68368,     0.68468,     0.68569,     0.68669,     0.68769,     0.68869,     0.68969,     0.69069,     0.69169,     0.69269,     0.69369,     0.69469,      0.6957,\n",
       "            0.6967,      0.6977,      0.6987,      0.6997,      0.7007,      0.7017,      0.7027,      0.7037,      0.7047,     0.70571,     0.70671,     0.70771,     0.70871,     0.70971,     0.71071,     0.71171,     0.71271,     0.71371,     0.71471,     0.71572,     0.71672,     0.71772,     0.71872,     0.71972,\n",
       "           0.72072,     0.72172,     0.72272,     0.72372,     0.72472,     0.72573,     0.72673,     0.72773,     0.72873,     0.72973,     0.73073,     0.73173,     0.73273,     0.73373,     0.73473,     0.73574,     0.73674,     0.73774,     0.73874,     0.73974,     0.74074,     0.74174,     0.74274,     0.74374,\n",
       "           0.74474,     0.74575,     0.74675,     0.74775,     0.74875,     0.74975,     0.75075,     0.75175,     0.75275,     0.75375,     0.75475,     0.75576,     0.75676,     0.75776,     0.75876,     0.75976,     0.76076,     0.76176,     0.76276,     0.76376,     0.76476,     0.76577,     0.76677,     0.76777,\n",
       "           0.76877,     0.76977,     0.77077,     0.77177,     0.77277,     0.77377,     0.77477,     0.77578,     0.77678,     0.77778,     0.77878,     0.77978,     0.78078,     0.78178,     0.78278,     0.78378,     0.78478,     0.78579,     0.78679,     0.78779,     0.78879,     0.78979,     0.79079,     0.79179,\n",
       "           0.79279,     0.79379,     0.79479,      0.7958,      0.7968,      0.7978,      0.7988,      0.7998,      0.8008,      0.8018,      0.8028,      0.8038,      0.8048,     0.80581,     0.80681,     0.80781,     0.80881,     0.80981,     0.81081,     0.81181,     0.81281,     0.81381,     0.81481,     0.81582,\n",
       "           0.81682,     0.81782,     0.81882,     0.81982,     0.82082,     0.82182,     0.82282,     0.82382,     0.82482,     0.82583,     0.82683,     0.82783,     0.82883,     0.82983,     0.83083,     0.83183,     0.83283,     0.83383,     0.83483,     0.83584,     0.83684,     0.83784,     0.83884,     0.83984,\n",
       "           0.84084,     0.84184,     0.84284,     0.84384,     0.84484,     0.84585,     0.84685,     0.84785,     0.84885,     0.84985,     0.85085,     0.85185,     0.85285,     0.85385,     0.85485,     0.85586,     0.85686,     0.85786,     0.85886,     0.85986,     0.86086,     0.86186,     0.86286,     0.86386,\n",
       "           0.86486,     0.86587,     0.86687,     0.86787,     0.86887,     0.86987,     0.87087,     0.87187,     0.87287,     0.87387,     0.87487,     0.87588,     0.87688,     0.87788,     0.87888,     0.87988,     0.88088,     0.88188,     0.88288,     0.88388,     0.88488,     0.88589,     0.88689,     0.88789,\n",
       "           0.88889,     0.88989,     0.89089,     0.89189,     0.89289,     0.89389,     0.89489,      0.8959,      0.8969,      0.8979,      0.8989,      0.8999,      0.9009,      0.9019,      0.9029,      0.9039,      0.9049,     0.90591,     0.90691,     0.90791,     0.90891,     0.90991,     0.91091,     0.91191,\n",
       "           0.91291,     0.91391,     0.91491,     0.91592,     0.91692,     0.91792,     0.91892,     0.91992,     0.92092,     0.92192,     0.92292,     0.92392,     0.92492,     0.92593,     0.92693,     0.92793,     0.92893,     0.92993,     0.93093,     0.93193,     0.93293,     0.93393,     0.93493,     0.93594,\n",
       "           0.93694,     0.93794,     0.93894,     0.93994,     0.94094,     0.94194,     0.94294,     0.94394,     0.94494,     0.94595,     0.94695,     0.94795,     0.94895,     0.94995,     0.95095,     0.95195,     0.95295,     0.95395,     0.95495,     0.95596,     0.95696,     0.95796,     0.95896,     0.95996,\n",
       "           0.96096,     0.96196,     0.96296,     0.96396,     0.96496,     0.96597,     0.96697,     0.96797,     0.96897,     0.96997,     0.97097,     0.97197,     0.97297,     0.97397,     0.97497,     0.97598,     0.97698,     0.97798,     0.97898,     0.97998,     0.98098,     0.98198,     0.98298,     0.98398,\n",
       "           0.98498,     0.98599,     0.98699,     0.98799,     0.98899,     0.98999,     0.99099,     0.99199,     0.99299,     0.99399,     0.99499,       0.996,       0.997,       0.998,       0.999,           1]), array([[    0.18927,     0.18927,      0.2404, ...,           1,           1,           1],\n",
       "       [     0.2115,      0.2115,     0.26395, ...,           1,           1,           1],\n",
       "       [   0.049297,    0.049297,    0.065062, ...,           1,           1,           1],\n",
       "       ...,\n",
       "       [    0.15912,     0.15912,     0.20169, ...,           1,           1,           1],\n",
       "       [    0.29164,     0.29164,     0.34517, ...,           1,           1,           1],\n",
       "       [   0.022796,    0.022796,    0.032861, ...,           1,           1,           1]]), 'Confidence', 'Precision'], [array([          0,    0.001001,    0.002002,    0.003003,    0.004004,    0.005005,    0.006006,    0.007007,    0.008008,    0.009009,     0.01001,    0.011011,    0.012012,    0.013013,    0.014014,    0.015015,    0.016016,    0.017017,    0.018018,    0.019019,     0.02002,    0.021021,    0.022022,    0.023023,\n",
       "          0.024024,    0.025025,    0.026026,    0.027027,    0.028028,    0.029029,     0.03003,    0.031031,    0.032032,    0.033033,    0.034034,    0.035035,    0.036036,    0.037037,    0.038038,    0.039039,     0.04004,    0.041041,    0.042042,    0.043043,    0.044044,    0.045045,    0.046046,    0.047047,\n",
       "          0.048048,    0.049049,     0.05005,    0.051051,    0.052052,    0.053053,    0.054054,    0.055055,    0.056056,    0.057057,    0.058058,    0.059059,     0.06006,    0.061061,    0.062062,    0.063063,    0.064064,    0.065065,    0.066066,    0.067067,    0.068068,    0.069069,     0.07007,    0.071071,\n",
       "          0.072072,    0.073073,    0.074074,    0.075075,    0.076076,    0.077077,    0.078078,    0.079079,     0.08008,    0.081081,    0.082082,    0.083083,    0.084084,    0.085085,    0.086086,    0.087087,    0.088088,    0.089089,     0.09009,    0.091091,    0.092092,    0.093093,    0.094094,    0.095095,\n",
       "          0.096096,    0.097097,    0.098098,    0.099099,      0.1001,      0.1011,      0.1021,      0.1031,      0.1041,     0.10511,     0.10611,     0.10711,     0.10811,     0.10911,     0.11011,     0.11111,     0.11211,     0.11311,     0.11411,     0.11512,     0.11612,     0.11712,     0.11812,     0.11912,\n",
       "           0.12012,     0.12112,     0.12212,     0.12312,     0.12412,     0.12513,     0.12613,     0.12713,     0.12813,     0.12913,     0.13013,     0.13113,     0.13213,     0.13313,     0.13413,     0.13514,     0.13614,     0.13714,     0.13814,     0.13914,     0.14014,     0.14114,     0.14214,     0.14314,\n",
       "           0.14414,     0.14515,     0.14615,     0.14715,     0.14815,     0.14915,     0.15015,     0.15115,     0.15215,     0.15315,     0.15415,     0.15516,     0.15616,     0.15716,     0.15816,     0.15916,     0.16016,     0.16116,     0.16216,     0.16316,     0.16416,     0.16517,     0.16617,     0.16717,\n",
       "           0.16817,     0.16917,     0.17017,     0.17117,     0.17217,     0.17317,     0.17417,     0.17518,     0.17618,     0.17718,     0.17818,     0.17918,     0.18018,     0.18118,     0.18218,     0.18318,     0.18418,     0.18519,     0.18619,     0.18719,     0.18819,     0.18919,     0.19019,     0.19119,\n",
       "           0.19219,     0.19319,     0.19419,      0.1952,      0.1962,      0.1972,      0.1982,      0.1992,      0.2002,      0.2012,      0.2022,      0.2032,      0.2042,     0.20521,     0.20621,     0.20721,     0.20821,     0.20921,     0.21021,     0.21121,     0.21221,     0.21321,     0.21421,     0.21522,\n",
       "           0.21622,     0.21722,     0.21822,     0.21922,     0.22022,     0.22122,     0.22222,     0.22322,     0.22422,     0.22523,     0.22623,     0.22723,     0.22823,     0.22923,     0.23023,     0.23123,     0.23223,     0.23323,     0.23423,     0.23524,     0.23624,     0.23724,     0.23824,     0.23924,\n",
       "           0.24024,     0.24124,     0.24224,     0.24324,     0.24424,     0.24525,     0.24625,     0.24725,     0.24825,     0.24925,     0.25025,     0.25125,     0.25225,     0.25325,     0.25425,     0.25526,     0.25626,     0.25726,     0.25826,     0.25926,     0.26026,     0.26126,     0.26226,     0.26326,\n",
       "           0.26426,     0.26527,     0.26627,     0.26727,     0.26827,     0.26927,     0.27027,     0.27127,     0.27227,     0.27327,     0.27427,     0.27528,     0.27628,     0.27728,     0.27828,     0.27928,     0.28028,     0.28128,     0.28228,     0.28328,     0.28428,     0.28529,     0.28629,     0.28729,\n",
       "           0.28829,     0.28929,     0.29029,     0.29129,     0.29229,     0.29329,     0.29429,      0.2953,      0.2963,      0.2973,      0.2983,      0.2993,      0.3003,      0.3013,      0.3023,      0.3033,      0.3043,     0.30531,     0.30631,     0.30731,     0.30831,     0.30931,     0.31031,     0.31131,\n",
       "           0.31231,     0.31331,     0.31431,     0.31532,     0.31632,     0.31732,     0.31832,     0.31932,     0.32032,     0.32132,     0.32232,     0.32332,     0.32432,     0.32533,     0.32633,     0.32733,     0.32833,     0.32933,     0.33033,     0.33133,     0.33233,     0.33333,     0.33433,     0.33534,\n",
       "           0.33634,     0.33734,     0.33834,     0.33934,     0.34034,     0.34134,     0.34234,     0.34334,     0.34434,     0.34535,     0.34635,     0.34735,     0.34835,     0.34935,     0.35035,     0.35135,     0.35235,     0.35335,     0.35435,     0.35536,     0.35636,     0.35736,     0.35836,     0.35936,\n",
       "           0.36036,     0.36136,     0.36236,     0.36336,     0.36436,     0.36537,     0.36637,     0.36737,     0.36837,     0.36937,     0.37037,     0.37137,     0.37237,     0.37337,     0.37437,     0.37538,     0.37638,     0.37738,     0.37838,     0.37938,     0.38038,     0.38138,     0.38238,     0.38338,\n",
       "           0.38438,     0.38539,     0.38639,     0.38739,     0.38839,     0.38939,     0.39039,     0.39139,     0.39239,     0.39339,     0.39439,      0.3954,      0.3964,      0.3974,      0.3984,      0.3994,      0.4004,      0.4014,      0.4024,      0.4034,      0.4044,     0.40541,     0.40641,     0.40741,\n",
       "           0.40841,     0.40941,     0.41041,     0.41141,     0.41241,     0.41341,     0.41441,     0.41542,     0.41642,     0.41742,     0.41842,     0.41942,     0.42042,     0.42142,     0.42242,     0.42342,     0.42442,     0.42543,     0.42643,     0.42743,     0.42843,     0.42943,     0.43043,     0.43143,\n",
       "           0.43243,     0.43343,     0.43443,     0.43544,     0.43644,     0.43744,     0.43844,     0.43944,     0.44044,     0.44144,     0.44244,     0.44344,     0.44444,     0.44545,     0.44645,     0.44745,     0.44845,     0.44945,     0.45045,     0.45145,     0.45245,     0.45345,     0.45445,     0.45546,\n",
       "           0.45646,     0.45746,     0.45846,     0.45946,     0.46046,     0.46146,     0.46246,     0.46346,     0.46446,     0.46547,     0.46647,     0.46747,     0.46847,     0.46947,     0.47047,     0.47147,     0.47247,     0.47347,     0.47447,     0.47548,     0.47648,     0.47748,     0.47848,     0.47948,\n",
       "           0.48048,     0.48148,     0.48248,     0.48348,     0.48448,     0.48549,     0.48649,     0.48749,     0.48849,     0.48949,     0.49049,     0.49149,     0.49249,     0.49349,     0.49449,      0.4955,      0.4965,      0.4975,      0.4985,      0.4995,      0.5005,      0.5015,      0.5025,      0.5035,\n",
       "            0.5045,     0.50551,     0.50651,     0.50751,     0.50851,     0.50951,     0.51051,     0.51151,     0.51251,     0.51351,     0.51451,     0.51552,     0.51652,     0.51752,     0.51852,     0.51952,     0.52052,     0.52152,     0.52252,     0.52352,     0.52452,     0.52553,     0.52653,     0.52753,\n",
       "           0.52853,     0.52953,     0.53053,     0.53153,     0.53253,     0.53353,     0.53453,     0.53554,     0.53654,     0.53754,     0.53854,     0.53954,     0.54054,     0.54154,     0.54254,     0.54354,     0.54454,     0.54555,     0.54655,     0.54755,     0.54855,     0.54955,     0.55055,     0.55155,\n",
       "           0.55255,     0.55355,     0.55455,     0.55556,     0.55656,     0.55756,     0.55856,     0.55956,     0.56056,     0.56156,     0.56256,     0.56356,     0.56456,     0.56557,     0.56657,     0.56757,     0.56857,     0.56957,     0.57057,     0.57157,     0.57257,     0.57357,     0.57457,     0.57558,\n",
       "           0.57658,     0.57758,     0.57858,     0.57958,     0.58058,     0.58158,     0.58258,     0.58358,     0.58458,     0.58559,     0.58659,     0.58759,     0.58859,     0.58959,     0.59059,     0.59159,     0.59259,     0.59359,     0.59459,      0.5956,      0.5966,      0.5976,      0.5986,      0.5996,\n",
       "            0.6006,      0.6016,      0.6026,      0.6036,      0.6046,     0.60561,     0.60661,     0.60761,     0.60861,     0.60961,     0.61061,     0.61161,     0.61261,     0.61361,     0.61461,     0.61562,     0.61662,     0.61762,     0.61862,     0.61962,     0.62062,     0.62162,     0.62262,     0.62362,\n",
       "           0.62462,     0.62563,     0.62663,     0.62763,     0.62863,     0.62963,     0.63063,     0.63163,     0.63263,     0.63363,     0.63463,     0.63564,     0.63664,     0.63764,     0.63864,     0.63964,     0.64064,     0.64164,     0.64264,     0.64364,     0.64464,     0.64565,     0.64665,     0.64765,\n",
       "           0.64865,     0.64965,     0.65065,     0.65165,     0.65265,     0.65365,     0.65465,     0.65566,     0.65666,     0.65766,     0.65866,     0.65966,     0.66066,     0.66166,     0.66266,     0.66366,     0.66466,     0.66567,     0.66667,     0.66767,     0.66867,     0.66967,     0.67067,     0.67167,\n",
       "           0.67267,     0.67367,     0.67467,     0.67568,     0.67668,     0.67768,     0.67868,     0.67968,     0.68068,     0.68168,     0.68268,     0.68368,     0.68468,     0.68569,     0.68669,     0.68769,     0.68869,     0.68969,     0.69069,     0.69169,     0.69269,     0.69369,     0.69469,      0.6957,\n",
       "            0.6967,      0.6977,      0.6987,      0.6997,      0.7007,      0.7017,      0.7027,      0.7037,      0.7047,     0.70571,     0.70671,     0.70771,     0.70871,     0.70971,     0.71071,     0.71171,     0.71271,     0.71371,     0.71471,     0.71572,     0.71672,     0.71772,     0.71872,     0.71972,\n",
       "           0.72072,     0.72172,     0.72272,     0.72372,     0.72472,     0.72573,     0.72673,     0.72773,     0.72873,     0.72973,     0.73073,     0.73173,     0.73273,     0.73373,     0.73473,     0.73574,     0.73674,     0.73774,     0.73874,     0.73974,     0.74074,     0.74174,     0.74274,     0.74374,\n",
       "           0.74474,     0.74575,     0.74675,     0.74775,     0.74875,     0.74975,     0.75075,     0.75175,     0.75275,     0.75375,     0.75475,     0.75576,     0.75676,     0.75776,     0.75876,     0.75976,     0.76076,     0.76176,     0.76276,     0.76376,     0.76476,     0.76577,     0.76677,     0.76777,\n",
       "           0.76877,     0.76977,     0.77077,     0.77177,     0.77277,     0.77377,     0.77477,     0.77578,     0.77678,     0.77778,     0.77878,     0.77978,     0.78078,     0.78178,     0.78278,     0.78378,     0.78478,     0.78579,     0.78679,     0.78779,     0.78879,     0.78979,     0.79079,     0.79179,\n",
       "           0.79279,     0.79379,     0.79479,      0.7958,      0.7968,      0.7978,      0.7988,      0.7998,      0.8008,      0.8018,      0.8028,      0.8038,      0.8048,     0.80581,     0.80681,     0.80781,     0.80881,     0.80981,     0.81081,     0.81181,     0.81281,     0.81381,     0.81481,     0.81582,\n",
       "           0.81682,     0.81782,     0.81882,     0.81982,     0.82082,     0.82182,     0.82282,     0.82382,     0.82482,     0.82583,     0.82683,     0.82783,     0.82883,     0.82983,     0.83083,     0.83183,     0.83283,     0.83383,     0.83483,     0.83584,     0.83684,     0.83784,     0.83884,     0.83984,\n",
       "           0.84084,     0.84184,     0.84284,     0.84384,     0.84484,     0.84585,     0.84685,     0.84785,     0.84885,     0.84985,     0.85085,     0.85185,     0.85285,     0.85385,     0.85485,     0.85586,     0.85686,     0.85786,     0.85886,     0.85986,     0.86086,     0.86186,     0.86286,     0.86386,\n",
       "           0.86486,     0.86587,     0.86687,     0.86787,     0.86887,     0.86987,     0.87087,     0.87187,     0.87287,     0.87387,     0.87487,     0.87588,     0.87688,     0.87788,     0.87888,     0.87988,     0.88088,     0.88188,     0.88288,     0.88388,     0.88488,     0.88589,     0.88689,     0.88789,\n",
       "           0.88889,     0.88989,     0.89089,     0.89189,     0.89289,     0.89389,     0.89489,      0.8959,      0.8969,      0.8979,      0.8989,      0.8999,      0.9009,      0.9019,      0.9029,      0.9039,      0.9049,     0.90591,     0.90691,     0.90791,     0.90891,     0.90991,     0.91091,     0.91191,\n",
       "           0.91291,     0.91391,     0.91491,     0.91592,     0.91692,     0.91792,     0.91892,     0.91992,     0.92092,     0.92192,     0.92292,     0.92392,     0.92492,     0.92593,     0.92693,     0.92793,     0.92893,     0.92993,     0.93093,     0.93193,     0.93293,     0.93393,     0.93493,     0.93594,\n",
       "           0.93694,     0.93794,     0.93894,     0.93994,     0.94094,     0.94194,     0.94294,     0.94394,     0.94494,     0.94595,     0.94695,     0.94795,     0.94895,     0.94995,     0.95095,     0.95195,     0.95295,     0.95395,     0.95495,     0.95596,     0.95696,     0.95796,     0.95896,     0.95996,\n",
       "           0.96096,     0.96196,     0.96296,     0.96396,     0.96496,     0.96597,     0.96697,     0.96797,     0.96897,     0.96997,     0.97097,     0.97197,     0.97297,     0.97397,     0.97497,     0.97598,     0.97698,     0.97798,     0.97898,     0.97998,     0.98098,     0.98198,     0.98298,     0.98398,\n",
       "           0.98498,     0.98599,     0.98699,     0.98799,     0.98899,     0.98999,     0.99099,     0.99199,     0.99299,     0.99399,     0.99499,       0.996,       0.997,       0.998,       0.999,           1]), array([[    0.99431,     0.99431,     0.99299, ...,           0,           0,           0],\n",
       "       [    0.99253,     0.99253,     0.98991, ...,           0,           0,           0],\n",
       "       [    0.92086,     0.92086,     0.89568, ...,           0,           0,           0],\n",
       "       ...,\n",
       "       [    0.99063,     0.99063,     0.98855, ...,           0,           0,           0],\n",
       "       [    0.99615,     0.99615,      0.9945, ...,           0,           0,           0],\n",
       "       [    0.92754,     0.92754,      0.8913, ...,           0,           0,           0]]), 'Confidence', 'Recall']]\n",
       "fitness: 0.5363896657994677\n",
       "keys: ['metrics/precision(B)', 'metrics/recall(B)', 'metrics/mAP50(B)', 'metrics/mAP50-95(B)']\n",
       "maps: array([    0.62895,     0.64777,     0.37941,     0.52557,     0.51302,     0.55008,     0.70629,     0.51302,     0.15309])\n",
       "names: {0: 'Rickshaw', 1: 'Bus', 2: 'Truck', 3: 'Bike', 4: 'Mini-truck', 5: 'People', 6: 'Car', 7: 'CNG', 8: 'Cycle'}\n",
       "nt_per_class: array([12129, 10310,   278,  3100,     0,  7688, 12732,     0,   138])\n",
       "nt_per_image: array([3886, 3874,  251, 2106,    0, 2930, 4270,    0,  131])\n",
       "results_dict: {'metrics/precision(B)': 0.6946811465727762, 'metrics/recall(B)': 0.6971816441642799, 'metrics/mAP50(B)': 0.7466897412076939, 'metrics/mAP50-95(B)': 0.5130229907541092, 'fitness': 0.5363896657994677}\n",
       "save_dir: PosixPath('/kaggle/working/base_yolov11/train')\n",
       "speed: {'preprocess': 0.14083781499285206, 'inference': 3.5555320454048327, 'loss': 0.0005853300923818413, 'postprocess': 1.2414279345378667}\n",
       "stats: {'tp': [], 'conf': [], 'pred_cls': [], 'target_cls': [], 'target_img': []}\n",
       "task: 'detect'"
      ]
     },
     "execution_count": 3,
     "metadata": {},
     "output_type": "execute_result"
    }
   ],
   "source": [
    "# ============================================================\n",
    "# 2. Train YOLOv11 baseline (outputs in custom folder)\n",
    "# ============================================================\n",
    "model = YOLO(\"yolo11s.pt\")  # baseline small version\n",
    "model.train(\n",
    "    data=str(DATA),\n",
    "    epochs=50,        # increase if resources allow\n",
    "    imgsz=640,\n",
    "    batch=16,\n",
    "    workers=2,\n",
    "    project=str(OUTPUT_FOLDER),  # <- save all outputs here\n",
    "    name=\"train\"                 # <- folder name inside project\n",
    ")\n"
   ]
  },
  {
   "cell_type": "markdown",
   "id": "e5460670",
   "metadata": {
    "papermill": {
     "duration": 4.959437,
     "end_time": "2025-08-24T09:51:36.615751",
     "exception": false,
     "start_time": "2025-08-24T09:51:31.656314",
     "status": "completed"
    },
    "tags": []
   },
   "source": [
    "**Evaluate**"
   ]
  },
  {
   "cell_type": "code",
   "execution_count": 4,
   "id": "334214e5",
   "metadata": {
    "execution": {
     "iopub.execute_input": "2025-08-24T09:51:46.572647Z",
     "iopub.status.busy": "2025-08-24T09:51:46.572321Z",
     "iopub.status.idle": "2025-08-24T09:52:18.483619Z",
     "shell.execute_reply": "2025-08-24T09:52:18.482581Z"
    },
    "papermill": {
     "duration": 40.962099,
     "end_time": "2025-08-24T09:52:22.559609",
     "exception": false,
     "start_time": "2025-08-24T09:51:41.597510",
     "status": "completed"
    },
    "tags": []
   },
   "outputs": [
    {
     "name": "stdout",
     "output_type": "stream",
     "text": [
      "Ultralytics 8.3.184 🚀 Python-3.11.13 torch-2.6.0+cu124 CUDA:0 (Tesla T4, 15095MiB)\n",
      "YOLO11s summary (fused): 100 layers, 9,416,283 parameters, 0 gradients, 21.3 GFLOPs\n",
      "\u001b[34m\u001b[1mval: \u001b[0mFast image access ✅ (ping: 0.0±0.0 ms, read: 1344.0±475.0 MB/s, size: 68.1 KB)\n"
     ]
    },
    {
     "name": "stderr",
     "output_type": "stream",
     "text": [
      "\u001b[34m\u001b[1mval: \u001b[0mScanning /kaggle/working/traffic_baseline/yolo_split/test/labels... 2369 images, 6 backgrounds, 0 corrupt: 100%|██████████| 2369/2369 [00:01<00:00, 1423.80it/s]"
     ]
    },
    {
     "name": "stdout",
     "output_type": "stream",
     "text": [
      "\u001b[34m\u001b[1mval: \u001b[0mNew cache created: /kaggle/working/traffic_baseline/yolo_split/test/labels.cache\n"
     ]
    },
    {
     "name": "stderr",
     "output_type": "stream",
     "text": [
      "\n",
      "                 Class     Images  Instances      Box(P          R      mAP50  mAP50-95): 100%|██████████| 149/149 [00:26<00:00,  5.58it/s]\n",
      "/usr/local/lib/python3.11/dist-packages/matplotlib/colors.py:721: RuntimeWarning: invalid value encountered in less\n",
      "  xa[xa < 0] = -1\n",
      "/usr/local/lib/python3.11/dist-packages/matplotlib/colors.py:721: RuntimeWarning: invalid value encountered in less\n",
      "  xa[xa < 0] = -1\n"
     ]
    },
    {
     "name": "stdout",
     "output_type": "stream",
     "text": [
      "                   all       2369      23544      0.657      0.726      0.751      0.519\n",
      "              Rickshaw       1947       6157      0.756      0.887       0.91      0.633\n",
      "                   Bus       1954       5346      0.766      0.877      0.895       0.66\n",
      "                 Truck        109        125       0.41      0.528      0.505      0.404\n",
      "                  Bike       1034       1589      0.731      0.815      0.849      0.514\n",
      "                People       1448       3878      0.723      0.828      0.862      0.548\n",
      "                   Car       2143       6369        0.8      0.912      0.937      0.711\n",
      "                 Cycle         77         80      0.409      0.237      0.301      0.161\n",
      "Speed: 0.3ms preprocess, 7.4ms inference, 0.0ms loss, 1.1ms postprocess per image\n",
      "Results saved to \u001b[1m/kaggle/working/base_yolov11/val\u001b[0m\n",
      "mAP@0.5     : 0.7513965381378961\n",
      "mAP@[.5:.95]: 0.518800372995226\n",
      "Precision   : 0.6565701860832126\n",
      "Recall      : 0.7262122094841097\n"
     ]
    }
   ],
   "source": [
    "# ============================================================\n",
    "# 3. Evaluate on test set + generate plots (outputs in same folder)\n",
    "# ============================================================\n",
    "metrics = model.val(\n",
    "    data=str(DATA),\n",
    "    split=\"test\",\n",
    "    plots=True,\n",
    "    project=str(OUTPUT_FOLDER),  # <- same output folder\n",
    "    name=\"val\"\n",
    ")\n",
    "\n",
    "print(\"mAP@0.5     :\", metrics.box.map50)\n",
    "print(\"mAP@[.5:.95]:\", metrics.box.map)\n",
    "print(\"Precision   :\", metrics.box.mp)\n",
    "print(\"Recall      :\", metrics.box.mr)"
   ]
  },
  {
   "cell_type": "code",
   "execution_count": 5,
   "id": "fbedc68f",
   "metadata": {
    "execution": {
     "iopub.execute_input": "2025-08-24T09:52:32.495953Z",
     "iopub.status.busy": "2025-08-24T09:52:32.495636Z",
     "iopub.status.idle": "2025-08-24T09:52:33.176557Z",
     "shell.execute_reply": "2025-08-24T09:52:33.175804Z"
    },
    "papermill": {
     "duration": 5.632657,
     "end_time": "2025-08-24T09:52:33.177718",
     "exception": false,
     "start_time": "2025-08-24T09:52:27.545061",
     "status": "completed"
    },
    "tags": []
   },
   "outputs": [
    {
     "data": {
      "image/png": "[encoded data removed]",
      "text/plain": [
       "<Figure size 800x600 with 1 Axes>"
      ]
     },
     "metadata": {},
     "output_type": "display_data"
    }
   ],
   "source": [
    "# ============================================================\n",
    "# 4. Visualize PR curve from custom folder\n",
    "# ============================================================\n",
    "pr_curve_file = list((OUTPUT_FOLDER/\"val\").glob(\"*PR_curve*.png\"))[0]\n",
    "img = mpimg.imread(pr_curve_file)\n",
    "plt.figure(figsize=(8,6))\n",
    "plt.imshow(img)\n",
    "plt.axis('off')\n",
    "plt.show()"
   ]
  },
  {
   "cell_type": "code",
   "execution_count": 6,
   "id": "ded3f70a",
   "metadata": {
    "execution": {
     "iopub.execute_input": "2025-08-24T09:52:43.176836Z",
     "iopub.status.busy": "2025-08-24T09:52:43.175943Z",
     "iopub.status.idle": "2025-08-24T09:52:43.755620Z",
     "shell.execute_reply": "2025-08-24T09:52:43.754864Z"
    },
    "papermill": {
     "duration": 5.587356,
     "end_time": "2025-08-24T09:52:43.756787",
     "exception": false,
     "start_time": "2025-08-24T09:52:38.169431",
     "status": "completed"
    },
    "tags": []
   },
   "outputs": [
    {
     "data": {
      "image/png": "[encoded data removed]",
      "text/plain": [
       "<Figure size 800x600 with 1 Axes>"
      ]
     },
     "metadata": {},
     "output_type": "display_data"
    }
   ],
   "source": [
    "# ============================================================\n",
    "# 5. Visualize PR curve from train folder\n",
    "# ============================================================\n",
    "box_pr_curve_file = list((OUTPUT_FOLDER/\"train\").glob(\"*BoxPR_curve*.png\"))[0]\n",
    "img = mpimg.imread(box_pr_curve_file)\n",
    "plt.figure(figsize=(8,6))\n",
    "plt.imshow(img)\n",
    "plt.axis('off')\n",
    "plt.show()"
   ]
  },
  {
   "cell_type": "code",
   "execution_count": 7,
   "id": "3aa20151",
   "metadata": {
    "execution": {
     "iopub.execute_input": "2025-08-24T09:52:53.826673Z",
     "iopub.status.busy": "2025-08-24T09:52:53.826387Z",
     "iopub.status.idle": "2025-08-24T09:53:23.071023Z",
     "shell.execute_reply": "2025-08-24T09:53:23.069959Z"
    },
    "papermill": {
     "duration": 34.26756,
     "end_time": "2025-08-24T09:53:23.072753",
     "exception": false,
     "start_time": "2025-08-24T09:52:48.805193",
     "status": "completed"
    },
    "tags": []
   },
   "outputs": [
    {
     "name": "stdout",
     "output_type": "stream",
     "text": [
      "WARNING ⚠️ \n",
      "inference results will accumulate in RAM unless `stream=True` is passed, causing potential out-of-memory\n",
      "errors for large sources or long-running streams and videos. See https://docs.ultralytics.com/modes/predict/ for help.\n",
      "\n",
      "Example:\n",
      "    results = model(source=..., stream=True)  # generator of Results objects\n",
      "    for r in results:\n",
      "        boxes = r.boxes  # Boxes object for bbox outputs\n",
      "        masks = r.masks  # Masks object for segment masks outputs\n",
      "        probs = r.probs  # Class probabilities for classification outputs\n",
      "\n",
      "FPS ≈ 20.293713347898557\n"
     ]
    }
   ],
   "source": [
    "# ============================================================\n",
    "# 6. Model speed / latency (FPS)\n",
    "# ============================================================\n",
    "results = model(str(SPLIT/\"test/images\"), device=0, imgsz=640, verbose=False)\n",
    "fps = 1000.0 / results[0].speed['inference']\n",
    "print(\"FPS ≈\", fps)\n",
    "\n"
   ]
  },
  {
   "cell_type": "code",
   "execution_count": 8,
   "id": "0019235d",
   "metadata": {
    "execution": {
     "iopub.execute_input": "2025-08-24T09:53:32.905576Z",
     "iopub.status.busy": "2025-08-24T09:53:32.905274Z",
     "iopub.status.idle": "2025-08-24T09:54:33.199938Z",
     "shell.execute_reply": "2025-08-24T09:54:33.199150Z"
    },
    "papermill": {
     "duration": 65.305279,
     "end_time": "2025-08-24T09:54:33.201117",
     "exception": false,
     "start_time": "2025-08-24T09:53:27.895838",
     "status": "completed"
    },
    "tags": []
   },
   "outputs": [
    {
     "name": "stdout",
     "output_type": "stream",
     "text": [
      "Ultralytics 8.3.184 🚀 Python-3.11.13 torch-2.6.0+cu124 CUDA:0 (Tesla T4, 15095MiB)\n",
      "YOLO11s summary (fused): 100 layers, 9,416,283 parameters, 0 gradients, 21.3 GFLOPs\n",
      "\u001b[34m\u001b[1mval: \u001b[0mFast image access ✅ (ping: 0.0±0.0 ms, read: 1540.9±397.3 MB/s, size: 69.1 KB)\n"
     ]
    },
    {
     "name": "stderr",
     "output_type": "stream",
     "text": [
      "\u001b[34m\u001b[1mval: \u001b[0mScanning /kaggle/working/traffic_baseline/yolo_split/test/labels.cache... 2369 images, 6 backgrounds, 0 corrupt: 100%|██████████| 2369/2369 [00:00<?, ?it/s]\n",
      "                 Class     Images  Instances      Box(P          R      mAP50  mAP50-95): 100%|██████████| 149/149 [00:26<00:00,  5.61it/s]\n",
      "/usr/local/lib/python3.11/dist-packages/matplotlib/colors.py:721: RuntimeWarning: invalid value encountered in less\n",
      "  xa[xa < 0] = -1\n",
      "/usr/local/lib/python3.11/dist-packages/matplotlib/colors.py:721: RuntimeWarning: invalid value encountered in less\n",
      "  xa[xa < 0] = -1\n"
     ]
    },
    {
     "name": "stdout",
     "output_type": "stream",
     "text": [
      "                   all       2369      23544      0.657      0.726      0.751      0.519\n",
      "              Rickshaw       1947       6157      0.756      0.887       0.91      0.633\n",
      "                   Bus       1954       5346      0.766      0.877      0.895       0.66\n",
      "                 Truck        109        125       0.41      0.528      0.505      0.404\n",
      "                  Bike       1034       1589      0.731      0.815      0.849      0.514\n",
      "                People       1448       3878      0.723      0.828      0.862      0.548\n",
      "                   Car       2143       6369        0.8      0.912      0.937      0.711\n",
      "                 Cycle         77         80      0.409      0.237      0.301      0.161\n",
      "Speed: 0.2ms preprocess, 7.1ms inference, 0.0ms loss, 1.3ms postprocess per image\n",
      "Results saved to \u001b[1m/kaggle/working/base_yolov11/val2\u001b[0m\n",
      "mAP@0.5     : 0.7513965381378961\n",
      "mAP@[.5:.95]: 0.518800372995226\n",
      "Precision   : 0.6565701860832126\n",
      "Recall      : 0.7262122094841097\n",
      "WARNING ⚠️ \n",
      "inference results will accumulate in RAM unless `stream=True` is passed, causing potential out-of-memory\n",
      "errors for large sources or long-running streams and videos. See https://docs.ultralytics.com/modes/predict/ for help.\n",
      "\n",
      "Example:\n",
      "    results = model(source=..., stream=True)  # generator of Results objects\n",
      "    for r in results:\n",
      "        boxes = r.boxes  # Boxes object for bbox outputs\n",
      "        masks = r.masks  # Masks object for segment masks outputs\n",
      "        probs = r.probs  # Class probabilities for classification outputs\n",
      "\n",
      "FPS ≈ 76.30975777920817\n",
      "layer                                    name                type  gradient  parameters               shape        mu     sigma\n",
      "    0                     model.0.conv.weight              Conv2d     False         864       [32, 3, 3, 3]   -0.0814      11.7        float32\n",
      "    0                       model.0.conv.bias              Conv2d     False          32                [32]       1.3      4.01        float32\n",
      "    1                             model.0.act                SiLU     False           0                  []         -         -              -\n",
      "    2                     model.1.conv.weight              Conv2d     False       18432      [64, 32, 3, 3]  -0.00196    0.0611        float32\n",
      "    2                       model.1.conv.bias              Conv2d     False          64                [64]      1.83      1.72        float32\n",
      "    3                 model.2.cv1.conv.weight              Conv2d     False        4096      [64, 64, 1, 1]  -0.00998    0.0786        float32\n",
      "    3                   model.2.cv1.conv.bias              Conv2d     False          64                [64]       1.5      1.01        float32\n",
      "    4                 model.2.cv2.conv.weight              Conv2d     False       12288     [128, 96, 1, 1]  -0.00942     0.107        float32\n",
      "    4                   model.2.cv2.conv.bias              Conv2d     False         128               [128]     0.396      1.97        float32\n",
      "    5             model.2.m.0.cv1.conv.weight              Conv2d     False        4608      [16, 32, 3, 3]  -0.00239    0.0603        float32\n",
      "    5               model.2.m.0.cv1.conv.bias              Conv2d     False          16                [16]      2.18      1.66        float32\n",
      "    6             model.2.m.0.cv2.conv.weight              Conv2d     False        4608      [32, 16, 3, 3]  -0.00485     0.158        float32\n",
      "    6               model.2.m.0.cv2.conv.bias              Conv2d     False          32                [32]      1.82      3.28        float32\n",
      "    7                     model.3.conv.weight              Conv2d     False      147456    [128, 128, 3, 3]  -0.00109    0.0204        float32\n",
      "    7                       model.3.conv.bias              Conv2d     False         128               [128]     0.141     0.839        float32\n",
      "    8                 model.4.cv1.conv.weight              Conv2d     False       16384    [128, 128, 1, 1]   -0.0113     0.127        float32\n",
      "    8                   model.4.cv1.conv.bias              Conv2d     False         128               [128]     0.516      1.28        float32\n",
      "    9                 model.4.cv2.conv.weight              Conv2d     False       49152    [256, 192, 1, 1]  -0.00911    0.0877        float32\n",
      "    9                   model.4.cv2.conv.bias              Conv2d     False         256               [256]    -0.397      1.22        float32\n",
      "   10             model.4.m.0.cv1.conv.weight              Conv2d     False       18432      [32, 64, 3, 3]  -0.00466    0.0549        float32\n",
      "   10               model.4.m.0.cv1.conv.bias              Conv2d     False          32                [32]     0.984     0.875        float32\n",
      "   11             model.4.m.0.cv2.conv.weight              Conv2d     False       18432      [64, 32, 3, 3]  -0.00356    0.0932        float32\n",
      "   11               model.4.m.0.cv2.conv.bias              Conv2d     False          64                [64]     0.601      1.15        float32\n",
      "   12                     model.5.conv.weight              Conv2d     False      589824    [256, 256, 3, 3]  -0.00089    0.0284        float32\n",
      "   12                       model.5.conv.bias              Conv2d     False         256               [256]    -0.755      1.03        float32\n",
      "   13                 model.6.cv1.conv.weight              Conv2d     False       65536    [256, 256, 1, 1]   -0.0172     0.121        float32\n",
      "   13                   model.6.cv1.conv.bias              Conv2d     False         256               [256]    -0.421     0.778        float32\n",
      "   14                 model.6.cv2.conv.weight              Conv2d     False       98304    [256, 384, 1, 1]  -0.00668    0.0655        float32\n",
      "   14                   model.6.cv2.conv.bias              Conv2d     False         256               [256]    -0.685     0.596        float32\n",
      "   15             model.6.m.0.cv1.conv.weight              Conv2d     False        8192     [64, 128, 1, 1]  -0.00429    0.0834        float32\n",
      "   15               model.6.m.0.cv1.conv.bias              Conv2d     False          64                [64]     0.224     0.575        float32\n",
      "   16             model.6.m.0.cv2.conv.weight              Conv2d     False        8192     [64, 128, 1, 1]   -0.0153     0.174        float32\n",
      "   16               model.6.m.0.cv2.conv.bias              Conv2d     False          64                [64]    -0.436     0.481        float32\n",
      "   17             model.6.m.0.cv3.conv.weight              Conv2d     False       16384    [128, 128, 1, 1]   -0.0102     0.083        float32\n",
      "   17               model.6.m.0.cv3.conv.bias              Conv2d     False         128               [128]     0.563      1.07        float32\n",
      "   18         model.6.m.0.m.0.cv1.conv.weight              Conv2d     False       36864      [64, 64, 3, 3]  -0.00664    0.0576        float32\n",
      "   18           model.6.m.0.m.0.cv1.conv.bias              Conv2d     False          64                [64]    0.0791     0.798        float32\n",
      "   19         model.6.m.0.m.0.cv2.conv.weight              Conv2d     False       36864      [64, 64, 3, 3]  -0.00467    0.0656        float32\n",
      "   19           model.6.m.0.m.0.cv2.conv.bias              Conv2d     False          64                [64]    -0.421     0.616        float32\n",
      "   20         model.6.m.0.m.1.cv1.conv.weight              Conv2d     False       36864      [64, 64, 3, 3]  -0.00389    0.0425        float32\n",
      "   20           model.6.m.0.m.1.cv1.conv.bias              Conv2d     False          64                [64]   -0.0482     0.552        float32\n",
      "   21         model.6.m.0.m.1.cv2.conv.weight              Conv2d     False       36864      [64, 64, 3, 3]  -0.00502     0.094        float32\n",
      "   21           model.6.m.0.m.1.cv2.conv.bias              Conv2d     False          64                [64]     0.374     0.818        float32\n",
      "   22                     model.7.conv.weight              Conv2d     False 1.17965e+06    [512, 256, 3, 3]  -0.00139    0.0232        float32\n",
      "   22                       model.7.conv.bias              Conv2d     False         512               [512]    -0.846     0.562        float32\n",
      "   23                 model.8.cv1.conv.weight              Conv2d     False      262144    [512, 512, 1, 1]   -0.0101    0.0709        float32\n",
      "   23                   model.8.cv1.conv.bias              Conv2d     False         512               [512]    -0.853     0.501        float32\n",
      "   24                 model.8.cv2.conv.weight              Conv2d     False      393216    [512, 768, 1, 1]  -0.00515    0.0361        float32\n",
      "   24                   model.8.cv2.conv.bias              Conv2d     False         512               [512]     -0.37     0.404        float32\n",
      "   25             model.8.m.0.cv1.conv.weight              Conv2d     False       32768    [128, 256, 1, 1]   -0.0109    0.0705        float32\n",
      "   25               model.8.m.0.cv1.conv.bias              Conv2d     False         128               [128]    -0.302     0.571        float32\n",
      "   26             model.8.m.0.cv2.conv.weight              Conv2d     False       32768    [128, 256, 1, 1]   -0.0105    0.0941        float32\n",
      "   26               model.8.m.0.cv2.conv.bias              Conv2d     False         128               [128]    -0.337     0.228        float32\n",
      "   27             model.8.m.0.cv3.conv.weight              Conv2d     False       65536    [256, 256, 1, 1]  -0.00484    0.0414        float32\n",
      "   27               model.8.m.0.cv3.conv.bias              Conv2d     False         256               [256]      0.41     0.693        float32\n",
      "   28         model.8.m.0.m.0.cv1.conv.weight              Conv2d     False      147456    [128, 128, 3, 3]  -0.00315     0.033        float32\n",
      "   28           model.8.m.0.m.0.cv1.conv.bias              Conv2d     False         128               [128]  -0.00508     0.771        float32\n",
      "   29         model.8.m.0.m.0.cv2.conv.weight              Conv2d     False      147456    [128, 128, 3, 3]  -0.00313    0.0392        float32\n",
      "   29           model.8.m.0.m.0.cv2.conv.bias              Conv2d     False         128               [128]    -0.466     0.562        float32\n",
      "   30         model.8.m.0.m.1.cv1.conv.weight              Conv2d     False      147456    [128, 128, 3, 3]  -0.00232    0.0212        float32\n",
      "   30           model.8.m.0.m.1.cv1.conv.bias              Conv2d     False         128               [128]   -0.0302     0.795        float32\n",
      "   31         model.8.m.0.m.1.cv2.conv.weight              Conv2d     False      147456    [128, 128, 3, 3]  -0.00234    0.0449        float32\n",
      "   31           model.8.m.0.m.1.cv2.conv.bias              Conv2d     False         128               [128]     0.127     0.686        float32\n",
      "   32                 model.9.cv1.conv.weight              Conv2d     False      131072    [256, 512, 1, 1]  -0.00707     0.032        float32\n",
      "   32                   model.9.cv1.conv.bias              Conv2d     False         256               [256]      1.61     0.417        float32\n",
      "   33                 model.9.cv2.conv.weight              Conv2d     False      524288   [512, 1024, 1, 1]  0.000127    0.0152        float32\n",
      "   33                   model.9.cv2.conv.bias              Conv2d     False         512               [512]     -1.15      2.06        float32\n",
      "   34                               model.9.m           MaxPool2d     False           0                  []         -         -              -\n",
      "   35                model.10.cv1.conv.weight              Conv2d     False      262144    [512, 512, 1, 1]   -0.0197     0.167        float32\n",
      "   35                  model.10.cv1.conv.bias              Conv2d     False         512               [512]      -1.8      1.18        float32\n",
      "   36                model.10.cv2.conv.weight              Conv2d     False      262144    [512, 512, 1, 1]  -0.00318    0.0325        float32\n",
      "   36                  model.10.cv2.conv.bias              Conv2d     False         512               [512]    -0.984     0.506        float32\n",
      "   37       model.10.m.0.attn.qkv.conv.weight              Conv2d     False      131072    [512, 256, 1, 1] -5.71e-05    0.0611        float32\n",
      "   37         model.10.m.0.attn.qkv.conv.bias              Conv2d     False         512               [512]   0.00407     0.789        float32\n",
      "   38               model.10.m.0.attn.qkv.act            Identity     False           0                  []         -         -              -\n",
      "   39      model.10.m.0.attn.proj.conv.weight              Conv2d     False       65536    [256, 256, 1, 1] -0.000237    0.0353        float32\n",
      "   39        model.10.m.0.attn.proj.conv.bias              Conv2d     False         256               [256]    0.0257     0.155        float32\n",
      "   40              model.10.m.0.attn.proj.act            Identity     False           0                  []         -         -              -\n",
      "   41        model.10.m.0.attn.pe.conv.weight              Conv2d     False        2304      [256, 1, 3, 3]   -0.0721     0.302        float32\n",
      "   41          model.10.m.0.attn.pe.conv.bias              Conv2d     False         256               [256]    0.0142     0.224        float32\n",
      "   42                model.10.m.0.attn.pe.act            Identity     False           0                  []         -         -              -\n",
      "   43          model.10.m.0.ffn.0.conv.weight              Conv2d     False      131072    [512, 256, 1, 1] -0.000821    0.0465        float32\n",
      "   43            model.10.m.0.ffn.0.conv.bias              Conv2d     False         512               [512]     -1.02     0.324        float32\n",
      "   44          model.10.m.0.ffn.1.conv.weight              Conv2d     False      131072    [256, 512, 1, 1]  0.000295    0.0223        float32\n",
      "   44            model.10.m.0.ffn.1.conv.bias              Conv2d     False         256               [256]    0.0137    0.0461        float32\n",
      "   45                  model.10.m.0.ffn.1.act            Identity     False           0                  []         -         -              -\n",
      "   46                                model.11            Upsample     False           0                  []         -         -              -\n",
      "   47                                model.12              Concat     False           0                  []         -         -              -\n",
      "   48                model.13.cv1.conv.weight              Conv2d     False      196608    [256, 768, 1, 1]  -0.00506    0.0686        float32\n",
      "   48                  model.13.cv1.conv.bias              Conv2d     False         256               [256]     -1.11     0.865        float32\n",
      "   49                model.13.cv2.conv.weight              Conv2d     False       98304    [256, 384, 1, 1]  -0.00831    0.0637        float32\n",
      "   49                  model.13.cv2.conv.bias              Conv2d     False         256               [256]    -0.687      0.66        float32\n",
      "   50            model.13.m.0.cv1.conv.weight              Conv2d     False       73728     [64, 128, 3, 3]  -0.00604    0.0759        float32\n",
      "   50              model.13.m.0.cv1.conv.bias              Conv2d     False          64                [64]    -0.478      1.01        float32\n",
      "   51            model.13.m.0.cv2.conv.weight              Conv2d     False       73728     [128, 64, 3, 3]  -0.00632    0.0644        float32\n",
      "   51              model.13.m.0.cv2.conv.bias              Conv2d     False         128               [128]    -0.112     0.757        float32\n",
      "   52                                model.14            Upsample     False           0                  []         -         -              -\n",
      "   53                                model.15              Concat     False           0                  []         -         -              -\n",
      "   54                model.16.cv1.conv.weight              Conv2d     False       65536    [128, 512, 1, 1]  -0.00532     0.069        float32\n",
      "   54                  model.16.cv1.conv.bias              Conv2d     False         128               [128]    -0.523      1.12        float32\n",
      "   55                model.16.cv2.conv.weight              Conv2d     False       24576    [128, 192, 1, 1]  -0.00942     0.103        float32\n",
      "   55                  model.16.cv2.conv.bias              Conv2d     False         128               [128]    -0.363     0.796        float32\n",
      "   56            model.16.m.0.cv1.conv.weight              Conv2d     False       18432      [32, 64, 3, 3]   -0.0122     0.115        float32\n",
      "   56              model.16.m.0.cv1.conv.bias              Conv2d     False          32                [32]   0.00788      1.37        float32\n",
      "   57            model.16.m.0.cv2.conv.weight              Conv2d     False       18432      [64, 32, 3, 3]  -0.00779    0.0976        float32\n",
      "   57              model.16.m.0.cv2.conv.bias              Conv2d     False          64                [64]    -0.211      1.07        float32\n",
      "   58                    model.17.conv.weight              Conv2d     False      147456    [128, 128, 3, 3]  -0.00215    0.0458        float32\n",
      "   58                      model.17.conv.bias              Conv2d     False         128               [128]     -0.41     0.873        float32\n",
      "   59                                model.18              Concat     False           0                  []         -         -              -\n",
      "   60                model.19.cv1.conv.weight              Conv2d     False       98304    [256, 384, 1, 1]  -0.00732    0.0874        float32\n",
      "   60                  model.19.cv1.conv.bias              Conv2d     False         256               [256]    -0.669     0.679        float32\n",
      "   61                model.19.cv2.conv.weight              Conv2d     False       98304    [256, 384, 1, 1]  -0.00551    0.0559        float32\n",
      "   61                  model.19.cv2.conv.bias              Conv2d     False         256               [256]    -0.318     0.524        float32\n",
      "   62            model.19.m.0.cv1.conv.weight              Conv2d     False       73728     [64, 128, 3, 3]   -0.0049    0.0505        float32\n",
      "   62              model.19.m.0.cv1.conv.bias              Conv2d     False          64                [64]    -0.802     0.918        float32\n",
      "   63            model.19.m.0.cv2.conv.weight              Conv2d     False       73728     [128, 64, 3, 3]    -0.008     0.101        float32\n",
      "   63              model.19.m.0.cv2.conv.bias              Conv2d     False         128               [128]    -0.679      1.26        float32\n",
      "   64                    model.20.conv.weight              Conv2d     False      589824    [256, 256, 3, 3]   -0.0011    0.0172        float32\n",
      "   64                      model.20.conv.bias              Conv2d     False         256               [256]    -0.415     0.321        float32\n",
      "   65                                model.21              Concat     False           0                  []         -         -              -\n",
      "   66                model.22.cv1.conv.weight              Conv2d     False      393216    [512, 768, 1, 1]  -0.00541    0.0649        float32\n",
      "   66                  model.22.cv1.conv.bias              Conv2d     False         512               [512]    -0.803      0.52        float32\n",
      "   67                model.22.cv2.conv.weight              Conv2d     False      393216    [512, 768, 1, 1]  -0.00263    0.0334        float32\n",
      "   67                  model.22.cv2.conv.bias              Conv2d     False         512               [512]     -0.15      0.33        float32\n",
      "   68            model.22.m.0.cv1.conv.weight              Conv2d     False       32768    [128, 256, 1, 1]  -0.00508    0.0377        float32\n",
      "   68              model.22.m.0.cv1.conv.bias              Conv2d     False         128               [128]    -0.298     0.445        float32\n",
      "   69            model.22.m.0.cv2.conv.weight              Conv2d     False       32768    [128, 256, 1, 1]   -0.0076    0.0674        float32\n",
      "   69              model.22.m.0.cv2.conv.bias              Conv2d     False         128               [128]    -0.138     0.147        float32\n",
      "   70            model.22.m.0.cv3.conv.weight              Conv2d     False       65536    [256, 256, 1, 1]  -0.00788    0.0566        float32\n",
      "   70              model.22.m.0.cv3.conv.bias              Conv2d     False         256               [256]     0.337      0.45        float32\n",
      "   71        model.22.m.0.m.0.cv1.conv.weight              Conv2d     False      147456    [128, 128, 3, 3]  -0.00496    0.0656        float32\n",
      "   71          model.22.m.0.m.0.cv1.conv.bias              Conv2d     False         128               [128]    -0.584      1.07        float32\n",
      "   72        model.22.m.0.m.0.cv2.conv.weight              Conv2d     False      147456    [128, 128, 3, 3]  -0.00386    0.0361        float32\n",
      "   72          model.22.m.0.m.0.cv2.conv.bias              Conv2d     False         128               [128]    -0.732      0.49        float32\n",
      "   73        model.22.m.0.m.1.cv1.conv.weight              Conv2d     False      147456    [128, 128, 3, 3]  -0.00369    0.0248        float32\n",
      "   73          model.22.m.0.m.1.cv1.conv.bias              Conv2d     False         128               [128]    -0.687     0.497        float32\n",
      "   74        model.22.m.0.m.1.cv2.conv.weight              Conv2d     False      147456    [128, 128, 3, 3]  -0.00362    0.0502        float32\n",
      "   74          model.22.m.0.m.1.cv2.conv.bias              Conv2d     False         128               [128]    -0.514     0.454        float32\n",
      "   75            model.23.cv2.0.0.conv.weight              Conv2d     False       73728     [64, 128, 3, 3]  -0.00372    0.0529        float32\n",
      "   75              model.23.cv2.0.0.conv.bias              Conv2d     False          64                [64]    0.0714      1.19        float32\n",
      "   76            model.23.cv2.0.1.conv.weight              Conv2d     False       36864      [64, 64, 3, 3]  -0.00845    0.0674        float32\n",
      "   76              model.23.cv2.0.1.conv.bias              Conv2d     False          64                [64]      1.32     0.851        float32\n",
      "   77                 model.23.cv2.0.2.weight              Conv2d     False        4096      [64, 64, 1, 1] -9.97e-06     0.118        float32\n",
      "   77                   model.23.cv2.0.2.bias              Conv2d     False          64                [64]     0.998     0.958        float32\n",
      "   78            model.23.cv2.1.0.conv.weight              Conv2d     False      147456     [64, 256, 3, 3] -0.000881    0.0199        float32\n",
      "   78              model.23.cv2.1.0.conv.bias              Conv2d     False          64                [64]     -0.14     0.858        float32\n",
      "   79            model.23.cv2.1.1.conv.weight              Conv2d     False       36864      [64, 64, 3, 3]  -0.00601    0.0556        float32\n",
      "   79              model.23.cv2.1.1.conv.bias              Conv2d     False          64                [64]      1.42     0.927        float32\n",
      "   80                 model.23.cv2.1.2.weight              Conv2d     False        4096      [64, 64, 1, 1] -6.42e-06     0.118        float32\n",
      "   80                   model.23.cv2.1.2.bias              Conv2d     False          64                [64]     0.999      1.05        float32\n",
      "   81            model.23.cv2.2.0.conv.weight              Conv2d     False      294912     [64, 512, 3, 3] -0.000134   0.00772        float32\n",
      "   81              model.23.cv2.2.0.conv.bias              Conv2d     False          64                [64]   -0.0143     0.453        float32\n",
      "   82            model.23.cv2.2.1.conv.weight              Conv2d     False       36864      [64, 64, 3, 3]  -0.00539     0.062        float32\n",
      "   82              model.23.cv2.2.1.conv.bias              Conv2d     False          64                [64]      1.57      0.64        float32\n",
      "   83                 model.23.cv2.2.2.weight              Conv2d     False        4096      [64, 64, 1, 1]  1.83e-06    0.0642        float32\n",
      "   83                   model.23.cv2.2.2.bias              Conv2d     False          64                [64]     0.998     0.733        float32\n",
      "   84          model.23.cv3.0.0.0.conv.weight              Conv2d     False        1152      [128, 1, 3, 3]     0.161     0.934        float32\n",
      "   84            model.23.cv3.0.0.0.conv.bias              Conv2d     False         128               [128]      1.17      1.03        float32\n",
      "   85          model.23.cv3.0.0.1.conv.weight              Conv2d     False       16384    [128, 128, 1, 1]  -0.00594    0.0949        float32\n",
      "   85            model.23.cv3.0.0.1.conv.bias              Conv2d     False         128               [128]     0.403      1.59        float32\n",
      "   86          model.23.cv3.0.1.0.conv.weight              Conv2d     False        1152      [128, 1, 3, 3]   -0.0214     0.848        float32\n",
      "   86            model.23.cv3.0.1.0.conv.bias              Conv2d     False         128               [128]     0.496     0.924        float32\n",
      "   87          model.23.cv3.0.1.1.conv.weight              Conv2d     False       16384    [128, 128, 1, 1]   -0.0205     0.246        float32\n",
      "   87            model.23.cv3.0.1.1.conv.bias              Conv2d     False         128               [128]      1.89      2.41        float32\n",
      "   88                 model.23.cv3.0.2.weight              Conv2d     False        1152      [9, 128, 1, 1]   -0.0441    0.0995        float32\n",
      "   88                   model.23.cv3.0.2.bias              Conv2d     False           9                 [9]     -9.28     0.132        float32\n",
      "   89          model.23.cv3.1.0.0.conv.weight              Conv2d     False        2304      [256, 1, 3, 3]     0.073     0.648        float32\n",
      "   89            model.23.cv3.1.0.0.conv.bias              Conv2d     False         256               [256]     0.461     0.719        float32\n",
      "   90          model.23.cv3.1.0.1.conv.weight              Conv2d     False       32768    [128, 256, 1, 1]  -0.00283    0.0598        float32\n",
      "   90            model.23.cv3.1.0.1.conv.bias              Conv2d     False         128               [128]      0.27       0.9        float32\n",
      "   91          model.23.cv3.1.1.0.conv.weight              Conv2d     False        1152      [128, 1, 3, 3]   -0.0385     0.637        float32\n",
      "   91            model.23.cv3.1.1.0.conv.bias              Conv2d     False         128               [128]     0.708     0.878        float32\n",
      "   92          model.23.cv3.1.1.1.conv.weight              Conv2d     False       16384    [128, 128, 1, 1]   -0.0202      0.21        float32\n",
      "   92            model.23.cv3.1.1.1.conv.bias              Conv2d     False         128               [128]      1.98      1.54        float32\n",
      "   93                 model.23.cv3.1.2.weight              Conv2d     False        1152      [9, 128, 1, 1]   -0.0401    0.0845        float32\n",
      "   93                   model.23.cv3.1.2.bias              Conv2d     False           9                 [9]     -7.92     0.121        float32\n",
      "   94          model.23.cv3.2.0.0.conv.weight              Conv2d     False        4608      [512, 1, 3, 3]    0.0384     0.445        float32\n",
      "   94            model.23.cv3.2.0.0.conv.bias              Conv2d     False         512               [512]     0.101     0.283        float32\n",
      "   95          model.23.cv3.2.0.1.conv.weight              Conv2d     False       65536    [128, 512, 1, 1]  -0.00169    0.0472        float32\n",
      "   95            model.23.cv3.2.0.1.conv.bias              Conv2d     False         128               [128]     0.164      0.63        float32\n",
      "   96          model.23.cv3.2.1.0.conv.weight              Conv2d     False        1152      [128, 1, 3, 3]   -0.0355     0.443        float32\n",
      "   96            model.23.cv3.2.1.0.conv.bias              Conv2d     False         128               [128]     0.516     0.687        float32\n",
      "   97          model.23.cv3.2.1.1.conv.weight              Conv2d     False       16384    [128, 128, 1, 1]   -0.0177     0.216        float32\n",
      "   97            model.23.cv3.2.1.1.conv.bias              Conv2d     False         128               [128]      1.59      1.15        float32\n",
      "   98                 model.23.cv3.2.2.weight              Conv2d     False        1152      [9, 128, 1, 1]   -0.0317    0.0501        float32\n",
      "   98                   model.23.cv3.2.2.bias              Conv2d     False           9                 [9]     -6.59     0.046        float32\n",
      "   99                model.23.dfl.conv.weight              Conv2d     False          16       [1, 16, 1, 1]       7.5      4.76        float32\n",
      "YOLO11s summary (fused): 100 layers, 9,416,283 parameters, 0 gradients, 21.3 GFLOPs\n"
     ]
    },
    {
     "data": {
      "text/plain": [
       "(100, 9416283, 0, 21.3191168)"
      ]
     },
     "execution_count": 8,
     "metadata": {},
     "output_type": "execute_result"
    }
   ],
   "source": [
    "#best model\n",
    "\n",
    "from ultralytics import YOLO\n",
    "import matplotlib.pyplot as plt\n",
    "import matplotlib.image as mpimg\n",
    "from pathlib import Path\n",
    "\n",
    "# Path to your trained model\n",
    "best_model_path = Path(\"/kaggle/working/base_yolov11/train/weights/best.pt\")\n",
    "\n",
    "# Load the trained YOLOv11 model\n",
    "model = YOLO(str(best_model_path))\n",
    "\n",
    "# ============================================================\n",
    "# Evaluate on test set\n",
    "# ============================================================\n",
    "DATA = \"/kaggle/working/traffic_baseline/data_traffic.yaml\"\n",
    "\n",
    "metrics = model.val(\n",
    "    data=DATA,\n",
    "    split=\"test\",\n",
    "    plots=True,           # generates PR curve, confusion matrix, etc.\n",
    "    project=\"/kaggle/working/base_yolov11\",\n",
    "    name=\"val\"\n",
    ")\n",
    "\n",
    "print(\"mAP@0.5     :\", metrics.box.map50)\n",
    "print(\"mAP@[.5:.95]:\", metrics.box.map)\n",
    "print(\"Precision   :\", metrics.box.mp)\n",
    "print(\"Recall      :\", metrics.box.mr)\n",
    "\n",
    "\n",
    "# ============================================================\n",
    "# 3. Inference on test images + FPS\n",
    "# ============================================================\n",
    "results = model(\"/kaggle/working/traffic_baseline/yolo_split/test/images\", device=0, imgsz=640, verbose=False)\n",
    "fps = 1000.0 / results[0].speed['inference']\n",
    "print(\"FPS ≈\", fps)\n",
    "\n",
    "# ============================================================\n",
    "# Model complexity (params / GMACs)\n",
    "# ============================================================\n",
    "model.info(detailed=True)\n"
   ]
  },
  {
   "cell_type": "code",
   "execution_count": null,
   "id": "467f0ab3",
   "metadata": {
    "papermill": {
     "duration": 4.962336,
     "end_time": "2025-08-24T09:54:43.004376",
     "exception": false,
     "start_time": "2025-08-24T09:54:38.042040",
     "status": "completed"
    },
    "tags": []
   },
   "outputs": [],
   "source": []
  },
  {
   "cell_type": "code",
   "execution_count": null,
   "id": "80959748",
   "metadata": {
    "papermill": {
     "duration": 4.819958,
     "end_time": "2025-08-24T09:54:52.912605",
     "exception": false,
     "start_time": "2025-08-24T09:54:48.092647",
     "status": "completed"
    },
    "tags": []
   },
   "outputs": [],
   "source": []
  }
 ],
 "metadata": {
  "kaggle": {
   "accelerator": "nvidiaTeslaT4",
   "dataSources": [
    {
     "datasetId": 8107179,
     "sourceId": 12820360,
     "sourceType": "datasetVersion"
    }
   ],
   "dockerImageVersionId": 31090,
   "isGpuEnabled": true,
   "isInternetEnabled": true,
   "language": "python",
   "sourceType": "notebook"
  },
  "kernelspec": {
   "display_name": "Python 3",
   "language": "python",
   "name": "python3"
  },
  "language_info": {
   "codemirror_mode": {
    "name": "ipython",
    "version": 3
   },
   "file_extension": ".py",
   "mimetype": "text/x-python",
   "name": "python",
   "nbconvert_exporter": "python",
   "pygments_lexer": "ipython3",
   "version": "3.11.13"
  },
  "papermill": {
   "default_parameters": {},
   "duration": 17340.599799,
   "end_time": "2025-08-24T09:55:01.506161",
   "environment_variables": {},
   "exception": null,
   "input_path": "__notebook__.ipynb",
   "output_path": "__notebook__.ipynb",
   "parameters": {},
   "start_time": "2025-08-24T05:06:00.906362",
   "version": "2.6.0"
  }
 },
 "nbformat": 4,
 "nbformat_minor": 5
}
