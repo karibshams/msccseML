{
 "cells": [
  {
   "cell_type": "code",
   "execution_count": 1,
   "id": "fdf5814b",
   "metadata": {
    "_cell_guid": "b1076dfc-b9ad-4769-8c92-a6c4dae69d19",
    "_uuid": "8f2839f25d086af736a60e9eeb907d3b93b6e0e5",
    "execution": {
     "iopub.execute_input": "2025-08-24T17:44:28.838130Z",
     "iopub.status.busy": "2025-08-24T17:44:28.837599Z",
     "iopub.status.idle": "2025-08-24T17:44:29.061007Z",
     "shell.execute_reply": "2025-08-24T17:44:29.060300Z"
    },
    "papermill": {
     "duration": 0.228015,
     "end_time": "2025-08-24T17:44:29.062247",
     "exception": false,
     "start_time": "2025-08-24T17:44:28.834232",
     "status": "completed"
    },
    "tags": []
   },
   "outputs": [
    {
     "name": "stdout",
     "output_type": "stream",
     "text": [
      "Sun Aug 24 17:44:28 2025       \r\n",
      "+-----------------------------------------------------------------------------------------+\r\n",
      "| NVIDIA-SMI 560.35.03              Driver Version: 560.35.03      CUDA Version: 12.6     |\r\n",
      "|-----------------------------------------+------------------------+----------------------+\r\n",
      "| GPU  Name                 Persistence-M | Bus-Id          Disp.A | Volatile Uncorr. ECC |\r\n",
      "| Fan  Temp   Perf          Pwr:Usage/Cap |           Memory-Usage | GPU-Util  Compute M. |\r\n",
      "|                                         |                        |               MIG M. |\r\n",
      "|=========================================+========================+======================|\r\n",
      "|   0  Tesla T4                       Off |   00000000:00:04.0 Off |                    0 |\r\n",
      "| N/A   48C    P8             10W /   70W |       1MiB /  15360MiB |      0%      Default |\r\n",
      "|                                         |                        |                  N/A |\r\n",
      "+-----------------------------------------+------------------------+----------------------+\r\n",
      "|   1  Tesla T4                       Off |   00000000:00:05.0 Off |                    0 |\r\n",
      "| N/A   46C    P8              9W /   70W |       1MiB /  15360MiB |      0%      Default |\r\n",
      "|                                         |                        |                  N/A |\r\n",
      "+-----------------------------------------+------------------------+----------------------+\r\n",
      "                                                                                         \r\n",
      "+-----------------------------------------------------------------------------------------+\r\n",
      "| Processes:                                                                              |\r\n",
      "|  GPU   GI   CI        PID   Type   Process name                              GPU Memory |\r\n",
      "|        ID   ID                                                               Usage      |\r\n",
      "|=========================================================================================|\r\n",
      "|  No running processes found                                                             |\r\n",
      "+-----------------------------------------------------------------------------------------+\r\n"
     ]
    }
   ],
   "source": [
    "!nvidia-smi"
   ]
  },
  {
   "cell_type": "markdown",
   "id": "65200d01",
   "metadata": {
    "papermill": {
     "duration": 0.001901,
     "end_time": "2025-08-24T17:44:29.066810",
     "exception": false,
     "start_time": "2025-08-24T17:44:29.064909",
     "status": "completed"
    },
    "tags": []
   },
   "source": [
    "**Import And Split**"
   ]
  },
  {
   "cell_type": "code",
   "execution_count": 2,
   "id": "2857d2be",
   "metadata": {
    "execution": {
     "iopub.execute_input": "2025-08-24T17:44:29.071811Z",
     "iopub.status.busy": "2025-08-24T17:44:29.071589Z",
     "iopub.status.idle": "2025-08-24T17:50:59.771458Z",
     "shell.execute_reply": "2025-08-24T17:50:59.770507Z"
    },
    "papermill": {
     "duration": 390.704005,
     "end_time": "2025-08-24T17:50:59.772802",
     "exception": false,
     "start_time": "2025-08-24T17:44:29.068797",
     "status": "completed"
    },
    "tags": []
   },
   "outputs": [
    {
     "name": "stdout",
     "output_type": "stream",
     "text": [
      "\u001b[2K   \u001b[90m━━━━━━━━━━━━━━━━━━━━━━━━━━━━━━━━━━━━━━━━\u001b[0m \u001b[32m1.1/1.1 MB\u001b[0m \u001b[31m23.4 MB/s\u001b[0m eta \u001b[36m0:00:00\u001b[0m\r\n",
      "\u001b[2K   \u001b[90m━━━━━━━━━━━━━━━━━━━━━━━━━━━━━━━━━━━━━━━━\u001b[0m \u001b[32m363.4/363.4 MB\u001b[0m \u001b[31m5.0 MB/s\u001b[0m eta \u001b[36m0:00:00\u001b[0m\r\n",
      "\u001b[2K   \u001b[90m━━━━━━━━━━━━━━━━━━━━━━━━━━━━━━━━━━━━━━━━\u001b[0m \u001b[32m13.8/13.8 MB\u001b[0m \u001b[31m102.3 MB/s\u001b[0m eta \u001b[36m0:00:00\u001b[0m\r\n",
      "\u001b[2K   \u001b[90m━━━━━━━━━━━━━━━━━━━━━━━━━━━━━━━━━━━━━━━━\u001b[0m \u001b[32m24.6/24.6 MB\u001b[0m \u001b[31m76.0 MB/s\u001b[0m eta \u001b[36m0:00:00\u001b[0m\r\n",
      "\u001b[2K   \u001b[90m━━━━━━━━━━━━━━━━━━━━━━━━━━━━━━━━━━━━━━━━\u001b[0m \u001b[32m883.7/883.7 kB\u001b[0m \u001b[31m47.6 MB/s\u001b[0m eta \u001b[36m0:00:00\u001b[0m\r\n",
      "\u001b[2K   \u001b[90m━━━━━━━━━━━━━━━━━━━━━━━━━━━━━━━━━━━━━━━━\u001b[0m \u001b[32m664.8/664.8 MB\u001b[0m \u001b[31m2.1 MB/s\u001b[0m eta \u001b[36m0:00:00\u001b[0m\r\n",
      "\u001b[2K   \u001b[90m━━━━━━━━━━━━━━━━━━━━━━━━━━━━━━━━━━━━━━━━\u001b[0m \u001b[32m211.5/211.5 MB\u001b[0m \u001b[31m5.0 MB/s\u001b[0m eta \u001b[36m0:00:00\u001b[0m\r\n",
      "\u001b[2K   \u001b[90m━━━━━━━━━━━━━━━━━━━━━━━━━━━━━━━━━━━━━━━━\u001b[0m \u001b[32m56.3/56.3 MB\u001b[0m \u001b[31m3.5 MB/s\u001b[0m eta \u001b[36m0:00:00\u001b[0m\r\n",
      "\u001b[2K   \u001b[90m━━━━━━━━━━━━━━━━━━━━━━━━━━━━━━━━━━━━━━━━\u001b[0m \u001b[32m127.9/127.9 MB\u001b[0m \u001b[31m8.9 MB/s\u001b[0m eta \u001b[36m0:00:00\u001b[0m\r\n",
      "\u001b[2K   \u001b[90m━━━━━━━━━━━━━━━━━━━━━━━━━━━━━━━━━━━━━━━━\u001b[0m \u001b[32m207.5/207.5 MB\u001b[0m \u001b[31m8.1 MB/s\u001b[0m eta \u001b[36m0:00:00\u001b[0m\r\n",
      "\u001b[2K   \u001b[90m━━━━━━━━━━━━━━━━━━━━━━━━━━━━━━━━━━━━━━━━\u001b[0m \u001b[32m21.1/21.1 MB\u001b[0m \u001b[31m90.6 MB/s\u001b[0m eta \u001b[36m0:00:00\u001b[0m\r\n",
      "\u001b[?25hCreating new Ultralytics Settings v0.0.6 file ✅ \n",
      "View Ultralytics Settings with 'yolo settings' or at '/root/.config/Ultralytics/settings.json'\n",
      "Update Settings with 'yolo settings key=value', i.e. 'yolo settings runs_dir=path/to/dir'. For help see https://docs.ultralytics.com/quickstart/#ultralytics-settings.\n",
      "➤ Converting Pascal VOC → YOLO with auto split …\n",
      "Found 23678 annotated images total.\n",
      "train: 16574 images\n",
      "val: 4735 images\n",
      "test: 2369 images\n",
      "✓ YOLO split ready: /kaggle/working/traffic_baseline/data_traffic.yaml\n"
     ]
    }
   ],
   "source": [
    "# ============================================================\n",
    "# 0. Setup\n",
    "# ============================================================\n",
    "!pip install -q ultralytics\n",
    "\n",
    "from ultralytics import YOLO\n",
    "from pathlib import Path\n",
    "import yaml, shutil, random, xml.etree.ElementTree as ET\n",
    "import matplotlib.pyplot as plt\n",
    "import matplotlib.image as mpimg\n",
    "\n",
    "# Dataset paths\n",
    "BASE  = Path(\"/kaggle/input/bangladesh-traffic/Bangladeshi Traffic Flow Dataset/Annotated Images\")\n",
    "WORK  = Path(\"/kaggle/working/traffic_baseline\")\n",
    "SPLIT = WORK / \"yolo_split\"\n",
    "DATA  = WORK / \"data_traffic.yaml\"\n",
    "WORK.mkdir(parents=True, exist_ok=True)\n",
    "\n",
    "# Custom folder for all outputs\n",
    "OUTPUT_FOLDER = Path(\"/kaggle/working/base_yolov10\")\n",
    "OUTPUT_FOLDER.mkdir(parents=True, exist_ok=True)\n",
    "\n",
    "# ============================================================\n",
    "# 1. VOC → YOLO conversion + train/val/test split\n",
    "# ============================================================\n",
    "def voc2yolo(xml_file, classes, out_file):\n",
    "    tree = ET.parse(xml_file)\n",
    "    root = tree.getroot()\n",
    "    size = root.find(\"size\")\n",
    "    w, h = int(size.find(\"width\").text), int(size.find(\"height\").text)\n",
    "\n",
    "    with open(out_file, \"w\") as f:\n",
    "        for obj in root.iter(\"object\"):\n",
    "            cls = obj.find(\"name\").text\n",
    "            if cls not in classes:\n",
    "                continue\n",
    "            cls_id = classes.index(cls)\n",
    "\n",
    "            xmlbox = obj.find(\"bndbox\")\n",
    "            xmin, ymin = float(xmlbox.find(\"xmin\").text), float(xmlbox.find(\"ymin\").text)\n",
    "            xmax, ymax = float(xmlbox.find(\"xmax\").text), float(xmlbox.find(\"ymax\").text)\n",
    "\n",
    "            x = (xmin + xmax) / 2.0 / w\n",
    "            y = (ymin + ymax) / 2.0 / h\n",
    "            bw = (xmax - xmin) / w\n",
    "            bh = (ymax - ymin) / h\n",
    "            f.write(f\"{cls_id} {x:.6f} {y:.6f} {bw:.6f} {bh:.6f}\\n\")\n",
    "\n",
    "def create_split(all_files, ratios=(0.7,0.2,0.1)):\n",
    "    n = len(all_files)\n",
    "    n_train = int(ratios[0]*n)\n",
    "    n_val   = int(ratios[1]*n)\n",
    "    random.shuffle(all_files)\n",
    "    return (all_files[:n_train],\n",
    "            all_files[n_train:n_train+n_val],\n",
    "            all_files[n_train+n_val:])\n",
    "\n",
    "def convert_and_split(base_dir, classes, ratios=(0.7,0.2,0.1)):\n",
    "    if SPLIT.exists():\n",
    "        shutil.rmtree(SPLIT)\n",
    "\n",
    "    all_pairs = []\n",
    "    for ext in [\"*.jpg\",\"*.jpeg\",\"*.png\",\"*.JPG\",\"*.JPEG\",\"*.PNG\"]:\n",
    "        for img_file in Path(base_dir).rglob(ext):\n",
    "            xml_file = img_file.with_suffix(\".xml\")\n",
    "            if xml_file.exists():\n",
    "                all_pairs.append((img_file, xml_file))\n",
    "\n",
    "    print(f\"Found {len(all_pairs)} annotated images total.\")\n",
    "    train, val, test = create_split(all_pairs, ratios)\n",
    "    splits = {\"train\":train, \"val\":val, \"test\":test}\n",
    "\n",
    "    for split_name, files in splits.items():\n",
    "        out_im, out_lb = SPLIT/split_name/\"images\", SPLIT/split_name/\"labels\"\n",
    "        out_im.mkdir(parents=True, exist_ok=True)\n",
    "        out_lb.mkdir(parents=True, exist_ok=True)\n",
    "\n",
    "        for img_file, xml_file in files:\n",
    "            shutil.copy(img_file, out_im/img_file.name)\n",
    "            voc2yolo(xml_file, classes, out_lb/f\"{img_file.stem}.txt\")\n",
    "        print(f\"{split_name}: {len(files)} images\")\n",
    "\n",
    "# Classes in dataset\n",
    "CLASSES = [\"Rickshaw\",\"Bus\",\"Truck\",\"Bike\",\"Mini-truck\",\"People\",\"Car\",\"CNG\",\"Cycle\"]\n",
    "\n",
    "print(\"➤ Converting Pascal VOC → YOLO with auto split …\")\n",
    "convert_and_split(BASE, CLASSES, ratios=(0.7,0.2,0.1))\n",
    "\n",
    "# Create data.yaml for YOLOv10\n",
    "DATA.write_text(yaml.dump({\n",
    "    \"path\": str(SPLIT),\n",
    "    \"train\": \"train/images\",\n",
    "    \"val\": \"val/images\",\n",
    "    \"test\": \"test/images\",\n",
    "    \"nc\": len(CLASSES),\n",
    "    \"names\": CLASSES\n",
    "}))\n",
    "print(\"✓ YOLO split ready:\", DATA)"
   ]
  },
  {
   "cell_type": "markdown",
   "id": "3fa1a8dc",
   "metadata": {
    "papermill": {
     "duration": 0.019219,
     "end_time": "2025-08-24T17:50:59.811956",
     "exception": false,
     "start_time": "2025-08-24T17:50:59.792737",
     "status": "completed"
    },
    "tags": []
   },
   "source": [
    "**Train Yolo Baseline**"
   ]
  },
  {
   "cell_type": "code",
   "execution_count": 3,
   "id": "20477b2d",
   "metadata": {
    "execution": {
     "iopub.execute_input": "2025-08-24T17:50:59.851945Z",
     "iopub.status.busy": "2025-08-24T17:50:59.851228Z",
     "iopub.status.idle": "2025-08-24T23:50:10.059411Z",
     "shell.execute_reply": "2025-08-24T23:50:10.058548Z"
    },
    "papermill": {
     "duration": 21550.229965,
     "end_time": "2025-08-24T23:50:10.061204",
     "exception": false,
     "start_time": "2025-08-24T17:50:59.831239",
     "status": "completed"
    },
    "tags": []
   },
   "outputs": [
    {
     "name": "stderr",
     "output_type": "stream",
     "text": [
      "Downloading https://github.com/ultralytics/assets/releases/download/v8.3.0/yolov10s.pt to 'yolov10s.pt': 100%|██████████| 15.9M/15.9M [00:00<00:00, 104MB/s] \n"
     ]
    },
    {
     "name": "stdout",
     "output_type": "stream",
     "text": [
      "Ultralytics 8.3.185 🚀 Python-3.11.13 torch-2.6.0+cu124 CUDA:0 (Tesla T4, 15095MiB)\n",
      "\u001b[34m\u001b[1mengine/trainer: \u001b[0magnostic_nms=False, amp=True, augment=False, auto_augment=randaugment, batch=16, bgr=0.0, box=7.5, cache=False, cfg=None, classes=None, close_mosaic=10, cls=0.5, conf=None, copy_paste=0.0, copy_paste_mode=flip, cos_lr=False, cutmix=0.0, data=/kaggle/working/traffic_baseline/data_traffic.yaml, degrees=0.0, deterministic=True, device=None, dfl=1.5, dnn=False, dropout=0.0, dynamic=False, embed=None, epochs=50, erasing=0.4, exist_ok=False, fliplr=0.5, flipud=0.0, format=torchscript, fraction=1.0, freeze=None, half=False, hsv_h=0.015, hsv_s=0.7, hsv_v=0.4, imgsz=640, int8=False, iou=0.7, keras=False, kobj=1.0, line_width=None, lr0=0.01, lrf=0.01, mask_ratio=4, max_det=300, mixup=0.0, mode=train, model=yolov10s.pt, momentum=0.937, mosaic=1.0, multi_scale=False, name=train, nbs=64, nms=False, opset=None, optimize=False, optimizer=auto, overlap_mask=True, patience=100, perspective=0.0, plots=True, pose=12.0, pretrained=True, profile=False, project=/kaggle/working/base_yolov10, rect=False, resume=False, retina_masks=False, save=True, save_conf=False, save_crop=False, save_dir=/kaggle/working/base_yolov10/train, save_frames=False, save_json=False, save_period=-1, save_txt=False, scale=0.5, seed=0, shear=0.0, show=False, show_boxes=True, show_conf=True, show_labels=True, simplify=True, single_cls=False, source=None, split=val, stream_buffer=False, task=detect, time=None, tracker=botsort.yaml, translate=0.1, val=True, verbose=True, vid_stride=1, visualize=False, warmup_bias_lr=0.1, warmup_epochs=3.0, warmup_momentum=0.8, weight_decay=0.0005, workers=2, workspace=None\n"
     ]
    },
    {
     "name": "stderr",
     "output_type": "stream",
     "text": [
      "Downloading https://ultralytics.com/assets/Arial.ttf to '/root/.config/Ultralytics/Arial.ttf': 100%|██████████| 755k/755k [00:00<00:00, 22.0MB/s]\n"
     ]
    },
    {
     "name": "stdout",
     "output_type": "stream",
     "text": [
      "Overriding model.yaml nc=80 with nc=9\n",
      "\n",
      "                   from  n    params  module                                       arguments                     \n",
      "  0                  -1  1       928  ultralytics.nn.modules.conv.Conv             [3, 32, 3, 2]                 \n",
      "  1                  -1  1     18560  ultralytics.nn.modules.conv.Conv             [32, 64, 3, 2]                \n",
      "  2                  -1  1     29056  ultralytics.nn.modules.block.C2f             [64, 64, 1, True]             \n",
      "  3                  -1  1     73984  ultralytics.nn.modules.conv.Conv             [64, 128, 3, 2]               \n",
      "  4                  -1  2    197632  ultralytics.nn.modules.block.C2f             [128, 128, 2, True]           \n",
      "  5                  -1  1     36096  ultralytics.nn.modules.block.SCDown          [128, 256, 3, 2]              \n",
      "  6                  -1  2    788480  ultralytics.nn.modules.block.C2f             [256, 256, 2, True]           \n",
      "  7                  -1  1    137728  ultralytics.nn.modules.block.SCDown          [256, 512, 3, 2]              \n",
      "  8                  -1  1    958464  ultralytics.nn.modules.block.C2fCIB          [512, 512, 1, True, True]     \n",
      "  9                  -1  1    656896  ultralytics.nn.modules.block.SPPF            [512, 512, 5]                 \n",
      " 10                  -1  1    990976  ultralytics.nn.modules.block.PSA             [512, 512]                    \n",
      " 11                  -1  1         0  torch.nn.modules.upsampling.Upsample         [None, 2, 'nearest']          \n",
      " 12             [-1, 6]  1         0  ultralytics.nn.modules.conv.Concat           [1]                           \n",
      " 13                  -1  1    591360  ultralytics.nn.modules.block.C2f             [768, 256, 1]                 \n",
      " 14                  -1  1         0  torch.nn.modules.upsampling.Upsample         [None, 2, 'nearest']          \n",
      " 15             [-1, 4]  1         0  ultralytics.nn.modules.conv.Concat           [1]                           \n",
      " 16                  -1  1    148224  ultralytics.nn.modules.block.C2f             [384, 128, 1]                 \n",
      " 17                  -1  1    147712  ultralytics.nn.modules.conv.Conv             [128, 128, 3, 2]              \n",
      " 18            [-1, 13]  1         0  ultralytics.nn.modules.conv.Concat           [1]                           \n",
      " 19                  -1  1    493056  ultralytics.nn.modules.block.C2f             [384, 256, 1]                 \n",
      " 20                  -1  1     68864  ultralytics.nn.modules.block.SCDown          [256, 256, 3, 2]              \n",
      " 21            [-1, 10]  1         0  ultralytics.nn.modules.conv.Concat           [1]                           \n",
      " 22                  -1  1   1089536  ultralytics.nn.modules.block.C2fCIB          [768, 512, 1, True, True]     \n",
      " 23        [16, 19, 22]  1   1645766  ultralytics.nn.modules.head.v10Detect        [9, [128, 256, 512]]          \n",
      "YOLOv10s summary: 234 layers, 8,073,318 parameters, 8,073,302 gradients, 24.8 GFLOPs\n",
      "\n",
      "Transferred 607/619 items from pretrained weights\n",
      "Freezing layer 'model.23.dfl.conv.weight'\n",
      "\u001b[34m\u001b[1mAMP: \u001b[0mrunning Automatic Mixed Precision (AMP) checks...\n"
     ]
    },
    {
     "name": "stderr",
     "output_type": "stream",
     "text": [
      "Downloading https://github.com/ultralytics/assets/releases/download/v8.3.0/yolo11n.pt to 'yolo11n.pt': 100%|██████████| 5.35M/5.35M [00:00<00:00, 93.9MB/s]\n"
     ]
    },
    {
     "name": "stdout",
     "output_type": "stream",
     "text": [
      "\u001b[34m\u001b[1mAMP: \u001b[0mchecks passed ✅\n",
      "\u001b[34m\u001b[1mtrain: \u001b[0mFast image access ✅ (ping: 0.0±0.0 ms, read: 1425.0±821.7 MB/s, size: 72.2 KB)\n"
     ]
    },
    {
     "name": "stderr",
     "output_type": "stream",
     "text": [
      "\u001b[34m\u001b[1mtrain: \u001b[0mScanning /kaggle/working/traffic_baseline/yolo_split/train/labels... 16574 images, 40 backgrounds, 0 corrupt: 100%|██████████| 16574/16574 [00:11<00:00, 1432.94it/s]"
     ]
    },
    {
     "name": "stdout",
     "output_type": "stream",
     "text": [
      "\u001b[34m\u001b[1mtrain: \u001b[0m/kaggle/working/traffic_baseline/yolo_split/train/images/frame195_jpg.rf.46fd02322bca0e4c4437d57807d7a178.jpg: 1 duplicate labels removed\n"
     ]
    },
    {
     "name": "stderr",
     "output_type": "stream",
     "text": [
      "\n"
     ]
    },
    {
     "name": "stdout",
     "output_type": "stream",
     "text": [
      "\u001b[34m\u001b[1mtrain: \u001b[0mNew cache created: /kaggle/working/traffic_baseline/yolo_split/train/labels.cache\n",
      "\u001b[34m\u001b[1malbumentations: \u001b[0mBlur(p=0.01, blur_limit=(3, 7)), MedianBlur(p=0.01, blur_limit=(3, 7)), ToGray(p=0.01, method='weighted_average', num_output_channels=3), CLAHE(p=0.01, clip_limit=(1.0, 4.0), tile_grid_size=(8, 8))\n",
      "\u001b[34m\u001b[1mval: \u001b[0mFast image access ✅ (ping: 0.0±0.0 ms, read: 462.4±309.1 MB/s, size: 67.0 KB)\n"
     ]
    },
    {
     "name": "stderr",
     "output_type": "stream",
     "text": [
      "\u001b[34m\u001b[1mval: \u001b[0mScanning /kaggle/working/traffic_baseline/yolo_split/val/labels... 4735 images, 11 backgrounds, 0 corrupt: 100%|██████████| 4735/4735 [00:03<00:00, 1341.22it/s]"
     ]
    },
    {
     "name": "stdout",
     "output_type": "stream",
     "text": [
      "\u001b[34m\u001b[1mval: \u001b[0m/kaggle/working/traffic_baseline/yolo_split/val/images/frame0_jpg.rf.e1bc04102d10d13d3e4801450a664640.jpg: 2 duplicate labels removed\n",
      "\u001b[34m\u001b[1mval: \u001b[0m/kaggle/working/traffic_baseline/yolo_split/val/images/frame1_jpg.rf.af73293c83d849389bfeacd60c71cd38.jpg: 1 duplicate labels removed\n"
     ]
    },
    {
     "name": "stderr",
     "output_type": "stream",
     "text": [
      "\n"
     ]
    },
    {
     "name": "stdout",
     "output_type": "stream",
     "text": [
      "\u001b[34m\u001b[1mval: \u001b[0mNew cache created: /kaggle/working/traffic_baseline/yolo_split/val/labels.cache\n",
      "Plotting labels to /kaggle/working/base_yolov10/train/labels.jpg... \n",
      "\u001b[34m\u001b[1moptimizer:\u001b[0m 'optimizer=auto' found, ignoring 'lr0=0.01' and 'momentum=0.937' and determining best 'optimizer', 'lr0' and 'momentum' automatically... \n",
      "\u001b[34m\u001b[1moptimizer:\u001b[0m SGD(lr=0.01, momentum=0.9) with parameter groups 99 weight(decay=0.0), 112 weight(decay=0.0005), 111 bias(decay=0.0)\n",
      "Image sizes 640 train, 640 val\n",
      "Using 2 dataloader workers\n",
      "Logging results to \u001b[1m/kaggle/working/base_yolov10/train\u001b[0m\n",
      "Starting training for 50 epochs...\n",
      "\n",
      "      Epoch    GPU_mem   box_loss   cls_loss   dfl_loss  Instances       Size\n"
     ]
    },
    {
     "name": "stderr",
     "output_type": "stream",
     "text": [
      "       1/50      5.03G      2.956      2.809      2.216        212        640: 100%|██████████| 1036/1036 [06:34<00:00,  2.63it/s]\n",
      "                 Class     Images  Instances      Box(P          R      mAP50  mAP50-95): 100%|██████████| 148/148 [00:39<00:00,  3.78it/s]\n"
     ]
    },
    {
     "name": "stdout",
     "output_type": "stream",
     "text": [
      "                   all       4735      46319       0.54      0.537      0.578      0.329\n",
      "\n",
      "      Epoch    GPU_mem   box_loss   cls_loss   dfl_loss  Instances       Size\n"
     ]
    },
    {
     "name": "stderr",
     "output_type": "stream",
     "text": [
      "       2/50      5.63G      2.727      1.965      2.127        235        640: 100%|██████████| 1036/1036 [06:35<00:00,  2.62it/s]\n",
      "                 Class     Images  Instances      Box(P          R      mAP50  mAP50-95): 100%|██████████| 148/148 [00:38<00:00,  3.84it/s]\n"
     ]
    },
    {
     "name": "stdout",
     "output_type": "stream",
     "text": [
      "                   all       4735      46319      0.584      0.577      0.589      0.357\n",
      "\n",
      "      Epoch    GPU_mem   box_loss   cls_loss   dfl_loss  Instances       Size\n"
     ]
    },
    {
     "name": "stderr",
     "output_type": "stream",
     "text": [
      "       3/50      5.66G      2.755      1.971      2.156        192        640: 100%|██████████| 1036/1036 [06:32<00:00,  2.64it/s]\n",
      "                 Class     Images  Instances      Box(P          R      mAP50  mAP50-95): 100%|██████████| 148/148 [00:38<00:00,  3.85it/s]\n"
     ]
    },
    {
     "name": "stdout",
     "output_type": "stream",
     "text": [
      "                   all       4735      46319       0.51      0.586      0.578      0.346\n",
      "\n",
      "      Epoch    GPU_mem   box_loss   cls_loss   dfl_loss  Instances       Size\n"
     ]
    },
    {
     "name": "stderr",
     "output_type": "stream",
     "text": [
      "       4/50      5.69G      2.749      1.962      2.167        212        640: 100%|██████████| 1036/1036 [06:31<00:00,  2.65it/s]\n",
      "                 Class     Images  Instances      Box(P          R      mAP50  mAP50-95): 100%|██████████| 148/148 [00:38<00:00,  3.86it/s]\n"
     ]
    },
    {
     "name": "stdout",
     "output_type": "stream",
     "text": [
      "                   all       4735      46319      0.595      0.562      0.596      0.364\n",
      "\n",
      "      Epoch    GPU_mem   box_loss   cls_loss   dfl_loss  Instances       Size\n"
     ]
    },
    {
     "name": "stderr",
     "output_type": "stream",
     "text": [
      "       5/50      5.72G      2.677      1.866      2.145        223        640: 100%|██████████| 1036/1036 [06:31<00:00,  2.65it/s]\n",
      "                 Class     Images  Instances      Box(P          R      mAP50  mAP50-95): 100%|██████████| 148/148 [00:38<00:00,  3.83it/s]\n"
     ]
    },
    {
     "name": "stdout",
     "output_type": "stream",
     "text": [
      "                   all       4735      46319      0.557      0.612      0.615      0.385\n",
      "\n",
      "      Epoch    GPU_mem   box_loss   cls_loss   dfl_loss  Instances       Size\n"
     ]
    },
    {
     "name": "stderr",
     "output_type": "stream",
     "text": [
      "       6/50      5.75G      2.617      1.805      2.126        296        640: 100%|██████████| 1036/1036 [06:31<00:00,  2.65it/s]\n",
      "                 Class     Images  Instances      Box(P          R      mAP50  mAP50-95): 100%|██████████| 148/148 [00:38<00:00,  3.86it/s]\n"
     ]
    },
    {
     "name": "stdout",
     "output_type": "stream",
     "text": [
      "                   all       4735      46319      0.562      0.585      0.623      0.392\n",
      "\n",
      "      Epoch    GPU_mem   box_loss   cls_loss   dfl_loss  Instances       Size\n"
     ]
    },
    {
     "name": "stderr",
     "output_type": "stream",
     "text": [
      "       7/50      5.79G      2.583      1.755       2.11        288        640: 100%|██████████| 1036/1036 [06:31<00:00,  2.64it/s]\n",
      "                 Class     Images  Instances      Box(P          R      mAP50  mAP50-95): 100%|██████████| 148/148 [00:38<00:00,  3.87it/s]\n"
     ]
    },
    {
     "name": "stdout",
     "output_type": "stream",
     "text": [
      "                   all       4735      46319      0.587      0.641      0.648      0.412\n",
      "\n",
      "      Epoch    GPU_mem   box_loss   cls_loss   dfl_loss  Instances       Size\n"
     ]
    },
    {
     "name": "stderr",
     "output_type": "stream",
     "text": [
      "       8/50      5.81G      2.552      1.717      2.099        274        640: 100%|██████████| 1036/1036 [06:31<00:00,  2.65it/s]\n",
      "                 Class     Images  Instances      Box(P          R      mAP50  mAP50-95): 100%|██████████| 148/148 [00:38<00:00,  3.87it/s]\n"
     ]
    },
    {
     "name": "stdout",
     "output_type": "stream",
     "text": [
      "                   all       4735      46319      0.717      0.583       0.64      0.408\n",
      "\n",
      "      Epoch    GPU_mem   box_loss   cls_loss   dfl_loss  Instances       Size\n"
     ]
    },
    {
     "name": "stderr",
     "output_type": "stream",
     "text": [
      "       9/50      5.85G      2.527      1.684      2.091        206        640: 100%|██████████| 1036/1036 [06:31<00:00,  2.65it/s]\n",
      "                 Class     Images  Instances      Box(P          R      mAP50  mAP50-95): 100%|██████████| 148/148 [00:38<00:00,  3.83it/s]\n"
     ]
    },
    {
     "name": "stdout",
     "output_type": "stream",
     "text": [
      "                   all       4735      46319      0.589      0.642      0.658      0.425\n",
      "\n",
      "      Epoch    GPU_mem   box_loss   cls_loss   dfl_loss  Instances       Size\n"
     ]
    },
    {
     "name": "stderr",
     "output_type": "stream",
     "text": [
      "      10/50      5.88G      2.505      1.666      2.082        232        640: 100%|██████████| 1036/1036 [06:31<00:00,  2.64it/s]\n",
      "                 Class     Images  Instances      Box(P          R      mAP50  mAP50-95): 100%|██████████| 148/148 [00:38<00:00,  3.82it/s]\n"
     ]
    },
    {
     "name": "stdout",
     "output_type": "stream",
     "text": [
      "                   all       4735      46319      0.571      0.658      0.656      0.429\n",
      "\n",
      "      Epoch    GPU_mem   box_loss   cls_loss   dfl_loss  Instances       Size\n"
     ]
    },
    {
     "name": "stderr",
     "output_type": "stream",
     "text": [
      "      11/50      5.91G      2.479       1.64       2.07        268        640: 100%|██████████| 1036/1036 [06:32<00:00,  2.64it/s]\n",
      "                 Class     Images  Instances      Box(P          R      mAP50  mAP50-95): 100%|██████████| 148/148 [00:38<00:00,  3.82it/s]\n"
     ]
    },
    {
     "name": "stdout",
     "output_type": "stream",
     "text": [
      "                   all       4735      46319      0.566      0.675      0.661      0.437\n",
      "\n",
      "      Epoch    GPU_mem   box_loss   cls_loss   dfl_loss  Instances       Size\n"
     ]
    },
    {
     "name": "stderr",
     "output_type": "stream",
     "text": [
      "      12/50      5.94G      2.458      1.611      2.066        232        640: 100%|██████████| 1036/1036 [06:32<00:00,  2.64it/s]\n",
      "                 Class     Images  Instances      Box(P          R      mAP50  mAP50-95): 100%|██████████| 148/148 [00:38<00:00,  3.86it/s]\n"
     ]
    },
    {
     "name": "stdout",
     "output_type": "stream",
     "text": [
      "                   all       4735      46319      0.586      0.652       0.67      0.439\n",
      "\n",
      "      Epoch    GPU_mem   box_loss   cls_loss   dfl_loss  Instances       Size\n"
     ]
    },
    {
     "name": "stderr",
     "output_type": "stream",
     "text": [
      "      13/50      5.97G      2.444      1.604      2.054        155        640: 100%|██████████| 1036/1036 [06:32<00:00,  2.64it/s]\n",
      "                 Class     Images  Instances      Box(P          R      mAP50  mAP50-95): 100%|██████████| 148/148 [00:38<00:00,  3.84it/s]\n"
     ]
    },
    {
     "name": "stdout",
     "output_type": "stream",
     "text": [
      "                   all       4735      46319      0.611      0.659       0.68      0.451\n",
      "\n",
      "      Epoch    GPU_mem   box_loss   cls_loss   dfl_loss  Instances       Size\n"
     ]
    },
    {
     "name": "stderr",
     "output_type": "stream",
     "text": [
      "      14/50         6G      2.427      1.589      2.051        268        640: 100%|██████████| 1036/1036 [06:31<00:00,  2.65it/s]\n",
      "                 Class     Images  Instances      Box(P          R      mAP50  mAP50-95): 100%|██████████| 148/148 [00:38<00:00,  3.85it/s]\n"
     ]
    },
    {
     "name": "stdout",
     "output_type": "stream",
     "text": [
      "                   all       4735      46319      0.606      0.658      0.672      0.447\n",
      "\n",
      "      Epoch    GPU_mem   box_loss   cls_loss   dfl_loss  Instances       Size\n"
     ]
    },
    {
     "name": "stderr",
     "output_type": "stream",
     "text": [
      "      15/50      6.03G      2.418      1.572      2.044        239        640: 100%|██████████| 1036/1036 [06:31<00:00,  2.64it/s]\n",
      "                 Class     Images  Instances      Box(P          R      mAP50  mAP50-95): 100%|██████████| 148/148 [00:38<00:00,  3.82it/s]\n"
     ]
    },
    {
     "name": "stdout",
     "output_type": "stream",
     "text": [
      "                   all       4735      46319      0.596      0.657      0.666      0.438\n",
      "\n",
      "      Epoch    GPU_mem   box_loss   cls_loss   dfl_loss  Instances       Size\n"
     ]
    },
    {
     "name": "stderr",
     "output_type": "stream",
     "text": [
      "      16/50      6.06G      2.403      1.558      2.043        243        640: 100%|██████████| 1036/1036 [06:32<00:00,  2.64it/s]\n",
      "                 Class     Images  Instances      Box(P          R      mAP50  mAP50-95): 100%|██████████| 148/148 [00:38<00:00,  3.88it/s]\n"
     ]
    },
    {
     "name": "stdout",
     "output_type": "stream",
     "text": [
      "                   all       4735      46319      0.601      0.673      0.687      0.458\n",
      "\n",
      "      Epoch    GPU_mem   box_loss   cls_loss   dfl_loss  Instances       Size\n"
     ]
    },
    {
     "name": "stderr",
     "output_type": "stream",
     "text": [
      "      17/50      6.09G      2.386      1.541      2.033        174        640: 100%|██████████| 1036/1036 [06:31<00:00,  2.65it/s]\n",
      "                 Class     Images  Instances      Box(P          R      mAP50  mAP50-95): 100%|██████████| 148/148 [00:38<00:00,  3.87it/s]\n"
     ]
    },
    {
     "name": "stdout",
     "output_type": "stream",
     "text": [
      "                   all       4735      46319      0.618       0.68      0.692      0.463\n",
      "\n",
      "      Epoch    GPU_mem   box_loss   cls_loss   dfl_loss  Instances       Size\n"
     ]
    },
    {
     "name": "stderr",
     "output_type": "stream",
     "text": [
      "      18/50      6.12G      2.374      1.528      2.034        243        640: 100%|██████████| 1036/1036 [06:31<00:00,  2.65it/s]\n",
      "                 Class     Images  Instances      Box(P          R      mAP50  mAP50-95): 100%|██████████| 148/148 [00:38<00:00,  3.85it/s]\n"
     ]
    },
    {
     "name": "stdout",
     "output_type": "stream",
     "text": [
      "                   all       4735      46319      0.619       0.68      0.693      0.464\n",
      "\n",
      "      Epoch    GPU_mem   box_loss   cls_loss   dfl_loss  Instances       Size\n"
     ]
    },
    {
     "name": "stderr",
     "output_type": "stream",
     "text": [
      "      19/50      6.15G      2.363      1.515      2.027        250        640: 100%|██████████| 1036/1036 [06:31<00:00,  2.65it/s]\n",
      "                 Class     Images  Instances      Box(P          R      mAP50  mAP50-95): 100%|██████████| 148/148 [00:38<00:00,  3.87it/s]\n"
     ]
    },
    {
     "name": "stdout",
     "output_type": "stream",
     "text": [
      "                   all       4735      46319      0.614      0.688      0.698      0.469\n",
      "\n",
      "      Epoch    GPU_mem   box_loss   cls_loss   dfl_loss  Instances       Size\n"
     ]
    },
    {
     "name": "stderr",
     "output_type": "stream",
     "text": [
      "      20/50      6.18G      2.351      1.503      2.019        176        640: 100%|██████████| 1036/1036 [06:31<00:00,  2.65it/s]\n",
      "                 Class     Images  Instances      Box(P          R      mAP50  mAP50-95): 100%|██████████| 148/148 [00:38<00:00,  3.87it/s]"
     ]
    },
    {
     "name": "stdout",
     "output_type": "stream",
     "text": [
      "                   all       4735      46319       0.67      0.642      0.702      0.475\n"
     ]
    },
    {
     "name": "stderr",
     "output_type": "stream",
     "text": [
      "\n"
     ]
    },
    {
     "name": "stdout",
     "output_type": "stream",
     "text": [
      "\n",
      "      Epoch    GPU_mem   box_loss   cls_loss   dfl_loss  Instances       Size\n"
     ]
    },
    {
     "name": "stderr",
     "output_type": "stream",
     "text": [
      "      21/50      6.21G      2.341      1.494      2.018        179        640: 100%|██████████| 1036/1036 [06:31<00:00,  2.65it/s]\n",
      "                 Class     Images  Instances      Box(P          R      mAP50  mAP50-95): 100%|██████████| 148/148 [00:38<00:00,  3.87it/s]\n"
     ]
    },
    {
     "name": "stdout",
     "output_type": "stream",
     "text": [
      "                   all       4735      46319      0.617      0.688      0.701      0.475\n",
      "\n",
      "      Epoch    GPU_mem   box_loss   cls_loss   dfl_loss  Instances       Size\n"
     ]
    },
    {
     "name": "stderr",
     "output_type": "stream",
     "text": [
      "      22/50      6.24G       2.33      1.483      2.013        176        640: 100%|██████████| 1036/1036 [06:31<00:00,  2.65it/s]\n",
      "                 Class     Images  Instances      Box(P          R      mAP50  mAP50-95): 100%|██████████| 148/148 [00:38<00:00,  3.87it/s]"
     ]
    },
    {
     "name": "stdout",
     "output_type": "stream",
     "text": [
      "                   all       4735      46319      0.641      0.685      0.702      0.477\n"
     ]
    },
    {
     "name": "stderr",
     "output_type": "stream",
     "text": [
      "\n"
     ]
    },
    {
     "name": "stdout",
     "output_type": "stream",
     "text": [
      "\n",
      "      Epoch    GPU_mem   box_loss   cls_loss   dfl_loss  Instances       Size\n"
     ]
    },
    {
     "name": "stderr",
     "output_type": "stream",
     "text": [
      "      23/50      6.27G      2.318      1.473      2.008        191        640: 100%|██████████| 1036/1036 [06:31<00:00,  2.64it/s]\n",
      "                 Class     Images  Instances      Box(P          R      mAP50  mAP50-95): 100%|██████████| 148/148 [00:38<00:00,  3.86it/s]"
     ]
    },
    {
     "name": "stdout",
     "output_type": "stream",
     "text": [
      "                   all       4735      46319      0.643      0.667      0.708       0.48\n"
     ]
    },
    {
     "name": "stderr",
     "output_type": "stream",
     "text": [
      "\n"
     ]
    },
    {
     "name": "stdout",
     "output_type": "stream",
     "text": [
      "\n",
      "      Epoch    GPU_mem   box_loss   cls_loss   dfl_loss  Instances       Size\n"
     ]
    },
    {
     "name": "stderr",
     "output_type": "stream",
     "text": [
      "      24/50       6.3G      2.306      1.461      2.005        242        640: 100%|██████████| 1036/1036 [06:31<00:00,  2.64it/s]\n",
      "                 Class     Images  Instances      Box(P          R      mAP50  mAP50-95): 100%|██████████| 148/148 [00:40<00:00,  3.70it/s]\n"
     ]
    },
    {
     "name": "stdout",
     "output_type": "stream",
     "text": [
      "                   all       4735      46319       0.65      0.678      0.716      0.486\n",
      "\n",
      "      Epoch    GPU_mem   box_loss   cls_loss   dfl_loss  Instances       Size\n"
     ]
    },
    {
     "name": "stderr",
     "output_type": "stream",
     "text": [
      "      25/50      6.33G      2.297      1.454      1.997        135        640: 100%|██████████| 1036/1036 [06:31<00:00,  2.64it/s]\n",
      "                 Class     Images  Instances      Box(P          R      mAP50  mAP50-95): 100%|██████████| 148/148 [00:38<00:00,  3.85it/s]"
     ]
    },
    {
     "name": "stdout",
     "output_type": "stream",
     "text": [
      "                   all       4735      46319      0.625      0.695      0.712      0.484\n"
     ]
    },
    {
     "name": "stderr",
     "output_type": "stream",
     "text": [
      "\n"
     ]
    },
    {
     "name": "stdout",
     "output_type": "stream",
     "text": [
      "\n",
      "      Epoch    GPU_mem   box_loss   cls_loss   dfl_loss  Instances       Size\n"
     ]
    },
    {
     "name": "stderr",
     "output_type": "stream",
     "text": [
      "      26/50      6.36G      2.284      1.436      1.995        214        640: 100%|██████████| 1036/1036 [06:31<00:00,  2.64it/s]\n",
      "                 Class     Images  Instances      Box(P          R      mAP50  mAP50-95): 100%|██████████| 148/148 [00:38<00:00,  3.85it/s]"
     ]
    },
    {
     "name": "stdout",
     "output_type": "stream",
     "text": [
      "                   all       4735      46319      0.645      0.683      0.712      0.489\n"
     ]
    },
    {
     "name": "stderr",
     "output_type": "stream",
     "text": [
      "\n"
     ]
    },
    {
     "name": "stdout",
     "output_type": "stream",
     "text": [
      "\n",
      "      Epoch    GPU_mem   box_loss   cls_loss   dfl_loss  Instances       Size\n"
     ]
    },
    {
     "name": "stderr",
     "output_type": "stream",
     "text": [
      "      27/50      6.39G      2.278      1.425       1.99        213        640: 100%|██████████| 1036/1036 [06:31<00:00,  2.65it/s]\n",
      "                 Class     Images  Instances      Box(P          R      mAP50  mAP50-95): 100%|██████████| 148/148 [00:38<00:00,  3.84it/s]"
     ]
    },
    {
     "name": "stdout",
     "output_type": "stream",
     "text": [
      "                   all       4735      46319      0.649      0.682      0.718      0.491\n"
     ]
    },
    {
     "name": "stderr",
     "output_type": "stream",
     "text": [
      "\n"
     ]
    },
    {
     "name": "stdout",
     "output_type": "stream",
     "text": [
      "\n",
      "      Epoch    GPU_mem   box_loss   cls_loss   dfl_loss  Instances       Size\n"
     ]
    },
    {
     "name": "stderr",
     "output_type": "stream",
     "text": [
      "      28/50      6.42G      2.266      1.421      1.993        190        640: 100%|██████████| 1036/1036 [06:32<00:00,  2.64it/s]\n",
      "                 Class     Images  Instances      Box(P          R      mAP50  mAP50-95): 100%|██████████| 148/148 [00:38<00:00,  3.86it/s]"
     ]
    },
    {
     "name": "stdout",
     "output_type": "stream",
     "text": [
      "                   all       4735      46319      0.662      0.674      0.716      0.489\n"
     ]
    },
    {
     "name": "stderr",
     "output_type": "stream",
     "text": [
      "\n"
     ]
    },
    {
     "name": "stdout",
     "output_type": "stream",
     "text": [
      "\n",
      "      Epoch    GPU_mem   box_loss   cls_loss   dfl_loss  Instances       Size\n"
     ]
    },
    {
     "name": "stderr",
     "output_type": "stream",
     "text": [
      "      29/50      6.45G      2.245      1.403      1.978        292        640: 100%|██████████| 1036/1036 [06:32<00:00,  2.64it/s]\n",
      "                 Class     Images  Instances      Box(P          R      mAP50  mAP50-95): 100%|██████████| 148/148 [00:38<00:00,  3.85it/s]"
     ]
    },
    {
     "name": "stdout",
     "output_type": "stream",
     "text": [
      "                   all       4735      46319      0.636      0.703      0.719       0.49\n"
     ]
    },
    {
     "name": "stderr",
     "output_type": "stream",
     "text": [
      "\n"
     ]
    },
    {
     "name": "stdout",
     "output_type": "stream",
     "text": [
      "\n",
      "      Epoch    GPU_mem   box_loss   cls_loss   dfl_loss  Instances       Size\n"
     ]
    },
    {
     "name": "stderr",
     "output_type": "stream",
     "text": [
      "      30/50      6.48G      2.242      1.394      1.977        211        640: 100%|██████████| 1036/1036 [06:32<00:00,  2.64it/s]\n",
      "                 Class     Images  Instances      Box(P          R      mAP50  mAP50-95): 100%|██████████| 148/148 [00:38<00:00,  3.84it/s]"
     ]
    },
    {
     "name": "stdout",
     "output_type": "stream",
     "text": [
      "                   all       4735      46319      0.661      0.685      0.717      0.492\n"
     ]
    },
    {
     "name": "stderr",
     "output_type": "stream",
     "text": [
      "\n"
     ]
    },
    {
     "name": "stdout",
     "output_type": "stream",
     "text": [
      "\n",
      "      Epoch    GPU_mem   box_loss   cls_loss   dfl_loss  Instances       Size\n"
     ]
    },
    {
     "name": "stderr",
     "output_type": "stream",
     "text": [
      "      31/50      6.51G      2.226      1.385      1.975        221        640: 100%|██████████| 1036/1036 [06:32<00:00,  2.64it/s]\n",
      "                 Class     Images  Instances      Box(P          R      mAP50  mAP50-95): 100%|██████████| 148/148 [00:38<00:00,  3.83it/s]"
     ]
    },
    {
     "name": "stdout",
     "output_type": "stream",
     "text": [
      "                   all       4735      46319      0.662      0.676      0.722      0.497\n"
     ]
    },
    {
     "name": "stderr",
     "output_type": "stream",
     "text": [
      "\n"
     ]
    },
    {
     "name": "stdout",
     "output_type": "stream",
     "text": [
      "\n",
      "      Epoch    GPU_mem   box_loss   cls_loss   dfl_loss  Instances       Size\n"
     ]
    },
    {
     "name": "stderr",
     "output_type": "stream",
     "text": [
      "      32/50      6.54G      2.219      1.373      1.973        266        640: 100%|██████████| 1036/1036 [06:32<00:00,  2.64it/s]\n",
      "                 Class     Images  Instances      Box(P          R      mAP50  mAP50-95): 100%|██████████| 148/148 [00:38<00:00,  3.86it/s]"
     ]
    },
    {
     "name": "stdout",
     "output_type": "stream",
     "text": [
      "                   all       4735      46319      0.645      0.698      0.723      0.496\n"
     ]
    },
    {
     "name": "stderr",
     "output_type": "stream",
     "text": [
      "\n"
     ]
    },
    {
     "name": "stdout",
     "output_type": "stream",
     "text": [
      "\n",
      "      Epoch    GPU_mem   box_loss   cls_loss   dfl_loss  Instances       Size\n"
     ]
    },
    {
     "name": "stderr",
     "output_type": "stream",
     "text": [
      "      33/50      6.57G      2.209      1.366      1.968        191        640: 100%|██████████| 1036/1036 [06:32<00:00,  2.64it/s]\n",
      "                 Class     Images  Instances      Box(P          R      mAP50  mAP50-95): 100%|██████████| 148/148 [00:38<00:00,  3.86it/s]"
     ]
    },
    {
     "name": "stdout",
     "output_type": "stream",
     "text": [
      "                   all       4735      46319      0.646      0.702      0.722      0.497\n"
     ]
    },
    {
     "name": "stderr",
     "output_type": "stream",
     "text": [
      "\n"
     ]
    },
    {
     "name": "stdout",
     "output_type": "stream",
     "text": [
      "\n",
      "      Epoch    GPU_mem   box_loss   cls_loss   dfl_loss  Instances       Size\n"
     ]
    },
    {
     "name": "stderr",
     "output_type": "stream",
     "text": [
      "      34/50       6.6G      2.202      1.358      1.965        233        640: 100%|██████████| 1036/1036 [06:32<00:00,  2.64it/s]\n",
      "                 Class     Images  Instances      Box(P          R      mAP50  mAP50-95): 100%|██████████| 148/148 [00:38<00:00,  3.84it/s]"
     ]
    },
    {
     "name": "stdout",
     "output_type": "stream",
     "text": [
      "                   all       4735      46319       0.65      0.698      0.726        0.5\n"
     ]
    },
    {
     "name": "stderr",
     "output_type": "stream",
     "text": [
      "\n"
     ]
    },
    {
     "name": "stdout",
     "output_type": "stream",
     "text": [
      "\n",
      "      Epoch    GPU_mem   box_loss   cls_loss   dfl_loss  Instances       Size\n"
     ]
    },
    {
     "name": "stderr",
     "output_type": "stream",
     "text": [
      "      35/50      6.63G      2.191      1.348      1.958        131        640: 100%|██████████| 1036/1036 [06:33<00:00,  2.64it/s]\n",
      "                 Class     Images  Instances      Box(P          R      mAP50  mAP50-95): 100%|██████████| 148/148 [00:38<00:00,  3.81it/s]"
     ]
    },
    {
     "name": "stdout",
     "output_type": "stream",
     "text": [
      "                   all       4735      46319      0.648      0.699      0.723      0.499\n"
     ]
    },
    {
     "name": "stderr",
     "output_type": "stream",
     "text": [
      "\n"
     ]
    },
    {
     "name": "stdout",
     "output_type": "stream",
     "text": [
      "\n",
      "      Epoch    GPU_mem   box_loss   cls_loss   dfl_loss  Instances       Size\n"
     ]
    },
    {
     "name": "stderr",
     "output_type": "stream",
     "text": [
      "      36/50      6.67G      2.181      1.339      1.955        257        640: 100%|██████████| 1036/1036 [06:34<00:00,  2.63it/s]\n",
      "                 Class     Images  Instances      Box(P          R      mAP50  mAP50-95): 100%|██████████| 148/148 [00:38<00:00,  3.80it/s]"
     ]
    },
    {
     "name": "stdout",
     "output_type": "stream",
     "text": [
      "                   all       4735      46319       0.66      0.695      0.727      0.502\n"
     ]
    },
    {
     "name": "stderr",
     "output_type": "stream",
     "text": [
      "\n"
     ]
    },
    {
     "name": "stdout",
     "output_type": "stream",
     "text": [
      "\n",
      "      Epoch    GPU_mem   box_loss   cls_loss   dfl_loss  Instances       Size\n"
     ]
    },
    {
     "name": "stderr",
     "output_type": "stream",
     "text": [
      "      37/50       6.7G      2.168      1.326      1.948        218        640: 100%|██████████| 1036/1036 [06:33<00:00,  2.63it/s]\n",
      "                 Class     Images  Instances      Box(P          R      mAP50  mAP50-95): 100%|██████████| 148/148 [00:38<00:00,  3.80it/s]"
     ]
    },
    {
     "name": "stdout",
     "output_type": "stream",
     "text": [
      "                   all       4735      46319      0.666      0.705      0.726        0.5\n"
     ]
    },
    {
     "name": "stderr",
     "output_type": "stream",
     "text": [
      "\n"
     ]
    },
    {
     "name": "stdout",
     "output_type": "stream",
     "text": [
      "\n",
      "      Epoch    GPU_mem   box_loss   cls_loss   dfl_loss  Instances       Size\n"
     ]
    },
    {
     "name": "stderr",
     "output_type": "stream",
     "text": [
      "      38/50      6.73G      2.152      1.317      1.947        194        640: 100%|██████████| 1036/1036 [06:33<00:00,  2.63it/s]\n",
      "                 Class     Images  Instances      Box(P          R      mAP50  mAP50-95): 100%|██████████| 148/148 [00:38<00:00,  3.85it/s]"
     ]
    },
    {
     "name": "stdout",
     "output_type": "stream",
     "text": [
      "                   all       4735      46319      0.651      0.712      0.726      0.502\n"
     ]
    },
    {
     "name": "stderr",
     "output_type": "stream",
     "text": [
      "\n"
     ]
    },
    {
     "name": "stdout",
     "output_type": "stream",
     "text": [
      "\n",
      "      Epoch    GPU_mem   box_loss   cls_loss   dfl_loss  Instances       Size\n"
     ]
    },
    {
     "name": "stderr",
     "output_type": "stream",
     "text": [
      "      39/50      6.76G      2.155      1.311      1.946        183        640: 100%|██████████| 1036/1036 [06:33<00:00,  2.64it/s]\n",
      "                 Class     Images  Instances      Box(P          R      mAP50  mAP50-95): 100%|██████████| 148/148 [00:38<00:00,  3.85it/s]"
     ]
    },
    {
     "name": "stdout",
     "output_type": "stream",
     "text": [
      "                   all       4735      46319      0.643      0.715      0.725      0.502\n"
     ]
    },
    {
     "name": "stderr",
     "output_type": "stream",
     "text": [
      "\n"
     ]
    },
    {
     "name": "stdout",
     "output_type": "stream",
     "text": [
      "\n",
      "      Epoch    GPU_mem   box_loss   cls_loss   dfl_loss  Instances       Size\n"
     ]
    },
    {
     "name": "stderr",
     "output_type": "stream",
     "text": [
      "      40/50      6.79G      2.137      1.293       1.94        216        640: 100%|██████████| 1036/1036 [06:32<00:00,  2.64it/s]\n",
      "                 Class     Images  Instances      Box(P          R      mAP50  mAP50-95): 100%|██████████| 148/148 [00:38<00:00,  3.85it/s]"
     ]
    },
    {
     "name": "stdout",
     "output_type": "stream",
     "text": [
      "                   all       4735      46319      0.659      0.693      0.727      0.505\n"
     ]
    },
    {
     "name": "stderr",
     "output_type": "stream",
     "text": [
      "\n"
     ]
    },
    {
     "name": "stdout",
     "output_type": "stream",
     "text": [
      "Closing dataloader mosaic\n",
      "\u001b[34m\u001b[1malbumentations: \u001b[0mBlur(p=0.01, blur_limit=(3, 7)), MedianBlur(p=0.01, blur_limit=(3, 7)), ToGray(p=0.01, method='weighted_average', num_output_channels=3), CLAHE(p=0.01, clip_limit=(1.0, 4.0), tile_grid_size=(8, 8))\n",
      "\n",
      "      Epoch    GPU_mem   box_loss   cls_loss   dfl_loss  Instances       Size\n"
     ]
    },
    {
     "name": "stderr",
     "output_type": "stream",
     "text": [
      "      41/50      6.82G      2.074      1.193      1.936        121        640: 100%|██████████| 1036/1036 [06:23<00:00,  2.70it/s]\n",
      "                 Class     Images  Instances      Box(P          R      mAP50  mAP50-95): 100%|██████████| 148/148 [00:38<00:00,  3.82it/s]"
     ]
    },
    {
     "name": "stdout",
     "output_type": "stream",
     "text": [
      "                   all       4735      46319      0.642       0.72      0.726      0.503\n"
     ]
    },
    {
     "name": "stderr",
     "output_type": "stream",
     "text": [
      "\n"
     ]
    },
    {
     "name": "stdout",
     "output_type": "stream",
     "text": [
      "\n",
      "      Epoch    GPU_mem   box_loss   cls_loss   dfl_loss  Instances       Size\n"
     ]
    },
    {
     "name": "stderr",
     "output_type": "stream",
     "text": [
      "      42/50      6.85G      2.048       1.17       1.93        121        640: 100%|██████████| 1036/1036 [06:22<00:00,  2.71it/s]\n",
      "                 Class     Images  Instances      Box(P          R      mAP50  mAP50-95): 100%|██████████| 148/148 [00:38<00:00,  3.83it/s]"
     ]
    },
    {
     "name": "stdout",
     "output_type": "stream",
     "text": [
      "                   all       4735      46319      0.643      0.715      0.726      0.502\n"
     ]
    },
    {
     "name": "stderr",
     "output_type": "stream",
     "text": [
      "\n"
     ]
    },
    {
     "name": "stdout",
     "output_type": "stream",
     "text": [
      "\n",
      "      Epoch    GPU_mem   box_loss   cls_loss   dfl_loss  Instances       Size\n"
     ]
    },
    {
     "name": "stderr",
     "output_type": "stream",
     "text": [
      "      43/50      6.88G      2.028      1.155       1.92        144        640: 100%|██████████| 1036/1036 [06:22<00:00,  2.71it/s]\n",
      "                 Class     Images  Instances      Box(P          R      mAP50  mAP50-95): 100%|██████████| 148/148 [00:38<00:00,  3.87it/s]"
     ]
    },
    {
     "name": "stdout",
     "output_type": "stream",
     "text": [
      "                   all       4735      46319      0.646      0.718      0.726      0.504\n"
     ]
    },
    {
     "name": "stderr",
     "output_type": "stream",
     "text": [
      "\n"
     ]
    },
    {
     "name": "stdout",
     "output_type": "stream",
     "text": [
      "\n",
      "      Epoch    GPU_mem   box_loss   cls_loss   dfl_loss  Instances       Size\n"
     ]
    },
    {
     "name": "stderr",
     "output_type": "stream",
     "text": [
      "      44/50      6.91G      2.016      1.143      1.917        108        640: 100%|██████████| 1036/1036 [06:22<00:00,  2.71it/s]\n",
      "                 Class     Images  Instances      Box(P          R      mAP50  mAP50-95): 100%|██████████| 148/148 [00:38<00:00,  3.83it/s]"
     ]
    },
    {
     "name": "stdout",
     "output_type": "stream",
     "text": [
      "                   all       4735      46319      0.664      0.701      0.729      0.505\n"
     ]
    },
    {
     "name": "stderr",
     "output_type": "stream",
     "text": [
      "\n"
     ]
    },
    {
     "name": "stdout",
     "output_type": "stream",
     "text": [
      "\n",
      "      Epoch    GPU_mem   box_loss   cls_loss   dfl_loss  Instances       Size\n"
     ]
    },
    {
     "name": "stderr",
     "output_type": "stream",
     "text": [
      "      45/50      6.94G          2       1.13      1.913        130        640: 100%|██████████| 1036/1036 [06:22<00:00,  2.71it/s]\n",
      "                 Class     Images  Instances      Box(P          R      mAP50  mAP50-95): 100%|██████████| 148/148 [00:38<00:00,  3.84it/s]"
     ]
    },
    {
     "name": "stdout",
     "output_type": "stream",
     "text": [
      "                   all       4735      46319      0.677      0.694      0.728      0.505\n"
     ]
    },
    {
     "name": "stderr",
     "output_type": "stream",
     "text": [
      "\n"
     ]
    },
    {
     "name": "stdout",
     "output_type": "stream",
     "text": [
      "\n",
      "      Epoch    GPU_mem   box_loss   cls_loss   dfl_loss  Instances       Size\n"
     ]
    },
    {
     "name": "stderr",
     "output_type": "stream",
     "text": [
      "      46/50      6.97G      1.981      1.113      1.901        141        640: 100%|██████████| 1036/1036 [06:22<00:00,  2.71it/s]\n",
      "                 Class     Images  Instances      Box(P          R      mAP50  mAP50-95): 100%|██████████| 148/148 [00:38<00:00,  3.82it/s]"
     ]
    },
    {
     "name": "stdout",
     "output_type": "stream",
     "text": [
      "                   all       4735      46319      0.666      0.702      0.728      0.505\n"
     ]
    },
    {
     "name": "stderr",
     "output_type": "stream",
     "text": [
      "\n"
     ]
    },
    {
     "name": "stdout",
     "output_type": "stream",
     "text": [
      "\n",
      "      Epoch    GPU_mem   box_loss   cls_loss   dfl_loss  Instances       Size\n"
     ]
    },
    {
     "name": "stderr",
     "output_type": "stream",
     "text": [
      "      47/50         7G      1.968      1.098      1.896        120        640: 100%|██████████| 1036/1036 [06:22<00:00,  2.71it/s]\n",
      "                 Class     Images  Instances      Box(P          R      mAP50  mAP50-95): 100%|██████████| 148/148 [00:38<00:00,  3.83it/s]"
     ]
    },
    {
     "name": "stdout",
     "output_type": "stream",
     "text": [
      "                   all       4735      46319      0.661       0.71      0.729      0.505\n"
     ]
    },
    {
     "name": "stderr",
     "output_type": "stream",
     "text": [
      "\n"
     ]
    },
    {
     "name": "stdout",
     "output_type": "stream",
     "text": [
      "\n",
      "      Epoch    GPU_mem   box_loss   cls_loss   dfl_loss  Instances       Size\n"
     ]
    },
    {
     "name": "stderr",
     "output_type": "stream",
     "text": [
      "      48/50      7.03G      1.953      1.086       1.89        147        640: 100%|██████████| 1036/1036 [06:22<00:00,  2.71it/s]\n",
      "                 Class     Images  Instances      Box(P          R      mAP50  mAP50-95): 100%|██████████| 148/148 [00:38<00:00,  3.84it/s]"
     ]
    },
    {
     "name": "stdout",
     "output_type": "stream",
     "text": [
      "                   all       4735      46319      0.658      0.713      0.728      0.504\n"
     ]
    },
    {
     "name": "stderr",
     "output_type": "stream",
     "text": [
      "\n"
     ]
    },
    {
     "name": "stdout",
     "output_type": "stream",
     "text": [
      "\n",
      "      Epoch    GPU_mem   box_loss   cls_loss   dfl_loss  Instances       Size\n"
     ]
    },
    {
     "name": "stderr",
     "output_type": "stream",
     "text": [
      "      49/50      7.06G      1.936      1.074      1.887        130        640: 100%|██████████| 1036/1036 [06:21<00:00,  2.71it/s]\n",
      "                 Class     Images  Instances      Box(P          R      mAP50  mAP50-95): 100%|██████████| 148/148 [00:38<00:00,  3.85it/s]"
     ]
    },
    {
     "name": "stdout",
     "output_type": "stream",
     "text": [
      "                   all       4735      46319      0.669      0.708      0.728      0.504\n"
     ]
    },
    {
     "name": "stderr",
     "output_type": "stream",
     "text": [
      "\n"
     ]
    },
    {
     "name": "stdout",
     "output_type": "stream",
     "text": [
      "\n",
      "      Epoch    GPU_mem   box_loss   cls_loss   dfl_loss  Instances       Size\n"
     ]
    },
    {
     "name": "stderr",
     "output_type": "stream",
     "text": [
      "      50/50      7.09G      1.927      1.062      1.884        133        640: 100%|██████████| 1036/1036 [06:22<00:00,  2.71it/s]\n",
      "                 Class     Images  Instances      Box(P          R      mAP50  mAP50-95): 100%|██████████| 148/148 [00:38<00:00,  3.85it/s]"
     ]
    },
    {
     "name": "stdout",
     "output_type": "stream",
     "text": [
      "                   all       4735      46319      0.671      0.705      0.727      0.504\n"
     ]
    },
    {
     "name": "stderr",
     "output_type": "stream",
     "text": [
      "\n"
     ]
    },
    {
     "name": "stdout",
     "output_type": "stream",
     "text": [
      "\n",
      "50 epochs completed in 5.964 hours.\n",
      "Optimizer stripped from /kaggle/working/base_yolov10/train/weights/last.pt, 16.5MB\n",
      "Optimizer stripped from /kaggle/working/base_yolov10/train/weights/best.pt, 16.5MB\n",
      "\n",
      "Validating /kaggle/working/base_yolov10/train/weights/best.pt...\n",
      "Ultralytics 8.3.185 🚀 Python-3.11.13 torch-2.6.0+cu124 CUDA:0 (Tesla T4, 15095MiB)\n",
      "YOLOv10s summary (fused): 106 layers, 7,221,483 parameters, 0 gradients, 21.4 GFLOPs\n"
     ]
    },
    {
     "name": "stderr",
     "output_type": "stream",
     "text": [
      "                 Class     Images  Instances      Box(P          R      mAP50  mAP50-95): 100%|██████████| 148/148 [00:35<00:00,  4.19it/s]\n",
      "/usr/local/lib/python3.11/dist-packages/matplotlib/colors.py:721: RuntimeWarning: invalid value encountered in less\n",
      "  xa[xa < 0] = -1\n",
      "/usr/local/lib/python3.11/dist-packages/matplotlib/colors.py:721: RuntimeWarning: invalid value encountered in less\n",
      "  xa[xa < 0] = -1\n"
     ]
    },
    {
     "name": "stdout",
     "output_type": "stream",
     "text": [
      "                   all       4735      46319      0.662      0.702      0.729      0.506\n",
      "              Rickshaw       3906      11944      0.769      0.862      0.901      0.632\n",
      "                   Bus       3865      10420      0.775      0.849      0.889      0.653\n",
      "                 Truck        225        237      0.439      0.477      0.465      0.359\n",
      "                  Bike       2118       3183      0.729      0.801      0.836      0.512\n",
      "                People       2883       7560      0.744      0.803      0.857      0.556\n",
      "                   Car       4267      12833       0.82      0.891      0.934      0.706\n",
      "                 Cycle        138        142       0.36       0.23      0.223      0.123\n",
      "Speed: 0.1ms preprocess, 4.0ms inference, 0.0ms loss, 0.2ms postprocess per image\n",
      "Results saved to \u001b[1m/kaggle/working/base_yolov10/train\u001b[0m\n"
     ]
    },
    {
     "data": {
      "text/plain": [
       "ultralytics.utils.metrics.DetMetrics object with attributes:\n",
       "\n",
       "ap_class_index: array([0, 1, 2, 3, 5, 6, 8])\n",
       "box: ultralytics.utils.metrics.Metric object\n",
       "confusion_matrix: <ultralytics.utils.metrics.ConfusionMatrix object at 0x78b6aa3e4ed0>\n",
       "curves: ['Precision-Recall(B)', 'F1-Confidence(B)', 'Precision-Confidence(B)', 'Recall-Confidence(B)']\n",
       "curves_results: [[array([          0,    0.001001,    0.002002,    0.003003,    0.004004,    0.005005,    0.006006,    0.007007,    0.008008,    0.009009,     0.01001,    0.011011,    0.012012,    0.013013,    0.014014,    0.015015,    0.016016,    0.017017,    0.018018,    0.019019,     0.02002,    0.021021,    0.022022,    0.023023,\n",
       "          0.024024,    0.025025,    0.026026,    0.027027,    0.028028,    0.029029,     0.03003,    0.031031,    0.032032,    0.033033,    0.034034,    0.035035,    0.036036,    0.037037,    0.038038,    0.039039,     0.04004,    0.041041,    0.042042,    0.043043,    0.044044,    0.045045,    0.046046,    0.047047,\n",
       "          0.048048,    0.049049,     0.05005,    0.051051,    0.052052,    0.053053,    0.054054,    0.055055,    0.056056,    0.057057,    0.058058,    0.059059,     0.06006,    0.061061,    0.062062,    0.063063,    0.064064,    0.065065,    0.066066,    0.067067,    0.068068,    0.069069,     0.07007,    0.071071,\n",
       "          0.072072,    0.073073,    0.074074,    0.075075,    0.076076,    0.077077,    0.078078,    0.079079,     0.08008,    0.081081,    0.082082,    0.083083,    0.084084,    0.085085,    0.086086,    0.087087,    0.088088,    0.089089,     0.09009,    0.091091,    0.092092,    0.093093,    0.094094,    0.095095,\n",
       "          0.096096,    0.097097,    0.098098,    0.099099,      0.1001,      0.1011,      0.1021,      0.1031,      0.1041,     0.10511,     0.10611,     0.10711,     0.10811,     0.10911,     0.11011,     0.11111,     0.11211,     0.11311,     0.11411,     0.11512,     0.11612,     0.11712,     0.11812,     0.11912,\n",
       "           0.12012,     0.12112,     0.12212,     0.12312,     0.12412,     0.12513,     0.12613,     0.12713,     0.12813,     0.12913,     0.13013,     0.13113,     0.13213,     0.13313,     0.13413,     0.13514,     0.13614,     0.13714,     0.13814,     0.13914,     0.14014,     0.14114,     0.14214,     0.14314,\n",
       "           0.14414,     0.14515,     0.14615,     0.14715,     0.14815,     0.14915,     0.15015,     0.15115,     0.15215,     0.15315,     0.15415,     0.15516,     0.15616,     0.15716,     0.15816,     0.15916,     0.16016,     0.16116,     0.16216,     0.16316,     0.16416,     0.16517,     0.16617,     0.16717,\n",
       "           0.16817,     0.16917,     0.17017,     0.17117,     0.17217,     0.17317,     0.17417,     0.17518,     0.17618,     0.17718,     0.17818,     0.17918,     0.18018,     0.18118,     0.18218,     0.18318,     0.18418,     0.18519,     0.18619,     0.18719,     0.18819,     0.18919,     0.19019,     0.19119,\n",
       "           0.19219,     0.19319,     0.19419,      0.1952,      0.1962,      0.1972,      0.1982,      0.1992,      0.2002,      0.2012,      0.2022,      0.2032,      0.2042,     0.20521,     0.20621,     0.20721,     0.20821,     0.20921,     0.21021,     0.21121,     0.21221,     0.21321,     0.21421,     0.21522,\n",
       "           0.21622,     0.21722,     0.21822,     0.21922,     0.22022,     0.22122,     0.22222,     0.22322,     0.22422,     0.22523,     0.22623,     0.22723,     0.22823,     0.22923,     0.23023,     0.23123,     0.23223,     0.23323,     0.23423,     0.23524,     0.23624,     0.23724,     0.23824,     0.23924,\n",
       "           0.24024,     0.24124,     0.24224,     0.24324,     0.24424,     0.24525,     0.24625,     0.24725,     0.24825,     0.24925,     0.25025,     0.25125,     0.25225,     0.25325,     0.25425,     0.25526,     0.25626,     0.25726,     0.25826,     0.25926,     0.26026,     0.26126,     0.26226,     0.26326,\n",
       "           0.26426,     0.26527,     0.26627,     0.26727,     0.26827,     0.26927,     0.27027,     0.27127,     0.27227,     0.27327,     0.27427,     0.27528,     0.27628,     0.27728,     0.27828,     0.27928,     0.28028,     0.28128,     0.28228,     0.28328,     0.28428,     0.28529,     0.28629,     0.28729,\n",
       "           0.28829,     0.28929,     0.29029,     0.29129,     0.29229,     0.29329,     0.29429,      0.2953,      0.2963,      0.2973,      0.2983,      0.2993,      0.3003,      0.3013,      0.3023,      0.3033,      0.3043,     0.30531,     0.30631,     0.30731,     0.30831,     0.30931,     0.31031,     0.31131,\n",
       "           0.31231,     0.31331,     0.31431,     0.31532,     0.31632,     0.31732,     0.31832,     0.31932,     0.32032,     0.32132,     0.32232,     0.32332,     0.32432,     0.32533,     0.32633,     0.32733,     0.32833,     0.32933,     0.33033,     0.33133,     0.33233,     0.33333,     0.33433,     0.33534,\n",
       "           0.33634,     0.33734,     0.33834,     0.33934,     0.34034,     0.34134,     0.34234,     0.34334,     0.34434,     0.34535,     0.34635,     0.34735,     0.34835,     0.34935,     0.35035,     0.35135,     0.35235,     0.35335,     0.35435,     0.35536,     0.35636,     0.35736,     0.35836,     0.35936,\n",
       "           0.36036,     0.36136,     0.36236,     0.36336,     0.36436,     0.36537,     0.36637,     0.36737,     0.36837,     0.36937,     0.37037,     0.37137,     0.37237,     0.37337,     0.37437,     0.37538,     0.37638,     0.37738,     0.37838,     0.37938,     0.38038,     0.38138,     0.38238,     0.38338,\n",
       "           0.38438,     0.38539,     0.38639,     0.38739,     0.38839,     0.38939,     0.39039,     0.39139,     0.39239,     0.39339,     0.39439,      0.3954,      0.3964,      0.3974,      0.3984,      0.3994,      0.4004,      0.4014,      0.4024,      0.4034,      0.4044,     0.40541,     0.40641,     0.40741,\n",
       "           0.40841,     0.40941,     0.41041,     0.41141,     0.41241,     0.41341,     0.41441,     0.41542,     0.41642,     0.41742,     0.41842,     0.41942,     0.42042,     0.42142,     0.42242,     0.42342,     0.42442,     0.42543,     0.42643,     0.42743,     0.42843,     0.42943,     0.43043,     0.43143,\n",
       "           0.43243,     0.43343,     0.43443,     0.43544,     0.43644,     0.43744,     0.43844,     0.43944,     0.44044,     0.44144,     0.44244,     0.44344,     0.44444,     0.44545,     0.44645,     0.44745,     0.44845,     0.44945,     0.45045,     0.45145,     0.45245,     0.45345,     0.45445,     0.45546,\n",
       "           0.45646,     0.45746,     0.45846,     0.45946,     0.46046,     0.46146,     0.46246,     0.46346,     0.46446,     0.46547,     0.46647,     0.46747,     0.46847,     0.46947,     0.47047,     0.47147,     0.47247,     0.47347,     0.47447,     0.47548,     0.47648,     0.47748,     0.47848,     0.47948,\n",
       "           0.48048,     0.48148,     0.48248,     0.48348,     0.48448,     0.48549,     0.48649,     0.48749,     0.48849,     0.48949,     0.49049,     0.49149,     0.49249,     0.49349,     0.49449,      0.4955,      0.4965,      0.4975,      0.4985,      0.4995,      0.5005,      0.5015,      0.5025,      0.5035,\n",
       "            0.5045,     0.50551,     0.50651,     0.50751,     0.50851,     0.50951,     0.51051,     0.51151,     0.51251,     0.51351,     0.51451,     0.51552,     0.51652,     0.51752,     0.51852,     0.51952,     0.52052,     0.52152,     0.52252,     0.52352,     0.52452,     0.52553,     0.52653,     0.52753,\n",
       "           0.52853,     0.52953,     0.53053,     0.53153,     0.53253,     0.53353,     0.53453,     0.53554,     0.53654,     0.53754,     0.53854,     0.53954,     0.54054,     0.54154,     0.54254,     0.54354,     0.54454,     0.54555,     0.54655,     0.54755,     0.54855,     0.54955,     0.55055,     0.55155,\n",
       "           0.55255,     0.55355,     0.55455,     0.55556,     0.55656,     0.55756,     0.55856,     0.55956,     0.56056,     0.56156,     0.56256,     0.56356,     0.56456,     0.56557,     0.56657,     0.56757,     0.56857,     0.56957,     0.57057,     0.57157,     0.57257,     0.57357,     0.57457,     0.57558,\n",
       "           0.57658,     0.57758,     0.57858,     0.57958,     0.58058,     0.58158,     0.58258,     0.58358,     0.58458,     0.58559,     0.58659,     0.58759,     0.58859,     0.58959,     0.59059,     0.59159,     0.59259,     0.59359,     0.59459,      0.5956,      0.5966,      0.5976,      0.5986,      0.5996,\n",
       "            0.6006,      0.6016,      0.6026,      0.6036,      0.6046,     0.60561,     0.60661,     0.60761,     0.60861,     0.60961,     0.61061,     0.61161,     0.61261,     0.61361,     0.61461,     0.61562,     0.61662,     0.61762,     0.61862,     0.61962,     0.62062,     0.62162,     0.62262,     0.62362,\n",
       "           0.62462,     0.62563,     0.62663,     0.62763,     0.62863,     0.62963,     0.63063,     0.63163,     0.63263,     0.63363,     0.63463,     0.63564,     0.63664,     0.63764,     0.63864,     0.63964,     0.64064,     0.64164,     0.64264,     0.64364,     0.64464,     0.64565,     0.64665,     0.64765,\n",
       "           0.64865,     0.64965,     0.65065,     0.65165,     0.65265,     0.65365,     0.65465,     0.65566,     0.65666,     0.65766,     0.65866,     0.65966,     0.66066,     0.66166,     0.66266,     0.66366,     0.66466,     0.66567,     0.66667,     0.66767,     0.66867,     0.66967,     0.67067,     0.67167,\n",
       "           0.67267,     0.67367,     0.67467,     0.67568,     0.67668,     0.67768,     0.67868,     0.67968,     0.68068,     0.68168,     0.68268,     0.68368,     0.68468,     0.68569,     0.68669,     0.68769,     0.68869,     0.68969,     0.69069,     0.69169,     0.69269,     0.69369,     0.69469,      0.6957,\n",
       "            0.6967,      0.6977,      0.6987,      0.6997,      0.7007,      0.7017,      0.7027,      0.7037,      0.7047,     0.70571,     0.70671,     0.70771,     0.70871,     0.70971,     0.71071,     0.71171,     0.71271,     0.71371,     0.71471,     0.71572,     0.71672,     0.71772,     0.71872,     0.71972,\n",
       "           0.72072,     0.72172,     0.72272,     0.72372,     0.72472,     0.72573,     0.72673,     0.72773,     0.72873,     0.72973,     0.73073,     0.73173,     0.73273,     0.73373,     0.73473,     0.73574,     0.73674,     0.73774,     0.73874,     0.73974,     0.74074,     0.74174,     0.74274,     0.74374,\n",
       "           0.74474,     0.74575,     0.74675,     0.74775,     0.74875,     0.74975,     0.75075,     0.75175,     0.75275,     0.75375,     0.75475,     0.75576,     0.75676,     0.75776,     0.75876,     0.75976,     0.76076,     0.76176,     0.76276,     0.76376,     0.76476,     0.76577,     0.76677,     0.76777,\n",
       "           0.76877,     0.76977,     0.77077,     0.77177,     0.77277,     0.77377,     0.77477,     0.77578,     0.77678,     0.77778,     0.77878,     0.77978,     0.78078,     0.78178,     0.78278,     0.78378,     0.78478,     0.78579,     0.78679,     0.78779,     0.78879,     0.78979,     0.79079,     0.79179,\n",
       "           0.79279,     0.79379,     0.79479,      0.7958,      0.7968,      0.7978,      0.7988,      0.7998,      0.8008,      0.8018,      0.8028,      0.8038,      0.8048,     0.80581,     0.80681,     0.80781,     0.80881,     0.80981,     0.81081,     0.81181,     0.81281,     0.81381,     0.81481,     0.81582,\n",
       "           0.81682,     0.81782,     0.81882,     0.81982,     0.82082,     0.82182,     0.82282,     0.82382,     0.82482,     0.82583,     0.82683,     0.82783,     0.82883,     0.82983,     0.83083,     0.83183,     0.83283,     0.83383,     0.83483,     0.83584,     0.83684,     0.83784,     0.83884,     0.83984,\n",
       "           0.84084,     0.84184,     0.84284,     0.84384,     0.84484,     0.84585,     0.84685,     0.84785,     0.84885,     0.84985,     0.85085,     0.85185,     0.85285,     0.85385,     0.85485,     0.85586,     0.85686,     0.85786,     0.85886,     0.85986,     0.86086,     0.86186,     0.86286,     0.86386,\n",
       "           0.86486,     0.86587,     0.86687,     0.86787,     0.86887,     0.86987,     0.87087,     0.87187,     0.87287,     0.87387,     0.87487,     0.87588,     0.87688,     0.87788,     0.87888,     0.87988,     0.88088,     0.88188,     0.88288,     0.88388,     0.88488,     0.88589,     0.88689,     0.88789,\n",
       "           0.88889,     0.88989,     0.89089,     0.89189,     0.89289,     0.89389,     0.89489,      0.8959,      0.8969,      0.8979,      0.8989,      0.8999,      0.9009,      0.9019,      0.9029,      0.9039,      0.9049,     0.90591,     0.90691,     0.90791,     0.90891,     0.90991,     0.91091,     0.91191,\n",
       "           0.91291,     0.91391,     0.91491,     0.91592,     0.91692,     0.91792,     0.91892,     0.91992,     0.92092,     0.92192,     0.92292,     0.92392,     0.92492,     0.92593,     0.92693,     0.92793,     0.92893,     0.92993,     0.93093,     0.93193,     0.93293,     0.93393,     0.93493,     0.93594,\n",
       "           0.93694,     0.93794,     0.93894,     0.93994,     0.94094,     0.94194,     0.94294,     0.94394,     0.94494,     0.94595,     0.94695,     0.94795,     0.94895,     0.94995,     0.95095,     0.95195,     0.95295,     0.95395,     0.95495,     0.95596,     0.95696,     0.95796,     0.95896,     0.95996,\n",
       "           0.96096,     0.96196,     0.96296,     0.96396,     0.96496,     0.96597,     0.96697,     0.96797,     0.96897,     0.96997,     0.97097,     0.97197,     0.97297,     0.97397,     0.97497,     0.97598,     0.97698,     0.97798,     0.97898,     0.97998,     0.98098,     0.98198,     0.98298,     0.98398,\n",
       "           0.98498,     0.98599,     0.98699,     0.98799,     0.98899,     0.98999,     0.99099,     0.99199,     0.99299,     0.99399,     0.99499,       0.996,       0.997,       0.998,       0.999,           1]), array([[          1,           1,           1, ...,    0.061339,     0.03067,           0],\n",
       "       [    0.99663,     0.99663,     0.99663, ...,    0.046708,    0.023354,           0],\n",
       "       [          1,           1,           1, ...,   0.0015241,  0.00076206,           0],\n",
       "       ...,\n",
       "       [          1,           1,           1, ...,    0.028811,    0.014405,           0],\n",
       "       [          1,           1,           1, ...,     0.12375,    0.061874,           0],\n",
       "       [          1,           1,           1, ...,  0.00037417,  0.00018708,           0]]), 'Recall', 'Precision'], [array([          0,    0.001001,    0.002002,    0.003003,    0.004004,    0.005005,    0.006006,    0.007007,    0.008008,    0.009009,     0.01001,    0.011011,    0.012012,    0.013013,    0.014014,    0.015015,    0.016016,    0.017017,    0.018018,    0.019019,     0.02002,    0.021021,    0.022022,    0.023023,\n",
       "          0.024024,    0.025025,    0.026026,    0.027027,    0.028028,    0.029029,     0.03003,    0.031031,    0.032032,    0.033033,    0.034034,    0.035035,    0.036036,    0.037037,    0.038038,    0.039039,     0.04004,    0.041041,    0.042042,    0.043043,    0.044044,    0.045045,    0.046046,    0.047047,\n",
       "          0.048048,    0.049049,     0.05005,    0.051051,    0.052052,    0.053053,    0.054054,    0.055055,    0.056056,    0.057057,    0.058058,    0.059059,     0.06006,    0.061061,    0.062062,    0.063063,    0.064064,    0.065065,    0.066066,    0.067067,    0.068068,    0.069069,     0.07007,    0.071071,\n",
       "          0.072072,    0.073073,    0.074074,    0.075075,    0.076076,    0.077077,    0.078078,    0.079079,     0.08008,    0.081081,    0.082082,    0.083083,    0.084084,    0.085085,    0.086086,    0.087087,    0.088088,    0.089089,     0.09009,    0.091091,    0.092092,    0.093093,    0.094094,    0.095095,\n",
       "          0.096096,    0.097097,    0.098098,    0.099099,      0.1001,      0.1011,      0.1021,      0.1031,      0.1041,     0.10511,     0.10611,     0.10711,     0.10811,     0.10911,     0.11011,     0.11111,     0.11211,     0.11311,     0.11411,     0.11512,     0.11612,     0.11712,     0.11812,     0.11912,\n",
       "           0.12012,     0.12112,     0.12212,     0.12312,     0.12412,     0.12513,     0.12613,     0.12713,     0.12813,     0.12913,     0.13013,     0.13113,     0.13213,     0.13313,     0.13413,     0.13514,     0.13614,     0.13714,     0.13814,     0.13914,     0.14014,     0.14114,     0.14214,     0.14314,\n",
       "           0.14414,     0.14515,     0.14615,     0.14715,     0.14815,     0.14915,     0.15015,     0.15115,     0.15215,     0.15315,     0.15415,     0.15516,     0.15616,     0.15716,     0.15816,     0.15916,     0.16016,     0.16116,     0.16216,     0.16316,     0.16416,     0.16517,     0.16617,     0.16717,\n",
       "           0.16817,     0.16917,     0.17017,     0.17117,     0.17217,     0.17317,     0.17417,     0.17518,     0.17618,     0.17718,     0.17818,     0.17918,     0.18018,     0.18118,     0.18218,     0.18318,     0.18418,     0.18519,     0.18619,     0.18719,     0.18819,     0.18919,     0.19019,     0.19119,\n",
       "           0.19219,     0.19319,     0.19419,      0.1952,      0.1962,      0.1972,      0.1982,      0.1992,      0.2002,      0.2012,      0.2022,      0.2032,      0.2042,     0.20521,     0.20621,     0.20721,     0.20821,     0.20921,     0.21021,     0.21121,     0.21221,     0.21321,     0.21421,     0.21522,\n",
       "           0.21622,     0.21722,     0.21822,     0.21922,     0.22022,     0.22122,     0.22222,     0.22322,     0.22422,     0.22523,     0.22623,     0.22723,     0.22823,     0.22923,     0.23023,     0.23123,     0.23223,     0.23323,     0.23423,     0.23524,     0.23624,     0.23724,     0.23824,     0.23924,\n",
       "           0.24024,     0.24124,     0.24224,     0.24324,     0.24424,     0.24525,     0.24625,     0.24725,     0.24825,     0.24925,     0.25025,     0.25125,     0.25225,     0.25325,     0.25425,     0.25526,     0.25626,     0.25726,     0.25826,     0.25926,     0.26026,     0.26126,     0.26226,     0.26326,\n",
       "           0.26426,     0.26527,     0.26627,     0.26727,     0.26827,     0.26927,     0.27027,     0.27127,     0.27227,     0.27327,     0.27427,     0.27528,     0.27628,     0.27728,     0.27828,     0.27928,     0.28028,     0.28128,     0.28228,     0.28328,     0.28428,     0.28529,     0.28629,     0.28729,\n",
       "           0.28829,     0.28929,     0.29029,     0.29129,     0.29229,     0.29329,     0.29429,      0.2953,      0.2963,      0.2973,      0.2983,      0.2993,      0.3003,      0.3013,      0.3023,      0.3033,      0.3043,     0.30531,     0.30631,     0.30731,     0.30831,     0.30931,     0.31031,     0.31131,\n",
       "           0.31231,     0.31331,     0.31431,     0.31532,     0.31632,     0.31732,     0.31832,     0.31932,     0.32032,     0.32132,     0.32232,     0.32332,     0.32432,     0.32533,     0.32633,     0.32733,     0.32833,     0.32933,     0.33033,     0.33133,     0.33233,     0.33333,     0.33433,     0.33534,\n",
       "           0.33634,     0.33734,     0.33834,     0.33934,     0.34034,     0.34134,     0.34234,     0.34334,     0.34434,     0.34535,     0.34635,     0.34735,     0.34835,     0.34935,     0.35035,     0.35135,     0.35235,     0.35335,     0.35435,     0.35536,     0.35636,     0.35736,     0.35836,     0.35936,\n",
       "           0.36036,     0.36136,     0.36236,     0.36336,     0.36436,     0.36537,     0.36637,     0.36737,     0.36837,     0.36937,     0.37037,     0.37137,     0.37237,     0.37337,     0.37437,     0.37538,     0.37638,     0.37738,     0.37838,     0.37938,     0.38038,     0.38138,     0.38238,     0.38338,\n",
       "           0.38438,     0.38539,     0.38639,     0.38739,     0.38839,     0.38939,     0.39039,     0.39139,     0.39239,     0.39339,     0.39439,      0.3954,      0.3964,      0.3974,      0.3984,      0.3994,      0.4004,      0.4014,      0.4024,      0.4034,      0.4044,     0.40541,     0.40641,     0.40741,\n",
       "           0.40841,     0.40941,     0.41041,     0.41141,     0.41241,     0.41341,     0.41441,     0.41542,     0.41642,     0.41742,     0.41842,     0.41942,     0.42042,     0.42142,     0.42242,     0.42342,     0.42442,     0.42543,     0.42643,     0.42743,     0.42843,     0.42943,     0.43043,     0.43143,\n",
       "           0.43243,     0.43343,     0.43443,     0.43544,     0.43644,     0.43744,     0.43844,     0.43944,     0.44044,     0.44144,     0.44244,     0.44344,     0.44444,     0.44545,     0.44645,     0.44745,     0.44845,     0.44945,     0.45045,     0.45145,     0.45245,     0.45345,     0.45445,     0.45546,\n",
       "           0.45646,     0.45746,     0.45846,     0.45946,     0.46046,     0.46146,     0.46246,     0.46346,     0.46446,     0.46547,     0.46647,     0.46747,     0.46847,     0.46947,     0.47047,     0.47147,     0.47247,     0.47347,     0.47447,     0.47548,     0.47648,     0.47748,     0.47848,     0.47948,\n",
       "           0.48048,     0.48148,     0.48248,     0.48348,     0.48448,     0.48549,     0.48649,     0.48749,     0.48849,     0.48949,     0.49049,     0.49149,     0.49249,     0.49349,     0.49449,      0.4955,      0.4965,      0.4975,      0.4985,      0.4995,      0.5005,      0.5015,      0.5025,      0.5035,\n",
       "            0.5045,     0.50551,     0.50651,     0.50751,     0.50851,     0.50951,     0.51051,     0.51151,     0.51251,     0.51351,     0.51451,     0.51552,     0.51652,     0.51752,     0.51852,     0.51952,     0.52052,     0.52152,     0.52252,     0.52352,     0.52452,     0.52553,     0.52653,     0.52753,\n",
       "           0.52853,     0.52953,     0.53053,     0.53153,     0.53253,     0.53353,     0.53453,     0.53554,     0.53654,     0.53754,     0.53854,     0.53954,     0.54054,     0.54154,     0.54254,     0.54354,     0.54454,     0.54555,     0.54655,     0.54755,     0.54855,     0.54955,     0.55055,     0.55155,\n",
       "           0.55255,     0.55355,     0.55455,     0.55556,     0.55656,     0.55756,     0.55856,     0.55956,     0.56056,     0.56156,     0.56256,     0.56356,     0.56456,     0.56557,     0.56657,     0.56757,     0.56857,     0.56957,     0.57057,     0.57157,     0.57257,     0.57357,     0.57457,     0.57558,\n",
       "           0.57658,     0.57758,     0.57858,     0.57958,     0.58058,     0.58158,     0.58258,     0.58358,     0.58458,     0.58559,     0.58659,     0.58759,     0.58859,     0.58959,     0.59059,     0.59159,     0.59259,     0.59359,     0.59459,      0.5956,      0.5966,      0.5976,      0.5986,      0.5996,\n",
       "            0.6006,      0.6016,      0.6026,      0.6036,      0.6046,     0.60561,     0.60661,     0.60761,     0.60861,     0.60961,     0.61061,     0.61161,     0.61261,     0.61361,     0.61461,     0.61562,     0.61662,     0.61762,     0.61862,     0.61962,     0.62062,     0.62162,     0.62262,     0.62362,\n",
       "           0.62462,     0.62563,     0.62663,     0.62763,     0.62863,     0.62963,     0.63063,     0.63163,     0.63263,     0.63363,     0.63463,     0.63564,     0.63664,     0.63764,     0.63864,     0.63964,     0.64064,     0.64164,     0.64264,     0.64364,     0.64464,     0.64565,     0.64665,     0.64765,\n",
       "           0.64865,     0.64965,     0.65065,     0.65165,     0.65265,     0.65365,     0.65465,     0.65566,     0.65666,     0.65766,     0.65866,     0.65966,     0.66066,     0.66166,     0.66266,     0.66366,     0.66466,     0.66567,     0.66667,     0.66767,     0.66867,     0.66967,     0.67067,     0.67167,\n",
       "           0.67267,     0.67367,     0.67467,     0.67568,     0.67668,     0.67768,     0.67868,     0.67968,     0.68068,     0.68168,     0.68268,     0.68368,     0.68468,     0.68569,     0.68669,     0.68769,     0.68869,     0.68969,     0.69069,     0.69169,     0.69269,     0.69369,     0.69469,      0.6957,\n",
       "            0.6967,      0.6977,      0.6987,      0.6997,      0.7007,      0.7017,      0.7027,      0.7037,      0.7047,     0.70571,     0.70671,     0.70771,     0.70871,     0.70971,     0.71071,     0.71171,     0.71271,     0.71371,     0.71471,     0.71572,     0.71672,     0.71772,     0.71872,     0.71972,\n",
       "           0.72072,     0.72172,     0.72272,     0.72372,     0.72472,     0.72573,     0.72673,     0.72773,     0.72873,     0.72973,     0.73073,     0.73173,     0.73273,     0.73373,     0.73473,     0.73574,     0.73674,     0.73774,     0.73874,     0.73974,     0.74074,     0.74174,     0.74274,     0.74374,\n",
       "           0.74474,     0.74575,     0.74675,     0.74775,     0.74875,     0.74975,     0.75075,     0.75175,     0.75275,     0.75375,     0.75475,     0.75576,     0.75676,     0.75776,     0.75876,     0.75976,     0.76076,     0.76176,     0.76276,     0.76376,     0.76476,     0.76577,     0.76677,     0.76777,\n",
       "           0.76877,     0.76977,     0.77077,     0.77177,     0.77277,     0.77377,     0.77477,     0.77578,     0.77678,     0.77778,     0.77878,     0.77978,     0.78078,     0.78178,     0.78278,     0.78378,     0.78478,     0.78579,     0.78679,     0.78779,     0.78879,     0.78979,     0.79079,     0.79179,\n",
       "           0.79279,     0.79379,     0.79479,      0.7958,      0.7968,      0.7978,      0.7988,      0.7998,      0.8008,      0.8018,      0.8028,      0.8038,      0.8048,     0.80581,     0.80681,     0.80781,     0.80881,     0.80981,     0.81081,     0.81181,     0.81281,     0.81381,     0.81481,     0.81582,\n",
       "           0.81682,     0.81782,     0.81882,     0.81982,     0.82082,     0.82182,     0.82282,     0.82382,     0.82482,     0.82583,     0.82683,     0.82783,     0.82883,     0.82983,     0.83083,     0.83183,     0.83283,     0.83383,     0.83483,     0.83584,     0.83684,     0.83784,     0.83884,     0.83984,\n",
       "           0.84084,     0.84184,     0.84284,     0.84384,     0.84484,     0.84585,     0.84685,     0.84785,     0.84885,     0.84985,     0.85085,     0.85185,     0.85285,     0.85385,     0.85485,     0.85586,     0.85686,     0.85786,     0.85886,     0.85986,     0.86086,     0.86186,     0.86286,     0.86386,\n",
       "           0.86486,     0.86587,     0.86687,     0.86787,     0.86887,     0.86987,     0.87087,     0.87187,     0.87287,     0.87387,     0.87487,     0.87588,     0.87688,     0.87788,     0.87888,     0.87988,     0.88088,     0.88188,     0.88288,     0.88388,     0.88488,     0.88589,     0.88689,     0.88789,\n",
       "           0.88889,     0.88989,     0.89089,     0.89189,     0.89289,     0.89389,     0.89489,      0.8959,      0.8969,      0.8979,      0.8989,      0.8999,      0.9009,      0.9019,      0.9029,      0.9039,      0.9049,     0.90591,     0.90691,     0.90791,     0.90891,     0.90991,     0.91091,     0.91191,\n",
       "           0.91291,     0.91391,     0.91491,     0.91592,     0.91692,     0.91792,     0.91892,     0.91992,     0.92092,     0.92192,     0.92292,     0.92392,     0.92492,     0.92593,     0.92693,     0.92793,     0.92893,     0.92993,     0.93093,     0.93193,     0.93293,     0.93393,     0.93493,     0.93594,\n",
       "           0.93694,     0.93794,     0.93894,     0.93994,     0.94094,     0.94194,     0.94294,     0.94394,     0.94494,     0.94595,     0.94695,     0.94795,     0.94895,     0.94995,     0.95095,     0.95195,     0.95295,     0.95395,     0.95495,     0.95596,     0.95696,     0.95796,     0.95896,     0.95996,\n",
       "           0.96096,     0.96196,     0.96296,     0.96396,     0.96496,     0.96597,     0.96697,     0.96797,     0.96897,     0.96997,     0.97097,     0.97197,     0.97297,     0.97397,     0.97497,     0.97598,     0.97698,     0.97798,     0.97898,     0.97998,     0.98098,     0.98198,     0.98298,     0.98398,\n",
       "           0.98498,     0.98599,     0.98699,     0.98799,     0.98899,     0.98999,     0.99099,     0.99199,     0.99299,     0.99399,     0.99499,       0.996,       0.997,       0.998,       0.999,           1]), array([[    0.36783,     0.36837,     0.43261, ...,           0,           0,           0],\n",
       "       [    0.38287,     0.38339,     0.45059, ...,           0,           0,           0],\n",
       "       [   0.097421,    0.097705,     0.12345, ...,           0,           0,           0],\n",
       "       ...,\n",
       "       [    0.32447,     0.32506,     0.38678, ...,           0,           0,           0],\n",
       "       [    0.48734,     0.48784,     0.55011, ...,           0,           0,           0],\n",
       "       [   0.058434,    0.058551,     0.08051, ...,           0,           0,           0]]), 'Confidence', 'F1'], [array([          0,    0.001001,    0.002002,    0.003003,    0.004004,    0.005005,    0.006006,    0.007007,    0.008008,    0.009009,     0.01001,    0.011011,    0.012012,    0.013013,    0.014014,    0.015015,    0.016016,    0.017017,    0.018018,    0.019019,     0.02002,    0.021021,    0.022022,    0.023023,\n",
       "          0.024024,    0.025025,    0.026026,    0.027027,    0.028028,    0.029029,     0.03003,    0.031031,    0.032032,    0.033033,    0.034034,    0.035035,    0.036036,    0.037037,    0.038038,    0.039039,     0.04004,    0.041041,    0.042042,    0.043043,    0.044044,    0.045045,    0.046046,    0.047047,\n",
       "          0.048048,    0.049049,     0.05005,    0.051051,    0.052052,    0.053053,    0.054054,    0.055055,    0.056056,    0.057057,    0.058058,    0.059059,     0.06006,    0.061061,    0.062062,    0.063063,    0.064064,    0.065065,    0.066066,    0.067067,    0.068068,    0.069069,     0.07007,    0.071071,\n",
       "          0.072072,    0.073073,    0.074074,    0.075075,    0.076076,    0.077077,    0.078078,    0.079079,     0.08008,    0.081081,    0.082082,    0.083083,    0.084084,    0.085085,    0.086086,    0.087087,    0.088088,    0.089089,     0.09009,    0.091091,    0.092092,    0.093093,    0.094094,    0.095095,\n",
       "          0.096096,    0.097097,    0.098098,    0.099099,      0.1001,      0.1011,      0.1021,      0.1031,      0.1041,     0.10511,     0.10611,     0.10711,     0.10811,     0.10911,     0.11011,     0.11111,     0.11211,     0.11311,     0.11411,     0.11512,     0.11612,     0.11712,     0.11812,     0.11912,\n",
       "           0.12012,     0.12112,     0.12212,     0.12312,     0.12412,     0.12513,     0.12613,     0.12713,     0.12813,     0.12913,     0.13013,     0.13113,     0.13213,     0.13313,     0.13413,     0.13514,     0.13614,     0.13714,     0.13814,     0.13914,     0.14014,     0.14114,     0.14214,     0.14314,\n",
       "           0.14414,     0.14515,     0.14615,     0.14715,     0.14815,     0.14915,     0.15015,     0.15115,     0.15215,     0.15315,     0.15415,     0.15516,     0.15616,     0.15716,     0.15816,     0.15916,     0.16016,     0.16116,     0.16216,     0.16316,     0.16416,     0.16517,     0.16617,     0.16717,\n",
       "           0.16817,     0.16917,     0.17017,     0.17117,     0.17217,     0.17317,     0.17417,     0.17518,     0.17618,     0.17718,     0.17818,     0.17918,     0.18018,     0.18118,     0.18218,     0.18318,     0.18418,     0.18519,     0.18619,     0.18719,     0.18819,     0.18919,     0.19019,     0.19119,\n",
       "           0.19219,     0.19319,     0.19419,      0.1952,      0.1962,      0.1972,      0.1982,      0.1992,      0.2002,      0.2012,      0.2022,      0.2032,      0.2042,     0.20521,     0.20621,     0.20721,     0.20821,     0.20921,     0.21021,     0.21121,     0.21221,     0.21321,     0.21421,     0.21522,\n",
       "           0.21622,     0.21722,     0.21822,     0.21922,     0.22022,     0.22122,     0.22222,     0.22322,     0.22422,     0.22523,     0.22623,     0.22723,     0.22823,     0.22923,     0.23023,     0.23123,     0.23223,     0.23323,     0.23423,     0.23524,     0.23624,     0.23724,     0.23824,     0.23924,\n",
       "           0.24024,     0.24124,     0.24224,     0.24324,     0.24424,     0.24525,     0.24625,     0.24725,     0.24825,     0.24925,     0.25025,     0.25125,     0.25225,     0.25325,     0.25425,     0.25526,     0.25626,     0.25726,     0.25826,     0.25926,     0.26026,     0.26126,     0.26226,     0.26326,\n",
       "           0.26426,     0.26527,     0.26627,     0.26727,     0.26827,     0.26927,     0.27027,     0.27127,     0.27227,     0.27327,     0.27427,     0.27528,     0.27628,     0.27728,     0.27828,     0.27928,     0.28028,     0.28128,     0.28228,     0.28328,     0.28428,     0.28529,     0.28629,     0.28729,\n",
       "           0.28829,     0.28929,     0.29029,     0.29129,     0.29229,     0.29329,     0.29429,      0.2953,      0.2963,      0.2973,      0.2983,      0.2993,      0.3003,      0.3013,      0.3023,      0.3033,      0.3043,     0.30531,     0.30631,     0.30731,     0.30831,     0.30931,     0.31031,     0.31131,\n",
       "           0.31231,     0.31331,     0.31431,     0.31532,     0.31632,     0.31732,     0.31832,     0.31932,     0.32032,     0.32132,     0.32232,     0.32332,     0.32432,     0.32533,     0.32633,     0.32733,     0.32833,     0.32933,     0.33033,     0.33133,     0.33233,     0.33333,     0.33433,     0.33534,\n",
       "           0.33634,     0.33734,     0.33834,     0.33934,     0.34034,     0.34134,     0.34234,     0.34334,     0.34434,     0.34535,     0.34635,     0.34735,     0.34835,     0.34935,     0.35035,     0.35135,     0.35235,     0.35335,     0.35435,     0.35536,     0.35636,     0.35736,     0.35836,     0.35936,\n",
       "           0.36036,     0.36136,     0.36236,     0.36336,     0.36436,     0.36537,     0.36637,     0.36737,     0.36837,     0.36937,     0.37037,     0.37137,     0.37237,     0.37337,     0.37437,     0.37538,     0.37638,     0.37738,     0.37838,     0.37938,     0.38038,     0.38138,     0.38238,     0.38338,\n",
       "           0.38438,     0.38539,     0.38639,     0.38739,     0.38839,     0.38939,     0.39039,     0.39139,     0.39239,     0.39339,     0.39439,      0.3954,      0.3964,      0.3974,      0.3984,      0.3994,      0.4004,      0.4014,      0.4024,      0.4034,      0.4044,     0.40541,     0.40641,     0.40741,\n",
       "           0.40841,     0.40941,     0.41041,     0.41141,     0.41241,     0.41341,     0.41441,     0.41542,     0.41642,     0.41742,     0.41842,     0.41942,     0.42042,     0.42142,     0.42242,     0.42342,     0.42442,     0.42543,     0.42643,     0.42743,     0.42843,     0.42943,     0.43043,     0.43143,\n",
       "           0.43243,     0.43343,     0.43443,     0.43544,     0.43644,     0.43744,     0.43844,     0.43944,     0.44044,     0.44144,     0.44244,     0.44344,     0.44444,     0.44545,     0.44645,     0.44745,     0.44845,     0.44945,     0.45045,     0.45145,     0.45245,     0.45345,     0.45445,     0.45546,\n",
       "           0.45646,     0.45746,     0.45846,     0.45946,     0.46046,     0.46146,     0.46246,     0.46346,     0.46446,     0.46547,     0.46647,     0.46747,     0.46847,     0.46947,     0.47047,     0.47147,     0.47247,     0.47347,     0.47447,     0.47548,     0.47648,     0.47748,     0.47848,     0.47948,\n",
       "           0.48048,     0.48148,     0.48248,     0.48348,     0.48448,     0.48549,     0.48649,     0.48749,     0.48849,     0.48949,     0.49049,     0.49149,     0.49249,     0.49349,     0.49449,      0.4955,      0.4965,      0.4975,      0.4985,      0.4995,      0.5005,      0.5015,      0.5025,      0.5035,\n",
       "            0.5045,     0.50551,     0.50651,     0.50751,     0.50851,     0.50951,     0.51051,     0.51151,     0.51251,     0.51351,     0.51451,     0.51552,     0.51652,     0.51752,     0.51852,     0.51952,     0.52052,     0.52152,     0.52252,     0.52352,     0.52452,     0.52553,     0.52653,     0.52753,\n",
       "           0.52853,     0.52953,     0.53053,     0.53153,     0.53253,     0.53353,     0.53453,     0.53554,     0.53654,     0.53754,     0.53854,     0.53954,     0.54054,     0.54154,     0.54254,     0.54354,     0.54454,     0.54555,     0.54655,     0.54755,     0.54855,     0.54955,     0.55055,     0.55155,\n",
       "           0.55255,     0.55355,     0.55455,     0.55556,     0.55656,     0.55756,     0.55856,     0.55956,     0.56056,     0.56156,     0.56256,     0.56356,     0.56456,     0.56557,     0.56657,     0.56757,     0.56857,     0.56957,     0.57057,     0.57157,     0.57257,     0.57357,     0.57457,     0.57558,\n",
       "           0.57658,     0.57758,     0.57858,     0.57958,     0.58058,     0.58158,     0.58258,     0.58358,     0.58458,     0.58559,     0.58659,     0.58759,     0.58859,     0.58959,     0.59059,     0.59159,     0.59259,     0.59359,     0.59459,      0.5956,      0.5966,      0.5976,      0.5986,      0.5996,\n",
       "            0.6006,      0.6016,      0.6026,      0.6036,      0.6046,     0.60561,     0.60661,     0.60761,     0.60861,     0.60961,     0.61061,     0.61161,     0.61261,     0.61361,     0.61461,     0.61562,     0.61662,     0.61762,     0.61862,     0.61962,     0.62062,     0.62162,     0.62262,     0.62362,\n",
       "           0.62462,     0.62563,     0.62663,     0.62763,     0.62863,     0.62963,     0.63063,     0.63163,     0.63263,     0.63363,     0.63463,     0.63564,     0.63664,     0.63764,     0.63864,     0.63964,     0.64064,     0.64164,     0.64264,     0.64364,     0.64464,     0.64565,     0.64665,     0.64765,\n",
       "           0.64865,     0.64965,     0.65065,     0.65165,     0.65265,     0.65365,     0.65465,     0.65566,     0.65666,     0.65766,     0.65866,     0.65966,     0.66066,     0.66166,     0.66266,     0.66366,     0.66466,     0.66567,     0.66667,     0.66767,     0.66867,     0.66967,     0.67067,     0.67167,\n",
       "           0.67267,     0.67367,     0.67467,     0.67568,     0.67668,     0.67768,     0.67868,     0.67968,     0.68068,     0.68168,     0.68268,     0.68368,     0.68468,     0.68569,     0.68669,     0.68769,     0.68869,     0.68969,     0.69069,     0.69169,     0.69269,     0.69369,     0.69469,      0.6957,\n",
       "            0.6967,      0.6977,      0.6987,      0.6997,      0.7007,      0.7017,      0.7027,      0.7037,      0.7047,     0.70571,     0.70671,     0.70771,     0.70871,     0.70971,     0.71071,     0.71171,     0.71271,     0.71371,     0.71471,     0.71572,     0.71672,     0.71772,     0.71872,     0.71972,\n",
       "           0.72072,     0.72172,     0.72272,     0.72372,     0.72472,     0.72573,     0.72673,     0.72773,     0.72873,     0.72973,     0.73073,     0.73173,     0.73273,     0.73373,     0.73473,     0.73574,     0.73674,     0.73774,     0.73874,     0.73974,     0.74074,     0.74174,     0.74274,     0.74374,\n",
       "           0.74474,     0.74575,     0.74675,     0.74775,     0.74875,     0.74975,     0.75075,     0.75175,     0.75275,     0.75375,     0.75475,     0.75576,     0.75676,     0.75776,     0.75876,     0.75976,     0.76076,     0.76176,     0.76276,     0.76376,     0.76476,     0.76577,     0.76677,     0.76777,\n",
       "           0.76877,     0.76977,     0.77077,     0.77177,     0.77277,     0.77377,     0.77477,     0.77578,     0.77678,     0.77778,     0.77878,     0.77978,     0.78078,     0.78178,     0.78278,     0.78378,     0.78478,     0.78579,     0.78679,     0.78779,     0.78879,     0.78979,     0.79079,     0.79179,\n",
       "           0.79279,     0.79379,     0.79479,      0.7958,      0.7968,      0.7978,      0.7988,      0.7998,      0.8008,      0.8018,      0.8028,      0.8038,      0.8048,     0.80581,     0.80681,     0.80781,     0.80881,     0.80981,     0.81081,     0.81181,     0.81281,     0.81381,     0.81481,     0.81582,\n",
       "           0.81682,     0.81782,     0.81882,     0.81982,     0.82082,     0.82182,     0.82282,     0.82382,     0.82482,     0.82583,     0.82683,     0.82783,     0.82883,     0.82983,     0.83083,     0.83183,     0.83283,     0.83383,     0.83483,     0.83584,     0.83684,     0.83784,     0.83884,     0.83984,\n",
       "           0.84084,     0.84184,     0.84284,     0.84384,     0.84484,     0.84585,     0.84685,     0.84785,     0.84885,     0.84985,     0.85085,     0.85185,     0.85285,     0.85385,     0.85485,     0.85586,     0.85686,     0.85786,     0.85886,     0.85986,     0.86086,     0.86186,     0.86286,     0.86386,\n",
       "           0.86486,     0.86587,     0.86687,     0.86787,     0.86887,     0.86987,     0.87087,     0.87187,     0.87287,     0.87387,     0.87487,     0.87588,     0.87688,     0.87788,     0.87888,     0.87988,     0.88088,     0.88188,     0.88288,     0.88388,     0.88488,     0.88589,     0.88689,     0.88789,\n",
       "           0.88889,     0.88989,     0.89089,     0.89189,     0.89289,     0.89389,     0.89489,      0.8959,      0.8969,      0.8979,      0.8989,      0.8999,      0.9009,      0.9019,      0.9029,      0.9039,      0.9049,     0.90591,     0.90691,     0.90791,     0.90891,     0.90991,     0.91091,     0.91191,\n",
       "           0.91291,     0.91391,     0.91491,     0.91592,     0.91692,     0.91792,     0.91892,     0.91992,     0.92092,     0.92192,     0.92292,     0.92392,     0.92492,     0.92593,     0.92693,     0.92793,     0.92893,     0.92993,     0.93093,     0.93193,     0.93293,     0.93393,     0.93493,     0.93594,\n",
       "           0.93694,     0.93794,     0.93894,     0.93994,     0.94094,     0.94194,     0.94294,     0.94394,     0.94494,     0.94595,     0.94695,     0.94795,     0.94895,     0.94995,     0.95095,     0.95195,     0.95295,     0.95395,     0.95495,     0.95596,     0.95696,     0.95796,     0.95896,     0.95996,\n",
       "           0.96096,     0.96196,     0.96296,     0.96396,     0.96496,     0.96597,     0.96697,     0.96797,     0.96897,     0.96997,     0.97097,     0.97197,     0.97297,     0.97397,     0.97497,     0.97598,     0.97698,     0.97798,     0.97898,     0.97998,     0.98098,     0.98198,     0.98298,     0.98398,\n",
       "           0.98498,     0.98599,     0.98699,     0.98799,     0.98899,     0.98999,     0.99099,     0.99199,     0.99299,     0.99399,     0.99499,       0.996,       0.997,       0.998,       0.999,           1]), array([[    0.22574,     0.22615,     0.27681, ...,           1,           1,           1],\n",
       "       [    0.23734,     0.23774,     0.29197, ...,           1,           1,           1],\n",
       "       [   0.051395,    0.051553,    0.066349, ...,           1,           1,           1],\n",
       "       ...,\n",
       "       [    0.19416,     0.19459,     0.24072, ...,           1,           1,           1],\n",
       "       [    0.32272,     0.32316,     0.38039, ...,           1,           1,           1],\n",
       "       [   0.030272,    0.030335,      0.0424, ...,           1,           1,           1]]), 'Confidence', 'Precision'], [array([          0,    0.001001,    0.002002,    0.003003,    0.004004,    0.005005,    0.006006,    0.007007,    0.008008,    0.009009,     0.01001,    0.011011,    0.012012,    0.013013,    0.014014,    0.015015,    0.016016,    0.017017,    0.018018,    0.019019,     0.02002,    0.021021,    0.022022,    0.023023,\n",
       "          0.024024,    0.025025,    0.026026,    0.027027,    0.028028,    0.029029,     0.03003,    0.031031,    0.032032,    0.033033,    0.034034,    0.035035,    0.036036,    0.037037,    0.038038,    0.039039,     0.04004,    0.041041,    0.042042,    0.043043,    0.044044,    0.045045,    0.046046,    0.047047,\n",
       "          0.048048,    0.049049,     0.05005,    0.051051,    0.052052,    0.053053,    0.054054,    0.055055,    0.056056,    0.057057,    0.058058,    0.059059,     0.06006,    0.061061,    0.062062,    0.063063,    0.064064,    0.065065,    0.066066,    0.067067,    0.068068,    0.069069,     0.07007,    0.071071,\n",
       "          0.072072,    0.073073,    0.074074,    0.075075,    0.076076,    0.077077,    0.078078,    0.079079,     0.08008,    0.081081,    0.082082,    0.083083,    0.084084,    0.085085,    0.086086,    0.087087,    0.088088,    0.089089,     0.09009,    0.091091,    0.092092,    0.093093,    0.094094,    0.095095,\n",
       "          0.096096,    0.097097,    0.098098,    0.099099,      0.1001,      0.1011,      0.1021,      0.1031,      0.1041,     0.10511,     0.10611,     0.10711,     0.10811,     0.10911,     0.11011,     0.11111,     0.11211,     0.11311,     0.11411,     0.11512,     0.11612,     0.11712,     0.11812,     0.11912,\n",
       "           0.12012,     0.12112,     0.12212,     0.12312,     0.12412,     0.12513,     0.12613,     0.12713,     0.12813,     0.12913,     0.13013,     0.13113,     0.13213,     0.13313,     0.13413,     0.13514,     0.13614,     0.13714,     0.13814,     0.13914,     0.14014,     0.14114,     0.14214,     0.14314,\n",
       "           0.14414,     0.14515,     0.14615,     0.14715,     0.14815,     0.14915,     0.15015,     0.15115,     0.15215,     0.15315,     0.15415,     0.15516,     0.15616,     0.15716,     0.15816,     0.15916,     0.16016,     0.16116,     0.16216,     0.16316,     0.16416,     0.16517,     0.16617,     0.16717,\n",
       "           0.16817,     0.16917,     0.17017,     0.17117,     0.17217,     0.17317,     0.17417,     0.17518,     0.17618,     0.17718,     0.17818,     0.17918,     0.18018,     0.18118,     0.18218,     0.18318,     0.18418,     0.18519,     0.18619,     0.18719,     0.18819,     0.18919,     0.19019,     0.19119,\n",
       "           0.19219,     0.19319,     0.19419,      0.1952,      0.1962,      0.1972,      0.1982,      0.1992,      0.2002,      0.2012,      0.2022,      0.2032,      0.2042,     0.20521,     0.20621,     0.20721,     0.20821,     0.20921,     0.21021,     0.21121,     0.21221,     0.21321,     0.21421,     0.21522,\n",
       "           0.21622,     0.21722,     0.21822,     0.21922,     0.22022,     0.22122,     0.22222,     0.22322,     0.22422,     0.22523,     0.22623,     0.22723,     0.22823,     0.22923,     0.23023,     0.23123,     0.23223,     0.23323,     0.23423,     0.23524,     0.23624,     0.23724,     0.23824,     0.23924,\n",
       "           0.24024,     0.24124,     0.24224,     0.24324,     0.24424,     0.24525,     0.24625,     0.24725,     0.24825,     0.24925,     0.25025,     0.25125,     0.25225,     0.25325,     0.25425,     0.25526,     0.25626,     0.25726,     0.25826,     0.25926,     0.26026,     0.26126,     0.26226,     0.26326,\n",
       "           0.26426,     0.26527,     0.26627,     0.26727,     0.26827,     0.26927,     0.27027,     0.27127,     0.27227,     0.27327,     0.27427,     0.27528,     0.27628,     0.27728,     0.27828,     0.27928,     0.28028,     0.28128,     0.28228,     0.28328,     0.28428,     0.28529,     0.28629,     0.28729,\n",
       "           0.28829,     0.28929,     0.29029,     0.29129,     0.29229,     0.29329,     0.29429,      0.2953,      0.2963,      0.2973,      0.2983,      0.2993,      0.3003,      0.3013,      0.3023,      0.3033,      0.3043,     0.30531,     0.30631,     0.30731,     0.30831,     0.30931,     0.31031,     0.31131,\n",
       "           0.31231,     0.31331,     0.31431,     0.31532,     0.31632,     0.31732,     0.31832,     0.31932,     0.32032,     0.32132,     0.32232,     0.32332,     0.32432,     0.32533,     0.32633,     0.32733,     0.32833,     0.32933,     0.33033,     0.33133,     0.33233,     0.33333,     0.33433,     0.33534,\n",
       "           0.33634,     0.33734,     0.33834,     0.33934,     0.34034,     0.34134,     0.34234,     0.34334,     0.34434,     0.34535,     0.34635,     0.34735,     0.34835,     0.34935,     0.35035,     0.35135,     0.35235,     0.35335,     0.35435,     0.35536,     0.35636,     0.35736,     0.35836,     0.35936,\n",
       "           0.36036,     0.36136,     0.36236,     0.36336,     0.36436,     0.36537,     0.36637,     0.36737,     0.36837,     0.36937,     0.37037,     0.37137,     0.37237,     0.37337,     0.37437,     0.37538,     0.37638,     0.37738,     0.37838,     0.37938,     0.38038,     0.38138,     0.38238,     0.38338,\n",
       "           0.38438,     0.38539,     0.38639,     0.38739,     0.38839,     0.38939,     0.39039,     0.39139,     0.39239,     0.39339,     0.39439,      0.3954,      0.3964,      0.3974,      0.3984,      0.3994,      0.4004,      0.4014,      0.4024,      0.4034,      0.4044,     0.40541,     0.40641,     0.40741,\n",
       "           0.40841,     0.40941,     0.41041,     0.41141,     0.41241,     0.41341,     0.41441,     0.41542,     0.41642,     0.41742,     0.41842,     0.41942,     0.42042,     0.42142,     0.42242,     0.42342,     0.42442,     0.42543,     0.42643,     0.42743,     0.42843,     0.42943,     0.43043,     0.43143,\n",
       "           0.43243,     0.43343,     0.43443,     0.43544,     0.43644,     0.43744,     0.43844,     0.43944,     0.44044,     0.44144,     0.44244,     0.44344,     0.44444,     0.44545,     0.44645,     0.44745,     0.44845,     0.44945,     0.45045,     0.45145,     0.45245,     0.45345,     0.45445,     0.45546,\n",
       "           0.45646,     0.45746,     0.45846,     0.45946,     0.46046,     0.46146,     0.46246,     0.46346,     0.46446,     0.46547,     0.46647,     0.46747,     0.46847,     0.46947,     0.47047,     0.47147,     0.47247,     0.47347,     0.47447,     0.47548,     0.47648,     0.47748,     0.47848,     0.47948,\n",
       "           0.48048,     0.48148,     0.48248,     0.48348,     0.48448,     0.48549,     0.48649,     0.48749,     0.48849,     0.48949,     0.49049,     0.49149,     0.49249,     0.49349,     0.49449,      0.4955,      0.4965,      0.4975,      0.4985,      0.4995,      0.5005,      0.5015,      0.5025,      0.5035,\n",
       "            0.5045,     0.50551,     0.50651,     0.50751,     0.50851,     0.50951,     0.51051,     0.51151,     0.51251,     0.51351,     0.51451,     0.51552,     0.51652,     0.51752,     0.51852,     0.51952,     0.52052,     0.52152,     0.52252,     0.52352,     0.52452,     0.52553,     0.52653,     0.52753,\n",
       "           0.52853,     0.52953,     0.53053,     0.53153,     0.53253,     0.53353,     0.53453,     0.53554,     0.53654,     0.53754,     0.53854,     0.53954,     0.54054,     0.54154,     0.54254,     0.54354,     0.54454,     0.54555,     0.54655,     0.54755,     0.54855,     0.54955,     0.55055,     0.55155,\n",
       "           0.55255,     0.55355,     0.55455,     0.55556,     0.55656,     0.55756,     0.55856,     0.55956,     0.56056,     0.56156,     0.56256,     0.56356,     0.56456,     0.56557,     0.56657,     0.56757,     0.56857,     0.56957,     0.57057,     0.57157,     0.57257,     0.57357,     0.57457,     0.57558,\n",
       "           0.57658,     0.57758,     0.57858,     0.57958,     0.58058,     0.58158,     0.58258,     0.58358,     0.58458,     0.58559,     0.58659,     0.58759,     0.58859,     0.58959,     0.59059,     0.59159,     0.59259,     0.59359,     0.59459,      0.5956,      0.5966,      0.5976,      0.5986,      0.5996,\n",
       "            0.6006,      0.6016,      0.6026,      0.6036,      0.6046,     0.60561,     0.60661,     0.60761,     0.60861,     0.60961,     0.61061,     0.61161,     0.61261,     0.61361,     0.61461,     0.61562,     0.61662,     0.61762,     0.61862,     0.61962,     0.62062,     0.62162,     0.62262,     0.62362,\n",
       "           0.62462,     0.62563,     0.62663,     0.62763,     0.62863,     0.62963,     0.63063,     0.63163,     0.63263,     0.63363,     0.63463,     0.63564,     0.63664,     0.63764,     0.63864,     0.63964,     0.64064,     0.64164,     0.64264,     0.64364,     0.64464,     0.64565,     0.64665,     0.64765,\n",
       "           0.64865,     0.64965,     0.65065,     0.65165,     0.65265,     0.65365,     0.65465,     0.65566,     0.65666,     0.65766,     0.65866,     0.65966,     0.66066,     0.66166,     0.66266,     0.66366,     0.66466,     0.66567,     0.66667,     0.66767,     0.66867,     0.66967,     0.67067,     0.67167,\n",
       "           0.67267,     0.67367,     0.67467,     0.67568,     0.67668,     0.67768,     0.67868,     0.67968,     0.68068,     0.68168,     0.68268,     0.68368,     0.68468,     0.68569,     0.68669,     0.68769,     0.68869,     0.68969,     0.69069,     0.69169,     0.69269,     0.69369,     0.69469,      0.6957,\n",
       "            0.6967,      0.6977,      0.6987,      0.6997,      0.7007,      0.7017,      0.7027,      0.7037,      0.7047,     0.70571,     0.70671,     0.70771,     0.70871,     0.70971,     0.71071,     0.71171,     0.71271,     0.71371,     0.71471,     0.71572,     0.71672,     0.71772,     0.71872,     0.71972,\n",
       "           0.72072,     0.72172,     0.72272,     0.72372,     0.72472,     0.72573,     0.72673,     0.72773,     0.72873,     0.72973,     0.73073,     0.73173,     0.73273,     0.73373,     0.73473,     0.73574,     0.73674,     0.73774,     0.73874,     0.73974,     0.74074,     0.74174,     0.74274,     0.74374,\n",
       "           0.74474,     0.74575,     0.74675,     0.74775,     0.74875,     0.74975,     0.75075,     0.75175,     0.75275,     0.75375,     0.75475,     0.75576,     0.75676,     0.75776,     0.75876,     0.75976,     0.76076,     0.76176,     0.76276,     0.76376,     0.76476,     0.76577,     0.76677,     0.76777,\n",
       "           0.76877,     0.76977,     0.77077,     0.77177,     0.77277,     0.77377,     0.77477,     0.77578,     0.77678,     0.77778,     0.77878,     0.77978,     0.78078,     0.78178,     0.78278,     0.78378,     0.78478,     0.78579,     0.78679,     0.78779,     0.78879,     0.78979,     0.79079,     0.79179,\n",
       "           0.79279,     0.79379,     0.79479,      0.7958,      0.7968,      0.7978,      0.7988,      0.7998,      0.8008,      0.8018,      0.8028,      0.8038,      0.8048,     0.80581,     0.80681,     0.80781,     0.80881,     0.80981,     0.81081,     0.81181,     0.81281,     0.81381,     0.81481,     0.81582,\n",
       "           0.81682,     0.81782,     0.81882,     0.81982,     0.82082,     0.82182,     0.82282,     0.82382,     0.82482,     0.82583,     0.82683,     0.82783,     0.82883,     0.82983,     0.83083,     0.83183,     0.83283,     0.83383,     0.83483,     0.83584,     0.83684,     0.83784,     0.83884,     0.83984,\n",
       "           0.84084,     0.84184,     0.84284,     0.84384,     0.84484,     0.84585,     0.84685,     0.84785,     0.84885,     0.84985,     0.85085,     0.85185,     0.85285,     0.85385,     0.85485,     0.85586,     0.85686,     0.85786,     0.85886,     0.85986,     0.86086,     0.86186,     0.86286,     0.86386,\n",
       "           0.86486,     0.86587,     0.86687,     0.86787,     0.86887,     0.86987,     0.87087,     0.87187,     0.87287,     0.87387,     0.87487,     0.87588,     0.87688,     0.87788,     0.87888,     0.87988,     0.88088,     0.88188,     0.88288,     0.88388,     0.88488,     0.88589,     0.88689,     0.88789,\n",
       "           0.88889,     0.88989,     0.89089,     0.89189,     0.89289,     0.89389,     0.89489,      0.8959,      0.8969,      0.8979,      0.8989,      0.8999,      0.9009,      0.9019,      0.9029,      0.9039,      0.9049,     0.90591,     0.90691,     0.90791,     0.90891,     0.90991,     0.91091,     0.91191,\n",
       "           0.91291,     0.91391,     0.91491,     0.91592,     0.91692,     0.91792,     0.91892,     0.91992,     0.92092,     0.92192,     0.92292,     0.92392,     0.92492,     0.92593,     0.92693,     0.92793,     0.92893,     0.92993,     0.93093,     0.93193,     0.93293,     0.93393,     0.93493,     0.93594,\n",
       "           0.93694,     0.93794,     0.93894,     0.93994,     0.94094,     0.94194,     0.94294,     0.94394,     0.94494,     0.94595,     0.94695,     0.94795,     0.94895,     0.94995,     0.95095,     0.95195,     0.95295,     0.95395,     0.95495,     0.95596,     0.95696,     0.95796,     0.95896,     0.95996,\n",
       "           0.96096,     0.96196,     0.96296,     0.96396,     0.96496,     0.96597,     0.96697,     0.96797,     0.96897,     0.96997,     0.97097,     0.97197,     0.97297,     0.97397,     0.97497,     0.97598,     0.97698,     0.97798,     0.97898,     0.97998,     0.98098,     0.98198,     0.98298,     0.98398,\n",
       "           0.98498,     0.98599,     0.98699,     0.98799,     0.98899,     0.98999,     0.99099,     0.99199,     0.99299,     0.99399,     0.99499,       0.996,       0.997,       0.998,       0.999,           1]), array([[    0.99263,     0.99255,     0.98962, ...,           0,           0,           0],\n",
       "       [    0.98983,     0.98983,     0.98666, ...,           0,           0,           0],\n",
       "       [    0.93249,     0.93249,     0.88608, ...,           0,           0,           0],\n",
       "       ...,\n",
       "       [    0.98651,     0.98651,      0.9836, ...,           0,           0,           0],\n",
       "       [    0.99478,     0.99478,      0.9933, ...,           0,           0,           0],\n",
       "       [    0.83803,     0.83803,     0.79577, ...,           0,           0,           0]]), 'Confidence', 'Recall']]\n",
       "fitness: 0.5279081912122466\n",
       "keys: ['metrics/precision(B)', 'metrics/recall(B)', 'metrics/mAP50(B)', 'metrics/mAP50-95(B)']\n",
       "maps: array([    0.63167,     0.65266,     0.35868,     0.51205,     0.50555,     0.55564,     0.70559,     0.50555,     0.12255])\n",
       "names: {0: 'Rickshaw', 1: 'Bus', 2: 'Truck', 3: 'Bike', 4: 'Mini-truck', 5: 'People', 6: 'Car', 7: 'CNG', 8: 'Cycle'}\n",
       "nt_per_class: array([11944, 10420,   237,  3183,     0,  7560, 12833,     0,   142])\n",
       "nt_per_image: array([3906, 3865,  225, 2118,    0, 2883, 4267,    0,  138])\n",
       "results_dict: {'metrics/precision(B)': 0.662275568617605, 'metrics/recall(B)': 0.7017210537419126, 'metrics/mAP50(B)': 0.7291457964307704, 'metrics/mAP50-95(B)': 0.5055484572990773, 'fitness': 0.5279081912122466}\n",
       "save_dir: PosixPath('/kaggle/working/base_yolov10/train')\n",
       "speed: {'preprocess': 0.14087927687289672, 'inference': 4.025147037169928, 'loss': 0.0003285509968862929, 'postprocess': 0.160386370860957}\n",
       "stats: {'tp': [], 'conf': [], 'pred_cls': [], 'target_cls': [], 'target_img': []}\n",
       "task: 'detect'"
      ]
     },
     "execution_count": 3,
     "metadata": {},
     "output_type": "execute_result"
    }
   ],
   "source": [
    "# ============================================================\n",
    "# 2. Train YOLOv10 baseline (outputs in custom folder)\n",
    "# ============================================================\n",
    "model = YOLO(\"yolov10s.pt\")  # baseline small version\n",
    "model.train(\n",
    "    data=str(DATA),\n",
    "    epochs=50,        # increase if resources allow\n",
    "    imgsz=640,\n",
    "    batch=16,\n",
    "    workers=2,\n",
    "    project=str(OUTPUT_FOLDER),  # <- save all outputs here\n",
    "    name=\"train\"                 # <- folder name inside project\n",
    ")\n"
   ]
  },
  {
   "cell_type": "markdown",
   "id": "24e2e2e7",
   "metadata": {
    "papermill": {
     "duration": 5.001461,
     "end_time": "2025-08-24T23:50:19.892529",
     "exception": false,
     "start_time": "2025-08-24T23:50:14.891068",
     "status": "completed"
    },
    "tags": []
   },
   "source": [
    "**Evaluate**"
   ]
  },
  {
   "cell_type": "code",
   "execution_count": 4,
   "id": "53551ef8",
   "metadata": {
    "execution": {
     "iopub.execute_input": "2025-08-24T23:50:29.955807Z",
     "iopub.status.busy": "2025-08-24T23:50:29.955429Z",
     "iopub.status.idle": "2025-08-24T23:51:01.676168Z",
     "shell.execute_reply": "2025-08-24T23:51:01.675315Z"
    },
    "papermill": {
     "duration": 40.731402,
     "end_time": "2025-08-24T23:51:05.649384",
     "exception": false,
     "start_time": "2025-08-24T23:50:24.917982",
     "status": "completed"
    },
    "tags": []
   },
   "outputs": [
    {
     "name": "stdout",
     "output_type": "stream",
     "text": [
      "Ultralytics 8.3.185 🚀 Python-3.11.13 torch-2.6.0+cu124 CUDA:0 (Tesla T4, 15095MiB)\n",
      "YOLOv10s summary (fused): 106 layers, 7,221,483 parameters, 0 gradients, 21.4 GFLOPs\n",
      "\u001b[34m\u001b[1mval: \u001b[0mFast image access ✅ (ping: 0.0±0.0 ms, read: 1449.6±512.1 MB/s, size: 72.8 KB)\n"
     ]
    },
    {
     "name": "stderr",
     "output_type": "stream",
     "text": [
      "\u001b[34m\u001b[1mval: \u001b[0mScanning /kaggle/working/traffic_baseline/yolo_split/test/labels... 2369 images, 4 backgrounds, 0 corrupt: 100%|██████████| 2369/2369 [00:01<00:00, 1438.35it/s]"
     ]
    },
    {
     "name": "stdout",
     "output_type": "stream",
     "text": [
      "\u001b[34m\u001b[1mval: \u001b[0mNew cache created: /kaggle/working/traffic_baseline/yolo_split/test/labels.cache\n"
     ]
    },
    {
     "name": "stderr",
     "output_type": "stream",
     "text": [
      "\n",
      "                 Class     Images  Instances      Box(P          R      mAP50  mAP50-95): 100%|██████████| 149/149 [00:26<00:00,  5.61it/s]\n",
      "/usr/local/lib/python3.11/dist-packages/matplotlib/colors.py:721: RuntimeWarning: invalid value encountered in less\n",
      "  xa[xa < 0] = -1\n",
      "/usr/local/lib/python3.11/dist-packages/matplotlib/colors.py:721: RuntimeWarning: invalid value encountered in less\n",
      "  xa[xa < 0] = -1\n"
     ]
    },
    {
     "name": "stdout",
     "output_type": "stream",
     "text": [
      "                   all       2369      22805      0.702      0.669      0.742      0.517\n",
      "              Rickshaw       1940       6031      0.809      0.828        0.9      0.627\n",
      "                   Bus       1958       5098      0.807      0.812       0.89      0.651\n",
      "                 Truck        112        119      0.433      0.454      0.464      0.382\n",
      "                  Bike       1016       1526      0.774      0.763      0.838      0.516\n",
      "                People       1423       3695      0.785      0.761       0.86      0.551\n",
      "                   Car       2140       6281      0.845      0.858       0.93      0.702\n",
      "                 Cycle         53         55      0.465      0.206      0.311      0.188\n",
      "Speed: 0.3ms preprocess, 8.1ms inference, 0.0ms loss, 0.2ms postprocess per image\n",
      "Results saved to \u001b[1m/kaggle/working/base_yolov10/val\u001b[0m\n",
      "mAP@0.5     : 0.7417117737423935\n",
      "mAP@[.5:.95]: 0.5166084450976283\n",
      "Precision   : 0.7024966222773054\n",
      "Recall      : 0.6687472696028097\n"
     ]
    }
   ],
   "source": [
    "# ============================================================\n",
    "# 3. Evaluate on test set + generate plots (outputs in same folder)\n",
    "# ============================================================\n",
    "metrics = model.val(\n",
    "    data=str(DATA),\n",
    "    split=\"test\",\n",
    "    plots=True,\n",
    "    project=str(OUTPUT_FOLDER),  # <- same output folder\n",
    "    name=\"val\"\n",
    ")\n",
    "\n",
    "print(\"mAP@0.5     :\", metrics.box.map50)\n",
    "print(\"mAP@[.5:.95]:\", metrics.box.map)\n",
    "print(\"Precision   :\", metrics.box.mp)\n",
    "print(\"Recall      :\", metrics.box.mr)"
   ]
  },
  {
   "cell_type": "code",
   "execution_count": 5,
   "id": "5475c40f",
   "metadata": {
    "execution": {
     "iopub.execute_input": "2025-08-24T23:51:15.718603Z",
     "iopub.status.busy": "2025-08-24T23:51:15.717844Z",
     "iopub.status.idle": "2025-08-24T23:51:16.401177Z",
     "shell.execute_reply": "2025-08-24T23:51:16.400378Z"
    },
    "papermill": {
     "duration": 5.725646,
     "end_time": "2025-08-24T23:51:16.402887",
     "exception": false,
     "start_time": "2025-08-24T23:51:10.677241",
     "status": "completed"
    },
    "tags": []
   },
   "outputs": [
    {
     "data": {
      "image/png": "[encoded data removed]",
      "text/plain": [
       "<Figure size 800x600 with 1 Axes>"
      ]
     },
     "metadata": {},
     "output_type": "display_data"
    }
   ],
   "source": [
    "# ============================================================\n",
    "# 4. Visualize PR curve from custom folder\n",
    "# ============================================================\n",
    "pr_curve_file = list((OUTPUT_FOLDER/\"val\").glob(\"*PR_curve*.png\"))[0]\n",
    "img = mpimg.imread(pr_curve_file)\n",
    "plt.figure(figsize=(8,6))\n",
    "plt.imshow(img)\n",
    "plt.axis('off')\n",
    "plt.show()"
   ]
  },
  {
   "cell_type": "code",
   "execution_count": 6,
   "id": "84c5019c",
   "metadata": {
    "execution": {
     "iopub.execute_input": "2025-08-24T23:51:26.306218Z",
     "iopub.status.busy": "2025-08-24T23:51:26.305919Z",
     "iopub.status.idle": "2025-08-24T23:51:54.359695Z",
     "shell.execute_reply": "2025-08-24T23:51:54.358978Z"
    },
    "papermill": {
     "duration": 32.877817,
     "end_time": "2025-08-24T23:51:54.360876",
     "exception": false,
     "start_time": "2025-08-24T23:51:21.483059",
     "status": "completed"
    },
    "tags": []
   },
   "outputs": [
    {
     "name": "stdout",
     "output_type": "stream",
     "text": [
      "WARNING ⚠️ \n",
      "inference results will accumulate in RAM unless `stream=True` is passed, causing potential out-of-memory\n",
      "errors for large sources or long-running streams and videos. See https://docs.ultralytics.com/modes/predict/ for help.\n",
      "\n",
      "Example:\n",
      "    results = model(source=..., stream=True)  # generator of Results objects\n",
      "    for r in results:\n",
      "        boxes = r.boxes  # Boxes object for bbox outputs\n",
      "        masks = r.masks  # Masks object for segment masks outputs\n",
      "        probs = r.probs  # Class probabilities for classification outputs\n",
      "\n",
      "FPS ≈ 19.981314274685\n"
     ]
    }
   ],
   "source": [
    "# ============================================================\n",
    "# 5. Model speed / latency (FPS)\n",
    "# ============================================================\n",
    "results = model(str(SPLIT/\"test/images\"), device=0, imgsz=640, verbose=False)\n",
    "fps = 1000.0 / results[0].speed['inference']\n",
    "print(\"FPS ≈\", fps)\n",
    "\n"
   ]
  },
  {
   "cell_type": "code",
   "execution_count": 7,
   "id": "826695f7",
   "metadata": {
    "execution": {
     "iopub.execute_input": "2025-08-24T23:52:04.245032Z",
     "iopub.status.busy": "2025-08-24T23:52:04.244764Z",
     "iopub.status.idle": "2025-08-24T23:53:02.018291Z",
     "shell.execute_reply": "2025-08-24T23:53:02.017552Z"
    },
    "papermill": {
     "duration": 67.560088,
     "end_time": "2025-08-24T23:53:06.946300",
     "exception": false,
     "start_time": "2025-08-24T23:51:59.386212",
     "status": "completed"
    },
    "tags": []
   },
   "outputs": [
    {
     "name": "stdout",
     "output_type": "stream",
     "text": [
      "Ultralytics 8.3.185 🚀 Python-3.11.13 torch-2.6.0+cu124 CUDA:0 (Tesla T4, 15095MiB)\n",
      "YOLOv10s summary (fused): 106 layers, 7,221,483 parameters, 0 gradients, 21.4 GFLOPs\n",
      "\u001b[34m\u001b[1mval: \u001b[0mFast image access ✅ (ping: 0.0±0.0 ms, read: 1288.4±299.1 MB/s, size: 69.3 KB)\n"
     ]
    },
    {
     "name": "stderr",
     "output_type": "stream",
     "text": [
      "\u001b[34m\u001b[1mval: \u001b[0mScanning /kaggle/working/traffic_baseline/yolo_split/test/labels.cache... 2369 images, 4 backgrounds, 0 corrupt: 100%|██████████| 2369/2369 [00:00<?, ?it/s]\n",
      "                 Class     Images  Instances      Box(P          R      mAP50  mAP50-95): 100%|██████████| 149/149 [00:25<00:00,  5.75it/s]\n",
      "/usr/local/lib/python3.11/dist-packages/matplotlib/colors.py:721: RuntimeWarning: invalid value encountered in less\n",
      "  xa[xa < 0] = -1\n",
      "/usr/local/lib/python3.11/dist-packages/matplotlib/colors.py:721: RuntimeWarning: invalid value encountered in less\n",
      "  xa[xa < 0] = -1\n"
     ]
    },
    {
     "name": "stdout",
     "output_type": "stream",
     "text": [
      "                   all       2369      22805      0.702      0.669      0.742      0.517\n",
      "              Rickshaw       1940       6031      0.809      0.828        0.9      0.627\n",
      "                   Bus       1958       5098      0.807      0.812       0.89      0.651\n",
      "                 Truck        112        119      0.433      0.454      0.464      0.382\n",
      "                  Bike       1016       1526      0.774      0.763      0.838      0.516\n",
      "                People       1423       3695      0.785      0.761       0.86      0.551\n",
      "                   Car       2140       6281      0.845      0.858       0.93      0.702\n",
      "                 Cycle         53         55      0.465      0.206      0.311      0.188\n",
      "Speed: 0.3ms preprocess, 7.6ms inference, 0.0ms loss, 0.2ms postprocess per image\n",
      "Results saved to \u001b[1m/kaggle/working/base_yolov10/val2\u001b[0m\n",
      "mAP@0.5     : 0.7417117737423935\n",
      "mAP@[.5:.95]: 0.5166084450976283\n",
      "Precision   : 0.7024966222773054\n",
      "Recall      : 0.6687472696028097\n",
      "WARNING ⚠️ \n",
      "inference results will accumulate in RAM unless `stream=True` is passed, causing potential out-of-memory\n",
      "errors for large sources or long-running streams and videos. See https://docs.ultralytics.com/modes/predict/ for help.\n",
      "\n",
      "Example:\n",
      "    results = model(source=..., stream=True)  # generator of Results objects\n",
      "    for r in results:\n",
      "        boxes = r.boxes  # Boxes object for bbox outputs\n",
      "        masks = r.masks  # Masks object for segment masks outputs\n",
      "        probs = r.probs  # Class probabilities for classification outputs\n",
      "\n",
      "FPS ≈ 78.8171873083793\n",
      "layer                                    name                type  gradient  parameters               shape        mu     sigma\n",
      "    0                     model.0.conv.weight              Conv2d     False         864       [32, 3, 3, 3]    -0.103      7.71        float32\n",
      "    0                       model.0.conv.bias              Conv2d     False          32                [32]      1.23      2.53        float32\n",
      "    1                             model.0.act                SiLU     False           0                  []         -         -              -\n",
      "    2                     model.1.conv.weight              Conv2d     False       18432      [64, 32, 3, 3]  -0.00181    0.0526        float32\n",
      "    2                       model.1.conv.bias              Conv2d     False          64                [64]      1.02      0.91        float32\n",
      "    3                 model.2.cv1.conv.weight              Conv2d     False        4096      [64, 64, 1, 1]   -0.0112     0.123        float32\n",
      "    3                   model.2.cv1.conv.bias              Conv2d     False          64                [64]      1.19      1.21        float32\n",
      "    4                 model.2.cv2.conv.weight              Conv2d     False        6144      [64, 96, 1, 1]  -0.00867    0.0893        float32\n",
      "    4                   model.2.cv2.conv.bias              Conv2d     False          64                [64]     0.474      1.16        float32\n",
      "    5             model.2.m.0.cv1.conv.weight              Conv2d     False        9216      [32, 32, 3, 3]  -0.00538    0.0996        float32\n",
      "    5               model.2.m.0.cv1.conv.bias              Conv2d     False          32                [32]      1.93      2.05        float32\n",
      "    6             model.2.m.0.cv2.conv.weight              Conv2d     False        9216      [32, 32, 3, 3]   -0.0047    0.0875        float32\n",
      "    6               model.2.m.0.cv2.conv.bias              Conv2d     False          32                [32]      1.29      1.36        float32\n",
      "    7                     model.3.conv.weight              Conv2d     False       73728     [128, 64, 3, 3]  -0.00155    0.0333        float32\n",
      "    7                       model.3.conv.bias              Conv2d     False         128               [128]   -0.0213     0.793        float32\n",
      "    8                 model.4.cv1.conv.weight              Conv2d     False       16384    [128, 128, 1, 1]  -0.00443      0.11        float32\n",
      "    8                   model.4.cv1.conv.bias              Conv2d     False         128               [128]     0.278     0.659        float32\n",
      "    9                 model.4.cv2.conv.weight              Conv2d     False       32768    [128, 256, 1, 1]  -0.00512     0.066        float32\n",
      "    9                   model.4.cv2.conv.bias              Conv2d     False         128               [128]     0.512     0.794        float32\n",
      "   10             model.4.m.0.cv1.conv.weight              Conv2d     False       36864      [64, 64, 3, 3]  -0.00715    0.0816        float32\n",
      "   10               model.4.m.0.cv1.conv.bias              Conv2d     False          64                [64]      0.72     0.875        float32\n",
      "   11             model.4.m.0.cv2.conv.weight              Conv2d     False       36864      [64, 64, 3, 3]   -0.0031    0.0518        float32\n",
      "   11               model.4.m.0.cv2.conv.bias              Conv2d     False          64                [64]    -0.237     0.669        float32\n",
      "   12             model.4.m.1.cv1.conv.weight              Conv2d     False       36864      [64, 64, 3, 3]  -0.00546    0.0501        float32\n",
      "   12               model.4.m.1.cv1.conv.bias              Conv2d     False          64                [64]  -0.00533     0.905        float32\n",
      "   13             model.4.m.1.cv2.conv.weight              Conv2d     False       36864      [64, 64, 3, 3]  -0.00895     0.103        float32\n",
      "   13               model.4.m.1.cv2.conv.bias              Conv2d     False          64                [64]    -0.599      1.01        float32\n",
      "   14                 model.5.cv1.conv.weight              Conv2d     False       32768    [256, 128, 1, 1]  -0.00945     0.116        float32\n",
      "   14                   model.5.cv1.conv.bias              Conv2d     False         256               [256]    -0.677      0.57        float32\n",
      "   15                 model.5.cv2.conv.weight              Conv2d     False        2304      [256, 1, 3, 3]   -0.0415     0.898        float32\n",
      "   15                   model.5.cv2.conv.bias              Conv2d     False         256               [256]   -0.0936      1.33        float32\n",
      "   16                         model.5.cv2.act            Identity     False           0                  []         -         -              -\n",
      "   17                 model.6.cv1.conv.weight              Conv2d     False       65536    [256, 256, 1, 1]  0.000233    0.0427        float32\n",
      "   17                   model.6.cv1.conv.bias              Conv2d     False         256               [256]   -0.0901     0.363        float32\n",
      "   18                 model.6.cv2.conv.weight              Conv2d     False      131072    [256, 512, 1, 1]  -0.00464    0.0484        float32\n",
      "   18                   model.6.cv2.conv.bias              Conv2d     False         256               [256]   -0.0188     0.522        float32\n",
      "   19             model.6.m.0.cv1.conv.weight              Conv2d     False      147456    [128, 128, 3, 3]  -0.00467    0.0468        float32\n",
      "   19               model.6.m.0.cv1.conv.bias              Conv2d     False         128               [128]    -0.121     0.722        float32\n",
      "   20             model.6.m.0.cv2.conv.weight              Conv2d     False      147456    [128, 128, 3, 3]   -0.0028    0.0445        float32\n",
      "   20               model.6.m.0.cv2.conv.bias              Conv2d     False         128               [128]    -0.848     0.474        float32\n",
      "   21             model.6.m.1.cv1.conv.weight              Conv2d     False      147456    [128, 128, 3, 3]  -0.00342    0.0379        float32\n",
      "   21               model.6.m.1.cv1.conv.bias              Conv2d     False         128               [128]    -0.449     0.583        float32\n",
      "   22             model.6.m.1.cv2.conv.weight              Conv2d     False      147456    [128, 128, 3, 3]  -0.00489    0.0792        float32\n",
      "   22               model.6.m.1.cv2.conv.bias              Conv2d     False         128               [128]    -0.978       0.7        float32\n",
      "   23                 model.7.cv1.conv.weight              Conv2d     False      131072    [512, 256, 1, 1]  -0.00914    0.0819        float32\n",
      "   23                   model.7.cv1.conv.bias              Conv2d     False         512               [512]    -0.637     0.396        float32\n",
      "   24                 model.7.cv2.conv.weight              Conv2d     False        4608      [512, 1, 3, 3]    -0.012     0.558        float32\n",
      "   24                   model.7.cv2.conv.bias              Conv2d     False         512               [512]  -0.00261     0.614        float32\n",
      "   25                         model.7.cv2.act            Identity     False           0                  []         -         -              -\n",
      "   26                 model.8.cv1.conv.weight              Conv2d     False      262144    [512, 512, 1, 1]  7.64e-05    0.0243        float32\n",
      "   26                   model.8.cv1.conv.bias              Conv2d     False         512               [512]    -0.248     0.171        float32\n",
      "   27                 model.8.cv2.conv.weight              Conv2d     False      393216    [512, 768, 1, 1]  -0.00331    0.0306        float32\n",
      "   27                   model.8.cv2.conv.bias              Conv2d     False         512               [512]    0.0161     0.372        float32\n",
      "   28           model.8.m.0.cv1.0.conv.weight              Conv2d     False        2304      [256, 1, 3, 3]    0.0258     0.964        float32\n",
      "   28             model.8.m.0.cv1.0.conv.bias              Conv2d     False         256               [256]    0.0361     0.444        float32\n",
      "   29           model.8.m.0.cv1.1.conv.weight              Conv2d     False      131072    [512, 256, 1, 1]  -0.00771    0.0791        float32\n",
      "   29             model.8.m.0.cv1.1.conv.bias              Conv2d     False         512               [512]     0.122     0.256        float32\n",
      "   30           model.8.m.0.cv1.2.conv.weight              Conv2d     False       25088      [512, 1, 7, 7]   -0.0076      0.28        float32\n",
      "   30             model.8.m.0.cv1.2.conv.bias              Conv2d     False         512               [512]   -0.0919     0.654        float32\n",
      "   31                   model.8.m.0.cv1.2.act                SiLU     False           0                  []         -         -              -\n",
      "   32           model.8.m.0.cv1.3.conv.weight              Conv2d     False      131072    [256, 512, 1, 1]  -0.00266    0.0347        float32\n",
      "   32             model.8.m.0.cv1.3.conv.bias              Conv2d     False         256               [256]     0.295     0.373        float32\n",
      "   33           model.8.m.0.cv1.4.conv.weight              Conv2d     False        2304      [256, 1, 3, 3]    0.0233     0.604        float32\n",
      "   33             model.8.m.0.cv1.4.conv.bias              Conv2d     False         256               [256]     0.206     0.663        float32\n",
      "   34                 model.9.cv1.conv.weight              Conv2d     False      131072    [256, 512, 1, 1]  -0.00949    0.0383        float32\n",
      "   34                   model.9.cv1.conv.bias              Conv2d     False         256               [256]     0.907     0.213        float32\n",
      "   35                 model.9.cv2.conv.weight              Conv2d     False      524288   [512, 1024, 1, 1]  -0.00012    0.0198        float32\n",
      "   35                   model.9.cv2.conv.bias              Conv2d     False         512               [512]    -0.307      1.88        float32\n",
      "   36                               model.9.m           MaxPool2d     False           0                  []         -         -              -\n",
      "   37                model.10.cv1.conv.weight              Conv2d     False      262144    [512, 512, 1, 1]  -0.00889    0.0835        float32\n",
      "   37                  model.10.cv1.conv.bias              Conv2d     False         512               [512]    -0.398     0.301        float32\n",
      "   38                model.10.cv2.conv.weight              Conv2d     False      262144    [512, 512, 1, 1]  -0.00383    0.0343        float32\n",
      "   38                  model.10.cv2.conv.bias              Conv2d     False         512               [512]    -0.514     0.259        float32\n",
      "   39           model.10.attn.qkv.conv.weight              Conv2d     False      131072    [512, 256, 1, 1] -0.000412    0.0592        float32\n",
      "   39             model.10.attn.qkv.conv.bias              Conv2d     False         512               [512]     0.028       0.7        float32\n",
      "   40                   model.10.attn.qkv.act            Identity     False           0                  []         -         -              -\n",
      "   41          model.10.attn.proj.conv.weight              Conv2d     False       65536    [256, 256, 1, 1] -2.67e-05    0.0326        float32\n",
      "   41            model.10.attn.proj.conv.bias              Conv2d     False         256               [256]  -0.00561    0.0837        float32\n",
      "   42                  model.10.attn.proj.act            Identity     False           0                  []         -         -              -\n",
      "   43            model.10.attn.pe.conv.weight              Conv2d     False        2304      [256, 1, 3, 3]   -0.0651     0.254        float32\n",
      "   43              model.10.attn.pe.conv.bias              Conv2d     False         256               [256]  0.000159    0.0629        float32\n",
      "   44                    model.10.attn.pe.act            Identity     False           0                  []         -         -              -\n",
      "   45              model.10.ffn.0.conv.weight              Conv2d     False      131072    [512, 256, 1, 1]    0.0014    0.0382        float32\n",
      "   45                model.10.ffn.0.conv.bias              Conv2d     False         512               [512]    -0.461     0.266        float32\n",
      "   46              model.10.ffn.1.conv.weight              Conv2d     False      131072    [256, 512, 1, 1] -0.000239    0.0102        float32\n",
      "   46                model.10.ffn.1.conv.bias              Conv2d     False         256               [256]    0.0209     0.156        float32\n",
      "   47                      model.10.ffn.1.act            Identity     False           0                  []         -         -              -\n",
      "   48                                model.11            Upsample     False           0                  []         -         -              -\n",
      "   49                                model.12              Concat     False           0                  []         -         -              -\n",
      "   50                model.13.cv1.conv.weight              Conv2d     False      196608    [256, 768, 1, 1]  -0.00373    0.0481        float32\n",
      "   50                  model.13.cv1.conv.bias              Conv2d     False         256               [256]    -0.705     0.565        float32\n",
      "   51                model.13.cv2.conv.weight              Conv2d     False       98304    [256, 384, 1, 1]   -0.0112    0.0861        float32\n",
      "   51                  model.13.cv2.conv.bias              Conv2d     False         256               [256]     -0.54     0.436        float32\n",
      "   52            model.13.m.0.cv1.conv.weight              Conv2d     False      147456    [128, 128, 3, 3]  -0.00541    0.0526        float32\n",
      "   52              model.13.m.0.cv1.conv.bias              Conv2d     False         128               [128]     -0.57     0.817        float32\n",
      "   53            model.13.m.0.cv2.conv.weight              Conv2d     False      147456    [128, 128, 3, 3]  -0.00411    0.0549        float32\n",
      "   53              model.13.m.0.cv2.conv.bias              Conv2d     False         128               [128]    -0.823      0.56        float32\n",
      "   54                                model.14            Upsample     False           0                  []         -         -              -\n",
      "   55                                model.15              Concat     False           0                  []         -         -              -\n",
      "   56                model.16.cv1.conv.weight              Conv2d     False       49152    [128, 384, 1, 1]   -0.0044    0.0539        float32\n",
      "   56                  model.16.cv1.conv.bias              Conv2d     False         128               [128]    -0.268     0.672        float32\n",
      "   57                model.16.cv2.conv.weight              Conv2d     False       24576    [128, 192, 1, 1]   -0.0114     0.113        float32\n",
      "   57                  model.16.cv2.conv.bias              Conv2d     False         128               [128]     -0.17     0.623        float32\n",
      "   58            model.16.m.0.cv1.conv.weight              Conv2d     False       36864      [64, 64, 3, 3]  -0.00636     0.071        float32\n",
      "   58              model.16.m.0.cv1.conv.bias              Conv2d     False          64                [64]    -0.183      1.11        float32\n",
      "   59            model.16.m.0.cv2.conv.weight              Conv2d     False       36864      [64, 64, 3, 3]  -0.00643     0.083        float32\n",
      "   59              model.16.m.0.cv2.conv.bias              Conv2d     False          64                [64]    -0.574     0.648        float32\n",
      "   60                    model.17.conv.weight              Conv2d     False      147456    [128, 128, 3, 3]  -0.00168     0.042        float32\n",
      "   60                      model.17.conv.bias              Conv2d     False         128               [128]   -0.0777     0.523        float32\n",
      "   61                                model.18              Concat     False           0                  []         -         -              -\n",
      "   62                model.19.cv1.conv.weight              Conv2d     False       98304    [256, 384, 1, 1]  -0.00522    0.0643        float32\n",
      "   62                  model.19.cv1.conv.bias              Conv2d     False         256               [256]    -0.325     0.276        float32\n",
      "   63                model.19.cv2.conv.weight              Conv2d     False       98304    [256, 384, 1, 1]  -0.00682      0.06        float32\n",
      "   63                  model.19.cv2.conv.bias              Conv2d     False         256               [256]  -0.00702     0.295        float32\n",
      "   64            model.19.m.0.cv1.conv.weight              Conv2d     False      147456    [128, 128, 3, 3]  -0.00337    0.0334        float32\n",
      "   64              model.19.m.0.cv1.conv.bias              Conv2d     False         128               [128]    -0.755     0.313        float32\n",
      "   65            model.19.m.0.cv2.conv.weight              Conv2d     False      147456    [128, 128, 3, 3]  -0.00373    0.0566        float32\n",
      "   65              model.19.m.0.cv2.conv.bias              Conv2d     False         128               [128]    -0.635     0.407        float32\n",
      "   66                model.20.cv1.conv.weight              Conv2d     False       65536    [256, 256, 1, 1]  -0.00521    0.0687        float32\n",
      "   66                  model.20.cv1.conv.bias              Conv2d     False         256               [256]   0.00962     0.205        float32\n",
      "   67                model.20.cv2.conv.weight              Conv2d     False        2304      [256, 1, 3, 3]   -0.0153     0.331        float32\n",
      "   67                  model.20.cv2.conv.bias              Conv2d     False         256               [256]   0.00857     0.143        float32\n",
      "   68                        model.20.cv2.act            Identity     False           0                  []         -         -              -\n",
      "   69                                model.21              Concat     False           0                  []         -         -              -\n",
      "   70                model.22.cv1.conv.weight              Conv2d     False      393216    [512, 768, 1, 1]   -0.0012    0.0336        float32\n",
      "   70                  model.22.cv1.conv.bias              Conv2d     False         512               [512]    -0.191     0.129        float32\n",
      "   71                model.22.cv2.conv.weight              Conv2d     False      393216    [512, 768, 1, 1]  -0.00146    0.0293        float32\n",
      "   71                  model.22.cv2.conv.bias              Conv2d     False         512               [512]      0.15     0.275        float32\n",
      "   72          model.22.m.0.cv1.0.conv.weight              Conv2d     False        2304      [256, 1, 3, 3]   -0.0192     0.516        float32\n",
      "   72            model.22.m.0.cv1.0.conv.bias              Conv2d     False         256               [256]   -0.0094     0.207        float32\n",
      "   73          model.22.m.0.cv1.1.conv.weight              Conv2d     False      131072    [512, 256, 1, 1]  -0.00581    0.0895        float32\n",
      "   73            model.22.m.0.cv1.1.conv.bias              Conv2d     False         512               [512]    0.0683     0.204        float32\n",
      "   74          model.22.m.0.cv1.2.conv.weight              Conv2d     False       25088      [512, 1, 7, 7]   -0.0128     0.219        float32\n",
      "   74            model.22.m.0.cv1.2.conv.bias              Conv2d     False         512               [512]   0.00222      0.45        float32\n",
      "   75                  model.22.m.0.cv1.2.act                SiLU     False           0                  []         -         -              -\n",
      "   76          model.22.m.0.cv1.3.conv.weight              Conv2d     False      131072    [256, 512, 1, 1]  -0.00437    0.0431        float32\n",
      "   76            model.22.m.0.cv1.3.conv.bias              Conv2d     False         256               [256]     0.271     0.366        float32\n",
      "   77          model.22.m.0.cv1.4.conv.weight              Conv2d     False        2304      [256, 1, 3, 3]    0.0217     0.451        float32\n",
      "   77            model.22.m.0.cv1.4.conv.bias              Conv2d     False         256               [256]     0.024     0.373        float32\n",
      "   78                          model.23.cv2.0            Identity     False           0                  []         -         -              -\n",
      "   79                model.23.dfl.conv.weight              Conv2d     False          16       [1, 16, 1, 1]       7.5      4.76        float32\n",
      "   80    model.23.one2one_cv2.0.0.conv.weight              Conv2d     False       73728     [64, 128, 3, 3]  -0.00352    0.0382        float32\n",
      "   80      model.23.one2one_cv2.0.0.conv.bias              Conv2d     False          64                [64]     0.232     0.793        float32\n",
      "   81            model.23.one2one_cv2.0.0.act                SiLU     False           0                  []         -         -              -\n",
      "   82    model.23.one2one_cv2.0.1.conv.weight              Conv2d     False       36864      [64, 64, 3, 3]  -0.00408    0.0522        float32\n",
      "   82      model.23.one2one_cv2.0.1.conv.bias              Conv2d     False          64                [64]     0.786     0.502        float32\n",
      "   83         model.23.one2one_cv2.0.2.weight              Conv2d     False        4096      [64, 64, 1, 1]    -7e-07     0.149        float32\n",
      "   83           model.23.one2one_cv2.0.2.bias              Conv2d     False          64                [64]         1      1.03        float32\n",
      "   84    model.23.one2one_cv2.1.0.conv.weight              Conv2d     False      147456     [64, 256, 3, 3] -0.000723    0.0138        float32\n",
      "   84      model.23.one2one_cv2.1.0.conv.bias              Conv2d     False          64                [64]    0.0653     0.455        float32\n",
      "   85    model.23.one2one_cv2.1.1.conv.weight              Conv2d     False       36864      [64, 64, 3, 3]  -0.00266    0.0473        float32\n",
      "   85      model.23.one2one_cv2.1.1.conv.bias              Conv2d     False          64                [64]     0.955     0.492        float32\n",
      "   86         model.23.one2one_cv2.1.2.weight              Conv2d     False        4096      [64, 64, 1, 1] -3.18e-06     0.112        float32\n",
      "   86           model.23.one2one_cv2.1.2.bias              Conv2d     False          64                [64]         1     0.698        float32\n",
      "   87    model.23.one2one_cv2.2.0.conv.weight              Conv2d     False      294912     [64, 512, 3, 3] -0.000464   0.00615        float32\n",
      "   87      model.23.one2one_cv2.2.0.conv.bias              Conv2d     False          64                [64]     0.387     0.421        float32\n",
      "   88    model.23.one2one_cv2.2.1.conv.weight              Conv2d     False       36864      [64, 64, 3, 3]  -0.00231    0.0431        float32\n",
      "   88      model.23.one2one_cv2.2.1.conv.bias              Conv2d     False          64                [64]      1.19     0.641        float32\n",
      "   89         model.23.one2one_cv2.2.2.weight              Conv2d     False        4096      [64, 64, 1, 1]   2.4e-07    0.0532        float32\n",
      "   89           model.23.one2one_cv2.2.2.bias              Conv2d     False          64                [64]         1     0.537        float32\n",
      "   90  model.23.one2one_cv3.0.0.0.conv.weight              Conv2d     False        1152      [128, 1, 3, 3]     0.069     0.647        float32\n",
      "   90    model.23.one2one_cv3.0.0.0.conv.bias              Conv2d     False         128               [128]     0.996     0.742        float32\n",
      "   91          model.23.one2one_cv3.0.0.0.act                SiLU     False           0                  []         -         -              -\n",
      "   92  model.23.one2one_cv3.0.0.1.conv.weight              Conv2d     False       16384    [128, 128, 1, 1]  -0.00348    0.0873        float32\n",
      "   92    model.23.one2one_cv3.0.0.1.conv.bias              Conv2d     False         128               [128]     0.446      1.34        float32\n",
      "   93  model.23.one2one_cv3.0.1.0.conv.weight              Conv2d     False        1152      [128, 1, 3, 3]  -0.00806     0.936        float32\n",
      "   93    model.23.one2one_cv3.0.1.0.conv.bias              Conv2d     False         128               [128]     0.506     0.931        float32\n",
      "   94  model.23.one2one_cv3.0.1.1.conv.weight              Conv2d     False       16384    [128, 128, 1, 1]  -0.00714     0.274        float32\n",
      "   94    model.23.one2one_cv3.0.1.1.conv.bias              Conv2d     False         128               [128]     0.601      1.84        float32\n",
      "   95         model.23.one2one_cv3.0.2.weight              Conv2d     False        1152      [9, 128, 1, 1]   -0.0563      0.12        float32\n",
      "   95           model.23.one2one_cv3.0.2.bias              Conv2d     False           9                 [9]     -9.26     0.168        float32\n",
      "   96  model.23.one2one_cv3.1.0.0.conv.weight              Conv2d     False        2304      [256, 1, 3, 3]    0.0516     0.578        float32\n",
      "   96    model.23.one2one_cv3.1.0.0.conv.bias              Conv2d     False         256               [256]     0.339     0.409        float32\n",
      "   97  model.23.one2one_cv3.1.0.1.conv.weight              Conv2d     False       32768    [128, 256, 1, 1]   -0.0033    0.0589        float32\n",
      "   97    model.23.one2one_cv3.1.0.1.conv.bias              Conv2d     False         128               [128]     0.391     0.721        float32\n",
      "   98  model.23.one2one_cv3.1.1.0.conv.weight              Conv2d     False        1152      [128, 1, 3, 3]   -0.0609      0.78        float32\n",
      "   98    model.23.one2one_cv3.1.1.0.conv.bias              Conv2d     False         128               [128]     0.387     0.847        float32\n",
      "   99  model.23.one2one_cv3.1.1.1.conv.weight              Conv2d     False       16384    [128, 128, 1, 1]   -0.0212     0.233        float32\n",
      "   99    model.23.one2one_cv3.1.1.1.conv.bias              Conv2d     False         128               [128]      1.84      1.22        float32\n",
      "  100         model.23.one2one_cv3.1.2.weight              Conv2d     False        1152      [9, 128, 1, 1]   -0.0503    0.0828        float32\n",
      "  100           model.23.one2one_cv3.1.2.bias              Conv2d     False           9                 [9]     -7.96    0.0741        float32\n",
      "  101  model.23.one2one_cv3.2.0.0.conv.weight              Conv2d     False        4608      [512, 1, 3, 3]  -0.00484     0.427        float32\n",
      "  101    model.23.one2one_cv3.2.0.0.conv.bias              Conv2d     False         512               [512]    0.0878     0.289        float32\n",
      "  102  model.23.one2one_cv3.2.0.1.conv.weight              Conv2d     False       65536    [128, 512, 1, 1]  -0.00185    0.0389        float32\n",
      "  102    model.23.one2one_cv3.2.0.1.conv.bias              Conv2d     False         128               [128]     0.211     0.593        float32\n",
      "  103  model.23.one2one_cv3.2.1.0.conv.weight              Conv2d     False        1152      [128, 1, 3, 3]  -0.00705     0.725        float32\n",
      "  103    model.23.one2one_cv3.2.1.0.conv.bias              Conv2d     False         128               [128]     0.204     0.592        float32\n",
      "  104  model.23.one2one_cv3.2.1.1.conv.weight              Conv2d     False       16384    [128, 128, 1, 1]   -0.0159     0.151        float32\n",
      "  104    model.23.one2one_cv3.2.1.1.conv.bias              Conv2d     False         128               [128]      2.23      1.01        float32\n",
      "  105         model.23.one2one_cv3.2.2.weight              Conv2d     False        1152      [9, 128, 1, 1]   -0.0366     0.044        float32\n",
      "  105           model.23.one2one_cv3.2.2.bias              Conv2d     False           9                 [9]      -6.6    0.0257        float32\n",
      "YOLOv10s summary (fused): 106 layers, 7,221,483 parameters, 0 gradients, 21.4 GFLOPs\n"
     ]
    },
    {
     "data": {
      "text/plain": [
       "(106, 7221483, 0, 21.4319616)"
      ]
     },
     "execution_count": 7,
     "metadata": {},
     "output_type": "execute_result"
    }
   ],
   "source": [
    "#best model\n",
    "\n",
    "from ultralytics import YOLO\n",
    "import matplotlib.pyplot as plt\n",
    "import matplotlib.image as mpimg\n",
    "from pathlib import Path\n",
    "\n",
    "# Path to your trained model\n",
    "best_model_path = Path(\"/kaggle/working/base_yolov10/train/weights/best.pt\")\n",
    "\n",
    "# Load the trained YOLOv10 model\n",
    "model = YOLO(str(best_model_path))\n",
    "\n",
    "# ============================================================\n",
    "# Evaluate on test set\n",
    "# ============================================================\n",
    "DATA = \"/kaggle/working/traffic_baseline/data_traffic.yaml\"\n",
    "\n",
    "metrics = model.val(\n",
    "    data=DATA,\n",
    "    split=\"test\",\n",
    "    plots=True,           # generates PR curve, confusion matrix, etc.\n",
    "    project=\"/kaggle/working/base_yolov10\",\n",
    "    name=\"val\"\n",
    ")\n",
    "\n",
    "print(\"mAP@0.5     :\", metrics.box.map50)\n",
    "print(\"mAP@[.5:.95]:\", metrics.box.map)\n",
    "print(\"Precision   :\", metrics.box.mp)\n",
    "print(\"Recall      :\", metrics.box.mr)\n",
    "\n",
    "\n",
    "# ============================================================\n",
    "# Inference on test images + FPS\n",
    "# ============================================================\n",
    "results = model(\"/kaggle/working/traffic_baseline/yolo_split/test/images\", device=0, imgsz=640, verbose=False)\n",
    "fps = 1000.0 / results[0].speed['inference']\n",
    "print(\"FPS ≈\", fps)\n",
    "\n",
    "# ============================================================\n",
    "# Model complexity (params / GMACs)\n",
    "# ============================================================\n",
    "model.info(detailed=True)\n"
   ]
  }
 ],
 "metadata": {
  "kaggle": {
   "accelerator": "nvidiaTeslaT4",
   "dataSources": [
    {
     "datasetId": 8107179,
     "sourceId": 12820360,
     "sourceType": "datasetVersion"
    }
   ],
   "dockerImageVersionId": 31090,
   "isGpuEnabled": true,
   "isInternetEnabled": true,
   "language": "python",
   "sourceType": "notebook"
  },
  "kernelspec": {
   "display_name": "Python 3",
   "language": "python",
   "name": "python3"
  },
  "language_info": {
   "codemirror_mode": {
    "name": "ipython",
    "version": 3
   },
   "file_extension": ".py",
   "mimetype": "text/x-python",
   "name": "python",
   "nbconvert_exporter": "python",
   "pygments_lexer": "ipython3",
   "version": "3.11.13"
  },
  "papermill": {
   "default_parameters": {},
   "duration": 22130.594486,
   "end_time": "2025-08-24T23:53:15.458655",
   "environment_variables": {},
   "exception": null,
   "input_path": "__notebook__.ipynb",
   "output_path": "__notebook__.ipynb",
   "parameters": {},
   "start_time": "2025-08-24T17:44:24.864169",
   "version": "2.6.0"
  }
 },
 "nbformat": 4,
 "nbformat_minor": 5
}
