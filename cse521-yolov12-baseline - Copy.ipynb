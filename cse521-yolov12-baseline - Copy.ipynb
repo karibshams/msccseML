{
 "cells": [
  {
   "cell_type": "code",
   "execution_count": 1,
   "id": "1b58799f",
   "metadata": {
    "_cell_guid": "b1076dfc-b9ad-4769-8c92-a6c4dae69d19",
    "_uuid": "8f2839f25d086af736a60e9eeb907d3b93b6e0e5",
    "execution": {
     "iopub.execute_input": "2025-08-24T05:36:53.945194Z",
     "iopub.status.busy": "2025-08-24T05:36:53.944993Z",
     "iopub.status.idle": "2025-08-24T05:36:54.166678Z",
     "shell.execute_reply": "2025-08-24T05:36:54.165787Z"
    },
    "papermill": {
     "duration": 0.226357,
     "end_time": "2025-08-24T05:36:54.167896",
     "exception": false,
     "start_time": "2025-08-24T05:36:53.941539",
     "status": "completed"
    },
    "tags": []
   },
   "outputs": [
    {
     "name": "stdout",
     "output_type": "stream",
     "text": [
      "Sun Aug 24 05:36:53 2025       \r\n",
      "+-----------------------------------------------------------------------------------------+\r\n",
      "| NVIDIA-SMI 560.35.03              Driver Version: 560.35.03      CUDA Version: 12.6     |\r\n",
      "|-----------------------------------------+------------------------+----------------------+\r\n",
      "| GPU  Name                 Persistence-M | Bus-Id          Disp.A | Volatile Uncorr. ECC |\r\n",
      "| Fan  Temp   Perf          Pwr:Usage/Cap |           Memory-Usage | GPU-Util  Compute M. |\r\n",
      "|                                         |                        |               MIG M. |\r\n",
      "|=========================================+========================+======================|\r\n",
      "|   0  Tesla T4                       Off |   00000000:00:04.0 Off |                    0 |\r\n",
      "| N/A   51C    P8              9W /   70W |       1MiB /  15360MiB |      0%      Default |\r\n",
      "|                                         |                        |                  N/A |\r\n",
      "+-----------------------------------------+------------------------+----------------------+\r\n",
      "|   1  Tesla T4                       Off |   00000000:00:05.0 Off |                    0 |\r\n",
      "| N/A   48C    P8              9W /   70W |       1MiB /  15360MiB |      0%      Default |\r\n",
      "|                                         |                        |                  N/A |\r\n",
      "+-----------------------------------------+------------------------+----------------------+\r\n",
      "                                                                                         \r\n",
      "+-----------------------------------------------------------------------------------------+\r\n",
      "| Processes:                                                                              |\r\n",
      "|  GPU   GI   CI        PID   Type   Process name                              GPU Memory |\r\n",
      "|        ID   ID                                                               Usage      |\r\n",
      "|=========================================================================================|\r\n",
      "|  No running processes found                                                             |\r\n",
      "+-----------------------------------------------------------------------------------------+\r\n"
     ]
    }
   ],
   "source": [
    "!nvidia-smi"
   ]
  },
  {
   "cell_type": "markdown",
   "id": "b88e75f3",
   "metadata": {
    "papermill": {
     "duration": 0.0021,
     "end_time": "2025-08-24T05:36:54.172981",
     "exception": false,
     "start_time": "2025-08-24T05:36:54.170881",
     "status": "completed"
    },
    "tags": []
   },
   "source": [
    "**Import And Split**"
   ]
  },
  {
   "cell_type": "code",
   "execution_count": 2,
   "id": "e92dbecf",
   "metadata": {
    "execution": {
     "iopub.execute_input": "2025-08-24T05:36:54.178750Z",
     "iopub.status.busy": "2025-08-24T05:36:54.178215Z",
     "iopub.status.idle": "2025-08-24T05:45:22.386284Z",
     "shell.execute_reply": "2025-08-24T05:45:22.385349Z"
    },
    "papermill": {
     "duration": 508.212534,
     "end_time": "2025-08-24T05:45:22.387725",
     "exception": false,
     "start_time": "2025-08-24T05:36:54.175191",
     "status": "completed"
    },
    "tags": []
   },
   "outputs": [
    {
     "name": "stdout",
     "output_type": "stream",
     "text": [
      "\u001b[2K   \u001b[90m━━━━━━━━━━━━━━━━━━━━━━━━━━━━━━━━━━━━━━━━\u001b[0m \u001b[32m1.1/1.1 MB\u001b[0m \u001b[31m27.9 MB/s\u001b[0m eta \u001b[36m0:00:00\u001b[0m\r\n",
      "\u001b[2K   \u001b[90m━━━━━━━━━━━━━━━━━━━━━━━━━━━━━━━━━━━━━━━━\u001b[0m \u001b[32m363.4/363.4 MB\u001b[0m \u001b[31m4.7 MB/s\u001b[0m eta \u001b[36m0:00:00\u001b[0m\r\n",
      "\u001b[2K   \u001b[90m━━━━━━━━━━━━━━━━━━━━━━━━━━━━━━━━━━━━━━━━\u001b[0m \u001b[32m13.8/13.8 MB\u001b[0m \u001b[31m102.9 MB/s\u001b[0m eta \u001b[36m0:00:00\u001b[0m\r\n",
      "\u001b[2K   \u001b[90m━━━━━━━━━━━━━━━━━━━━━━━━━━━━━━━━━━━━━━━━\u001b[0m \u001b[32m24.6/24.6 MB\u001b[0m \u001b[31m72.8 MB/s\u001b[0m eta \u001b[36m0:00:00\u001b[0m\r\n",
      "\u001b[2K   \u001b[90m━━━━━━━━━━━━━━━━━━━━━━━━━━━━━━━━━━━━━━━━\u001b[0m \u001b[32m883.7/883.7 kB\u001b[0m \u001b[31m43.7 MB/s\u001b[0m eta \u001b[36m0:00:00\u001b[0m\r\n",
      "\u001b[2K   \u001b[90m━━━━━━━━━━━━━━━━━━━━━━━━━━━━━━━━━━━━━━━━\u001b[0m \u001b[32m664.8/664.8 MB\u001b[0m \u001b[31m2.5 MB/s\u001b[0m eta \u001b[36m0:00:00\u001b[0m\r\n",
      "\u001b[2K   \u001b[90m━━━━━━━━━━━━━━━━━━━━━━━━━━━━━━━━━━━━━━━━\u001b[0m \u001b[32m211.5/211.5 MB\u001b[0m \u001b[31m8.2 MB/s\u001b[0m eta \u001b[36m0:00:00\u001b[0m\r\n",
      "\u001b[2K   \u001b[90m━━━━━━━━━━━━━━━━━━━━━━━━━━━━━━━━━━━━━━━━\u001b[0m \u001b[32m56.3/56.3 MB\u001b[0m \u001b[31m31.6 MB/s\u001b[0m eta \u001b[36m0:00:00\u001b[0m\r\n",
      "\u001b[2K   \u001b[90m━━━━━━━━━━━━━━━━━━━━━━━━━━━━━━━━━━━━━━━━\u001b[0m \u001b[32m127.9/127.9 MB\u001b[0m \u001b[31m13.3 MB/s\u001b[0m eta \u001b[36m0:00:00\u001b[0m\r\n",
      "\u001b[2K   \u001b[90m━━━━━━━━━━━━━━━━━━━━━━━━━━━━━━━━━━━━━━━━\u001b[0m \u001b[32m207.5/207.5 MB\u001b[0m \u001b[31m4.7 MB/s\u001b[0m eta \u001b[36m0:00:00\u001b[0m\r\n",
      "\u001b[2K   \u001b[90m━━━━━━━━━━━━━━━━━━━━━━━━━━━━━━━━━━━━━━━━\u001b[0m \u001b[32m21.1/21.1 MB\u001b[0m \u001b[31m87.8 MB/s\u001b[0m eta \u001b[36m0:00:00\u001b[0m\r\n",
      "\u001b[?25hCreating new Ultralytics Settings v0.0.6 file ✅ \n",
      "View Ultralytics Settings with 'yolo settings' or at '/root/.config/Ultralytics/settings.json'\n",
      "Update Settings with 'yolo settings key=value', i.e. 'yolo settings runs_dir=path/to/dir'. For help see https://docs.ultralytics.com/quickstart/#ultralytics-settings.\n",
      "➤ Converting Pascal VOC → YOLO with auto split …\n",
      "Found 23678 annotated images total.\n",
      "train: 16574 images\n",
      "val: 4735 images\n",
      "test: 2369 images\n",
      "✓ YOLO split ready: /kaggle/working/traffic_baseline/data_traffic.yaml\n"
     ]
    }
   ],
   "source": [
    "# ============================================================\n",
    "# 0. Setup\n",
    "# ============================================================\n",
    "!pip install -q ultralytics\n",
    "\n",
    "from ultralytics import YOLO\n",
    "from pathlib import Path\n",
    "import yaml, shutil, random, xml.etree.ElementTree as ET\n",
    "import matplotlib.pyplot as plt\n",
    "import matplotlib.image as mpimg\n",
    "\n",
    "# Dataset paths\n",
    "BASE  = Path(\"/kaggle/input/bangladesh-traffic/Bangladeshi Traffic Flow Dataset/Annotated Images\")\n",
    "WORK  = Path(\"/kaggle/working/traffic_baseline\")\n",
    "SPLIT = WORK / \"yolo_split\"\n",
    "DATA  = WORK / \"data_traffic.yaml\"\n",
    "WORK.mkdir(parents=True, exist_ok=True)\n",
    "\n",
    "# Custom folder for all outputs\n",
    "OUTPUT_FOLDER = Path(\"/kaggle/working/base_yolov12\")\n",
    "OUTPUT_FOLDER.mkdir(parents=True, exist_ok=True)\n",
    "\n",
    "# ============================================================\n",
    "# 1. VOC → YOLO conversion + train/val/test split\n",
    "# ============================================================\n",
    "def voc2yolo(xml_file, classes, out_file):\n",
    "    tree = ET.parse(xml_file)\n",
    "    root = tree.getroot()\n",
    "    size = root.find(\"size\")\n",
    "    w, h = int(size.find(\"width\").text), int(size.find(\"height\").text)\n",
    "\n",
    "    with open(out_file, \"w\") as f:\n",
    "        for obj in root.iter(\"object\"):\n",
    "            cls = obj.find(\"name\").text\n",
    "            if cls not in classes:\n",
    "                continue\n",
    "            cls_id = classes.index(cls)\n",
    "\n",
    "            xmlbox = obj.find(\"bndbox\")\n",
    "            xmin, ymin = float(xmlbox.find(\"xmin\").text), float(xmlbox.find(\"ymin\").text)\n",
    "            xmax, ymax = float(xmlbox.find(\"xmax\").text), float(xmlbox.find(\"ymax\").text)\n",
    "\n",
    "            x = (xmin + xmax) / 2.0 / w\n",
    "            y = (ymin + ymax) / 2.0 / h\n",
    "            bw = (xmax - xmin) / w\n",
    "            bh = (ymax - ymin) / h\n",
    "            f.write(f\"{cls_id} {x:.6f} {y:.6f} {bw:.6f} {bh:.6f}\\n\")\n",
    "\n",
    "def create_split(all_files, ratios=(0.7,0.2,0.1)):\n",
    "    n = len(all_files)\n",
    "    n_train = int(ratios[0]*n)\n",
    "    n_val   = int(ratios[1]*n)\n",
    "    random.shuffle(all_files)\n",
    "    return (all_files[:n_train],\n",
    "            all_files[n_train:n_train+n_val],\n",
    "            all_files[n_train+n_val:])\n",
    "\n",
    "def convert_and_split(base_dir, classes, ratios=(0.7,0.2,0.1)):\n",
    "    if SPLIT.exists():\n",
    "        shutil.rmtree(SPLIT)\n",
    "\n",
    "    all_pairs = []\n",
    "    for ext in [\"*.jpg\",\"*.jpeg\",\"*.png\",\"*.JPG\",\"*.JPEG\",\"*.PNG\"]:\n",
    "        for img_file in Path(base_dir).rglob(ext):\n",
    "            xml_file = img_file.with_suffix(\".xml\")\n",
    "            if xml_file.exists():\n",
    "                all_pairs.append((img_file, xml_file))\n",
    "\n",
    "    print(f\"Found {len(all_pairs)} annotated images total.\")\n",
    "    train, val, test = create_split(all_pairs, ratios)\n",
    "    splits = {\"train\":train, \"val\":val, \"test\":test}\n",
    "\n",
    "    for split_name, files in splits.items():\n",
    "        out_im, out_lb = SPLIT/split_name/\"images\", SPLIT/split_name/\"labels\"\n",
    "        out_im.mkdir(parents=True, exist_ok=True)\n",
    "        out_lb.mkdir(parents=True, exist_ok=True)\n",
    "\n",
    "        for img_file, xml_file in files:\n",
    "            shutil.copy(img_file, out_im/img_file.name)\n",
    "            voc2yolo(xml_file, classes, out_lb/f\"{img_file.stem}.txt\")\n",
    "        print(f\"{split_name}: {len(files)} images\")\n",
    "\n",
    "# Classes in dataset\n",
    "CLASSES = [\"Rickshaw\",\"Bus\",\"Truck\",\"Bike\",\"Mini-truck\",\"People\",\"Car\",\"CNG\",\"Cycle\"]\n",
    "\n",
    "print(\"➤ Converting Pascal VOC → YOLO with auto split …\")\n",
    "convert_and_split(BASE, CLASSES, ratios=(0.7,0.2,0.1))\n",
    "\n",
    "# Create data.yaml for YOLOv12\n",
    "DATA.write_text(yaml.dump({\n",
    "    \"path\": str(SPLIT),\n",
    "    \"train\": \"train/images\",\n",
    "    \"val\": \"val/images\",\n",
    "    \"test\": \"test/images\",\n",
    "    \"nc\": len(CLASSES),\n",
    "    \"names\": CLASSES\n",
    "}))\n",
    "print(\"✓ YOLO split ready:\", DATA)"
   ]
  },
  {
   "cell_type": "markdown",
   "id": "d571fa53",
   "metadata": {
    "papermill": {
     "duration": 0.017509,
     "end_time": "2025-08-24T05:45:22.424152",
     "exception": false,
     "start_time": "2025-08-24T05:45:22.406643",
     "status": "completed"
    },
    "tags": []
   },
   "source": [
    "**Train Yolo Baseline**"
   ]
  },
  {
   "cell_type": "code",
   "execution_count": 3,
   "id": "53e6b664",
   "metadata": {
    "execution": {
     "iopub.execute_input": "2025-08-24T05:45:22.460933Z",
     "iopub.status.busy": "2025-08-24T05:45:22.460270Z",
     "iopub.status.idle": "2025-08-24T12:44:38.190265Z",
     "shell.execute_reply": "2025-08-24T12:44:38.189438Z"
    },
    "papermill": {
     "duration": 25155.750919,
     "end_time": "2025-08-24T12:44:38.192779",
     "exception": false,
     "start_time": "2025-08-24T05:45:22.441860",
     "status": "completed"
    },
    "tags": []
   },
   "outputs": [
    {
     "name": "stderr",
     "output_type": "stream",
     "text": [
      "Downloading https://github.com/ultralytics/assets/releases/download/v8.3.0/yolo12s.pt to 'yolo12s.pt': 100%|██████████| 18.1M/18.1M [00:00<00:00, 106MB/s] \n"
     ]
    },
    {
     "name": "stdout",
     "output_type": "stream",
     "text": [
      "Ultralytics 8.3.184 🚀 Python-3.11.13 torch-2.6.0+cu124 CUDA:0 (Tesla T4, 15095MiB)\n",
      "\u001b[34m\u001b[1mengine/trainer: \u001b[0magnostic_nms=False, amp=True, augment=False, auto_augment=randaugment, batch=16, bgr=0.0, box=7.5, cache=False, cfg=None, classes=None, close_mosaic=10, cls=0.5, conf=None, copy_paste=0.0, copy_paste_mode=flip, cos_lr=False, cutmix=0.0, data=/kaggle/working/traffic_baseline/data_traffic.yaml, degrees=0.0, deterministic=True, device=None, dfl=1.5, dnn=False, dropout=0.0, dynamic=False, embed=None, epochs=50, erasing=0.4, exist_ok=False, fliplr=0.5, flipud=0.0, format=torchscript, fraction=1.0, freeze=None, half=False, hsv_h=0.015, hsv_s=0.7, hsv_v=0.4, imgsz=640, int8=False, iou=0.7, keras=False, kobj=1.0, line_width=None, lr0=0.01, lrf=0.01, mask_ratio=4, max_det=300, mixup=0.0, mode=train, model=yolo12s.pt, momentum=0.937, mosaic=1.0, multi_scale=False, name=train, nbs=64, nms=False, opset=None, optimize=False, optimizer=auto, overlap_mask=True, patience=100, perspective=0.0, plots=True, pose=12.0, pretrained=True, profile=False, project=/kaggle/working/base_yolov12, rect=False, resume=False, retina_masks=False, save=True, save_conf=False, save_crop=False, save_dir=/kaggle/working/base_yolov12/train, save_frames=False, save_json=False, save_period=-1, save_txt=False, scale=0.5, seed=0, shear=0.0, show=False, show_boxes=True, show_conf=True, show_labels=True, simplify=True, single_cls=False, source=None, split=val, stream_buffer=False, task=detect, time=None, tracker=botsort.yaml, translate=0.1, val=True, verbose=True, vid_stride=1, visualize=False, warmup_bias_lr=0.1, warmup_epochs=3.0, warmup_momentum=0.8, weight_decay=0.0005, workers=2, workspace=None\n"
     ]
    },
    {
     "name": "stderr",
     "output_type": "stream",
     "text": [
      "Downloading https://ultralytics.com/assets/Arial.ttf to '/root/.config/Ultralytics/Arial.ttf': 100%|██████████| 755k/755k [00:00<00:00, 21.4MB/s]\n"
     ]
    },
    {
     "name": "stdout",
     "output_type": "stream",
     "text": [
      "Overriding model.yaml nc=80 with nc=9\n",
      "\n",
      "                   from  n    params  module                                       arguments                     \n",
      "  0                  -1  1       928  ultralytics.nn.modules.conv.Conv             [3, 32, 3, 2]                 \n",
      "  1                  -1  1     18560  ultralytics.nn.modules.conv.Conv             [32, 64, 3, 2]                \n",
      "  2                  -1  1     26080  ultralytics.nn.modules.block.C3k2            [64, 128, 1, False, 0.25]     \n",
      "  3                  -1  1    147712  ultralytics.nn.modules.conv.Conv             [128, 128, 3, 2]              \n",
      "  4                  -1  1    103360  ultralytics.nn.modules.block.C3k2            [128, 256, 1, False, 0.25]    \n",
      "  5                  -1  1    590336  ultralytics.nn.modules.conv.Conv             [256, 256, 3, 2]              \n",
      "  6                  -1  2    689408  ultralytics.nn.modules.block.A2C2f           [256, 256, 2, True, 4]        \n",
      "  7                  -1  1   1180672  ultralytics.nn.modules.conv.Conv             [256, 512, 3, 2]              \n",
      "  8                  -1  2   2689536  ultralytics.nn.modules.block.A2C2f           [512, 512, 2, True, 1]        \n",
      "  9                  -1  1         0  torch.nn.modules.upsampling.Upsample         [None, 2, 'nearest']          \n",
      " 10             [-1, 6]  1         0  ultralytics.nn.modules.conv.Concat           [1]                           \n",
      " 11                  -1  1    345856  ultralytics.nn.modules.block.A2C2f           [768, 256, 1, False, -1]      \n",
      " 12                  -1  1         0  torch.nn.modules.upsampling.Upsample         [None, 2, 'nearest']          \n",
      " 13             [-1, 4]  1         0  ultralytics.nn.modules.conv.Concat           [1]                           \n",
      " 14                  -1  1     95104  ultralytics.nn.modules.block.A2C2f           [512, 128, 1, False, -1]      \n",
      " 15                  -1  1    147712  ultralytics.nn.modules.conv.Conv             [128, 128, 3, 2]              \n",
      " 16            [-1, 11]  1         0  ultralytics.nn.modules.conv.Concat           [1]                           \n",
      " 17                  -1  1    296704  ultralytics.nn.modules.block.A2C2f           [384, 256, 1, False, -1]      \n",
      " 18                  -1  1    590336  ultralytics.nn.modules.conv.Conv             [256, 256, 3, 2]              \n",
      " 19             [-1, 8]  1         0  ultralytics.nn.modules.conv.Concat           [1]                           \n",
      " 20                  -1  1   1511424  ultralytics.nn.modules.block.C3k2            [768, 512, 1, True]           \n",
      " 21        [14, 17, 20]  1    822891  ultralytics.nn.modules.head.Detect           [9, [128, 256, 512]]          \n",
      "YOLOv12s summary: 272 layers, 9,256,619 parameters, 9,256,603 gradients, 21.5 GFLOPs\n",
      "\n",
      "Transferred 685/691 items from pretrained weights\n",
      "Freezing layer 'model.21.dfl.conv.weight'\n",
      "\u001b[34m\u001b[1mAMP: \u001b[0mrunning Automatic Mixed Precision (AMP) checks...\n"
     ]
    },
    {
     "name": "stderr",
     "output_type": "stream",
     "text": [
      "Downloading https://github.com/ultralytics/assets/releases/download/v8.3.0/yolo11n.pt to 'yolo11n.pt': 100%|██████████| 5.35M/5.35M [00:00<00:00, 92.3MB/s]\n"
     ]
    },
    {
     "name": "stdout",
     "output_type": "stream",
     "text": [
      "\u001b[34m\u001b[1mAMP: \u001b[0mchecks passed ✅\n",
      "\u001b[34m\u001b[1mtrain: \u001b[0mFast image access ✅ (ping: 0.0±0.0 ms, read: 1022.0±332.8 MB/s, size: 70.4 KB)\n"
     ]
    },
    {
     "name": "stderr",
     "output_type": "stream",
     "text": [
      "\u001b[34m\u001b[1mtrain: \u001b[0mScanning /kaggle/working/traffic_baseline/yolo_split/train/labels... 16574 images, 34 backgrounds, 0 corrupt: 100%|██████████| 16574/16574 [00:11<00:00, 1401.84it/s]"
     ]
    },
    {
     "name": "stdout",
     "output_type": "stream",
     "text": [
      "\u001b[34m\u001b[1mtrain: \u001b[0m/kaggle/working/traffic_baseline/yolo_split/train/images/frame0_jpg.rf.e1bc04102d10d13d3e4801450a664640.jpg: 2 duplicate labels removed\n"
     ]
    },
    {
     "name": "stderr",
     "output_type": "stream",
     "text": [
      "\n"
     ]
    },
    {
     "name": "stdout",
     "output_type": "stream",
     "text": [
      "\u001b[34m\u001b[1mtrain: \u001b[0mNew cache created: /kaggle/working/traffic_baseline/yolo_split/train/labels.cache\n",
      "\u001b[34m\u001b[1malbumentations: \u001b[0mBlur(p=0.01, blur_limit=(3, 7)), MedianBlur(p=0.01, blur_limit=(3, 7)), ToGray(p=0.01, method='weighted_average', num_output_channels=3), CLAHE(p=0.01, clip_limit=(1.0, 4.0), tile_grid_size=(8, 8))\n",
      "\u001b[34m\u001b[1mval: \u001b[0mFast image access ✅ (ping: 0.0±0.0 ms, read: 809.5±630.6 MB/s, size: 74.0 KB)\n"
     ]
    },
    {
     "name": "stderr",
     "output_type": "stream",
     "text": [
      "\u001b[34m\u001b[1mval: \u001b[0mScanning /kaggle/working/traffic_baseline/yolo_split/val/labels... 4735 images, 14 backgrounds, 0 corrupt: 100%|██████████| 4735/4735 [00:03<00:00, 1389.40it/s]"
     ]
    },
    {
     "name": "stdout",
     "output_type": "stream",
     "text": [
      "\u001b[34m\u001b[1mval: \u001b[0m/kaggle/working/traffic_baseline/yolo_split/val/images/frame195_jpg.rf.46fd02322bca0e4c4437d57807d7a178.jpg: 1 duplicate labels removed\n",
      "\u001b[34m\u001b[1mval: \u001b[0m/kaggle/working/traffic_baseline/yolo_split/val/images/frame1_jpg.rf.af73293c83d849389bfeacd60c71cd38.jpg: 1 duplicate labels removed\n"
     ]
    },
    {
     "name": "stderr",
     "output_type": "stream",
     "text": [
      "\n"
     ]
    },
    {
     "name": "stdout",
     "output_type": "stream",
     "text": [
      "\u001b[34m\u001b[1mval: \u001b[0mNew cache created: /kaggle/working/traffic_baseline/yolo_split/val/labels.cache\n",
      "Plotting labels to /kaggle/working/base_yolov12/train/labels.jpg... \n",
      "\u001b[34m\u001b[1moptimizer:\u001b[0m 'optimizer=auto' found, ignoring 'lr0=0.01' and 'momentum=0.937' and determining best 'optimizer', 'lr0' and 'momentum' automatically... \n",
      "\u001b[34m\u001b[1moptimizer:\u001b[0m SGD(lr=0.01, momentum=0.9) with parameter groups 113 weight(decay=0.0), 120 weight(decay=0.0005), 119 bias(decay=0.0)\n",
      "Image sizes 640 train, 640 val\n",
      "Using 2 dataloader workers\n",
      "Logging results to \u001b[1m/kaggle/working/base_yolov12/train\u001b[0m\n",
      "Starting training for 50 epochs...\n",
      "\n",
      "      Epoch    GPU_mem   box_loss   cls_loss   dfl_loss  Instances       Size\n"
     ]
    },
    {
     "name": "stderr",
     "output_type": "stream",
     "text": [
      "       1/50      5.99G      1.405      1.219      1.126        265        640: 100%|██████████| 1036/1036 [07:48<00:00,  2.21it/s]\n",
      "                 Class     Images  Instances      Box(P          R      mAP50  mAP50-95): 100%|██████████| 148/148 [00:42<00:00,  3.46it/s]\n"
     ]
    },
    {
     "name": "stdout",
     "output_type": "stream",
     "text": [
      "                   all       4735      46700      0.714      0.613      0.639      0.393\n",
      "\n",
      "      Epoch    GPU_mem   box_loss   cls_loss   dfl_loss  Instances       Size\n"
     ]
    },
    {
     "name": "stderr",
     "output_type": "stream",
     "text": [
      "       2/50      6.26G      1.314     0.9472      1.076        255        640: 100%|██████████| 1036/1036 [07:43<00:00,  2.23it/s]\n",
      "                 Class     Images  Instances      Box(P          R      mAP50  mAP50-95): 100%|██████████| 148/148 [00:42<00:00,  3.49it/s]\n"
     ]
    },
    {
     "name": "stdout",
     "output_type": "stream",
     "text": [
      "                   all       4735      46700      0.718      0.591      0.646      0.395\n",
      "\n",
      "      Epoch    GPU_mem   box_loss   cls_loss   dfl_loss  Instances       Size\n"
     ]
    },
    {
     "name": "stderr",
     "output_type": "stream",
     "text": [
      "       3/50      6.29G      1.345     0.9744      1.094        207        640: 100%|██████████| 1036/1036 [07:40<00:00,  2.25it/s]\n",
      "                 Class     Images  Instances      Box(P          R      mAP50  mAP50-95): 100%|██████████| 148/148 [00:42<00:00,  3.52it/s]\n"
     ]
    },
    {
     "name": "stdout",
     "output_type": "stream",
     "text": [
      "                   all       4735      46700      0.687      0.594      0.619      0.371\n",
      "\n",
      "      Epoch    GPU_mem   box_loss   cls_loss   dfl_loss  Instances       Size\n"
     ]
    },
    {
     "name": "stderr",
     "output_type": "stream",
     "text": [
      "       4/50      6.31G      1.338      0.971      1.096        217        640: 100%|██████████| 1036/1036 [07:39<00:00,  2.26it/s]\n",
      "                 Class     Images  Instances      Box(P          R      mAP50  mAP50-95): 100%|██████████| 148/148 [00:42<00:00,  3.51it/s]\n"
     ]
    },
    {
     "name": "stdout",
     "output_type": "stream",
     "text": [
      "                   all       4735      46700      0.597      0.616      0.637      0.386\n",
      "\n",
      "      Epoch    GPU_mem   box_loss   cls_loss   dfl_loss  Instances       Size\n"
     ]
    },
    {
     "name": "stderr",
     "output_type": "stream",
     "text": [
      "       5/50      6.34G      1.299     0.9265      1.078        261        640: 100%|██████████| 1036/1036 [07:38<00:00,  2.26it/s]\n",
      "                 Class     Images  Instances      Box(P          R      mAP50  mAP50-95): 100%|██████████| 148/148 [00:41<00:00,  3.53it/s]\n"
     ]
    },
    {
     "name": "stdout",
     "output_type": "stream",
     "text": [
      "                   all       4735      46700      0.723      0.611      0.658      0.409\n",
      "\n",
      "      Epoch    GPU_mem   box_loss   cls_loss   dfl_loss  Instances       Size\n"
     ]
    },
    {
     "name": "stderr",
     "output_type": "stream",
     "text": [
      "       6/50      6.37G      1.268      0.894      1.071        267        640: 100%|██████████| 1036/1036 [07:38<00:00,  2.26it/s]\n",
      "                 Class     Images  Instances      Box(P          R      mAP50  mAP50-95): 100%|██████████| 148/148 [00:41<00:00,  3.53it/s]\n"
     ]
    },
    {
     "name": "stdout",
     "output_type": "stream",
     "text": [
      "                   all       4735      46700      0.591      0.665      0.668      0.421\n",
      "\n",
      "      Epoch    GPU_mem   box_loss   cls_loss   dfl_loss  Instances       Size\n"
     ]
    },
    {
     "name": "stderr",
     "output_type": "stream",
     "text": [
      "       7/50      6.39G      1.252     0.8731      1.064        276        640: 100%|██████████| 1036/1036 [07:38<00:00,  2.26it/s]\n",
      "                 Class     Images  Instances      Box(P          R      mAP50  mAP50-95): 100%|██████████| 148/148 [00:41<00:00,  3.56it/s]\n"
     ]
    },
    {
     "name": "stdout",
     "output_type": "stream",
     "text": [
      "                   all       4735      46700      0.622      0.627      0.661      0.419\n",
      "\n",
      "      Epoch    GPU_mem   box_loss   cls_loss   dfl_loss  Instances       Size\n"
     ]
    },
    {
     "name": "stderr",
     "output_type": "stream",
     "text": [
      "       8/50      6.42G      1.236     0.8526      1.055        272        640: 100%|██████████| 1036/1036 [07:38<00:00,  2.26it/s]\n",
      "                 Class     Images  Instances      Box(P          R      mAP50  mAP50-95): 100%|██████████| 148/148 [00:41<00:00,  3.54it/s]\n"
     ]
    },
    {
     "name": "stdout",
     "output_type": "stream",
     "text": [
      "                   all       4735      46700      0.642      0.672       0.69      0.444\n",
      "\n",
      "      Epoch    GPU_mem   box_loss   cls_loss   dfl_loss  Instances       Size\n"
     ]
    },
    {
     "name": "stderr",
     "output_type": "stream",
     "text": [
      "       9/50      6.45G      1.222     0.8411      1.051        256        640: 100%|██████████| 1036/1036 [07:38<00:00,  2.26it/s]\n",
      "                 Class     Images  Instances      Box(P          R      mAP50  mAP50-95): 100%|██████████| 148/148 [00:41<00:00,  3.55it/s]\n"
     ]
    },
    {
     "name": "stdout",
     "output_type": "stream",
     "text": [
      "                   all       4735      46700      0.609       0.69       0.69      0.446\n",
      "\n",
      "      Epoch    GPU_mem   box_loss   cls_loss   dfl_loss  Instances       Size\n"
     ]
    },
    {
     "name": "stderr",
     "output_type": "stream",
     "text": [
      "      10/50      6.47G      1.215     0.8332      1.048        276        640: 100%|██████████| 1036/1036 [07:38<00:00,  2.26it/s]\n",
      "                 Class     Images  Instances      Box(P          R      mAP50  mAP50-95): 100%|██████████| 148/148 [00:42<00:00,  3.52it/s]\n"
     ]
    },
    {
     "name": "stdout",
     "output_type": "stream",
     "text": [
      "                   all       4735      46700      0.664      0.657      0.704      0.461\n",
      "\n",
      "      Epoch    GPU_mem   box_loss   cls_loss   dfl_loss  Instances       Size\n"
     ]
    },
    {
     "name": "stderr",
     "output_type": "stream",
     "text": [
      "      11/50       6.5G      1.202     0.8163      1.042        262        640: 100%|██████████| 1036/1036 [07:38<00:00,  2.26it/s]\n",
      "                 Class     Images  Instances      Box(P          R      mAP50  mAP50-95): 100%|██████████| 148/148 [00:41<00:00,  3.56it/s]\n"
     ]
    },
    {
     "name": "stdout",
     "output_type": "stream",
     "text": [
      "                   all       4735      46700      0.662      0.665      0.694      0.451\n",
      "\n",
      "      Epoch    GPU_mem   box_loss   cls_loss   dfl_loss  Instances       Size\n"
     ]
    },
    {
     "name": "stderr",
     "output_type": "stream",
     "text": [
      "      12/50      6.52G      1.192     0.8062      1.038        185        640: 100%|██████████| 1036/1036 [07:38<00:00,  2.26it/s]\n",
      "                 Class     Images  Instances      Box(P          R      mAP50  mAP50-95): 100%|██████████| 148/148 [00:41<00:00,  3.53it/s]\n"
     ]
    },
    {
     "name": "stdout",
     "output_type": "stream",
     "text": [
      "                   all       4735      46700      0.599      0.712      0.703      0.463\n",
      "\n",
      "      Epoch    GPU_mem   box_loss   cls_loss   dfl_loss  Instances       Size\n"
     ]
    },
    {
     "name": "stderr",
     "output_type": "stream",
     "text": [
      "      13/50      6.55G      1.183     0.7981      1.035        189        640: 100%|██████████| 1036/1036 [07:38<00:00,  2.26it/s]\n",
      "                 Class     Images  Instances      Box(P          R      mAP50  mAP50-95): 100%|██████████| 148/148 [00:41<00:00,  3.54it/s]\n"
     ]
    },
    {
     "name": "stdout",
     "output_type": "stream",
     "text": [
      "                   all       4735      46700      0.653      0.677      0.706       0.47\n",
      "\n",
      "      Epoch    GPU_mem   box_loss   cls_loss   dfl_loss  Instances       Size\n"
     ]
    },
    {
     "name": "stderr",
     "output_type": "stream",
     "text": [
      "      14/50      6.58G      1.179     0.7921      1.034        242        640: 100%|██████████| 1036/1036 [07:38<00:00,  2.26it/s]\n",
      "                 Class     Images  Instances      Box(P          R      mAP50  mAP50-95): 100%|██████████| 148/148 [00:41<00:00,  3.55it/s]\n"
     ]
    },
    {
     "name": "stdout",
     "output_type": "stream",
     "text": [
      "                   all       4735      46700      0.647      0.674      0.708      0.466\n",
      "\n",
      "      Epoch    GPU_mem   box_loss   cls_loss   dfl_loss  Instances       Size\n"
     ]
    },
    {
     "name": "stderr",
     "output_type": "stream",
     "text": [
      "      15/50       6.6G      1.173     0.7861      1.031        305        640: 100%|██████████| 1036/1036 [07:38<00:00,  2.26it/s]\n",
      "                 Class     Images  Instances      Box(P          R      mAP50  mAP50-95): 100%|██████████| 148/148 [00:41<00:00,  3.56it/s]\n"
     ]
    },
    {
     "name": "stdout",
     "output_type": "stream",
     "text": [
      "                   all       4735      46700      0.661      0.678      0.713      0.472\n",
      "\n",
      "      Epoch    GPU_mem   box_loss   cls_loss   dfl_loss  Instances       Size\n"
     ]
    },
    {
     "name": "stderr",
     "output_type": "stream",
     "text": [
      "      16/50      6.63G      1.164     0.7779      1.028        186        640: 100%|██████████| 1036/1036 [07:38<00:00,  2.26it/s]\n",
      "                 Class     Images  Instances      Box(P          R      mAP50  mAP50-95): 100%|██████████| 148/148 [00:41<00:00,  3.55it/s]\n"
     ]
    },
    {
     "name": "stdout",
     "output_type": "stream",
     "text": [
      "                   all       4735      46700      0.641      0.691      0.716       0.48\n",
      "\n",
      "      Epoch    GPU_mem   box_loss   cls_loss   dfl_loss  Instances       Size\n"
     ]
    },
    {
     "name": "stderr",
     "output_type": "stream",
     "text": [
      "      17/50      6.65G      1.157     0.7697      1.026        211        640: 100%|██████████| 1036/1036 [07:39<00:00,  2.26it/s]\n",
      "                 Class     Images  Instances      Box(P          R      mAP50  mAP50-95): 100%|██████████| 148/148 [00:41<00:00,  3.57it/s]\n"
     ]
    },
    {
     "name": "stdout",
     "output_type": "stream",
     "text": [
      "                   all       4735      46700      0.655      0.688      0.719      0.479\n",
      "\n",
      "      Epoch    GPU_mem   box_loss   cls_loss   dfl_loss  Instances       Size\n"
     ]
    },
    {
     "name": "stderr",
     "output_type": "stream",
     "text": [
      "      18/50      6.68G      1.152     0.7638      1.024        229        640: 100%|██████████| 1036/1036 [07:38<00:00,  2.26it/s]\n",
      "                 Class     Images  Instances      Box(P          R      mAP50  mAP50-95): 100%|██████████| 148/148 [00:41<00:00,  3.55it/s]\n"
     ]
    },
    {
     "name": "stdout",
     "output_type": "stream",
     "text": [
      "                   all       4735      46700      0.653      0.709      0.729      0.489\n",
      "\n",
      "      Epoch    GPU_mem   box_loss   cls_loss   dfl_loss  Instances       Size\n"
     ]
    },
    {
     "name": "stderr",
     "output_type": "stream",
     "text": [
      "      19/50      6.71G      1.148     0.7576      1.021        299        640: 100%|██████████| 1036/1036 [07:39<00:00,  2.26it/s]\n",
      "                 Class     Images  Instances      Box(P          R      mAP50  mAP50-95): 100%|██████████| 148/148 [00:41<00:00,  3.56it/s]\n"
     ]
    },
    {
     "name": "stdout",
     "output_type": "stream",
     "text": [
      "                   all       4735      46700      0.629      0.713      0.724      0.487\n",
      "\n",
      "      Epoch    GPU_mem   box_loss   cls_loss   dfl_loss  Instances       Size\n"
     ]
    },
    {
     "name": "stderr",
     "output_type": "stream",
     "text": [
      "      20/50      6.73G      1.141     0.7529      1.018        185        640: 100%|██████████| 1036/1036 [07:39<00:00,  2.26it/s]\n",
      "                 Class     Images  Instances      Box(P          R      mAP50  mAP50-95): 100%|██████████| 148/148 [00:41<00:00,  3.55it/s]\n"
     ]
    },
    {
     "name": "stdout",
     "output_type": "stream",
     "text": [
      "                   all       4735      46700      0.662      0.705      0.728      0.489\n",
      "\n",
      "      Epoch    GPU_mem   box_loss   cls_loss   dfl_loss  Instances       Size\n"
     ]
    },
    {
     "name": "stderr",
     "output_type": "stream",
     "text": [
      "      21/50      6.76G      1.138     0.7493      1.017        201        640: 100%|██████████| 1036/1036 [07:39<00:00,  2.25it/s]\n",
      "                 Class     Images  Instances      Box(P          R      mAP50  mAP50-95): 100%|██████████| 148/148 [00:41<00:00,  3.55it/s]\n"
     ]
    },
    {
     "name": "stdout",
     "output_type": "stream",
     "text": [
      "                   all       4735      46700      0.631      0.729      0.727      0.491\n",
      "\n",
      "      Epoch    GPU_mem   box_loss   cls_loss   dfl_loss  Instances       Size\n"
     ]
    },
    {
     "name": "stderr",
     "output_type": "stream",
     "text": [
      "      22/50      6.78G       1.13     0.7438      1.013        274        640: 100%|██████████| 1036/1036 [07:39<00:00,  2.26it/s]\n",
      "                 Class     Images  Instances      Box(P          R      mAP50  mAP50-95): 100%|██████████| 148/148 [00:42<00:00,  3.52it/s]\n"
     ]
    },
    {
     "name": "stdout",
     "output_type": "stream",
     "text": [
      "                   all       4735      46700      0.638      0.718      0.733      0.494\n",
      "\n",
      "      Epoch    GPU_mem   box_loss   cls_loss   dfl_loss  Instances       Size\n"
     ]
    },
    {
     "name": "stderr",
     "output_type": "stream",
     "text": [
      "      23/50      6.81G      1.126     0.7377      1.013        223        640: 100%|██████████| 1036/1036 [07:39<00:00,  2.25it/s]\n",
      "                 Class     Images  Instances      Box(P          R      mAP50  mAP50-95): 100%|██████████| 148/148 [00:41<00:00,  3.53it/s]\n"
     ]
    },
    {
     "name": "stdout",
     "output_type": "stream",
     "text": [
      "                   all       4735      46700      0.652      0.714      0.734      0.497\n",
      "\n",
      "      Epoch    GPU_mem   box_loss   cls_loss   dfl_loss  Instances       Size\n"
     ]
    },
    {
     "name": "stderr",
     "output_type": "stream",
     "text": [
      "      24/50      6.84G       1.12     0.7323       1.01        239        640: 100%|██████████| 1036/1036 [07:39<00:00,  2.25it/s]\n",
      "                 Class     Images  Instances      Box(P          R      mAP50  mAP50-95): 100%|██████████| 148/148 [00:42<00:00,  3.52it/s]\n"
     ]
    },
    {
     "name": "stdout",
     "output_type": "stream",
     "text": [
      "                   all       4735      46700      0.679      0.695      0.735      0.498\n",
      "\n",
      "      Epoch    GPU_mem   box_loss   cls_loss   dfl_loss  Instances       Size\n"
     ]
    },
    {
     "name": "stderr",
     "output_type": "stream",
     "text": [
      "      25/50      6.86G      1.115     0.7292      1.009        154        640: 100%|██████████| 1036/1036 [07:39<00:00,  2.25it/s]\n",
      "                 Class     Images  Instances      Box(P          R      mAP50  mAP50-95): 100%|██████████| 148/148 [00:42<00:00,  3.52it/s]\n"
     ]
    },
    {
     "name": "stdout",
     "output_type": "stream",
     "text": [
      "                   all       4735      46700      0.652      0.715      0.736        0.5\n",
      "\n",
      "      Epoch    GPU_mem   box_loss   cls_loss   dfl_loss  Instances       Size\n"
     ]
    },
    {
     "name": "stderr",
     "output_type": "stream",
     "text": [
      "      26/50      6.89G      1.109      0.722      1.005        230        640: 100%|██████████| 1036/1036 [07:39<00:00,  2.26it/s]\n",
      "                 Class     Images  Instances      Box(P          R      mAP50  mAP50-95): 100%|██████████| 148/148 [00:41<00:00,  3.54it/s]\n"
     ]
    },
    {
     "name": "stdout",
     "output_type": "stream",
     "text": [
      "                   all       4735      46700      0.624      0.736      0.736        0.5\n",
      "\n",
      "      Epoch    GPU_mem   box_loss   cls_loss   dfl_loss  Instances       Size\n"
     ]
    },
    {
     "name": "stderr",
     "output_type": "stream",
     "text": [
      "      27/50      6.91G      1.103     0.7139      1.002        220        640: 100%|██████████| 1036/1036 [07:39<00:00,  2.26it/s]\n",
      "                 Class     Images  Instances      Box(P          R      mAP50  mAP50-95): 100%|██████████| 148/148 [00:41<00:00,  3.55it/s]\n"
     ]
    },
    {
     "name": "stdout",
     "output_type": "stream",
     "text": [
      "                   all       4735      46700      0.671      0.702      0.733        0.5\n",
      "\n",
      "      Epoch    GPU_mem   box_loss   cls_loss   dfl_loss  Instances       Size\n"
     ]
    },
    {
     "name": "stderr",
     "output_type": "stream",
     "text": [
      "      28/50      6.94G        1.1     0.7112      1.002        219        640: 100%|██████████| 1036/1036 [07:39<00:00,  2.25it/s]\n",
      "                 Class     Images  Instances      Box(P          R      mAP50  mAP50-95): 100%|██████████| 148/148 [00:41<00:00,  3.53it/s]\n"
     ]
    },
    {
     "name": "stdout",
     "output_type": "stream",
     "text": [
      "                   all       4735      46700      0.668      0.721      0.746      0.509\n",
      "\n",
      "      Epoch    GPU_mem   box_loss   cls_loss   dfl_loss  Instances       Size\n"
     ]
    },
    {
     "name": "stderr",
     "output_type": "stream",
     "text": [
      "      29/50      6.96G      1.095     0.7052          1        242        640: 100%|██████████| 1036/1036 [07:40<00:00,  2.25it/s]\n",
      "                 Class     Images  Instances      Box(P          R      mAP50  mAP50-95): 100%|██████████| 148/148 [00:42<00:00,  3.51it/s]\n"
     ]
    },
    {
     "name": "stdout",
     "output_type": "stream",
     "text": [
      "                   all       4735      46700      0.662      0.711       0.74      0.504\n",
      "\n",
      "      Epoch    GPU_mem   box_loss   cls_loss   dfl_loss  Instances       Size\n"
     ]
    },
    {
     "name": "stderr",
     "output_type": "stream",
     "text": [
      "      30/50      6.99G       1.09     0.7026     0.9972        209        640: 100%|██████████| 1036/1036 [07:39<00:00,  2.25it/s]\n",
      "                 Class     Images  Instances      Box(P          R      mAP50  mAP50-95): 100%|██████████| 148/148 [00:42<00:00,  3.52it/s]\n"
     ]
    },
    {
     "name": "stdout",
     "output_type": "stream",
     "text": [
      "                   all       4735      46700      0.679      0.706      0.741      0.506\n",
      "\n",
      "      Epoch    GPU_mem   box_loss   cls_loss   dfl_loss  Instances       Size\n"
     ]
    },
    {
     "name": "stderr",
     "output_type": "stream",
     "text": [
      "      31/50      7.02G      1.083     0.6964     0.9949        267        640: 100%|██████████| 1036/1036 [07:39<00:00,  2.25it/s]\n",
      "                 Class     Images  Instances      Box(P          R      mAP50  mAP50-95): 100%|██████████| 148/148 [00:41<00:00,  3.53it/s]\n"
     ]
    },
    {
     "name": "stdout",
     "output_type": "stream",
     "text": [
      "                   all       4735      46700       0.68      0.713      0.744       0.51\n",
      "\n",
      "      Epoch    GPU_mem   box_loss   cls_loss   dfl_loss  Instances       Size\n"
     ]
    },
    {
     "name": "stderr",
     "output_type": "stream",
     "text": [
      "      32/50      7.04G       1.08     0.6898     0.9924        312        640: 100%|██████████| 1036/1036 [07:40<00:00,  2.25it/s]\n",
      "                 Class     Images  Instances      Box(P          R      mAP50  mAP50-95): 100%|██████████| 148/148 [00:41<00:00,  3.53it/s]\n"
     ]
    },
    {
     "name": "stdout",
     "output_type": "stream",
     "text": [
      "                   all       4735      46700      0.673      0.712      0.745      0.509\n",
      "\n",
      "      Epoch    GPU_mem   box_loss   cls_loss   dfl_loss  Instances       Size\n"
     ]
    },
    {
     "name": "stderr",
     "output_type": "stream",
     "text": [
      "      33/50      7.07G      1.076     0.6863     0.9929        219        640: 100%|██████████| 1036/1036 [07:39<00:00,  2.25it/s]\n",
      "                 Class     Images  Instances      Box(P          R      mAP50  mAP50-95): 100%|██████████| 148/148 [00:41<00:00,  3.53it/s]\n"
     ]
    },
    {
     "name": "stdout",
     "output_type": "stream",
     "text": [
      "                   all       4735      46700      0.678      0.706      0.742      0.509\n",
      "\n",
      "      Epoch    GPU_mem   box_loss   cls_loss   dfl_loss  Instances       Size\n"
     ]
    },
    {
     "name": "stderr",
     "output_type": "stream",
     "text": [
      "      34/50       7.1G      1.073     0.6831     0.9898        264        640: 100%|██████████| 1036/1036 [07:39<00:00,  2.25it/s]\n",
      "                 Class     Images  Instances      Box(P          R      mAP50  mAP50-95): 100%|██████████| 148/148 [00:42<00:00,  3.50it/s]"
     ]
    },
    {
     "name": "stdout",
     "output_type": "stream",
     "text": [
      "                   all       4735      46700      0.665      0.725      0.746      0.512\n"
     ]
    },
    {
     "name": "stderr",
     "output_type": "stream",
     "text": [
      "\n"
     ]
    },
    {
     "name": "stdout",
     "output_type": "stream",
     "text": [
      "\n",
      "      Epoch    GPU_mem   box_loss   cls_loss   dfl_loss  Instances       Size\n"
     ]
    },
    {
     "name": "stderr",
     "output_type": "stream",
     "text": [
      "      35/50      7.12G      1.063     0.6787     0.9886        155        640: 100%|██████████| 1036/1036 [07:39<00:00,  2.25it/s]\n",
      "                 Class     Images  Instances      Box(P          R      mAP50  mAP50-95): 100%|██████████| 148/148 [00:41<00:00,  3.53it/s]\n"
     ]
    },
    {
     "name": "stdout",
     "output_type": "stream",
     "text": [
      "                   all       4735      46700      0.675      0.715      0.746      0.513\n",
      "\n",
      "      Epoch    GPU_mem   box_loss   cls_loss   dfl_loss  Instances       Size\n"
     ]
    },
    {
     "name": "stderr",
     "output_type": "stream",
     "text": [
      "      36/50      7.15G      1.059     0.6713     0.9858        218        640: 100%|██████████| 1036/1036 [07:40<00:00,  2.25it/s]\n",
      "                 Class     Images  Instances      Box(P          R      mAP50  mAP50-95): 100%|██████████| 148/148 [00:41<00:00,  3.53it/s]\n"
     ]
    },
    {
     "name": "stdout",
     "output_type": "stream",
     "text": [
      "                   all       4735      46700      0.679      0.705      0.741      0.511\n",
      "\n",
      "      Epoch    GPU_mem   box_loss   cls_loss   dfl_loss  Instances       Size\n"
     ]
    },
    {
     "name": "stderr",
     "output_type": "stream",
     "text": [
      "      37/50      7.17G      1.055     0.6644     0.9841        214        640: 100%|██████████| 1036/1036 [07:40<00:00,  2.25it/s]\n",
      "                 Class     Images  Instances      Box(P          R      mAP50  mAP50-95): 100%|██████████| 148/148 [00:41<00:00,  3.53it/s]\n"
     ]
    },
    {
     "name": "stdout",
     "output_type": "stream",
     "text": [
      "                   all       4735      46700      0.665      0.706      0.741      0.511\n",
      "\n",
      "      Epoch    GPU_mem   box_loss   cls_loss   dfl_loss  Instances       Size\n"
     ]
    },
    {
     "name": "stderr",
     "output_type": "stream",
     "text": [
      "      38/50       7.2G      1.049     0.6605     0.9821        235        640: 100%|██████████| 1036/1036 [07:40<00:00,  2.25it/s]\n",
      "                 Class     Images  Instances      Box(P          R      mAP50  mAP50-95): 100%|██████████| 148/148 [00:41<00:00,  3.53it/s]\n"
     ]
    },
    {
     "name": "stdout",
     "output_type": "stream",
     "text": [
      "                   all       4735      46700       0.67      0.709       0.74      0.511\n",
      "\n",
      "      Epoch    GPU_mem   box_loss   cls_loss   dfl_loss  Instances       Size\n"
     ]
    },
    {
     "name": "stderr",
     "output_type": "stream",
     "text": [
      "      39/50      7.23G      1.044     0.6564     0.9811        187        640: 100%|██████████| 1036/1036 [07:40<00:00,  2.25it/s]\n",
      "                 Class     Images  Instances      Box(P          R      mAP50  mAP50-95): 100%|██████████| 148/148 [00:41<00:00,  3.55it/s]"
     ]
    },
    {
     "name": "stdout",
     "output_type": "stream",
     "text": [
      "                   all       4735      46700      0.667      0.709       0.74      0.511\n"
     ]
    },
    {
     "name": "stderr",
     "output_type": "stream",
     "text": [
      "\n"
     ]
    },
    {
     "name": "stdout",
     "output_type": "stream",
     "text": [
      "\n",
      "      Epoch    GPU_mem   box_loss   cls_loss   dfl_loss  Instances       Size\n"
     ]
    },
    {
     "name": "stderr",
     "output_type": "stream",
     "text": [
      "      40/50      7.25G      1.035     0.6503     0.9768        243        640: 100%|██████████| 1036/1036 [07:40<00:00,  2.25it/s]\n",
      "                 Class     Images  Instances      Box(P          R      mAP50  mAP50-95): 100%|██████████| 148/148 [00:42<00:00,  3.52it/s]"
     ]
    },
    {
     "name": "stdout",
     "output_type": "stream",
     "text": [
      "                   all       4735      46700      0.675      0.712      0.743      0.513\n"
     ]
    },
    {
     "name": "stderr",
     "output_type": "stream",
     "text": [
      "\n"
     ]
    },
    {
     "name": "stdout",
     "output_type": "stream",
     "text": [
      "Closing dataloader mosaic\n",
      "\u001b[34m\u001b[1malbumentations: \u001b[0mBlur(p=0.01, blur_limit=(3, 7)), MedianBlur(p=0.01, blur_limit=(3, 7)), ToGray(p=0.01, method='weighted_average', num_output_channels=3), CLAHE(p=0.01, clip_limit=(1.0, 4.0), tile_grid_size=(8, 8))\n",
      "\n",
      "      Epoch    GPU_mem   box_loss   cls_loss   dfl_loss  Instances       Size\n"
     ]
    },
    {
     "name": "stderr",
     "output_type": "stream",
     "text": [
      "      41/50      7.28G      1.021     0.6138     0.9769        139        640: 100%|██████████| 1036/1036 [07:35<00:00,  2.28it/s]\n",
      "                 Class     Images  Instances      Box(P          R      mAP50  mAP50-95): 100%|██████████| 148/148 [00:42<00:00,  3.52it/s]"
     ]
    },
    {
     "name": "stdout",
     "output_type": "stream",
     "text": [
      "                   all       4735      46700      0.661      0.717       0.74      0.512\n"
     ]
    },
    {
     "name": "stderr",
     "output_type": "stream",
     "text": [
      "\n"
     ]
    },
    {
     "name": "stdout",
     "output_type": "stream",
     "text": [
      "\n",
      "      Epoch    GPU_mem   box_loss   cls_loss   dfl_loss  Instances       Size\n"
     ]
    },
    {
     "name": "stderr",
     "output_type": "stream",
     "text": [
      "      42/50       7.3G      1.007     0.6037     0.9719        116        640: 100%|██████████| 1036/1036 [07:34<00:00,  2.28it/s]\n",
      "                 Class     Images  Instances      Box(P          R      mAP50  mAP50-95): 100%|██████████| 148/148 [00:42<00:00,  3.52it/s]"
     ]
    },
    {
     "name": "stdout",
     "output_type": "stream",
     "text": [
      "                   all       4735      46700      0.662      0.724      0.741      0.514\n"
     ]
    },
    {
     "name": "stderr",
     "output_type": "stream",
     "text": [
      "\n"
     ]
    },
    {
     "name": "stdout",
     "output_type": "stream",
     "text": [
      "\n",
      "      Epoch    GPU_mem   box_loss   cls_loss   dfl_loss  Instances       Size\n"
     ]
    },
    {
     "name": "stderr",
     "output_type": "stream",
     "text": [
      "      43/50      7.33G     0.9984     0.5936     0.9696         96        640: 100%|██████████| 1036/1036 [07:35<00:00,  2.28it/s]\n",
      "                 Class     Images  Instances      Box(P          R      mAP50  mAP50-95): 100%|██████████| 148/148 [00:41<00:00,  3.54it/s]"
     ]
    },
    {
     "name": "stdout",
     "output_type": "stream",
     "text": [
      "                   all       4735      46700      0.684      0.704      0.742      0.513\n"
     ]
    },
    {
     "name": "stderr",
     "output_type": "stream",
     "text": [
      "\n"
     ]
    },
    {
     "name": "stdout",
     "output_type": "stream",
     "text": [
      "\n",
      "      Epoch    GPU_mem   box_loss   cls_loss   dfl_loss  Instances       Size\n"
     ]
    },
    {
     "name": "stderr",
     "output_type": "stream",
     "text": [
      "      44/50      7.36G       0.99      0.587     0.9646        133        640: 100%|██████████| 1036/1036 [07:33<00:00,  2.28it/s]\n",
      "                 Class     Images  Instances      Box(P          R      mAP50  mAP50-95): 100%|██████████| 148/148 [00:41<00:00,  3.55it/s]"
     ]
    },
    {
     "name": "stdout",
     "output_type": "stream",
     "text": [
      "                   all       4735      46700      0.673      0.712      0.743      0.514\n"
     ]
    },
    {
     "name": "stderr",
     "output_type": "stream",
     "text": [
      "\n"
     ]
    },
    {
     "name": "stdout",
     "output_type": "stream",
     "text": [
      "\n",
      "      Epoch    GPU_mem   box_loss   cls_loss   dfl_loss  Instances       Size\n"
     ]
    },
    {
     "name": "stderr",
     "output_type": "stream",
     "text": [
      "      45/50      7.38G     0.9823     0.5786     0.9629        120        640: 100%|██████████| 1036/1036 [07:34<00:00,  2.28it/s]\n",
      "                 Class     Images  Instances      Box(P          R      mAP50  mAP50-95): 100%|██████████| 148/148 [00:42<00:00,  3.51it/s]\n"
     ]
    },
    {
     "name": "stdout",
     "output_type": "stream",
     "text": [
      "                   all       4735      46700      0.667      0.722      0.742      0.514\n",
      "\n",
      "      Epoch    GPU_mem   box_loss   cls_loss   dfl_loss  Instances       Size\n"
     ]
    },
    {
     "name": "stderr",
     "output_type": "stream",
     "text": [
      "      46/50      6.46G      0.973     0.5709     0.9593        136        640: 100%|██████████| 1036/1036 [07:33<00:00,  2.28it/s]\n",
      "                 Class     Images  Instances      Box(P          R      mAP50  mAP50-95): 100%|██████████| 148/148 [00:42<00:00,  3.49it/s]"
     ]
    },
    {
     "name": "stdout",
     "output_type": "stream",
     "text": [
      "                   all       4735      46700      0.673      0.711      0.741      0.513\n"
     ]
    },
    {
     "name": "stderr",
     "output_type": "stream",
     "text": [
      "\n"
     ]
    },
    {
     "name": "stdout",
     "output_type": "stream",
     "text": [
      "\n",
      "      Epoch    GPU_mem   box_loss   cls_loss   dfl_loss  Instances       Size\n"
     ]
    },
    {
     "name": "stderr",
     "output_type": "stream",
     "text": [
      "      47/50      6.46G     0.9655     0.5629     0.9556        130        640: 100%|██████████| 1036/1036 [07:33<00:00,  2.28it/s]\n",
      "                 Class     Images  Instances      Box(P          R      mAP50  mAP50-95): 100%|██████████| 148/148 [00:41<00:00,  3.53it/s]"
     ]
    },
    {
     "name": "stdout",
     "output_type": "stream",
     "text": [
      "                   all       4735      46700      0.684      0.706      0.742      0.514\n"
     ]
    },
    {
     "name": "stderr",
     "output_type": "stream",
     "text": [
      "\n"
     ]
    },
    {
     "name": "stdout",
     "output_type": "stream",
     "text": [
      "\n",
      "      Epoch    GPU_mem   box_loss   cls_loss   dfl_loss  Instances       Size\n"
     ]
    },
    {
     "name": "stderr",
     "output_type": "stream",
     "text": [
      "      48/50      6.46G     0.9572      0.556     0.9523        137        640: 100%|██████████| 1036/1036 [07:33<00:00,  2.28it/s]\n",
      "                 Class     Images  Instances      Box(P          R      mAP50  mAP50-95): 100%|██████████| 148/148 [00:41<00:00,  3.53it/s]"
     ]
    },
    {
     "name": "stdout",
     "output_type": "stream",
     "text": [
      "                   all       4735      46700      0.679      0.711      0.741      0.513\n"
     ]
    },
    {
     "name": "stderr",
     "output_type": "stream",
     "text": [
      "\n"
     ]
    },
    {
     "name": "stdout",
     "output_type": "stream",
     "text": [
      "\n",
      "      Epoch    GPU_mem   box_loss   cls_loss   dfl_loss  Instances       Size\n"
     ]
    },
    {
     "name": "stderr",
     "output_type": "stream",
     "text": [
      "      49/50      6.46G       0.95     0.5486     0.9515        125        640: 100%|██████████| 1036/1036 [07:34<00:00,  2.28it/s]\n",
      "                 Class     Images  Instances      Box(P          R      mAP50  mAP50-95): 100%|██████████| 148/148 [00:42<00:00,  3.52it/s]"
     ]
    },
    {
     "name": "stdout",
     "output_type": "stream",
     "text": [
      "                   all       4735      46700      0.676      0.714       0.74      0.513\n"
     ]
    },
    {
     "name": "stderr",
     "output_type": "stream",
     "text": [
      "\n"
     ]
    },
    {
     "name": "stdout",
     "output_type": "stream",
     "text": [
      "\n",
      "      Epoch    GPU_mem   box_loss   cls_loss   dfl_loss  Instances       Size\n"
     ]
    },
    {
     "name": "stderr",
     "output_type": "stream",
     "text": [
      "      50/50      6.46G     0.9421     0.5424     0.9469        137        640: 100%|██████████| 1036/1036 [07:33<00:00,  2.28it/s]\n",
      "                 Class     Images  Instances      Box(P          R      mAP50  mAP50-95): 100%|██████████| 148/148 [00:42<00:00,  3.51it/s]"
     ]
    },
    {
     "name": "stdout",
     "output_type": "stream",
     "text": [
      "                   all       4735      46700      0.675      0.718       0.74      0.512\n"
     ]
    },
    {
     "name": "stderr",
     "output_type": "stream",
     "text": [
      "\n"
     ]
    },
    {
     "name": "stdout",
     "output_type": "stream",
     "text": [
      "\n",
      "50 epochs completed in 6.964 hours.\n",
      "Optimizer stripped from /kaggle/working/base_yolov12/train/weights/last.pt, 18.9MB\n",
      "Optimizer stripped from /kaggle/working/base_yolov12/train/weights/best.pt, 18.9MB\n",
      "\n",
      "Validating /kaggle/working/base_yolov12/train/weights/best.pt...\n",
      "Ultralytics 8.3.184 🚀 Python-3.11.13 torch-2.6.0+cu124 CUDA:0 (Tesla T4, 15095MiB)\n",
      "YOLOv12s summary (fused): 159 layers, 9,234,363 parameters, 0 gradients, 21.2 GFLOPs\n"
     ]
    },
    {
     "name": "stderr",
     "output_type": "stream",
     "text": [
      "                 Class     Images  Instances      Box(P          R      mAP50  mAP50-95): 100%|██████████| 148/148 [00:44<00:00,  3.32it/s]\n",
      "/usr/local/lib/python3.11/dist-packages/matplotlib/colors.py:721: RuntimeWarning: invalid value encountered in less\n",
      "  xa[xa < 0] = -1\n",
      "/usr/local/lib/python3.11/dist-packages/matplotlib/colors.py:721: RuntimeWarning: invalid value encountered in less\n",
      "  xa[xa < 0] = -1\n"
     ]
    },
    {
     "name": "stdout",
     "output_type": "stream",
     "text": [
      "                   all       4735      46700      0.671      0.713      0.743      0.514\n",
      "              Rickshaw       3895      12049      0.772      0.854      0.899      0.629\n",
      "                   Bus       3873      10374      0.774      0.863      0.896       0.66\n",
      "                 Truck        245        272      0.425      0.452      0.457      0.359\n",
      "                  Bike       2109       3214      0.739      0.798      0.848      0.521\n",
      "                People       2895       7796      0.758      0.819      0.869      0.555\n",
      "                   Car       4295      12849      0.821      0.894      0.935      0.707\n",
      "                 Cycle        138        146      0.409      0.308      0.295      0.169\n",
      "Speed: 0.1ms preprocess, 5.2ms inference, 0.0ms loss, 1.3ms postprocess per image\n",
      "Results saved to \u001b[1m/kaggle/working/base_yolov12/train\u001b[0m\n"
     ]
    },
    {
     "data": {
      "text/plain": [
       "ultralytics.utils.metrics.DetMetrics object with attributes:\n",
       "\n",
       "ap_class_index: array([0, 1, 2, 3, 5, 6, 8])\n",
       "box: ultralytics.utils.metrics.Metric object\n",
       "confusion_matrix: <ultralytics.utils.metrics.ConfusionMatrix object at 0x7e298ca08890>\n",
       "curves: ['Precision-Recall(B)', 'F1-Confidence(B)', 'Precision-Confidence(B)', 'Recall-Confidence(B)']\n",
       "curves_results: [[array([          0,    0.001001,    0.002002,    0.003003,    0.004004,    0.005005,    0.006006,    0.007007,    0.008008,    0.009009,     0.01001,    0.011011,    0.012012,    0.013013,    0.014014,    0.015015,    0.016016,    0.017017,    0.018018,    0.019019,     0.02002,    0.021021,    0.022022,    0.023023,\n",
       "          0.024024,    0.025025,    0.026026,    0.027027,    0.028028,    0.029029,     0.03003,    0.031031,    0.032032,    0.033033,    0.034034,    0.035035,    0.036036,    0.037037,    0.038038,    0.039039,     0.04004,    0.041041,    0.042042,    0.043043,    0.044044,    0.045045,    0.046046,    0.047047,\n",
       "          0.048048,    0.049049,     0.05005,    0.051051,    0.052052,    0.053053,    0.054054,    0.055055,    0.056056,    0.057057,    0.058058,    0.059059,     0.06006,    0.061061,    0.062062,    0.063063,    0.064064,    0.065065,    0.066066,    0.067067,    0.068068,    0.069069,     0.07007,    0.071071,\n",
       "          0.072072,    0.073073,    0.074074,    0.075075,    0.076076,    0.077077,    0.078078,    0.079079,     0.08008,    0.081081,    0.082082,    0.083083,    0.084084,    0.085085,    0.086086,    0.087087,    0.088088,    0.089089,     0.09009,    0.091091,    0.092092,    0.093093,    0.094094,    0.095095,\n",
       "          0.096096,    0.097097,    0.098098,    0.099099,      0.1001,      0.1011,      0.1021,      0.1031,      0.1041,     0.10511,     0.10611,     0.10711,     0.10811,     0.10911,     0.11011,     0.11111,     0.11211,     0.11311,     0.11411,     0.11512,     0.11612,     0.11712,     0.11812,     0.11912,\n",
       "           0.12012,     0.12112,     0.12212,     0.12312,     0.12412,     0.12513,     0.12613,     0.12713,     0.12813,     0.12913,     0.13013,     0.13113,     0.13213,     0.13313,     0.13413,     0.13514,     0.13614,     0.13714,     0.13814,     0.13914,     0.14014,     0.14114,     0.14214,     0.14314,\n",
       "           0.14414,     0.14515,     0.14615,     0.14715,     0.14815,     0.14915,     0.15015,     0.15115,     0.15215,     0.15315,     0.15415,     0.15516,     0.15616,     0.15716,     0.15816,     0.15916,     0.16016,     0.16116,     0.16216,     0.16316,     0.16416,     0.16517,     0.16617,     0.16717,\n",
       "           0.16817,     0.16917,     0.17017,     0.17117,     0.17217,     0.17317,     0.17417,     0.17518,     0.17618,     0.17718,     0.17818,     0.17918,     0.18018,     0.18118,     0.18218,     0.18318,     0.18418,     0.18519,     0.18619,     0.18719,     0.18819,     0.18919,     0.19019,     0.19119,\n",
       "           0.19219,     0.19319,     0.19419,      0.1952,      0.1962,      0.1972,      0.1982,      0.1992,      0.2002,      0.2012,      0.2022,      0.2032,      0.2042,     0.20521,     0.20621,     0.20721,     0.20821,     0.20921,     0.21021,     0.21121,     0.21221,     0.21321,     0.21421,     0.21522,\n",
       "           0.21622,     0.21722,     0.21822,     0.21922,     0.22022,     0.22122,     0.22222,     0.22322,     0.22422,     0.22523,     0.22623,     0.22723,     0.22823,     0.22923,     0.23023,     0.23123,     0.23223,     0.23323,     0.23423,     0.23524,     0.23624,     0.23724,     0.23824,     0.23924,\n",
       "           0.24024,     0.24124,     0.24224,     0.24324,     0.24424,     0.24525,     0.24625,     0.24725,     0.24825,     0.24925,     0.25025,     0.25125,     0.25225,     0.25325,     0.25425,     0.25526,     0.25626,     0.25726,     0.25826,     0.25926,     0.26026,     0.26126,     0.26226,     0.26326,\n",
       "           0.26426,     0.26527,     0.26627,     0.26727,     0.26827,     0.26927,     0.27027,     0.27127,     0.27227,     0.27327,     0.27427,     0.27528,     0.27628,     0.27728,     0.27828,     0.27928,     0.28028,     0.28128,     0.28228,     0.28328,     0.28428,     0.28529,     0.28629,     0.28729,\n",
       "           0.28829,     0.28929,     0.29029,     0.29129,     0.29229,     0.29329,     0.29429,      0.2953,      0.2963,      0.2973,      0.2983,      0.2993,      0.3003,      0.3013,      0.3023,      0.3033,      0.3043,     0.30531,     0.30631,     0.30731,     0.30831,     0.30931,     0.31031,     0.31131,\n",
       "           0.31231,     0.31331,     0.31431,     0.31532,     0.31632,     0.31732,     0.31832,     0.31932,     0.32032,     0.32132,     0.32232,     0.32332,     0.32432,     0.32533,     0.32633,     0.32733,     0.32833,     0.32933,     0.33033,     0.33133,     0.33233,     0.33333,     0.33433,     0.33534,\n",
       "           0.33634,     0.33734,     0.33834,     0.33934,     0.34034,     0.34134,     0.34234,     0.34334,     0.34434,     0.34535,     0.34635,     0.34735,     0.34835,     0.34935,     0.35035,     0.35135,     0.35235,     0.35335,     0.35435,     0.35536,     0.35636,     0.35736,     0.35836,     0.35936,\n",
       "           0.36036,     0.36136,     0.36236,     0.36336,     0.36436,     0.36537,     0.36637,     0.36737,     0.36837,     0.36937,     0.37037,     0.37137,     0.37237,     0.37337,     0.37437,     0.37538,     0.37638,     0.37738,     0.37838,     0.37938,     0.38038,     0.38138,     0.38238,     0.38338,\n",
       "           0.38438,     0.38539,     0.38639,     0.38739,     0.38839,     0.38939,     0.39039,     0.39139,     0.39239,     0.39339,     0.39439,      0.3954,      0.3964,      0.3974,      0.3984,      0.3994,      0.4004,      0.4014,      0.4024,      0.4034,      0.4044,     0.40541,     0.40641,     0.40741,\n",
       "           0.40841,     0.40941,     0.41041,     0.41141,     0.41241,     0.41341,     0.41441,     0.41542,     0.41642,     0.41742,     0.41842,     0.41942,     0.42042,     0.42142,     0.42242,     0.42342,     0.42442,     0.42543,     0.42643,     0.42743,     0.42843,     0.42943,     0.43043,     0.43143,\n",
       "           0.43243,     0.43343,     0.43443,     0.43544,     0.43644,     0.43744,     0.43844,     0.43944,     0.44044,     0.44144,     0.44244,     0.44344,     0.44444,     0.44545,     0.44645,     0.44745,     0.44845,     0.44945,     0.45045,     0.45145,     0.45245,     0.45345,     0.45445,     0.45546,\n",
       "           0.45646,     0.45746,     0.45846,     0.45946,     0.46046,     0.46146,     0.46246,     0.46346,     0.46446,     0.46547,     0.46647,     0.46747,     0.46847,     0.46947,     0.47047,     0.47147,     0.47247,     0.47347,     0.47447,     0.47548,     0.47648,     0.47748,     0.47848,     0.47948,\n",
       "           0.48048,     0.48148,     0.48248,     0.48348,     0.48448,     0.48549,     0.48649,     0.48749,     0.48849,     0.48949,     0.49049,     0.49149,     0.49249,     0.49349,     0.49449,      0.4955,      0.4965,      0.4975,      0.4985,      0.4995,      0.5005,      0.5015,      0.5025,      0.5035,\n",
       "            0.5045,     0.50551,     0.50651,     0.50751,     0.50851,     0.50951,     0.51051,     0.51151,     0.51251,     0.51351,     0.51451,     0.51552,     0.51652,     0.51752,     0.51852,     0.51952,     0.52052,     0.52152,     0.52252,     0.52352,     0.52452,     0.52553,     0.52653,     0.52753,\n",
       "           0.52853,     0.52953,     0.53053,     0.53153,     0.53253,     0.53353,     0.53453,     0.53554,     0.53654,     0.53754,     0.53854,     0.53954,     0.54054,     0.54154,     0.54254,     0.54354,     0.54454,     0.54555,     0.54655,     0.54755,     0.54855,     0.54955,     0.55055,     0.55155,\n",
       "           0.55255,     0.55355,     0.55455,     0.55556,     0.55656,     0.55756,     0.55856,     0.55956,     0.56056,     0.56156,     0.56256,     0.56356,     0.56456,     0.56557,     0.56657,     0.56757,     0.56857,     0.56957,     0.57057,     0.57157,     0.57257,     0.57357,     0.57457,     0.57558,\n",
       "           0.57658,     0.57758,     0.57858,     0.57958,     0.58058,     0.58158,     0.58258,     0.58358,     0.58458,     0.58559,     0.58659,     0.58759,     0.58859,     0.58959,     0.59059,     0.59159,     0.59259,     0.59359,     0.59459,      0.5956,      0.5966,      0.5976,      0.5986,      0.5996,\n",
       "            0.6006,      0.6016,      0.6026,      0.6036,      0.6046,     0.60561,     0.60661,     0.60761,     0.60861,     0.60961,     0.61061,     0.61161,     0.61261,     0.61361,     0.61461,     0.61562,     0.61662,     0.61762,     0.61862,     0.61962,     0.62062,     0.62162,     0.62262,     0.62362,\n",
       "           0.62462,     0.62563,     0.62663,     0.62763,     0.62863,     0.62963,     0.63063,     0.63163,     0.63263,     0.63363,     0.63463,     0.63564,     0.63664,     0.63764,     0.63864,     0.63964,     0.64064,     0.64164,     0.64264,     0.64364,     0.64464,     0.64565,     0.64665,     0.64765,\n",
       "           0.64865,     0.64965,     0.65065,     0.65165,     0.65265,     0.65365,     0.65465,     0.65566,     0.65666,     0.65766,     0.65866,     0.65966,     0.66066,     0.66166,     0.66266,     0.66366,     0.66466,     0.66567,     0.66667,     0.66767,     0.66867,     0.66967,     0.67067,     0.67167,\n",
       "           0.67267,     0.67367,     0.67467,     0.67568,     0.67668,     0.67768,     0.67868,     0.67968,     0.68068,     0.68168,     0.68268,     0.68368,     0.68468,     0.68569,     0.68669,     0.68769,     0.68869,     0.68969,     0.69069,     0.69169,     0.69269,     0.69369,     0.69469,      0.6957,\n",
       "            0.6967,      0.6977,      0.6987,      0.6997,      0.7007,      0.7017,      0.7027,      0.7037,      0.7047,     0.70571,     0.70671,     0.70771,     0.70871,     0.70971,     0.71071,     0.71171,     0.71271,     0.71371,     0.71471,     0.71572,     0.71672,     0.71772,     0.71872,     0.71972,\n",
       "           0.72072,     0.72172,     0.72272,     0.72372,     0.72472,     0.72573,     0.72673,     0.72773,     0.72873,     0.72973,     0.73073,     0.73173,     0.73273,     0.73373,     0.73473,     0.73574,     0.73674,     0.73774,     0.73874,     0.73974,     0.74074,     0.74174,     0.74274,     0.74374,\n",
       "           0.74474,     0.74575,     0.74675,     0.74775,     0.74875,     0.74975,     0.75075,     0.75175,     0.75275,     0.75375,     0.75475,     0.75576,     0.75676,     0.75776,     0.75876,     0.75976,     0.76076,     0.76176,     0.76276,     0.76376,     0.76476,     0.76577,     0.76677,     0.76777,\n",
       "           0.76877,     0.76977,     0.77077,     0.77177,     0.77277,     0.77377,     0.77477,     0.77578,     0.77678,     0.77778,     0.77878,     0.77978,     0.78078,     0.78178,     0.78278,     0.78378,     0.78478,     0.78579,     0.78679,     0.78779,     0.78879,     0.78979,     0.79079,     0.79179,\n",
       "           0.79279,     0.79379,     0.79479,      0.7958,      0.7968,      0.7978,      0.7988,      0.7998,      0.8008,      0.8018,      0.8028,      0.8038,      0.8048,     0.80581,     0.80681,     0.80781,     0.80881,     0.80981,     0.81081,     0.81181,     0.81281,     0.81381,     0.81481,     0.81582,\n",
       "           0.81682,     0.81782,     0.81882,     0.81982,     0.82082,     0.82182,     0.82282,     0.82382,     0.82482,     0.82583,     0.82683,     0.82783,     0.82883,     0.82983,     0.83083,     0.83183,     0.83283,     0.83383,     0.83483,     0.83584,     0.83684,     0.83784,     0.83884,     0.83984,\n",
       "           0.84084,     0.84184,     0.84284,     0.84384,     0.84484,     0.84585,     0.84685,     0.84785,     0.84885,     0.84985,     0.85085,     0.85185,     0.85285,     0.85385,     0.85485,     0.85586,     0.85686,     0.85786,     0.85886,     0.85986,     0.86086,     0.86186,     0.86286,     0.86386,\n",
       "           0.86486,     0.86587,     0.86687,     0.86787,     0.86887,     0.86987,     0.87087,     0.87187,     0.87287,     0.87387,     0.87487,     0.87588,     0.87688,     0.87788,     0.87888,     0.87988,     0.88088,     0.88188,     0.88288,     0.88388,     0.88488,     0.88589,     0.88689,     0.88789,\n",
       "           0.88889,     0.88989,     0.89089,     0.89189,     0.89289,     0.89389,     0.89489,      0.8959,      0.8969,      0.8979,      0.8989,      0.8999,      0.9009,      0.9019,      0.9029,      0.9039,      0.9049,     0.90591,     0.90691,     0.90791,     0.90891,     0.90991,     0.91091,     0.91191,\n",
       "           0.91291,     0.91391,     0.91491,     0.91592,     0.91692,     0.91792,     0.91892,     0.91992,     0.92092,     0.92192,     0.92292,     0.92392,     0.92492,     0.92593,     0.92693,     0.92793,     0.92893,     0.92993,     0.93093,     0.93193,     0.93293,     0.93393,     0.93493,     0.93594,\n",
       "           0.93694,     0.93794,     0.93894,     0.93994,     0.94094,     0.94194,     0.94294,     0.94394,     0.94494,     0.94595,     0.94695,     0.94795,     0.94895,     0.94995,     0.95095,     0.95195,     0.95295,     0.95395,     0.95495,     0.95596,     0.95696,     0.95796,     0.95896,     0.95996,\n",
       "           0.96096,     0.96196,     0.96296,     0.96396,     0.96496,     0.96597,     0.96697,     0.96797,     0.96897,     0.96997,     0.97097,     0.97197,     0.97297,     0.97397,     0.97497,     0.97598,     0.97698,     0.97798,     0.97898,     0.97998,     0.98098,     0.98198,     0.98298,     0.98398,\n",
       "           0.98498,     0.98599,     0.98699,     0.98799,     0.98899,     0.98999,     0.99099,     0.99199,     0.99299,     0.99399,     0.99499,       0.996,       0.997,       0.998,       0.999,           1]), array([[          1,           1,           1, ...,    0.070035,    0.035018,           0],\n",
       "       [          1,           1,           1, ...,    0.069394,    0.034697,           0],\n",
       "       [          1,           1,           1, ...,   0.0019202,  0.00096012,           0],\n",
       "       ...,\n",
       "       [          1,           1,           1, ...,    0.032444,    0.016222,           0],\n",
       "       [          1,           1,           1, ...,       0.141,    0.070498,           0],\n",
       "       [          1,           1,           1, ...,  0.00066393,  0.00033197,           0]]), 'Recall', 'Precision'], [array([          0,    0.001001,    0.002002,    0.003003,    0.004004,    0.005005,    0.006006,    0.007007,    0.008008,    0.009009,     0.01001,    0.011011,    0.012012,    0.013013,    0.014014,    0.015015,    0.016016,    0.017017,    0.018018,    0.019019,     0.02002,    0.021021,    0.022022,    0.023023,\n",
       "          0.024024,    0.025025,    0.026026,    0.027027,    0.028028,    0.029029,     0.03003,    0.031031,    0.032032,    0.033033,    0.034034,    0.035035,    0.036036,    0.037037,    0.038038,    0.039039,     0.04004,    0.041041,    0.042042,    0.043043,    0.044044,    0.045045,    0.046046,    0.047047,\n",
       "          0.048048,    0.049049,     0.05005,    0.051051,    0.052052,    0.053053,    0.054054,    0.055055,    0.056056,    0.057057,    0.058058,    0.059059,     0.06006,    0.061061,    0.062062,    0.063063,    0.064064,    0.065065,    0.066066,    0.067067,    0.068068,    0.069069,     0.07007,    0.071071,\n",
       "          0.072072,    0.073073,    0.074074,    0.075075,    0.076076,    0.077077,    0.078078,    0.079079,     0.08008,    0.081081,    0.082082,    0.083083,    0.084084,    0.085085,    0.086086,    0.087087,    0.088088,    0.089089,     0.09009,    0.091091,    0.092092,    0.093093,    0.094094,    0.095095,\n",
       "          0.096096,    0.097097,    0.098098,    0.099099,      0.1001,      0.1011,      0.1021,      0.1031,      0.1041,     0.10511,     0.10611,     0.10711,     0.10811,     0.10911,     0.11011,     0.11111,     0.11211,     0.11311,     0.11411,     0.11512,     0.11612,     0.11712,     0.11812,     0.11912,\n",
       "           0.12012,     0.12112,     0.12212,     0.12312,     0.12412,     0.12513,     0.12613,     0.12713,     0.12813,     0.12913,     0.13013,     0.13113,     0.13213,     0.13313,     0.13413,     0.13514,     0.13614,     0.13714,     0.13814,     0.13914,     0.14014,     0.14114,     0.14214,     0.14314,\n",
       "           0.14414,     0.14515,     0.14615,     0.14715,     0.14815,     0.14915,     0.15015,     0.15115,     0.15215,     0.15315,     0.15415,     0.15516,     0.15616,     0.15716,     0.15816,     0.15916,     0.16016,     0.16116,     0.16216,     0.16316,     0.16416,     0.16517,     0.16617,     0.16717,\n",
       "           0.16817,     0.16917,     0.17017,     0.17117,     0.17217,     0.17317,     0.17417,     0.17518,     0.17618,     0.17718,     0.17818,     0.17918,     0.18018,     0.18118,     0.18218,     0.18318,     0.18418,     0.18519,     0.18619,     0.18719,     0.18819,     0.18919,     0.19019,     0.19119,\n",
       "           0.19219,     0.19319,     0.19419,      0.1952,      0.1962,      0.1972,      0.1982,      0.1992,      0.2002,      0.2012,      0.2022,      0.2032,      0.2042,     0.20521,     0.20621,     0.20721,     0.20821,     0.20921,     0.21021,     0.21121,     0.21221,     0.21321,     0.21421,     0.21522,\n",
       "           0.21622,     0.21722,     0.21822,     0.21922,     0.22022,     0.22122,     0.22222,     0.22322,     0.22422,     0.22523,     0.22623,     0.22723,     0.22823,     0.22923,     0.23023,     0.23123,     0.23223,     0.23323,     0.23423,     0.23524,     0.23624,     0.23724,     0.23824,     0.23924,\n",
       "           0.24024,     0.24124,     0.24224,     0.24324,     0.24424,     0.24525,     0.24625,     0.24725,     0.24825,     0.24925,     0.25025,     0.25125,     0.25225,     0.25325,     0.25425,     0.25526,     0.25626,     0.25726,     0.25826,     0.25926,     0.26026,     0.26126,     0.26226,     0.26326,\n",
       "           0.26426,     0.26527,     0.26627,     0.26727,     0.26827,     0.26927,     0.27027,     0.27127,     0.27227,     0.27327,     0.27427,     0.27528,     0.27628,     0.27728,     0.27828,     0.27928,     0.28028,     0.28128,     0.28228,     0.28328,     0.28428,     0.28529,     0.28629,     0.28729,\n",
       "           0.28829,     0.28929,     0.29029,     0.29129,     0.29229,     0.29329,     0.29429,      0.2953,      0.2963,      0.2973,      0.2983,      0.2993,      0.3003,      0.3013,      0.3023,      0.3033,      0.3043,     0.30531,     0.30631,     0.30731,     0.30831,     0.30931,     0.31031,     0.31131,\n",
       "           0.31231,     0.31331,     0.31431,     0.31532,     0.31632,     0.31732,     0.31832,     0.31932,     0.32032,     0.32132,     0.32232,     0.32332,     0.32432,     0.32533,     0.32633,     0.32733,     0.32833,     0.32933,     0.33033,     0.33133,     0.33233,     0.33333,     0.33433,     0.33534,\n",
       "           0.33634,     0.33734,     0.33834,     0.33934,     0.34034,     0.34134,     0.34234,     0.34334,     0.34434,     0.34535,     0.34635,     0.34735,     0.34835,     0.34935,     0.35035,     0.35135,     0.35235,     0.35335,     0.35435,     0.35536,     0.35636,     0.35736,     0.35836,     0.35936,\n",
       "           0.36036,     0.36136,     0.36236,     0.36336,     0.36436,     0.36537,     0.36637,     0.36737,     0.36837,     0.36937,     0.37037,     0.37137,     0.37237,     0.37337,     0.37437,     0.37538,     0.37638,     0.37738,     0.37838,     0.37938,     0.38038,     0.38138,     0.38238,     0.38338,\n",
       "           0.38438,     0.38539,     0.38639,     0.38739,     0.38839,     0.38939,     0.39039,     0.39139,     0.39239,     0.39339,     0.39439,      0.3954,      0.3964,      0.3974,      0.3984,      0.3994,      0.4004,      0.4014,      0.4024,      0.4034,      0.4044,     0.40541,     0.40641,     0.40741,\n",
       "           0.40841,     0.40941,     0.41041,     0.41141,     0.41241,     0.41341,     0.41441,     0.41542,     0.41642,     0.41742,     0.41842,     0.41942,     0.42042,     0.42142,     0.42242,     0.42342,     0.42442,     0.42543,     0.42643,     0.42743,     0.42843,     0.42943,     0.43043,     0.43143,\n",
       "           0.43243,     0.43343,     0.43443,     0.43544,     0.43644,     0.43744,     0.43844,     0.43944,     0.44044,     0.44144,     0.44244,     0.44344,     0.44444,     0.44545,     0.44645,     0.44745,     0.44845,     0.44945,     0.45045,     0.45145,     0.45245,     0.45345,     0.45445,     0.45546,\n",
       "           0.45646,     0.45746,     0.45846,     0.45946,     0.46046,     0.46146,     0.46246,     0.46346,     0.46446,     0.46547,     0.46647,     0.46747,     0.46847,     0.46947,     0.47047,     0.47147,     0.47247,     0.47347,     0.47447,     0.47548,     0.47648,     0.47748,     0.47848,     0.47948,\n",
       "           0.48048,     0.48148,     0.48248,     0.48348,     0.48448,     0.48549,     0.48649,     0.48749,     0.48849,     0.48949,     0.49049,     0.49149,     0.49249,     0.49349,     0.49449,      0.4955,      0.4965,      0.4975,      0.4985,      0.4995,      0.5005,      0.5015,      0.5025,      0.5035,\n",
       "            0.5045,     0.50551,     0.50651,     0.50751,     0.50851,     0.50951,     0.51051,     0.51151,     0.51251,     0.51351,     0.51451,     0.51552,     0.51652,     0.51752,     0.51852,     0.51952,     0.52052,     0.52152,     0.52252,     0.52352,     0.52452,     0.52553,     0.52653,     0.52753,\n",
       "           0.52853,     0.52953,     0.53053,     0.53153,     0.53253,     0.53353,     0.53453,     0.53554,     0.53654,     0.53754,     0.53854,     0.53954,     0.54054,     0.54154,     0.54254,     0.54354,     0.54454,     0.54555,     0.54655,     0.54755,     0.54855,     0.54955,     0.55055,     0.55155,\n",
       "           0.55255,     0.55355,     0.55455,     0.55556,     0.55656,     0.55756,     0.55856,     0.55956,     0.56056,     0.56156,     0.56256,     0.56356,     0.56456,     0.56557,     0.56657,     0.56757,     0.56857,     0.56957,     0.57057,     0.57157,     0.57257,     0.57357,     0.57457,     0.57558,\n",
       "           0.57658,     0.57758,     0.57858,     0.57958,     0.58058,     0.58158,     0.58258,     0.58358,     0.58458,     0.58559,     0.58659,     0.58759,     0.58859,     0.58959,     0.59059,     0.59159,     0.59259,     0.59359,     0.59459,      0.5956,      0.5966,      0.5976,      0.5986,      0.5996,\n",
       "            0.6006,      0.6016,      0.6026,      0.6036,      0.6046,     0.60561,     0.60661,     0.60761,     0.60861,     0.60961,     0.61061,     0.61161,     0.61261,     0.61361,     0.61461,     0.61562,     0.61662,     0.61762,     0.61862,     0.61962,     0.62062,     0.62162,     0.62262,     0.62362,\n",
       "           0.62462,     0.62563,     0.62663,     0.62763,     0.62863,     0.62963,     0.63063,     0.63163,     0.63263,     0.63363,     0.63463,     0.63564,     0.63664,     0.63764,     0.63864,     0.63964,     0.64064,     0.64164,     0.64264,     0.64364,     0.64464,     0.64565,     0.64665,     0.64765,\n",
       "           0.64865,     0.64965,     0.65065,     0.65165,     0.65265,     0.65365,     0.65465,     0.65566,     0.65666,     0.65766,     0.65866,     0.65966,     0.66066,     0.66166,     0.66266,     0.66366,     0.66466,     0.66567,     0.66667,     0.66767,     0.66867,     0.66967,     0.67067,     0.67167,\n",
       "           0.67267,     0.67367,     0.67467,     0.67568,     0.67668,     0.67768,     0.67868,     0.67968,     0.68068,     0.68168,     0.68268,     0.68368,     0.68468,     0.68569,     0.68669,     0.68769,     0.68869,     0.68969,     0.69069,     0.69169,     0.69269,     0.69369,     0.69469,      0.6957,\n",
       "            0.6967,      0.6977,      0.6987,      0.6997,      0.7007,      0.7017,      0.7027,      0.7037,      0.7047,     0.70571,     0.70671,     0.70771,     0.70871,     0.70971,     0.71071,     0.71171,     0.71271,     0.71371,     0.71471,     0.71572,     0.71672,     0.71772,     0.71872,     0.71972,\n",
       "           0.72072,     0.72172,     0.72272,     0.72372,     0.72472,     0.72573,     0.72673,     0.72773,     0.72873,     0.72973,     0.73073,     0.73173,     0.73273,     0.73373,     0.73473,     0.73574,     0.73674,     0.73774,     0.73874,     0.73974,     0.74074,     0.74174,     0.74274,     0.74374,\n",
       "           0.74474,     0.74575,     0.74675,     0.74775,     0.74875,     0.74975,     0.75075,     0.75175,     0.75275,     0.75375,     0.75475,     0.75576,     0.75676,     0.75776,     0.75876,     0.75976,     0.76076,     0.76176,     0.76276,     0.76376,     0.76476,     0.76577,     0.76677,     0.76777,\n",
       "           0.76877,     0.76977,     0.77077,     0.77177,     0.77277,     0.77377,     0.77477,     0.77578,     0.77678,     0.77778,     0.77878,     0.77978,     0.78078,     0.78178,     0.78278,     0.78378,     0.78478,     0.78579,     0.78679,     0.78779,     0.78879,     0.78979,     0.79079,     0.79179,\n",
       "           0.79279,     0.79379,     0.79479,      0.7958,      0.7968,      0.7978,      0.7988,      0.7998,      0.8008,      0.8018,      0.8028,      0.8038,      0.8048,     0.80581,     0.80681,     0.80781,     0.80881,     0.80981,     0.81081,     0.81181,     0.81281,     0.81381,     0.81481,     0.81582,\n",
       "           0.81682,     0.81782,     0.81882,     0.81982,     0.82082,     0.82182,     0.82282,     0.82382,     0.82482,     0.82583,     0.82683,     0.82783,     0.82883,     0.82983,     0.83083,     0.83183,     0.83283,     0.83383,     0.83483,     0.83584,     0.83684,     0.83784,     0.83884,     0.83984,\n",
       "           0.84084,     0.84184,     0.84284,     0.84384,     0.84484,     0.84585,     0.84685,     0.84785,     0.84885,     0.84985,     0.85085,     0.85185,     0.85285,     0.85385,     0.85485,     0.85586,     0.85686,     0.85786,     0.85886,     0.85986,     0.86086,     0.86186,     0.86286,     0.86386,\n",
       "           0.86486,     0.86587,     0.86687,     0.86787,     0.86887,     0.86987,     0.87087,     0.87187,     0.87287,     0.87387,     0.87487,     0.87588,     0.87688,     0.87788,     0.87888,     0.87988,     0.88088,     0.88188,     0.88288,     0.88388,     0.88488,     0.88589,     0.88689,     0.88789,\n",
       "           0.88889,     0.88989,     0.89089,     0.89189,     0.89289,     0.89389,     0.89489,      0.8959,      0.8969,      0.8979,      0.8989,      0.8999,      0.9009,      0.9019,      0.9029,      0.9039,      0.9049,     0.90591,     0.90691,     0.90791,     0.90891,     0.90991,     0.91091,     0.91191,\n",
       "           0.91291,     0.91391,     0.91491,     0.91592,     0.91692,     0.91792,     0.91892,     0.91992,     0.92092,     0.92192,     0.92292,     0.92392,     0.92492,     0.92593,     0.92693,     0.92793,     0.92893,     0.92993,     0.93093,     0.93193,     0.93293,     0.93393,     0.93493,     0.93594,\n",
       "           0.93694,     0.93794,     0.93894,     0.93994,     0.94094,     0.94194,     0.94294,     0.94394,     0.94494,     0.94595,     0.94695,     0.94795,     0.94895,     0.94995,     0.95095,     0.95195,     0.95295,     0.95395,     0.95495,     0.95596,     0.95696,     0.95796,     0.95896,     0.95996,\n",
       "           0.96096,     0.96196,     0.96296,     0.96396,     0.96496,     0.96597,     0.96697,     0.96797,     0.96897,     0.96997,     0.97097,     0.97197,     0.97297,     0.97397,     0.97497,     0.97598,     0.97698,     0.97798,     0.97898,     0.97998,     0.98098,     0.98198,     0.98298,     0.98398,\n",
       "           0.98498,     0.98599,     0.98699,     0.98799,     0.98899,     0.98999,     0.99099,     0.99199,     0.99299,     0.99399,     0.99499,       0.996,       0.997,       0.998,       0.999,           1]), array([[     0.3254,      0.3254,     0.39345, ...,           0,           0,           0],\n",
       "       [    0.36094,     0.36094,     0.42828, ...,           0,           0,           0],\n",
       "       [   0.093852,    0.093852,     0.12552, ...,           0,           0,           0],\n",
       "       ...,\n",
       "       [    0.29683,     0.29683,     0.35613, ...,           0,           0,           0],\n",
       "       [    0.45633,     0.45633,     0.52059, ...,           0,           0,           0],\n",
       "       [   0.048657,    0.048657,     0.06775, ...,           0,           0,           0]]), 'Confidence', 'F1'], [array([          0,    0.001001,    0.002002,    0.003003,    0.004004,    0.005005,    0.006006,    0.007007,    0.008008,    0.009009,     0.01001,    0.011011,    0.012012,    0.013013,    0.014014,    0.015015,    0.016016,    0.017017,    0.018018,    0.019019,     0.02002,    0.021021,    0.022022,    0.023023,\n",
       "          0.024024,    0.025025,    0.026026,    0.027027,    0.028028,    0.029029,     0.03003,    0.031031,    0.032032,    0.033033,    0.034034,    0.035035,    0.036036,    0.037037,    0.038038,    0.039039,     0.04004,    0.041041,    0.042042,    0.043043,    0.044044,    0.045045,    0.046046,    0.047047,\n",
       "          0.048048,    0.049049,     0.05005,    0.051051,    0.052052,    0.053053,    0.054054,    0.055055,    0.056056,    0.057057,    0.058058,    0.059059,     0.06006,    0.061061,    0.062062,    0.063063,    0.064064,    0.065065,    0.066066,    0.067067,    0.068068,    0.069069,     0.07007,    0.071071,\n",
       "          0.072072,    0.073073,    0.074074,    0.075075,    0.076076,    0.077077,    0.078078,    0.079079,     0.08008,    0.081081,    0.082082,    0.083083,    0.084084,    0.085085,    0.086086,    0.087087,    0.088088,    0.089089,     0.09009,    0.091091,    0.092092,    0.093093,    0.094094,    0.095095,\n",
       "          0.096096,    0.097097,    0.098098,    0.099099,      0.1001,      0.1011,      0.1021,      0.1031,      0.1041,     0.10511,     0.10611,     0.10711,     0.10811,     0.10911,     0.11011,     0.11111,     0.11211,     0.11311,     0.11411,     0.11512,     0.11612,     0.11712,     0.11812,     0.11912,\n",
       "           0.12012,     0.12112,     0.12212,     0.12312,     0.12412,     0.12513,     0.12613,     0.12713,     0.12813,     0.12913,     0.13013,     0.13113,     0.13213,     0.13313,     0.13413,     0.13514,     0.13614,     0.13714,     0.13814,     0.13914,     0.14014,     0.14114,     0.14214,     0.14314,\n",
       "           0.14414,     0.14515,     0.14615,     0.14715,     0.14815,     0.14915,     0.15015,     0.15115,     0.15215,     0.15315,     0.15415,     0.15516,     0.15616,     0.15716,     0.15816,     0.15916,     0.16016,     0.16116,     0.16216,     0.16316,     0.16416,     0.16517,     0.16617,     0.16717,\n",
       "           0.16817,     0.16917,     0.17017,     0.17117,     0.17217,     0.17317,     0.17417,     0.17518,     0.17618,     0.17718,     0.17818,     0.17918,     0.18018,     0.18118,     0.18218,     0.18318,     0.18418,     0.18519,     0.18619,     0.18719,     0.18819,     0.18919,     0.19019,     0.19119,\n",
       "           0.19219,     0.19319,     0.19419,      0.1952,      0.1962,      0.1972,      0.1982,      0.1992,      0.2002,      0.2012,      0.2022,      0.2032,      0.2042,     0.20521,     0.20621,     0.20721,     0.20821,     0.20921,     0.21021,     0.21121,     0.21221,     0.21321,     0.21421,     0.21522,\n",
       "           0.21622,     0.21722,     0.21822,     0.21922,     0.22022,     0.22122,     0.22222,     0.22322,     0.22422,     0.22523,     0.22623,     0.22723,     0.22823,     0.22923,     0.23023,     0.23123,     0.23223,     0.23323,     0.23423,     0.23524,     0.23624,     0.23724,     0.23824,     0.23924,\n",
       "           0.24024,     0.24124,     0.24224,     0.24324,     0.24424,     0.24525,     0.24625,     0.24725,     0.24825,     0.24925,     0.25025,     0.25125,     0.25225,     0.25325,     0.25425,     0.25526,     0.25626,     0.25726,     0.25826,     0.25926,     0.26026,     0.26126,     0.26226,     0.26326,\n",
       "           0.26426,     0.26527,     0.26627,     0.26727,     0.26827,     0.26927,     0.27027,     0.27127,     0.27227,     0.27327,     0.27427,     0.27528,     0.27628,     0.27728,     0.27828,     0.27928,     0.28028,     0.28128,     0.28228,     0.28328,     0.28428,     0.28529,     0.28629,     0.28729,\n",
       "           0.28829,     0.28929,     0.29029,     0.29129,     0.29229,     0.29329,     0.29429,      0.2953,      0.2963,      0.2973,      0.2983,      0.2993,      0.3003,      0.3013,      0.3023,      0.3033,      0.3043,     0.30531,     0.30631,     0.30731,     0.30831,     0.30931,     0.31031,     0.31131,\n",
       "           0.31231,     0.31331,     0.31431,     0.31532,     0.31632,     0.31732,     0.31832,     0.31932,     0.32032,     0.32132,     0.32232,     0.32332,     0.32432,     0.32533,     0.32633,     0.32733,     0.32833,     0.32933,     0.33033,     0.33133,     0.33233,     0.33333,     0.33433,     0.33534,\n",
       "           0.33634,     0.33734,     0.33834,     0.33934,     0.34034,     0.34134,     0.34234,     0.34334,     0.34434,     0.34535,     0.34635,     0.34735,     0.34835,     0.34935,     0.35035,     0.35135,     0.35235,     0.35335,     0.35435,     0.35536,     0.35636,     0.35736,     0.35836,     0.35936,\n",
       "           0.36036,     0.36136,     0.36236,     0.36336,     0.36436,     0.36537,     0.36637,     0.36737,     0.36837,     0.36937,     0.37037,     0.37137,     0.37237,     0.37337,     0.37437,     0.37538,     0.37638,     0.37738,     0.37838,     0.37938,     0.38038,     0.38138,     0.38238,     0.38338,\n",
       "           0.38438,     0.38539,     0.38639,     0.38739,     0.38839,     0.38939,     0.39039,     0.39139,     0.39239,     0.39339,     0.39439,      0.3954,      0.3964,      0.3974,      0.3984,      0.3994,      0.4004,      0.4014,      0.4024,      0.4034,      0.4044,     0.40541,     0.40641,     0.40741,\n",
       "           0.40841,     0.40941,     0.41041,     0.41141,     0.41241,     0.41341,     0.41441,     0.41542,     0.41642,     0.41742,     0.41842,     0.41942,     0.42042,     0.42142,     0.42242,     0.42342,     0.42442,     0.42543,     0.42643,     0.42743,     0.42843,     0.42943,     0.43043,     0.43143,\n",
       "           0.43243,     0.43343,     0.43443,     0.43544,     0.43644,     0.43744,     0.43844,     0.43944,     0.44044,     0.44144,     0.44244,     0.44344,     0.44444,     0.44545,     0.44645,     0.44745,     0.44845,     0.44945,     0.45045,     0.45145,     0.45245,     0.45345,     0.45445,     0.45546,\n",
       "           0.45646,     0.45746,     0.45846,     0.45946,     0.46046,     0.46146,     0.46246,     0.46346,     0.46446,     0.46547,     0.46647,     0.46747,     0.46847,     0.46947,     0.47047,     0.47147,     0.47247,     0.47347,     0.47447,     0.47548,     0.47648,     0.47748,     0.47848,     0.47948,\n",
       "           0.48048,     0.48148,     0.48248,     0.48348,     0.48448,     0.48549,     0.48649,     0.48749,     0.48849,     0.48949,     0.49049,     0.49149,     0.49249,     0.49349,     0.49449,      0.4955,      0.4965,      0.4975,      0.4985,      0.4995,      0.5005,      0.5015,      0.5025,      0.5035,\n",
       "            0.5045,     0.50551,     0.50651,     0.50751,     0.50851,     0.50951,     0.51051,     0.51151,     0.51251,     0.51351,     0.51451,     0.51552,     0.51652,     0.51752,     0.51852,     0.51952,     0.52052,     0.52152,     0.52252,     0.52352,     0.52452,     0.52553,     0.52653,     0.52753,\n",
       "           0.52853,     0.52953,     0.53053,     0.53153,     0.53253,     0.53353,     0.53453,     0.53554,     0.53654,     0.53754,     0.53854,     0.53954,     0.54054,     0.54154,     0.54254,     0.54354,     0.54454,     0.54555,     0.54655,     0.54755,     0.54855,     0.54955,     0.55055,     0.55155,\n",
       "           0.55255,     0.55355,     0.55455,     0.55556,     0.55656,     0.55756,     0.55856,     0.55956,     0.56056,     0.56156,     0.56256,     0.56356,     0.56456,     0.56557,     0.56657,     0.56757,     0.56857,     0.56957,     0.57057,     0.57157,     0.57257,     0.57357,     0.57457,     0.57558,\n",
       "           0.57658,     0.57758,     0.57858,     0.57958,     0.58058,     0.58158,     0.58258,     0.58358,     0.58458,     0.58559,     0.58659,     0.58759,     0.58859,     0.58959,     0.59059,     0.59159,     0.59259,     0.59359,     0.59459,      0.5956,      0.5966,      0.5976,      0.5986,      0.5996,\n",
       "            0.6006,      0.6016,      0.6026,      0.6036,      0.6046,     0.60561,     0.60661,     0.60761,     0.60861,     0.60961,     0.61061,     0.61161,     0.61261,     0.61361,     0.61461,     0.61562,     0.61662,     0.61762,     0.61862,     0.61962,     0.62062,     0.62162,     0.62262,     0.62362,\n",
       "           0.62462,     0.62563,     0.62663,     0.62763,     0.62863,     0.62963,     0.63063,     0.63163,     0.63263,     0.63363,     0.63463,     0.63564,     0.63664,     0.63764,     0.63864,     0.63964,     0.64064,     0.64164,     0.64264,     0.64364,     0.64464,     0.64565,     0.64665,     0.64765,\n",
       "           0.64865,     0.64965,     0.65065,     0.65165,     0.65265,     0.65365,     0.65465,     0.65566,     0.65666,     0.65766,     0.65866,     0.65966,     0.66066,     0.66166,     0.66266,     0.66366,     0.66466,     0.66567,     0.66667,     0.66767,     0.66867,     0.66967,     0.67067,     0.67167,\n",
       "           0.67267,     0.67367,     0.67467,     0.67568,     0.67668,     0.67768,     0.67868,     0.67968,     0.68068,     0.68168,     0.68268,     0.68368,     0.68468,     0.68569,     0.68669,     0.68769,     0.68869,     0.68969,     0.69069,     0.69169,     0.69269,     0.69369,     0.69469,      0.6957,\n",
       "            0.6967,      0.6977,      0.6987,      0.6997,      0.7007,      0.7017,      0.7027,      0.7037,      0.7047,     0.70571,     0.70671,     0.70771,     0.70871,     0.70971,     0.71071,     0.71171,     0.71271,     0.71371,     0.71471,     0.71572,     0.71672,     0.71772,     0.71872,     0.71972,\n",
       "           0.72072,     0.72172,     0.72272,     0.72372,     0.72472,     0.72573,     0.72673,     0.72773,     0.72873,     0.72973,     0.73073,     0.73173,     0.73273,     0.73373,     0.73473,     0.73574,     0.73674,     0.73774,     0.73874,     0.73974,     0.74074,     0.74174,     0.74274,     0.74374,\n",
       "           0.74474,     0.74575,     0.74675,     0.74775,     0.74875,     0.74975,     0.75075,     0.75175,     0.75275,     0.75375,     0.75475,     0.75576,     0.75676,     0.75776,     0.75876,     0.75976,     0.76076,     0.76176,     0.76276,     0.76376,     0.76476,     0.76577,     0.76677,     0.76777,\n",
       "           0.76877,     0.76977,     0.77077,     0.77177,     0.77277,     0.77377,     0.77477,     0.77578,     0.77678,     0.77778,     0.77878,     0.77978,     0.78078,     0.78178,     0.78278,     0.78378,     0.78478,     0.78579,     0.78679,     0.78779,     0.78879,     0.78979,     0.79079,     0.79179,\n",
       "           0.79279,     0.79379,     0.79479,      0.7958,      0.7968,      0.7978,      0.7988,      0.7998,      0.8008,      0.8018,      0.8028,      0.8038,      0.8048,     0.80581,     0.80681,     0.80781,     0.80881,     0.80981,     0.81081,     0.81181,     0.81281,     0.81381,     0.81481,     0.81582,\n",
       "           0.81682,     0.81782,     0.81882,     0.81982,     0.82082,     0.82182,     0.82282,     0.82382,     0.82482,     0.82583,     0.82683,     0.82783,     0.82883,     0.82983,     0.83083,     0.83183,     0.83283,     0.83383,     0.83483,     0.83584,     0.83684,     0.83784,     0.83884,     0.83984,\n",
       "           0.84084,     0.84184,     0.84284,     0.84384,     0.84484,     0.84585,     0.84685,     0.84785,     0.84885,     0.84985,     0.85085,     0.85185,     0.85285,     0.85385,     0.85485,     0.85586,     0.85686,     0.85786,     0.85886,     0.85986,     0.86086,     0.86186,     0.86286,     0.86386,\n",
       "           0.86486,     0.86587,     0.86687,     0.86787,     0.86887,     0.86987,     0.87087,     0.87187,     0.87287,     0.87387,     0.87487,     0.87588,     0.87688,     0.87788,     0.87888,     0.87988,     0.88088,     0.88188,     0.88288,     0.88388,     0.88488,     0.88589,     0.88689,     0.88789,\n",
       "           0.88889,     0.88989,     0.89089,     0.89189,     0.89289,     0.89389,     0.89489,      0.8959,      0.8969,      0.8979,      0.8989,      0.8999,      0.9009,      0.9019,      0.9029,      0.9039,      0.9049,     0.90591,     0.90691,     0.90791,     0.90891,     0.90991,     0.91091,     0.91191,\n",
       "           0.91291,     0.91391,     0.91491,     0.91592,     0.91692,     0.91792,     0.91892,     0.91992,     0.92092,     0.92192,     0.92292,     0.92392,     0.92492,     0.92593,     0.92693,     0.92793,     0.92893,     0.92993,     0.93093,     0.93193,     0.93293,     0.93393,     0.93493,     0.93594,\n",
       "           0.93694,     0.93794,     0.93894,     0.93994,     0.94094,     0.94194,     0.94294,     0.94394,     0.94494,     0.94595,     0.94695,     0.94795,     0.94895,     0.94995,     0.95095,     0.95195,     0.95295,     0.95395,     0.95495,     0.95596,     0.95696,     0.95796,     0.95896,     0.95996,\n",
       "           0.96096,     0.96196,     0.96296,     0.96396,     0.96496,     0.96597,     0.96697,     0.96797,     0.96897,     0.96997,     0.97097,     0.97197,     0.97297,     0.97397,     0.97497,     0.97598,     0.97698,     0.97798,     0.97898,     0.97998,     0.98098,     0.98198,     0.98298,     0.98398,\n",
       "           0.98498,     0.98599,     0.98699,     0.98799,     0.98899,     0.98999,     0.99099,     0.99199,     0.99299,     0.99399,     0.99499,       0.996,       0.997,       0.998,       0.999,           1]), array([[    0.19453,     0.19453,     0.24535, ...,           1,           1,           1],\n",
       "       [    0.22052,     0.22052,     0.27312, ...,           1,           1,           1],\n",
       "       [   0.049369,    0.049369,    0.067283, ...,           1,           1,           1],\n",
       "       ...,\n",
       "       [    0.17461,     0.17461,     0.21728, ...,           1,           1,           1],\n",
       "       [    0.29598,     0.29598,     0.35265, ...,           1,           1,           1],\n",
       "       [   0.024986,    0.024986,    0.035247, ...,           1,           1,           1]]), 'Confidence', 'Precision'], [array([          0,    0.001001,    0.002002,    0.003003,    0.004004,    0.005005,    0.006006,    0.007007,    0.008008,    0.009009,     0.01001,    0.011011,    0.012012,    0.013013,    0.014014,    0.015015,    0.016016,    0.017017,    0.018018,    0.019019,     0.02002,    0.021021,    0.022022,    0.023023,\n",
       "          0.024024,    0.025025,    0.026026,    0.027027,    0.028028,    0.029029,     0.03003,    0.031031,    0.032032,    0.033033,    0.034034,    0.035035,    0.036036,    0.037037,    0.038038,    0.039039,     0.04004,    0.041041,    0.042042,    0.043043,    0.044044,    0.045045,    0.046046,    0.047047,\n",
       "          0.048048,    0.049049,     0.05005,    0.051051,    0.052052,    0.053053,    0.054054,    0.055055,    0.056056,    0.057057,    0.058058,    0.059059,     0.06006,    0.061061,    0.062062,    0.063063,    0.064064,    0.065065,    0.066066,    0.067067,    0.068068,    0.069069,     0.07007,    0.071071,\n",
       "          0.072072,    0.073073,    0.074074,    0.075075,    0.076076,    0.077077,    0.078078,    0.079079,     0.08008,    0.081081,    0.082082,    0.083083,    0.084084,    0.085085,    0.086086,    0.087087,    0.088088,    0.089089,     0.09009,    0.091091,    0.092092,    0.093093,    0.094094,    0.095095,\n",
       "          0.096096,    0.097097,    0.098098,    0.099099,      0.1001,      0.1011,      0.1021,      0.1031,      0.1041,     0.10511,     0.10611,     0.10711,     0.10811,     0.10911,     0.11011,     0.11111,     0.11211,     0.11311,     0.11411,     0.11512,     0.11612,     0.11712,     0.11812,     0.11912,\n",
       "           0.12012,     0.12112,     0.12212,     0.12312,     0.12412,     0.12513,     0.12613,     0.12713,     0.12813,     0.12913,     0.13013,     0.13113,     0.13213,     0.13313,     0.13413,     0.13514,     0.13614,     0.13714,     0.13814,     0.13914,     0.14014,     0.14114,     0.14214,     0.14314,\n",
       "           0.14414,     0.14515,     0.14615,     0.14715,     0.14815,     0.14915,     0.15015,     0.15115,     0.15215,     0.15315,     0.15415,     0.15516,     0.15616,     0.15716,     0.15816,     0.15916,     0.16016,     0.16116,     0.16216,     0.16316,     0.16416,     0.16517,     0.16617,     0.16717,\n",
       "           0.16817,     0.16917,     0.17017,     0.17117,     0.17217,     0.17317,     0.17417,     0.17518,     0.17618,     0.17718,     0.17818,     0.17918,     0.18018,     0.18118,     0.18218,     0.18318,     0.18418,     0.18519,     0.18619,     0.18719,     0.18819,     0.18919,     0.19019,     0.19119,\n",
       "           0.19219,     0.19319,     0.19419,      0.1952,      0.1962,      0.1972,      0.1982,      0.1992,      0.2002,      0.2012,      0.2022,      0.2032,      0.2042,     0.20521,     0.20621,     0.20721,     0.20821,     0.20921,     0.21021,     0.21121,     0.21221,     0.21321,     0.21421,     0.21522,\n",
       "           0.21622,     0.21722,     0.21822,     0.21922,     0.22022,     0.22122,     0.22222,     0.22322,     0.22422,     0.22523,     0.22623,     0.22723,     0.22823,     0.22923,     0.23023,     0.23123,     0.23223,     0.23323,     0.23423,     0.23524,     0.23624,     0.23724,     0.23824,     0.23924,\n",
       "           0.24024,     0.24124,     0.24224,     0.24324,     0.24424,     0.24525,     0.24625,     0.24725,     0.24825,     0.24925,     0.25025,     0.25125,     0.25225,     0.25325,     0.25425,     0.25526,     0.25626,     0.25726,     0.25826,     0.25926,     0.26026,     0.26126,     0.26226,     0.26326,\n",
       "           0.26426,     0.26527,     0.26627,     0.26727,     0.26827,     0.26927,     0.27027,     0.27127,     0.27227,     0.27327,     0.27427,     0.27528,     0.27628,     0.27728,     0.27828,     0.27928,     0.28028,     0.28128,     0.28228,     0.28328,     0.28428,     0.28529,     0.28629,     0.28729,\n",
       "           0.28829,     0.28929,     0.29029,     0.29129,     0.29229,     0.29329,     0.29429,      0.2953,      0.2963,      0.2973,      0.2983,      0.2993,      0.3003,      0.3013,      0.3023,      0.3033,      0.3043,     0.30531,     0.30631,     0.30731,     0.30831,     0.30931,     0.31031,     0.31131,\n",
       "           0.31231,     0.31331,     0.31431,     0.31532,     0.31632,     0.31732,     0.31832,     0.31932,     0.32032,     0.32132,     0.32232,     0.32332,     0.32432,     0.32533,     0.32633,     0.32733,     0.32833,     0.32933,     0.33033,     0.33133,     0.33233,     0.33333,     0.33433,     0.33534,\n",
       "           0.33634,     0.33734,     0.33834,     0.33934,     0.34034,     0.34134,     0.34234,     0.34334,     0.34434,     0.34535,     0.34635,     0.34735,     0.34835,     0.34935,     0.35035,     0.35135,     0.35235,     0.35335,     0.35435,     0.35536,     0.35636,     0.35736,     0.35836,     0.35936,\n",
       "           0.36036,     0.36136,     0.36236,     0.36336,     0.36436,     0.36537,     0.36637,     0.36737,     0.36837,     0.36937,     0.37037,     0.37137,     0.37237,     0.37337,     0.37437,     0.37538,     0.37638,     0.37738,     0.37838,     0.37938,     0.38038,     0.38138,     0.38238,     0.38338,\n",
       "           0.38438,     0.38539,     0.38639,     0.38739,     0.38839,     0.38939,     0.39039,     0.39139,     0.39239,     0.39339,     0.39439,      0.3954,      0.3964,      0.3974,      0.3984,      0.3994,      0.4004,      0.4014,      0.4024,      0.4034,      0.4044,     0.40541,     0.40641,     0.40741,\n",
       "           0.40841,     0.40941,     0.41041,     0.41141,     0.41241,     0.41341,     0.41441,     0.41542,     0.41642,     0.41742,     0.41842,     0.41942,     0.42042,     0.42142,     0.42242,     0.42342,     0.42442,     0.42543,     0.42643,     0.42743,     0.42843,     0.42943,     0.43043,     0.43143,\n",
       "           0.43243,     0.43343,     0.43443,     0.43544,     0.43644,     0.43744,     0.43844,     0.43944,     0.44044,     0.44144,     0.44244,     0.44344,     0.44444,     0.44545,     0.44645,     0.44745,     0.44845,     0.44945,     0.45045,     0.45145,     0.45245,     0.45345,     0.45445,     0.45546,\n",
       "           0.45646,     0.45746,     0.45846,     0.45946,     0.46046,     0.46146,     0.46246,     0.46346,     0.46446,     0.46547,     0.46647,     0.46747,     0.46847,     0.46947,     0.47047,     0.47147,     0.47247,     0.47347,     0.47447,     0.47548,     0.47648,     0.47748,     0.47848,     0.47948,\n",
       "           0.48048,     0.48148,     0.48248,     0.48348,     0.48448,     0.48549,     0.48649,     0.48749,     0.48849,     0.48949,     0.49049,     0.49149,     0.49249,     0.49349,     0.49449,      0.4955,      0.4965,      0.4975,      0.4985,      0.4995,      0.5005,      0.5015,      0.5025,      0.5035,\n",
       "            0.5045,     0.50551,     0.50651,     0.50751,     0.50851,     0.50951,     0.51051,     0.51151,     0.51251,     0.51351,     0.51451,     0.51552,     0.51652,     0.51752,     0.51852,     0.51952,     0.52052,     0.52152,     0.52252,     0.52352,     0.52452,     0.52553,     0.52653,     0.52753,\n",
       "           0.52853,     0.52953,     0.53053,     0.53153,     0.53253,     0.53353,     0.53453,     0.53554,     0.53654,     0.53754,     0.53854,     0.53954,     0.54054,     0.54154,     0.54254,     0.54354,     0.54454,     0.54555,     0.54655,     0.54755,     0.54855,     0.54955,     0.55055,     0.55155,\n",
       "           0.55255,     0.55355,     0.55455,     0.55556,     0.55656,     0.55756,     0.55856,     0.55956,     0.56056,     0.56156,     0.56256,     0.56356,     0.56456,     0.56557,     0.56657,     0.56757,     0.56857,     0.56957,     0.57057,     0.57157,     0.57257,     0.57357,     0.57457,     0.57558,\n",
       "           0.57658,     0.57758,     0.57858,     0.57958,     0.58058,     0.58158,     0.58258,     0.58358,     0.58458,     0.58559,     0.58659,     0.58759,     0.58859,     0.58959,     0.59059,     0.59159,     0.59259,     0.59359,     0.59459,      0.5956,      0.5966,      0.5976,      0.5986,      0.5996,\n",
       "            0.6006,      0.6016,      0.6026,      0.6036,      0.6046,     0.60561,     0.60661,     0.60761,     0.60861,     0.60961,     0.61061,     0.61161,     0.61261,     0.61361,     0.61461,     0.61562,     0.61662,     0.61762,     0.61862,     0.61962,     0.62062,     0.62162,     0.62262,     0.62362,\n",
       "           0.62462,     0.62563,     0.62663,     0.62763,     0.62863,     0.62963,     0.63063,     0.63163,     0.63263,     0.63363,     0.63463,     0.63564,     0.63664,     0.63764,     0.63864,     0.63964,     0.64064,     0.64164,     0.64264,     0.64364,     0.64464,     0.64565,     0.64665,     0.64765,\n",
       "           0.64865,     0.64965,     0.65065,     0.65165,     0.65265,     0.65365,     0.65465,     0.65566,     0.65666,     0.65766,     0.65866,     0.65966,     0.66066,     0.66166,     0.66266,     0.66366,     0.66466,     0.66567,     0.66667,     0.66767,     0.66867,     0.66967,     0.67067,     0.67167,\n",
       "           0.67267,     0.67367,     0.67467,     0.67568,     0.67668,     0.67768,     0.67868,     0.67968,     0.68068,     0.68168,     0.68268,     0.68368,     0.68468,     0.68569,     0.68669,     0.68769,     0.68869,     0.68969,     0.69069,     0.69169,     0.69269,     0.69369,     0.69469,      0.6957,\n",
       "            0.6967,      0.6977,      0.6987,      0.6997,      0.7007,      0.7017,      0.7027,      0.7037,      0.7047,     0.70571,     0.70671,     0.70771,     0.70871,     0.70971,     0.71071,     0.71171,     0.71271,     0.71371,     0.71471,     0.71572,     0.71672,     0.71772,     0.71872,     0.71972,\n",
       "           0.72072,     0.72172,     0.72272,     0.72372,     0.72472,     0.72573,     0.72673,     0.72773,     0.72873,     0.72973,     0.73073,     0.73173,     0.73273,     0.73373,     0.73473,     0.73574,     0.73674,     0.73774,     0.73874,     0.73974,     0.74074,     0.74174,     0.74274,     0.74374,\n",
       "           0.74474,     0.74575,     0.74675,     0.74775,     0.74875,     0.74975,     0.75075,     0.75175,     0.75275,     0.75375,     0.75475,     0.75576,     0.75676,     0.75776,     0.75876,     0.75976,     0.76076,     0.76176,     0.76276,     0.76376,     0.76476,     0.76577,     0.76677,     0.76777,\n",
       "           0.76877,     0.76977,     0.77077,     0.77177,     0.77277,     0.77377,     0.77477,     0.77578,     0.77678,     0.77778,     0.77878,     0.77978,     0.78078,     0.78178,     0.78278,     0.78378,     0.78478,     0.78579,     0.78679,     0.78779,     0.78879,     0.78979,     0.79079,     0.79179,\n",
       "           0.79279,     0.79379,     0.79479,      0.7958,      0.7968,      0.7978,      0.7988,      0.7998,      0.8008,      0.8018,      0.8028,      0.8038,      0.8048,     0.80581,     0.80681,     0.80781,     0.80881,     0.80981,     0.81081,     0.81181,     0.81281,     0.81381,     0.81481,     0.81582,\n",
       "           0.81682,     0.81782,     0.81882,     0.81982,     0.82082,     0.82182,     0.82282,     0.82382,     0.82482,     0.82583,     0.82683,     0.82783,     0.82883,     0.82983,     0.83083,     0.83183,     0.83283,     0.83383,     0.83483,     0.83584,     0.83684,     0.83784,     0.83884,     0.83984,\n",
       "           0.84084,     0.84184,     0.84284,     0.84384,     0.84484,     0.84585,     0.84685,     0.84785,     0.84885,     0.84985,     0.85085,     0.85185,     0.85285,     0.85385,     0.85485,     0.85586,     0.85686,     0.85786,     0.85886,     0.85986,     0.86086,     0.86186,     0.86286,     0.86386,\n",
       "           0.86486,     0.86587,     0.86687,     0.86787,     0.86887,     0.86987,     0.87087,     0.87187,     0.87287,     0.87387,     0.87487,     0.87588,     0.87688,     0.87788,     0.87888,     0.87988,     0.88088,     0.88188,     0.88288,     0.88388,     0.88488,     0.88589,     0.88689,     0.88789,\n",
       "           0.88889,     0.88989,     0.89089,     0.89189,     0.89289,     0.89389,     0.89489,      0.8959,      0.8969,      0.8979,      0.8989,      0.8999,      0.9009,      0.9019,      0.9029,      0.9039,      0.9049,     0.90591,     0.90691,     0.90791,     0.90891,     0.90991,     0.91091,     0.91191,\n",
       "           0.91291,     0.91391,     0.91491,     0.91592,     0.91692,     0.91792,     0.91892,     0.91992,     0.92092,     0.92192,     0.92292,     0.92392,     0.92492,     0.92593,     0.92693,     0.92793,     0.92893,     0.92993,     0.93093,     0.93193,     0.93293,     0.93393,     0.93493,     0.93594,\n",
       "           0.93694,     0.93794,     0.93894,     0.93994,     0.94094,     0.94194,     0.94294,     0.94394,     0.94494,     0.94595,     0.94695,     0.94795,     0.94895,     0.94995,     0.95095,     0.95195,     0.95295,     0.95395,     0.95495,     0.95596,     0.95696,     0.95796,     0.95896,     0.95996,\n",
       "           0.96096,     0.96196,     0.96296,     0.96396,     0.96496,     0.96597,     0.96697,     0.96797,     0.96897,     0.96997,     0.97097,     0.97197,     0.97297,     0.97397,     0.97497,     0.97598,     0.97698,     0.97798,     0.97898,     0.97998,     0.98098,     0.98198,     0.98298,     0.98398,\n",
       "           0.98498,     0.98599,     0.98699,     0.98799,     0.98899,     0.98999,     0.99099,     0.99199,     0.99299,     0.99399,     0.99499,       0.996,       0.997,       0.998,       0.999,           1]), array([[    0.99444,     0.99444,     0.99261, ...,           0,           0,           0],\n",
       "       [    0.99364,     0.99364,     0.99171, ...,           0,           0,           0],\n",
       "       [    0.94853,     0.94853,     0.93382, ...,           0,           0,           0],\n",
       "       ...,\n",
       "       [    0.98923,     0.98923,     0.98666, ...,           0,           0,           0],\n",
       "       [     0.9958,      0.9958,     0.99393, ...,           0,           0,           0],\n",
       "       [    0.92466,     0.92466,     0.86986, ...,           0,           0,           0]]), 'Confidence', 'Recall']]\n",
       "fitness: 0.5372179392718738\n",
       "keys: ['metrics/precision(B)', 'metrics/recall(B)', 'metrics/mAP50(B)', 'metrics/mAP50-95(B)']\n",
       "maps: array([    0.62895,     0.66004,     0.35916,     0.52144,     0.51437,     0.55451,     0.70711,     0.51437,     0.16939])\n",
       "names: {0: 'Rickshaw', 1: 'Bus', 2: 'Truck', 3: 'Bike', 4: 'Mini-truck', 5: 'People', 6: 'Car', 7: 'CNG', 8: 'Cycle'}\n",
       "nt_per_class: array([12049, 10374,   272,  3214,     0,  7796, 12849,     0,   146])\n",
       "nt_per_image: array([3895, 3873,  245, 2109,    0, 2895, 4295,    0,  138])\n",
       "results_dict: {'metrics/precision(B)': 0.671243242110602, 'metrics/recall(B)': 0.7126588468494789, 'metrics/mAP50(B)': 0.7428219971586804, 'metrics/mAP50-95(B)': 0.5143730439511175, 'fitness': 0.5372179392718738}\n",
       "save_dir: PosixPath('/kaggle/working/base_yolov12/train')\n",
       "speed: {'preprocess': 0.1415970511118603, 'inference': 5.170112649001295, 'loss': 0.0003789419252002551, 'postprocess': 1.2854513850063332}\n",
       "stats: {'tp': [], 'conf': [], 'pred_cls': [], 'target_cls': [], 'target_img': []}\n",
       "task: 'detect'"
      ]
     },
     "execution_count": 3,
     "metadata": {},
     "output_type": "execute_result"
    }
   ],
   "source": [
    "# ============================================================\n",
    "# 2. Train YOLOv12 baseline (outputs in custom folder)\n",
    "# ============================================================\n",
    "model = YOLO(\"yolo12s.pt\")  # baseline small version\n",
    "model.train(\n",
    "    data=str(DATA),\n",
    "    epochs=50,        # increase if resources allow\n",
    "    imgsz=640,\n",
    "    batch=16,\n",
    "    workers=2,\n",
    "    project=str(OUTPUT_FOLDER),  # <- save all outputs here\n",
    "    name=\"train\"                 # <- folder name inside project\n",
    ")\n"
   ]
  },
  {
   "cell_type": "markdown",
   "id": "04e8c6ce",
   "metadata": {
    "papermill": {
     "duration": 5.12211,
     "end_time": "2025-08-24T12:44:48.209825",
     "exception": false,
     "start_time": "2025-08-24T12:44:43.087715",
     "status": "completed"
    },
    "tags": []
   },
   "source": [
    "**Evaluate**"
   ]
  },
  {
   "cell_type": "code",
   "execution_count": 4,
   "id": "c7aad31c",
   "metadata": {
    "execution": {
     "iopub.execute_input": "2025-08-24T12:44:58.170231Z",
     "iopub.status.busy": "2025-08-24T12:44:58.169340Z",
     "iopub.status.idle": "2025-08-24T12:45:37.239290Z",
     "shell.execute_reply": "2025-08-24T12:45:37.238483Z"
    },
    "papermill": {
     "duration": 44.205086,
     "end_time": "2025-08-24T12:45:37.240540",
     "exception": false,
     "start_time": "2025-08-24T12:44:53.035454",
     "status": "completed"
    },
    "tags": []
   },
   "outputs": [
    {
     "name": "stdout",
     "output_type": "stream",
     "text": [
      "Ultralytics 8.3.184 🚀 Python-3.11.13 torch-2.6.0+cu124 CUDA:0 (Tesla T4, 15095MiB)\n",
      "YOLOv12s summary (fused): 159 layers, 9,234,363 parameters, 0 gradients, 21.2 GFLOPs\n",
      "\u001b[34m\u001b[1mval: \u001b[0mFast image access ✅ (ping: 0.0±0.0 ms, read: 1315.3±307.4 MB/s, size: 62.6 KB)\n"
     ]
    },
    {
     "name": "stderr",
     "output_type": "stream",
     "text": [
      "\u001b[34m\u001b[1mval: \u001b[0mScanning /kaggle/working/traffic_baseline/yolo_split/test/labels... 2369 images, 7 backgrounds, 0 corrupt: 100%|██████████| 2369/2369 [00:01<00:00, 1422.05it/s]"
     ]
    },
    {
     "name": "stdout",
     "output_type": "stream",
     "text": [
      "\u001b[34m\u001b[1mval: \u001b[0mNew cache created: /kaggle/working/traffic_baseline/yolo_split/test/labels.cache\n"
     ]
    },
    {
     "name": "stderr",
     "output_type": "stream",
     "text": [
      "\n",
      "                 Class     Images  Instances      Box(P          R      mAP50  mAP50-95): 100%|██████████| 149/149 [00:33<00:00,  4.40it/s]\n",
      "/usr/local/lib/python3.11/dist-packages/matplotlib/colors.py:721: RuntimeWarning: invalid value encountered in less\n",
      "  xa[xa < 0] = -1\n",
      "/usr/local/lib/python3.11/dist-packages/matplotlib/colors.py:721: RuntimeWarning: invalid value encountered in less\n",
      "  xa[xa < 0] = -1\n"
     ]
    },
    {
     "name": "stdout",
     "output_type": "stream",
     "text": [
      "                   all       2369      23130       0.66      0.713      0.745      0.516\n",
      "              Rickshaw       1923       5972      0.776      0.868      0.907      0.633\n",
      "                   Bus       1969       5281      0.776      0.876      0.901      0.665\n",
      "                 Truck        111        123      0.455      0.475      0.515      0.406\n",
      "                  Bike       1037       1527      0.712      0.807      0.833      0.515\n",
      "                People       1485       3872      0.748      0.825      0.866      0.557\n",
      "                   Car       2124       6271      0.804      0.903      0.931      0.703\n",
      "                 Cycle         82         84       0.35      0.238      0.262      0.133\n",
      "Speed: 0.2ms preprocess, 10.3ms inference, 0.0ms loss, 1.2ms postprocess per image\n",
      "Results saved to \u001b[1m/kaggle/working/base_yolov12/val\u001b[0m\n",
      "mAP@0.5     : 0.7451543401025381\n",
      "mAP@[.5:.95]: 0.516012399858971\n",
      "Precision   : 0.6599287647825518\n",
      "Recall      : 0.7131963459623197\n"
     ]
    }
   ],
   "source": [
    "# ============================================================\n",
    "# 3. Evaluate on test set + generate plots (outputs in same folder)\n",
    "# ============================================================\n",
    "metrics = model.val(\n",
    "    data=str(DATA),\n",
    "    split=\"test\",\n",
    "    plots=True,\n",
    "    project=str(OUTPUT_FOLDER),  # <- same output folder\n",
    "    name=\"val\"\n",
    ")\n",
    "\n",
    "print(\"mAP@0.5     :\", metrics.box.map50)\n",
    "print(\"mAP@[.5:.95]:\", metrics.box.map)\n",
    "print(\"Precision   :\", metrics.box.mp)\n",
    "print(\"Recall      :\", metrics.box.mr)"
   ]
  },
  {
   "cell_type": "code",
   "execution_count": 5,
   "id": "2879f009",
   "metadata": {
    "execution": {
     "iopub.execute_input": "2025-08-24T12:45:47.147930Z",
     "iopub.status.busy": "2025-08-24T12:45:47.147132Z",
     "iopub.status.idle": "2025-08-24T12:45:47.786095Z",
     "shell.execute_reply": "2025-08-24T12:45:47.785097Z"
    },
    "papermill": {
     "duration": 5.504919,
     "end_time": "2025-08-24T12:45:47.787532",
     "exception": false,
     "start_time": "2025-08-24T12:45:42.282613",
     "status": "completed"
    },
    "tags": []
   },
   "outputs": [
    {
     "data": {
      "image/png": "[encoded data removed]",
      "text/plain": [
       "<Figure size 800x600 with 1 Axes>"
      ]
     },
     "metadata": {},
     "output_type": "display_data"
    }
   ],
   "source": [
    "# ============================================================\n",
    "# 4. Visualize PR curve from custom folder\n",
    "# ============================================================\n",
    "pr_curve_file = list((OUTPUT_FOLDER/\"val\").glob(\"*PR_curve*.png\"))[0]\n",
    "img = mpimg.imread(pr_curve_file)\n",
    "plt.figure(figsize=(8,6))\n",
    "plt.imshow(img)\n",
    "plt.axis('off')\n",
    "plt.show()"
   ]
  },
  {
   "cell_type": "code",
   "execution_count": 6,
   "id": "817968cc",
   "metadata": {
    "execution": {
     "iopub.execute_input": "2025-08-24T12:45:57.775818Z",
     "iopub.status.busy": "2025-08-24T12:45:57.775062Z",
     "iopub.status.idle": "2025-08-24T12:45:58.383360Z",
     "shell.execute_reply": "2025-08-24T12:45:58.382341Z"
    },
    "papermill": {
     "duration": 5.526453,
     "end_time": "2025-08-24T12:45:58.385187",
     "exception": false,
     "start_time": "2025-08-24T12:45:52.858734",
     "status": "completed"
    },
    "tags": []
   },
   "outputs": [
    {
     "data": {
      "image/png": "[encoded data removed]",
      "text/plain": [
       "<Figure size 800x600 with 1 Axes>"
      ]
     },
     "metadata": {},
     "output_type": "display_data"
    }
   ],
   "source": [
    "# ============================================================\n",
    "# 5. Visualize PR curve from train folder\n",
    "# ============================================================\n",
    "box_pr_curve_file = list((OUTPUT_FOLDER/\"train\").glob(\"*BoxPR_curve*.png\"))[0]\n",
    "img = mpimg.imread(box_pr_curve_file)\n",
    "plt.figure(figsize=(8,6))\n",
    "plt.imshow(img)\n",
    "plt.axis('off')\n",
    "plt.show()"
   ]
  },
  {
   "cell_type": "code",
   "execution_count": 7,
   "id": "2dccdb9a",
   "metadata": {
    "execution": {
     "iopub.execute_input": "2025-08-24T12:46:08.505577Z",
     "iopub.status.busy": "2025-08-24T12:46:08.504936Z",
     "iopub.status.idle": "2025-08-24T12:46:47.314722Z",
     "shell.execute_reply": "2025-08-24T12:46:47.313891Z"
    },
    "papermill": {
     "duration": 48.778074,
     "end_time": "2025-08-24T12:46:52.200308",
     "exception": false,
     "start_time": "2025-08-24T12:46:03.422234",
     "status": "completed"
    },
    "tags": []
   },
   "outputs": [
    {
     "name": "stdout",
     "output_type": "stream",
     "text": [
      "WARNING ⚠️ \n",
      "inference results will accumulate in RAM unless `stream=True` is passed, causing potential out-of-memory\n",
      "errors for large sources or long-running streams and videos. See https://docs.ultralytics.com/modes/predict/ for help.\n",
      "\n",
      "Example:\n",
      "    results = model(source=..., stream=True)  # generator of Results objects\n",
      "    for r in results:\n",
      "        boxes = r.boxes  # Boxes object for bbox outputs\n",
      "        masks = r.masks  # Masks object for segment masks outputs\n",
      "        probs = r.probs  # Class probabilities for classification outputs\n",
      "\n",
      "FPS ≈ 19.140293064284624\n"
     ]
    }
   ],
   "source": [
    "# ============================================================\n",
    "# 6. Model speed / latency (FPS)\n",
    "# ============================================================\n",
    "results = model(str(SPLIT/\"test/images\"), device=0, imgsz=640, verbose=False)\n",
    "fps = 1000.0 / results[0].speed['inference']\n",
    "print(\"FPS ≈\", fps)\n",
    "\n"
   ]
  },
  {
   "cell_type": "code",
   "execution_count": 8,
   "id": "9dfdab6a",
   "metadata": {
    "execution": {
     "iopub.execute_input": "2025-08-24T12:47:02.349654Z",
     "iopub.status.busy": "2025-08-24T12:47:02.349328Z",
     "iopub.status.idle": "2025-08-24T12:48:23.205409Z",
     "shell.execute_reply": "2025-08-24T12:48:23.204653Z"
    },
    "papermill": {
     "duration": 90.876558,
     "end_time": "2025-08-24T12:48:28.284849",
     "exception": false,
     "start_time": "2025-08-24T12:46:57.408291",
     "status": "completed"
    },
    "tags": []
   },
   "outputs": [
    {
     "name": "stdout",
     "output_type": "stream",
     "text": [
      "Ultralytics 8.3.184 🚀 Python-3.11.13 torch-2.6.0+cu124 CUDA:0 (Tesla T4, 15095MiB)\n",
      "YOLOv12s summary (fused): 159 layers, 9,234,363 parameters, 0 gradients, 21.2 GFLOPs\n",
      "\u001b[34m\u001b[1mval: \u001b[0mFast image access ✅ (ping: 0.0±0.0 ms, read: 1345.5±453.2 MB/s, size: 60.9 KB)\n"
     ]
    },
    {
     "name": "stderr",
     "output_type": "stream",
     "text": [
      "\u001b[34m\u001b[1mval: \u001b[0mScanning /kaggle/working/traffic_baseline/yolo_split/test/labels.cache... 2369 images, 7 backgrounds, 0 corrupt: 100%|██████████| 2369/2369 [00:00<?, ?it/s]\n",
      "                 Class     Images  Instances      Box(P          R      mAP50  mAP50-95): 100%|██████████| 149/149 [00:33<00:00,  4.50it/s]\n",
      "/usr/local/lib/python3.11/dist-packages/matplotlib/colors.py:721: RuntimeWarning: invalid value encountered in less\n",
      "  xa[xa < 0] = -1\n",
      "/usr/local/lib/python3.11/dist-packages/matplotlib/colors.py:721: RuntimeWarning: invalid value encountered in less\n",
      "  xa[xa < 0] = -1\n"
     ]
    },
    {
     "name": "stdout",
     "output_type": "stream",
     "text": [
      "                   all       2369      23130       0.66      0.713      0.745      0.516\n",
      "              Rickshaw       1923       5972      0.776      0.868      0.907      0.633\n",
      "                   Bus       1969       5281      0.776      0.876      0.901      0.665\n",
      "                 Truck        111        123      0.455      0.475      0.515      0.406\n",
      "                  Bike       1037       1527      0.712      0.807      0.833      0.515\n",
      "                People       1485       3872      0.748      0.825      0.866      0.557\n",
      "                   Car       2124       6271      0.804      0.903      0.931      0.703\n",
      "                 Cycle         82         84       0.35      0.238      0.262      0.133\n",
      "Speed: 0.3ms preprocess, 10.1ms inference, 0.0ms loss, 0.9ms postprocess per image\n",
      "Results saved to \u001b[1m/kaggle/working/base_yolov12/val2\u001b[0m\n",
      "mAP@0.5     : 0.7451543401025381\n",
      "mAP@[.5:.95]: 0.516012399858971\n",
      "Precision   : 0.6599287647825518\n",
      "Recall      : 0.7131963459623197\n",
      "WARNING ⚠️ \n",
      "inference results will accumulate in RAM unless `stream=True` is passed, causing potential out-of-memory\n",
      "errors for large sources or long-running streams and videos. See https://docs.ultralytics.com/modes/predict/ for help.\n",
      "\n",
      "Example:\n",
      "    results = model(source=..., stream=True)  # generator of Results objects\n",
      "    for r in results:\n",
      "        boxes = r.boxes  # Boxes object for bbox outputs\n",
      "        masks = r.masks  # Masks object for segment masks outputs\n",
      "        probs = r.probs  # Class probabilities for classification outputs\n",
      "\n",
      "FPS ≈ 56.15300795812768\n",
      "layer                                    name                type  gradient  parameters               shape        mu     sigma\n",
      "    0                     model.0.conv.weight              Conv2d     False         864       [32, 3, 3, 3]    -0.105      10.9        float32\n",
      "    0                       model.0.conv.bias              Conv2d     False          32                [32]      1.44      2.49        float32\n",
      "    1                             model.0.act                SiLU     False           0                  []         -         -              -\n",
      "    2                     model.1.conv.weight              Conv2d     False       18432      [64, 32, 3, 3]  -0.00174    0.0474        float32\n",
      "    2                       model.1.conv.bias              Conv2d     False          64                [64]      1.24      1.43        float32\n",
      "    3                 model.2.cv1.conv.weight              Conv2d     False        4096      [64, 64, 1, 1]   -0.0107    0.0845        float32\n",
      "    3                   model.2.cv1.conv.bias              Conv2d     False          64                [64]      1.29     0.754        float32\n",
      "    4                 model.2.cv2.conv.weight              Conv2d     False       12288     [128, 96, 1, 1]   -0.0118     0.123        float32\n",
      "    4                   model.2.cv2.conv.bias              Conv2d     False         128               [128]      1.04      1.83        float32\n",
      "    5             model.2.m.0.cv1.conv.weight              Conv2d     False        4608      [16, 32, 3, 3]  -0.00314    0.0822        float32\n",
      "    5               model.2.m.0.cv1.conv.bias              Conv2d     False          16                [16]      2.79      1.37        float32\n",
      "    6             model.2.m.0.cv2.conv.weight              Conv2d     False        4608      [32, 16, 3, 3]  -0.00113      0.11        float32\n",
      "    6               model.2.m.0.cv2.conv.bias              Conv2d     False          32                [32]      1.31      1.59        float32\n",
      "    7                     model.3.conv.weight              Conv2d     False      147456    [128, 128, 3, 3]  -0.00106    0.0239        float32\n",
      "    7                       model.3.conv.bias              Conv2d     False         128               [128]   -0.0789     0.761        float32\n",
      "    8                 model.4.cv1.conv.weight              Conv2d     False       16384    [128, 128, 1, 1]  -0.00781     0.108        float32\n",
      "    8                   model.4.cv1.conv.bias              Conv2d     False         128               [128]    0.0879     0.852        float32\n",
      "    9                 model.4.cv2.conv.weight              Conv2d     False       49152    [256, 192, 1, 1]   -0.0117    0.0962        float32\n",
      "    9                   model.4.cv2.conv.bias              Conv2d     False         256               [256]   -0.0711     0.838        float32\n",
      "   10             model.4.m.0.cv1.conv.weight              Conv2d     False       18432      [32, 64, 3, 3]  -0.00587    0.0607        float32\n",
      "   10               model.4.m.0.cv1.conv.bias              Conv2d     False          32                [32]     0.819     0.633        float32\n",
      "   11             model.4.m.0.cv2.conv.weight              Conv2d     False       18432      [64, 32, 3, 3]  -0.00559     0.103        float32\n",
      "   11               model.4.m.0.cv2.conv.bias              Conv2d     False          64                [64]     0.168     0.921        float32\n",
      "   12                     model.5.conv.weight              Conv2d     False      589824    [256, 256, 3, 3]  -0.00104    0.0224        float32\n",
      "   12                       model.5.conv.bias              Conv2d     False         256               [256]    -0.624     0.877        float32\n",
      "   13                 model.6.cv1.conv.weight              Conv2d     False       32768    [128, 256, 1, 1]   -0.0133     0.144        float32\n",
      "   13                   model.6.cv1.conv.bias              Conv2d     False         128               [128]     0.975      0.73        float32\n",
      "   14                 model.6.cv2.conv.weight              Conv2d     False       98304    [256, 384, 1, 1] -0.000476    0.0158        float32\n",
      "   14                   model.6.cv2.conv.bias              Conv2d     False         256               [256]    -0.802     0.661        float32\n",
      "   15      model.6.m.0.0.attn.qkv.conv.weight              Conv2d     False       49152    [384, 128, 1, 1] -0.000473    0.0374        float32\n",
      "   15        model.6.m.0.0.attn.qkv.conv.bias              Conv2d     False         384               [384]    0.0229     0.643        float32\n",
      "   16              model.6.m.0.0.attn.qkv.act            Identity     False           0                  []         -         -              -\n",
      "   17     model.6.m.0.0.attn.proj.conv.weight              Conv2d     False       16384    [128, 128, 1, 1]  0.000641    0.0469        float32\n",
      "   17       model.6.m.0.0.attn.proj.conv.bias              Conv2d     False         128               [128]    0.0166     0.134        float32\n",
      "   18             model.6.m.0.0.attn.proj.act            Identity     False           0                  []         -         -              -\n",
      "   19       model.6.m.0.0.attn.pe.conv.weight              Conv2d     False        6272      [128, 1, 7, 7]  -0.00311      0.28        float32\n",
      "   19         model.6.m.0.0.attn.pe.conv.bias              Conv2d     False         128               [128]   -0.0311     0.668        float32\n",
      "   20               model.6.m.0.0.attn.pe.act            Identity     False           0                  []         -         -              -\n",
      "   21         model.6.m.0.0.mlp.0.conv.weight              Conv2d     False       32768    [256, 128, 1, 1]  -0.00666    0.0458        float32\n",
      "   21           model.6.m.0.0.mlp.0.conv.bias              Conv2d     False         256               [256]    -0.381     0.571        float32\n",
      "   22         model.6.m.0.0.mlp.1.conv.weight              Conv2d     False       32768    [128, 256, 1, 1]   0.00644     0.105        float32\n",
      "   22           model.6.m.0.0.mlp.1.conv.bias              Conv2d     False         128               [128]     0.148      0.42        float32\n",
      "   23                 model.6.m.0.0.mlp.1.act            Identity     False           0                  []         -         -              -\n",
      "   24      model.6.m.0.1.attn.qkv.conv.weight              Conv2d     False       49152    [384, 128, 1, 1]  0.000232    0.0509        float32\n",
      "   24        model.6.m.0.1.attn.qkv.conv.bias              Conv2d     False         384               [384]   -0.0112     0.708        float32\n",
      "   25              model.6.m.0.1.attn.qkv.act            Identity     False           0                  []         -         -              -\n",
      "   26     model.6.m.0.1.attn.proj.conv.weight              Conv2d     False       16384    [128, 128, 1, 1] -0.000158    0.0359        float32\n",
      "   26       model.6.m.0.1.attn.proj.conv.bias              Conv2d     False         128               [128]  -0.00941     0.143        float32\n",
      "   27             model.6.m.0.1.attn.proj.act            Identity     False           0                  []         -         -              -\n",
      "   28       model.6.m.0.1.attn.pe.conv.weight              Conv2d     False        6272      [128, 1, 7, 7]   -0.0104      0.11        float32\n",
      "   28         model.6.m.0.1.attn.pe.conv.bias              Conv2d     False         128               [128]   -0.0626     0.761        float32\n",
      "   29               model.6.m.0.1.attn.pe.act            Identity     False           0                  []         -         -              -\n",
      "   30         model.6.m.0.1.mlp.0.conv.weight              Conv2d     False       32768    [256, 128, 1, 1]  -0.00613    0.0458        float32\n",
      "   30           model.6.m.0.1.mlp.0.conv.bias              Conv2d     False         256               [256]     -0.64     0.474        float32\n",
      "   31         model.6.m.0.1.mlp.1.conv.weight              Conv2d     False       32768    [128, 256, 1, 1]   0.00503     0.143        float32\n",
      "   31           model.6.m.0.1.mlp.1.conv.bias              Conv2d     False         128               [128]     0.166     0.457        float32\n",
      "   32                 model.6.m.0.1.mlp.1.act            Identity     False           0                  []         -         -              -\n",
      "   33      model.6.m.1.0.attn.qkv.conv.weight              Conv2d     False       49152    [384, 128, 1, 1] -0.000127    0.0428        float32\n",
      "   33        model.6.m.1.0.attn.qkv.conv.bias              Conv2d     False         384               [384]    0.0143     0.511        float32\n",
      "   34              model.6.m.1.0.attn.qkv.act            Identity     False           0                  []         -         -              -\n",
      "   35     model.6.m.1.0.attn.proj.conv.weight              Conv2d     False       16384    [128, 128, 1, 1]  0.000496    0.0556        float32\n",
      "   35       model.6.m.1.0.attn.proj.conv.bias              Conv2d     False         128               [128]  -0.00377    0.0872        float32\n",
      "   36             model.6.m.1.0.attn.proj.act            Identity     False           0                  []         -         -              -\n",
      "   37       model.6.m.1.0.attn.pe.conv.weight              Conv2d     False        6272      [128, 1, 7, 7]   -0.0111     0.187        float32\n",
      "   37         model.6.m.1.0.attn.pe.conv.bias              Conv2d     False         128               [128]    0.0286      0.13        float32\n",
      "   38               model.6.m.1.0.attn.pe.act            Identity     False           0                  []         -         -              -\n",
      "   39         model.6.m.1.0.mlp.0.conv.weight              Conv2d     False       32768    [256, 128, 1, 1]  -0.00461    0.0396        float32\n",
      "   39           model.6.m.1.0.mlp.0.conv.bias              Conv2d     False         256               [256]    -0.516     0.449        float32\n",
      "   40         model.6.m.1.0.mlp.1.conv.weight              Conv2d     False       32768    [128, 256, 1, 1]   0.00824     0.171        float32\n",
      "   40           model.6.m.1.0.mlp.1.conv.bias              Conv2d     False         128               [128]     0.214     0.524        float32\n",
      "   41                 model.6.m.1.0.mlp.1.act            Identity     False           0                  []         -         -              -\n",
      "   42      model.6.m.1.1.attn.qkv.conv.weight              Conv2d     False       49152    [384, 128, 1, 1]  2.49e-05    0.0405        float32\n",
      "   42        model.6.m.1.1.attn.qkv.conv.bias              Conv2d     False         384               [384]    0.0094     0.564        float32\n",
      "   43              model.6.m.1.1.attn.qkv.act            Identity     False           0                  []         -         -              -\n",
      "   44     model.6.m.1.1.attn.proj.conv.weight              Conv2d     False       16384    [128, 128, 1, 1]  0.000255    0.0747        float32\n",
      "   44       model.6.m.1.1.attn.proj.conv.bias              Conv2d     False         128               [128]    -0.011     0.118        float32\n",
      "   45             model.6.m.1.1.attn.proj.act            Identity     False           0                  []         -         -              -\n",
      "   46       model.6.m.1.1.attn.pe.conv.weight              Conv2d     False        6272      [128, 1, 7, 7]   -0.0152     0.176        float32\n",
      "   46         model.6.m.1.1.attn.pe.conv.bias              Conv2d     False         128               [128]     0.014     0.203        float32\n",
      "   47               model.6.m.1.1.attn.pe.act            Identity     False           0                  []         -         -              -\n",
      "   48         model.6.m.1.1.mlp.0.conv.weight              Conv2d     False       32768    [256, 128, 1, 1]  -0.00266    0.0315        float32\n",
      "   48           model.6.m.1.1.mlp.0.conv.bias              Conv2d     False         256               [256]    -0.726     0.318        float32\n",
      "   49         model.6.m.1.1.mlp.1.conv.weight              Conv2d     False       32768    [128, 256, 1, 1]   0.00458     0.251        float32\n",
      "   49           model.6.m.1.1.mlp.1.conv.bias              Conv2d     False         128               [128]    0.0943     0.765        float32\n",
      "   50                 model.6.m.1.1.mlp.1.act            Identity     False           0                  []         -         -              -\n",
      "   51                     model.7.conv.weight              Conv2d     False 1.17965e+06    [512, 256, 3, 3]  -0.00218    0.0275        float32\n",
      "   51                       model.7.conv.bias              Conv2d     False         512               [512]     -1.05     0.616        float32\n",
      "   52                 model.8.cv1.conv.weight              Conv2d     False      131072    [256, 512, 1, 1]   -0.0171     0.102        float32\n",
      "   52                   model.8.cv1.conv.bias              Conv2d     False         256               [256]    -0.303      0.46        float32\n",
      "   53                 model.8.cv2.conv.weight              Conv2d     False      393216    [512, 768, 1, 1] -0.000466   0.00977        float32\n",
      "   53                   model.8.cv2.conv.bias              Conv2d     False         512               [512]    -0.733     0.237        float32\n",
      "   54      model.8.m.0.0.attn.qkv.conv.weight              Conv2d     False      196608    [768, 256, 1, 1]  -0.00016    0.0297        float32\n",
      "   54        model.8.m.0.0.attn.qkv.conv.bias              Conv2d     False         768               [768]   0.00462     0.335        float32\n",
      "   55              model.8.m.0.0.attn.qkv.act            Identity     False           0                  []         -         -              -\n",
      "   56     model.8.m.0.0.attn.proj.conv.weight              Conv2d     False       65536    [256, 256, 1, 1] -0.000143    0.0248        float32\n",
      "   56       model.8.m.0.0.attn.proj.conv.bias              Conv2d     False         256               [256] -0.000738     0.109        float32\n",
      "   57             model.8.m.0.0.attn.proj.act            Identity     False           0                  []         -         -              -\n",
      "   58       model.8.m.0.0.attn.pe.conv.weight              Conv2d     False       12544      [256, 1, 7, 7]   -0.0127     0.158        float32\n",
      "   58         model.8.m.0.0.attn.pe.conv.bias              Conv2d     False         256               [256]   -0.0765     0.766        float32\n",
      "   59               model.8.m.0.0.attn.pe.act            Identity     False           0                  []         -         -              -\n",
      "   60         model.8.m.0.0.mlp.0.conv.weight              Conv2d     False      131072    [512, 256, 1, 1]   -0.0062     0.032        float32\n",
      "   60           model.8.m.0.0.mlp.0.conv.bias              Conv2d     False         512               [512]    -0.271      0.24        float32\n",
      "   61         model.8.m.0.0.mlp.1.conv.weight              Conv2d     False      131072    [256, 512, 1, 1]   0.00392    0.0357        float32\n",
      "   61           model.8.m.0.0.mlp.1.conv.bias              Conv2d     False         256               [256]   -0.0248     0.118        float32\n",
      "   62                 model.8.m.0.0.mlp.1.act            Identity     False           0                  []         -         -              -\n",
      "   63      model.8.m.0.1.attn.qkv.conv.weight              Conv2d     False      196608    [768, 256, 1, 1]  2.24e-05    0.0299        float32\n",
      "   63        model.8.m.0.1.attn.qkv.conv.bias              Conv2d     False         768               [768]   0.00207     0.267        float32\n",
      "   64              model.8.m.0.1.attn.qkv.act            Identity     False           0                  []         -         -              -\n",
      "   65     model.8.m.0.1.attn.proj.conv.weight              Conv2d     False       65536    [256, 256, 1, 1]  7.19e-05    0.0264        float32\n",
      "   65       model.8.m.0.1.attn.proj.conv.bias              Conv2d     False         256               [256]   -0.0118     0.124        float32\n",
      "   66             model.8.m.0.1.attn.proj.act            Identity     False           0                  []         -         -              -\n",
      "   67       model.8.m.0.1.attn.pe.conv.weight              Conv2d     False       12544      [256, 1, 7, 7]   -0.0143    0.0643        float32\n",
      "   67         model.8.m.0.1.attn.pe.conv.bias              Conv2d     False         256               [256]  -0.00422     0.129        float32\n",
      "   68               model.8.m.0.1.attn.pe.act            Identity     False           0                  []         -         -              -\n",
      "   69         model.8.m.0.1.mlp.0.conv.weight              Conv2d     False      131072    [512, 256, 1, 1]  -0.00188     0.028        float32\n",
      "   69           model.8.m.0.1.mlp.0.conv.bias              Conv2d     False         512               [512]    -0.423     0.224        float32\n",
      "   70         model.8.m.0.1.mlp.1.conv.weight              Conv2d     False      131072    [256, 512, 1, 1]  0.000419     0.029        float32\n",
      "   70           model.8.m.0.1.mlp.1.conv.bias              Conv2d     False         256               [256]  -0.00173     0.163        float32\n",
      "   71                 model.8.m.0.1.mlp.1.act            Identity     False           0                  []         -         -              -\n",
      "   72      model.8.m.1.0.attn.qkv.conv.weight              Conv2d     False      196608    [768, 256, 1, 1]  3.72e-05    0.0271        float32\n",
      "   72        model.8.m.1.0.attn.qkv.conv.bias              Conv2d     False         768               [768]   -0.0103     0.239        float32\n",
      "   73              model.8.m.1.0.attn.qkv.act            Identity     False           0                  []         -         -              -\n",
      "   74     model.8.m.1.0.attn.proj.conv.weight              Conv2d     False       65536    [256, 256, 1, 1] -0.000214    0.0369        float32\n",
      "   74       model.8.m.1.0.attn.proj.conv.bias              Conv2d     False         256               [256]  -0.00761     0.171        float32\n",
      "   75             model.8.m.1.0.attn.proj.act            Identity     False           0                  []         -         -              -\n",
      "   76       model.8.m.1.0.attn.pe.conv.weight              Conv2d     False       12544      [256, 1, 7, 7]   -0.0127    0.0567        float32\n",
      "   76         model.8.m.1.0.attn.pe.conv.bias              Conv2d     False         256               [256]    -0.021     0.203        float32\n",
      "   77               model.8.m.1.0.attn.pe.act            Identity     False           0                  []         -         -              -\n",
      "   78         model.8.m.1.0.mlp.0.conv.weight              Conv2d     False      131072    [512, 256, 1, 1]  -0.00103    0.0248        float32\n",
      "   78           model.8.m.1.0.mlp.0.conv.bias              Conv2d     False         512               [512]    -0.482     0.163        float32\n",
      "   79         model.8.m.1.0.mlp.1.conv.weight              Conv2d     False      131072    [256, 512, 1, 1] -0.000421    0.0583        float32\n",
      "   79           model.8.m.1.0.mlp.1.conv.bias              Conv2d     False         256               [256]   0.00498      0.11        float32\n",
      "   80                 model.8.m.1.0.mlp.1.act            Identity     False           0                  []         -         -              -\n",
      "   81      model.8.m.1.1.attn.qkv.conv.weight              Conv2d     False      196608    [768, 256, 1, 1]  5.67e-05    0.0217        float32\n",
      "   81        model.8.m.1.1.attn.qkv.conv.bias              Conv2d     False         768               [768]  -0.00236     0.183        float32\n",
      "   82              model.8.m.1.1.attn.qkv.act            Identity     False           0                  []         -         -              -\n",
      "   83     model.8.m.1.1.attn.proj.conv.weight              Conv2d     False       65536    [256, 256, 1, 1]  0.000258    0.0544        float32\n",
      "   83       model.8.m.1.1.attn.proj.conv.bias              Conv2d     False         256               [256]   0.00149     0.155        float32\n",
      "   84             model.8.m.1.1.attn.proj.act            Identity     False           0                  []         -         -              -\n",
      "   85       model.8.m.1.1.attn.pe.conv.weight              Conv2d     False       12544      [256, 1, 7, 7]   -0.0134    0.0734        float32\n",
      "   85         model.8.m.1.1.attn.pe.conv.bias              Conv2d     False         256               [256]   0.00182    0.0348        float32\n",
      "   86               model.8.m.1.1.attn.pe.act            Identity     False           0                  []         -         -              -\n",
      "   87         model.8.m.1.1.mlp.0.conv.weight              Conv2d     False      131072    [512, 256, 1, 1] -0.000604    0.0193        float32\n",
      "   87           model.8.m.1.1.mlp.0.conv.bias              Conv2d     False         512               [512]    -0.404     0.119        float32\n",
      "   88         model.8.m.1.1.mlp.1.conv.weight              Conv2d     False      131072    [256, 512, 1, 1]  0.000376    0.0495        float32\n",
      "   88           model.8.m.1.1.mlp.1.conv.bias              Conv2d     False         256               [256]  -0.00516     0.192        float32\n",
      "   89                 model.8.m.1.1.mlp.1.act            Identity     False           0                  []         -         -              -\n",
      "   90                                 model.9            Upsample     False           0                  []         -         -              -\n",
      "   91                                model.10              Concat     False           0                  []         -         -              -\n",
      "   92                model.11.cv1.conv.weight              Conv2d     False       98304    [128, 768, 1, 1]  -0.00401    0.0681        float32\n",
      "   92                  model.11.cv1.conv.bias              Conv2d     False         128               [128]    -0.459     0.943        float32\n",
      "   93                model.11.cv2.conv.weight              Conv2d     False       65536    [256, 256, 1, 1]  -0.00966    0.0794        float32\n",
      "   93                  model.11.cv2.conv.bias              Conv2d     False         256               [256]    -0.188     0.563        float32\n",
      "   94            model.11.m.0.cv1.conv.weight              Conv2d     False        8192     [64, 128, 1, 1]  -0.00832     0.096        float32\n",
      "   94              model.11.m.0.cv1.conv.bias              Conv2d     False          64                [64]    -0.375     0.726        float32\n",
      "   95            model.11.m.0.cv2.conv.weight              Conv2d     False        8192     [64, 128, 1, 1]   -0.0335     0.219        float32\n",
      "   95              model.11.m.0.cv2.conv.bias              Conv2d     False          64                [64]    0.0945     0.985        float32\n",
      "   96            model.11.m.0.cv3.conv.weight              Conv2d     False       16384    [128, 128, 1, 1]   -0.0123    0.0779        float32\n",
      "   96              model.11.m.0.cv3.conv.bias              Conv2d     False         128               [128]     0.212      0.55        float32\n",
      "   97        model.11.m.0.m.0.cv1.conv.weight              Conv2d     False       36864      [64, 64, 3, 3]  -0.00807    0.0892        float32\n",
      "   97          model.11.m.0.m.0.cv1.conv.bias              Conv2d     False          64                [64]     -0.14     0.843        float32\n",
      "   98        model.11.m.0.m.0.cv2.conv.weight              Conv2d     False       36864      [64, 64, 3, 3]  -0.00514    0.0583        float32\n",
      "   98          model.11.m.0.m.0.cv2.conv.bias              Conv2d     False          64                [64]    -0.163     0.423        float32\n",
      "   99        model.11.m.0.m.1.cv1.conv.weight              Conv2d     False       36864      [64, 64, 3, 3]  -0.00486    0.0383        float32\n",
      "   99          model.11.m.0.m.1.cv1.conv.bias              Conv2d     False          64                [64]   -0.0799     0.544        float32\n",
      "  100        model.11.m.0.m.1.cv2.conv.weight              Conv2d     False       36864      [64, 64, 3, 3]  -0.00435    0.0777        float32\n",
      "  100          model.11.m.0.m.1.cv2.conv.bias              Conv2d     False          64                [64]    0.0243     0.514        float32\n",
      "  101                                model.12            Upsample     False           0                  []         -         -              -\n",
      "  102                                model.13              Concat     False           0                  []         -         -              -\n",
      "  103                model.14.cv1.conv.weight              Conv2d     False       32768     [64, 512, 1, 1]  -0.00343    0.0459        float32\n",
      "  103                  model.14.cv1.conv.bias              Conv2d     False          64                [64]    0.0693     0.842        float32\n",
      "  104                model.14.cv2.conv.weight              Conv2d     False       16384    [128, 128, 1, 1]   -0.0125     0.148        float32\n",
      "  104                  model.14.cv2.conv.bias              Conv2d     False         128               [128]    -0.456       0.9        float32\n",
      "  105            model.14.m.0.cv1.conv.weight              Conv2d     False        2048      [32, 64, 1, 1]  -0.00432     0.112        float32\n",
      "  105              model.14.m.0.cv1.conv.bias              Conv2d     False          32                [32]    -0.244     0.648        float32\n",
      "  106            model.14.m.0.cv2.conv.weight              Conv2d     False        2048      [32, 64, 1, 1]   -0.0228     0.435        float32\n",
      "  106              model.14.m.0.cv2.conv.bias              Conv2d     False          32                [32]    -0.325      1.65        float32\n",
      "  107            model.14.m.0.cv3.conv.weight              Conv2d     False        4096      [64, 64, 1, 1]   -0.0109    0.0854        float32\n",
      "  107              model.14.m.0.cv3.conv.bias              Conv2d     False          64                [64]     0.304     0.739        float32\n",
      "  108        model.14.m.0.m.0.cv1.conv.weight              Conv2d     False        9216      [32, 32, 3, 3]   -0.0145     0.232        float32\n",
      "  108          model.14.m.0.m.0.cv1.conv.bias              Conv2d     False          32                [32]     0.219      1.53        float32\n",
      "  109        model.14.m.0.m.0.cv2.conv.weight              Conv2d     False        9216      [32, 32, 3, 3]  -0.00663    0.0768        float32\n",
      "  109          model.14.m.0.m.0.cv2.conv.bias              Conv2d     False          32                [32]   -0.0446     0.558        float32\n",
      "  110        model.14.m.0.m.1.cv1.conv.weight              Conv2d     False        9216      [32, 32, 3, 3]  -0.00641    0.0507        float32\n",
      "  110          model.14.m.0.m.1.cv1.conv.bias              Conv2d     False          32                [32]    -0.182     0.815        float32\n",
      "  111        model.14.m.0.m.1.cv2.conv.weight              Conv2d     False        9216      [32, 32, 3, 3]  -0.00563     0.206        float32\n",
      "  111          model.14.m.0.m.1.cv2.conv.bias              Conv2d     False          32                [32]     0.802      2.16        float32\n",
      "  112                    model.15.conv.weight              Conv2d     False      147456    [128, 128, 3, 3]  -0.00224     0.045        float32\n",
      "  112                      model.15.conv.bias              Conv2d     False         128               [128]    -0.157     0.681        float32\n",
      "  113                                model.16              Concat     False           0                  []         -         -              -\n",
      "  114                model.17.cv1.conv.weight              Conv2d     False       49152    [128, 384, 1, 1]  -0.00308    0.0673        float32\n",
      "  114                  model.17.cv1.conv.bias              Conv2d     False         128               [128]   -0.0877       0.3        float32\n",
      "  115                model.17.cv2.conv.weight              Conv2d     False       65536    [256, 256, 1, 1]  -0.00741    0.0747        float32\n",
      "  115                  model.17.cv2.conv.bias              Conv2d     False         256               [256]    0.0284     0.373        float32\n",
      "  116            model.17.m.0.cv1.conv.weight              Conv2d     False        8192     [64, 128, 1, 1]  -0.00425    0.0419        float32\n",
      "  116              model.17.m.0.cv1.conv.bias              Conv2d     False          64                [64]    -0.145     0.412        float32\n",
      "  117            model.17.m.0.cv2.conv.weight              Conv2d     False        8192     [64, 128, 1, 1]   -0.0152     0.119        float32\n",
      "  117              model.17.m.0.cv2.conv.bias              Conv2d     False          64                [64]     0.119     0.261        float32\n",
      "  118            model.17.m.0.cv3.conv.weight              Conv2d     False       16384    [128, 128, 1, 1]   -0.0129    0.0866        float32\n",
      "  118              model.17.m.0.cv3.conv.bias              Conv2d     False         128               [128]     0.362     0.559        float32\n",
      "  119        model.17.m.0.m.0.cv1.conv.weight              Conv2d     False       36864      [64, 64, 3, 3]   -0.0102     0.116        float32\n",
      "  119          model.17.m.0.m.0.cv1.conv.bias              Conv2d     False          64                [64]    -0.343      1.08        float32\n",
      "  120        model.17.m.0.m.0.cv2.conv.weight              Conv2d     False       36864      [64, 64, 3, 3]  -0.00487    0.0538        float32\n",
      "  120          model.17.m.0.m.0.cv2.conv.bias              Conv2d     False          64                [64]    -0.454      0.44        float32\n",
      "  121        model.17.m.0.m.1.cv1.conv.weight              Conv2d     False       36864      [64, 64, 3, 3]   -0.0051    0.0381        float32\n",
      "  121          model.17.m.0.m.1.cv1.conv.bias              Conv2d     False          64                [64]    -0.452     0.494        float32\n",
      "  122        model.17.m.0.m.1.cv2.conv.weight              Conv2d     False       36864      [64, 64, 3, 3]  -0.00334     0.077        float32\n",
      "  122          model.17.m.0.m.1.cv2.conv.bias              Conv2d     False          64                [64]    -0.144     0.532        float32\n",
      "  123                    model.18.conv.weight              Conv2d     False      589824    [256, 256, 3, 3] -0.000693    0.0121        float32\n",
      "  123                      model.18.conv.bias              Conv2d     False         256               [256]    0.0261     0.223        float32\n",
      "  124                                model.19              Concat     False           0                  []         -         -              -\n",
      "  125                model.20.cv1.conv.weight              Conv2d     False      393216    [512, 768, 1, 1]  -0.00293    0.0491        float32\n",
      "  125                  model.20.cv1.conv.bias              Conv2d     False         512               [512]    -0.231     0.263        float32\n",
      "  126                model.20.cv2.conv.weight              Conv2d     False      393216    [512, 768, 1, 1]   -0.0026    0.0252        float32\n",
      "  126                  model.20.cv2.conv.bias              Conv2d     False         512               [512]     0.149      0.24        float32\n",
      "  127            model.20.m.0.cv1.conv.weight              Conv2d     False       32768    [128, 256, 1, 1]  -0.00474    0.0428        float32\n",
      "  127              model.20.m.0.cv1.conv.bias              Conv2d     False         128               [128]    -0.149     0.225        float32\n",
      "  128            model.20.m.0.cv2.conv.weight              Conv2d     False       32768    [128, 256, 1, 1]  -0.00428    0.0455        float32\n",
      "  128              model.20.m.0.cv2.conv.bias              Conv2d     False         128               [128]    0.0494     0.113        float32\n",
      "  129            model.20.m.0.cv3.conv.weight              Conv2d     False       65536    [256, 256, 1, 1]  -0.00517    0.0441        float32\n",
      "  129              model.20.m.0.cv3.conv.bias              Conv2d     False         256               [256]     0.412     0.405        float32\n",
      "  130        model.20.m.0.m.0.cv1.conv.weight              Conv2d     False      147456    [128, 128, 3, 3]  -0.00349      0.04        float32\n",
      "  130          model.20.m.0.m.0.cv1.conv.bias              Conv2d     False         128               [128]     -0.27     0.254        float32\n",
      "  131        model.20.m.0.m.0.cv2.conv.weight              Conv2d     False      147456    [128, 128, 3, 3]  -0.00246    0.0249        float32\n",
      "  131          model.20.m.0.m.0.cv2.conv.bias              Conv2d     False         128               [128]    -0.169     0.189        float32\n",
      "  132        model.20.m.0.m.1.cv1.conv.weight              Conv2d     False      147456    [128, 128, 3, 3]  -0.00283    0.0208        float32\n",
      "  132          model.20.m.0.m.1.cv1.conv.bias              Conv2d     False         128               [128]    0.0594     0.266        float32\n",
      "  133        model.20.m.0.m.1.cv2.conv.weight              Conv2d     False      147456    [128, 128, 3, 3]  -0.00151    0.0297        float32\n",
      "  133          model.20.m.0.m.1.cv2.conv.bias              Conv2d     False         128               [128]    0.0118     0.157        float32\n",
      "  134            model.21.cv2.0.0.conv.weight              Conv2d     False       73728     [64, 128, 3, 3]  -0.00346    0.0425        float32\n",
      "  134              model.21.cv2.0.0.conv.bias              Conv2d     False          64                [64]   0.00709     0.812        float32\n",
      "  135            model.21.cv2.0.1.conv.weight              Conv2d     False       36864      [64, 64, 3, 3]  -0.00781    0.0752        float32\n",
      "  135              model.21.cv2.0.1.conv.bias              Conv2d     False          64                [64]      1.08     0.675        float32\n",
      "  136                 model.21.cv2.0.2.weight              Conv2d     False        4096      [64, 64, 1, 1] -4.74e-06     0.119        float32\n",
      "  136                   model.21.cv2.0.2.bias              Conv2d     False          64                [64]     0.998     0.665        float32\n",
      "  137            model.21.cv2.1.0.conv.weight              Conv2d     False      147456     [64, 256, 3, 3] -0.000526    0.0126        float32\n",
      "  137              model.21.cv2.1.0.conv.bias              Conv2d     False          64                [64]    0.0672     0.354        float32\n",
      "  138            model.21.cv2.1.1.conv.weight              Conv2d     False       36864      [64, 64, 3, 3]  -0.00666    0.0665        float32\n",
      "  138              model.21.cv2.1.1.conv.bias              Conv2d     False          64                [64]      1.27     0.637        float32\n",
      "  139                 model.21.cv2.1.2.weight              Conv2d     False        4096      [64, 64, 1, 1] -2.93e-06     0.113        float32\n",
      "  139                   model.21.cv2.1.2.bias              Conv2d     False          64                [64]     0.997     0.749        float32\n",
      "  140            model.21.cv2.2.0.conv.weight              Conv2d     False      294912     [64, 512, 3, 3] -9.49e-05   0.00494        float32\n",
      "  140              model.21.cv2.2.0.conv.bias              Conv2d     False          64                [64]   -0.0196     0.355        float32\n",
      "  141            model.21.cv2.2.1.conv.weight              Conv2d     False       36864      [64, 64, 3, 3]  -0.00496    0.0697        float32\n",
      "  141              model.21.cv2.2.1.conv.bias              Conv2d     False          64                [64]      1.14     0.613        float32\n",
      "  142                 model.21.cv2.2.2.weight              Conv2d     False        4096      [64, 64, 1, 1] -1.23e-06    0.0439        float32\n",
      "  142                   model.21.cv2.2.2.bias              Conv2d     False          64                [64]     0.999     0.395        float32\n",
      "  143          model.21.cv3.0.0.0.conv.weight              Conv2d     False        1152      [128, 1, 3, 3]     0.206     0.792        float32\n",
      "  143            model.21.cv3.0.0.0.conv.bias              Conv2d     False         128               [128]     0.743      0.91        float32\n",
      "  144          model.21.cv3.0.0.1.conv.weight              Conv2d     False       16384    [128, 128, 1, 1]  -0.00556    0.0878        float32\n",
      "  144            model.21.cv3.0.0.1.conv.bias              Conv2d     False         128               [128]     0.397     0.693        float32\n",
      "  145          model.21.cv3.0.1.0.conv.weight              Conv2d     False        1152      [128, 1, 3, 3]  -0.00136     0.666        float32\n",
      "  145            model.21.cv3.0.1.0.conv.bias              Conv2d     False         128               [128]     0.355     0.781        float32\n",
      "  146          model.21.cv3.0.1.1.conv.weight              Conv2d     False       16384    [128, 128, 1, 1]   -0.0202     0.211        float32\n",
      "  146            model.21.cv3.0.1.1.conv.bias              Conv2d     False         128               [128]      1.26      1.15        float32\n",
      "  147                 model.21.cv3.0.2.weight              Conv2d     False        1152      [9, 128, 1, 1]   -0.0445    0.0968        float32\n",
      "  147                   model.21.cv3.0.2.bias              Conv2d     False           9                 [9]     -9.29     0.143        float32\n",
      "  148          model.21.cv3.1.0.0.conv.weight              Conv2d     False        2304      [256, 1, 3, 3]    0.0522     0.565        float32\n",
      "  148            model.21.cv3.1.0.0.conv.bias              Conv2d     False         256               [256]     0.234     0.417        float32\n",
      "  149          model.21.cv3.1.0.1.conv.weight              Conv2d     False       32768    [128, 256, 1, 1]  -0.00324    0.0622        float32\n",
      "  149            model.21.cv3.1.0.1.conv.bias              Conv2d     False         128               [128]     0.302     0.464        float32\n",
      "  150          model.21.cv3.1.1.0.conv.weight              Conv2d     False        1152      [128, 1, 3, 3] -0.000503     0.548        float32\n",
      "  150            model.21.cv3.1.1.0.conv.bias              Conv2d     False         128               [128]     0.376     0.744        float32\n",
      "  151          model.21.cv3.1.1.1.conv.weight              Conv2d     False       16384    [128, 128, 1, 1]   -0.0171     0.178        float32\n",
      "  151            model.21.cv3.1.1.1.conv.bias              Conv2d     False         128               [128]      1.43      1.07        float32\n",
      "  152                 model.21.cv3.1.2.weight              Conv2d     False        1152      [9, 128, 1, 1]   -0.0412     0.079        float32\n",
      "  152                   model.21.cv3.1.2.bias              Conv2d     False           9                 [9]     -7.94    0.0995        float32\n",
      "  153          model.21.cv3.2.0.0.conv.weight              Conv2d     False        4608      [512, 1, 3, 3]    0.0204     0.297        float32\n",
      "  153            model.21.cv3.2.0.0.conv.bias              Conv2d     False         512               [512]  -0.00515     0.182        float32\n",
      "  154          model.21.cv3.2.0.1.conv.weight              Conv2d     False       65536    [128, 512, 1, 1]  -0.00156     0.046        float32\n",
      "  154            model.21.cv3.2.0.1.conv.bias              Conv2d     False         128               [128]     0.169     0.368        float32\n",
      "  155          model.21.cv3.2.1.0.conv.weight              Conv2d     False        1152      [128, 1, 3, 3]    -0.052     0.413        float32\n",
      "  155            model.21.cv3.2.1.0.conv.bias              Conv2d     False         128               [128]     0.293     0.606        float32\n",
      "  156          model.21.cv3.2.1.1.conv.weight              Conv2d     False       16384    [128, 128, 1, 1]    -0.034     0.163        float32\n",
      "  156            model.21.cv3.2.1.1.conv.bias              Conv2d     False         128               [128]      2.03      1.04        float32\n",
      "  157                 model.21.cv3.2.2.weight              Conv2d     False        1152      [9, 128, 1, 1]   -0.0302     0.044        float32\n",
      "  157                   model.21.cv3.2.2.bias              Conv2d     False           9                 [9]     -6.59    0.0228        float32\n",
      "  158                model.21.dfl.conv.weight              Conv2d     False          16       [1, 16, 1, 1]       7.5      4.76        float32\n",
      "YOLOv12s summary (fused): 159 layers, 9,234,363 parameters, 0 gradients, 21.2 GFLOPs\n"
     ]
    },
    {
     "data": {
      "text/plain": [
       "(159, 9234363, 0, 21.227980799999997)"
      ]
     },
     "execution_count": 8,
     "metadata": {},
     "output_type": "execute_result"
    }
   ],
   "source": [
    "#best model\n",
    "\n",
    "from ultralytics import YOLO\n",
    "import matplotlib.pyplot as plt\n",
    "import matplotlib.image as mpimg\n",
    "from pathlib import Path\n",
    "\n",
    "# Path to your trained model\n",
    "best_model_path = Path(\"/kaggle/working/base_yolov12/train/weights/best.pt\")\n",
    "\n",
    "# Load the trained YOLOv12 model\n",
    "model = YOLO(str(best_model_path))\n",
    "\n",
    "# ============================================================\n",
    "# Evaluate on test set\n",
    "# ============================================================\n",
    "DATA = \"/kaggle/working/traffic_baseline/data_traffic.yaml\"\n",
    "\n",
    "metrics = model.val(\n",
    "    data=DATA,\n",
    "    split=\"test\",\n",
    "    plots=True,           # generates PR curve, confusion matrix, etc.\n",
    "    project=\"/kaggle/working/base_yolov12\",\n",
    "    name=\"val\"\n",
    ")\n",
    "\n",
    "print(\"mAP@0.5     :\", metrics.box.map50)\n",
    "print(\"mAP@[.5:.95]:\", metrics.box.map)\n",
    "print(\"Precision   :\", metrics.box.mp)\n",
    "print(\"Recall      :\", metrics.box.mr)\n",
    "\n",
    "\n",
    "# ============================================================\n",
    "# 3. Inference on test images + FPS\n",
    "# ============================================================\n",
    "results = model(\"/kaggle/working/traffic_baseline/yolo_split/test/images\", device=0, imgsz=640, verbose=False)\n",
    "fps = 1000.0 / results[0].speed['inference']\n",
    "print(\"FPS ≈\", fps)\n",
    "\n",
    "# ============================================================\n",
    "# Model complexity (params / GMACs)\n",
    "# ============================================================\n",
    "model.info(detailed=True)\n"
   ]
  },
  {
   "cell_type": "code",
   "execution_count": null,
   "id": "a14d5b5a",
   "metadata": {
    "papermill": {
     "duration": 5.108986,
     "end_time": "2025-08-24T12:48:38.274717",
     "exception": false,
     "start_time": "2025-08-24T12:48:33.165731",
     "status": "completed"
    },
    "tags": []
   },
   "outputs": [],
   "source": []
  },
  {
   "cell_type": "code",
   "execution_count": null,
   "id": "054a7218",
   "metadata": {
    "papermill": {
     "duration": 4.944109,
     "end_time": "2025-08-24T12:48:48.294627",
     "exception": false,
     "start_time": "2025-08-24T12:48:43.350518",
     "status": "completed"
    },
    "tags": []
   },
   "outputs": [],
   "source": []
  }
 ],
 "metadata": {
  "kaggle": {
   "accelerator": "nvidiaTeslaT4",
   "dataSources": [
    {
     "datasetId": 8107179,
     "sourceId": 12820360,
     "sourceType": "datasetVersion"
    }
   ],
   "dockerImageVersionId": 31090,
   "isGpuEnabled": true,
   "isInternetEnabled": true,
   "language": "python",
   "sourceType": "notebook"
  },
  "kernelspec": {
   "display_name": "Python 3",
   "language": "python",
   "name": "python3"
  },
  "language_info": {
   "codemirror_mode": {
    "name": "ipython",
    "version": 3
   },
   "file_extension": ".py",
   "mimetype": "text/x-python",
   "name": "python",
   "nbconvert_exporter": "python",
   "pygments_lexer": "ipython3",
   "version": "3.11.13"
  },
  "papermill": {
   "default_parameters": {},
   "duration": 25927.025428,
   "end_time": "2025-08-24T12:48:56.698844",
   "environment_variables": {},
   "exception": null,
   "input_path": "__notebook__.ipynb",
   "output_path": "__notebook__.ipynb",
   "parameters": {},
   "start_time": "2025-08-24T05:36:49.673416",
   "version": "2.6.0"
  }
 },
 "nbformat": 4,
 "nbformat_minor": 5
}
